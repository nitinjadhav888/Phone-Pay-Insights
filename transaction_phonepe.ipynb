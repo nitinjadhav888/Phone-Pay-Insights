{
 "cells": [
  {
   "cell_type": "markdown",
   "id": "164d5f6b",
   "metadata": {},
   "source": [
    "# **Transactions Data PhonePe**"
   ]
  },
  {
   "cell_type": "markdown",
   "id": "0eb5c22f",
   "metadata": {},
   "source": [
    "# **Libraries Used**"
   ]
  },
  {
   "cell_type": "code",
   "execution_count": 1,
   "id": "dafa74af",
   "metadata": {},
   "outputs": [],
   "source": [
    "import pandas as pd\n",
    "import matplotlib.pyplot as plt\n",
    "import seaborn as sns"
   ]
  },
  {
   "cell_type": "markdown",
   "id": "599fec0d",
   "metadata": {},
   "source": [
    "# **Aggregated**"
   ]
  },
  {
   "cell_type": "markdown",
   "id": "b122e318",
   "metadata": {},
   "source": [
    "## **Country**"
   ]
  },
  {
   "cell_type": "markdown",
   "id": "2cf758ee",
   "metadata": {},
   "source": [
    "### **Load CSV**"
   ]
  },
  {
   "cell_type": "code",
   "execution_count": 2,
   "id": "f3a3456d",
   "metadata": {},
   "outputs": [
    {
     "data": {
      "application/vnd.microsoft.datawrangler.viewer.v0+json": {
       "columns": [
        {
         "name": "index",
         "rawType": "int64",
         "type": "integer"
        },
        {
         "name": "from_date",
         "rawType": "object",
         "type": "string"
        },
        {
         "name": "to_date",
         "rawType": "object",
         "type": "string"
        },
        {
         "name": "transaction_name",
         "rawType": "object",
         "type": "string"
        },
        {
         "name": "count",
         "rawType": "int64",
         "type": "integer"
        },
        {
         "name": "amount",
         "rawType": "float64",
         "type": "float"
        }
       ],
       "ref": "69e32804-b6b1-4b3f-a963-9268363d08ba",
       "rows": [
        [
         "0",
         "2018-01-01",
         "2018-03-28",
         "Recharge & bill payments",
         "72550406",
         "14472713558.652578"
        ],
        [
         "1",
         "2018-01-01",
         "2018-03-28",
         "Peer-to-peer payments",
         "46982705",
         "147245883542.77402"
        ],
        [
         "2",
         "2018-01-01",
         "2018-03-28",
         "Merchant payments",
         "5368669",
         "4656678915.140091"
        ],
        [
         "3",
         "2018-01-01",
         "2018-03-28",
         "Financial Services",
         "3762820",
         "815853105.1000277"
        ],
        [
         "4",
         "2018-01-01",
         "2018-03-28",
         "Others",
         "5761576",
         "4643217301.269438"
        ],
        [
         "5",
         "2018-04-01",
         "2018-06-28",
         "Recharge & bill payments",
         "92033715",
         "24351225616.36898"
        ],
        [
         "6",
         "2018-04-01",
         "2018-06-28",
         "Peer-to-peer payments",
         "74558816",
         "264767671095.3184"
        ],
        [
         "7",
         "2018-04-01",
         "2018-06-28",
         "Merchant payments",
         "10613941",
         "9052859939.33966"
        ],
        [
         "8",
         "2018-04-01",
         "2018-06-28",
         "Financial Services",
         "5186569",
         "1176991419.239996"
        ],
        [
         "9",
         "2018-04-01",
         "2018-06-28",
         "Others",
         "4973199",
         "5027454207.140578"
        ],
        [
         "10",
         "2018-07-01",
         "2018-09-28",
         "Peer-to-peer payments",
         "202021587",
         "425967421714.0399"
        ],
        [
         "11",
         "2018-07-01",
         "2018-09-28",
         "Recharge & bill payments",
         "102290514",
         "31364311860.3946"
        ],
        [
         "12",
         "2018-07-01",
         "2018-09-28",
         "Merchant payments",
         "25175938",
         "12433150984.830223"
        ],
        [
         "13",
         "2018-07-01",
         "2018-09-28",
         "Financial Services",
         "6218596",
         "891447809.4200314"
        ],
        [
         "14",
         "2018-07-01",
         "2018-09-28",
         "Others",
         "5594554",
         "4449556277.54975"
        ],
        [
         "15",
         "2018-10-01",
         "2018-12-28",
         "Peer-to-peer payments",
         "200235002",
         "594995709377.7327"
        ],
        [
         "16",
         "2018-10-01",
         "2018-12-28",
         "Recharge & bill payments",
         "131917248",
         "39578607327.024284"
        ],
        [
         "17",
         "2018-10-01",
         "2018-12-28",
         "Merchant payments",
         "71498510",
         "30497289208.339787"
        ],
        [
         "18",
         "2018-10-01",
         "2018-12-28",
         "Financial Services",
         "5216165",
         "868584631.5900131"
        ],
        [
         "19",
         "2018-10-01",
         "2018-12-28",
         "Others",
         "8246415",
         "5802659774.449921"
        ],
        [
         "20",
         "2019-01-01",
         "2019-03-28",
         "Peer-to-peer payments",
         "404841331",
         "887893108631.5128"
        ],
        [
         "21",
         "2019-01-01",
         "2019-03-28",
         "Recharge & bill payments",
         "180504739",
         "55473071028.87885"
        ],
        [
         "22",
         "2019-01-01",
         "2019-03-28",
         "Merchant payments",
         "110496541",
         "40575915112.522"
        ],
        [
         "23",
         "2019-01-01",
         "2019-03-28",
         "Financial Services",
         "4627353",
         "603852042.0000324"
        ],
        [
         "24",
         "2019-01-01",
         "2019-03-28",
         "Others",
         "8526177",
         "5484252454.820416"
        ],
        [
         "25",
         "2019-04-01",
         "2019-06-28",
         "Peer-to-peer payments",
         "384711008",
         "1196425281586.993"
        ],
        [
         "26",
         "2019-04-01",
         "2019-06-28",
         "Recharge & bill payments",
         "209898072",
         "76865848586.98372"
        ],
        [
         "27",
         "2019-04-01",
         "2019-06-28",
         "Merchant payments",
         "206467182",
         "73415840739.88434"
        ],
        [
         "28",
         "2019-04-01",
         "2019-06-28",
         "Financial Services",
         "2650384",
         "545329308.0899862"
        ],
        [
         "29",
         "2019-04-01",
         "2019-06-28",
         "Others",
         "11656557",
         "6969423863.830339"
        ],
        [
         "30",
         "2019-07-01",
         "2019-09-28",
         "Peer-to-peer payments",
         "461911865",
         "1440512511470.7004"
        ],
        [
         "31",
         "2019-07-01",
         "2019-09-28",
         "Merchant payments",
         "376320628",
         "123209398484.44376"
        ],
        [
         "32",
         "2019-07-01",
         "2019-09-28",
         "Recharge & bill payments",
         "240103872",
         "101520929811.06812"
        ],
        [
         "33",
         "2019-07-01",
         "2019-09-28",
         "Financial Services",
         "2870292",
         "617120839.9299941"
        ],
        [
         "34",
         "2019-07-01",
         "2019-09-28",
         "Others",
         "13804992",
         "6705143103.510092"
        ],
        [
         "35",
         "2019-10-01",
         "2019-12-28",
         "Peer-to-peer payments",
         "703497002",
         "1963952535223.0903"
        ],
        [
         "36",
         "2019-10-01",
         "2019-12-28",
         "Merchant payments",
         "456578271",
         "174239646473.03162"
        ],
        [
         "37",
         "2019-10-01",
         "2019-12-28",
         "Recharge & bill payments",
         "285310032",
         "116344996244.26738"
        ],
        [
         "38",
         "2019-10-01",
         "2019-12-28",
         "Financial Services",
         "2476840",
         "551204225.4200497"
        ],
        [
         "39",
         "2019-10-01",
         "2019-12-28",
         "Others",
         "12583379",
         "4811822509.649999"
        ],
        [
         "40",
         "2020-01-01",
         "2020-03-28",
         "Peer-to-peer payments",
         "693998661",
         "2320557268853.593"
        ],
        [
         "41",
         "2020-01-01",
         "2020-03-28",
         "Merchant payments",
         "566355270",
         "231298042209.8361"
        ],
        [
         "42",
         "2020-01-01",
         "2020-03-28",
         "Recharge & bill payments",
         "351300991",
         "140373550367.1558"
        ],
        [
         "43",
         "2020-01-01",
         "2020-03-28",
         "Financial Services",
         "1358171",
         "773848137.0300016"
        ],
        [
         "44",
         "2020-01-01",
         "2020-03-28",
         "Others",
         "10027019",
         "4116905195.820729"
        ],
        [
         "45",
         "2020-04-01",
         "2020-06-28",
         "Peer-to-peer payments",
         "631031364",
         "2243915932390.771"
        ],
        [
         "46",
         "2020-04-01",
         "2020-06-28",
         "Recharge & bill payments",
         "448842692",
         "171590686463.15784"
        ],
        [
         "47",
         "2020-04-01",
         "2020-06-28",
         "Merchant payments",
         "363275861",
         "226908226049.514"
        ],
        [
         "48",
         "2020-04-01",
         "2020-06-28",
         "Financial Services",
         "1682062",
         "1751767444.1000087"
        ],
        [
         "49",
         "2020-04-01",
         "2020-06-28",
         "Others",
         "3779461",
         "1987466180.2098684"
        ]
       ],
       "shape": {
        "columns": 5,
        "rows": 140
       }
      },
      "text/html": [
       "<div>\n",
       "<style scoped>\n",
       "    .dataframe tbody tr th:only-of-type {\n",
       "        vertical-align: middle;\n",
       "    }\n",
       "\n",
       "    .dataframe tbody tr th {\n",
       "        vertical-align: top;\n",
       "    }\n",
       "\n",
       "    .dataframe thead th {\n",
       "        text-align: right;\n",
       "    }\n",
       "</style>\n",
       "<table border=\"1\" class=\"dataframe\">\n",
       "  <thead>\n",
       "    <tr style=\"text-align: right;\">\n",
       "      <th></th>\n",
       "      <th>from_date</th>\n",
       "      <th>to_date</th>\n",
       "      <th>transaction_name</th>\n",
       "      <th>count</th>\n",
       "      <th>amount</th>\n",
       "    </tr>\n",
       "  </thead>\n",
       "  <tbody>\n",
       "    <tr>\n",
       "      <th>0</th>\n",
       "      <td>2018-01-01</td>\n",
       "      <td>2018-03-28</td>\n",
       "      <td>Recharge &amp; bill payments</td>\n",
       "      <td>72550406</td>\n",
       "      <td>1.447271e+10</td>\n",
       "    </tr>\n",
       "    <tr>\n",
       "      <th>1</th>\n",
       "      <td>2018-01-01</td>\n",
       "      <td>2018-03-28</td>\n",
       "      <td>Peer-to-peer payments</td>\n",
       "      <td>46982705</td>\n",
       "      <td>1.472459e+11</td>\n",
       "    </tr>\n",
       "    <tr>\n",
       "      <th>2</th>\n",
       "      <td>2018-01-01</td>\n",
       "      <td>2018-03-28</td>\n",
       "      <td>Merchant payments</td>\n",
       "      <td>5368669</td>\n",
       "      <td>4.656679e+09</td>\n",
       "    </tr>\n",
       "    <tr>\n",
       "      <th>3</th>\n",
       "      <td>2018-01-01</td>\n",
       "      <td>2018-03-28</td>\n",
       "      <td>Financial Services</td>\n",
       "      <td>3762820</td>\n",
       "      <td>8.158531e+08</td>\n",
       "    </tr>\n",
       "    <tr>\n",
       "      <th>4</th>\n",
       "      <td>2018-01-01</td>\n",
       "      <td>2018-03-28</td>\n",
       "      <td>Others</td>\n",
       "      <td>5761576</td>\n",
       "      <td>4.643217e+09</td>\n",
       "    </tr>\n",
       "    <tr>\n",
       "      <th>...</th>\n",
       "      <td>...</td>\n",
       "      <td>...</td>\n",
       "      <td>...</td>\n",
       "      <td>...</td>\n",
       "      <td>...</td>\n",
       "    </tr>\n",
       "    <tr>\n",
       "      <th>135</th>\n",
       "      <td>2024-10-01</td>\n",
       "      <td>2024-12-28</td>\n",
       "      <td>Merchant payments</td>\n",
       "      <td>17419191808</td>\n",
       "      <td>8.081430e+12</td>\n",
       "    </tr>\n",
       "    <tr>\n",
       "      <th>136</th>\n",
       "      <td>2024-10-01</td>\n",
       "      <td>2024-12-28</td>\n",
       "      <td>Peer-to-peer payments</td>\n",
       "      <td>9368204284</td>\n",
       "      <td>2.663387e+13</td>\n",
       "    </tr>\n",
       "    <tr>\n",
       "      <th>137</th>\n",
       "      <td>2024-10-01</td>\n",
       "      <td>2024-12-28</td>\n",
       "      <td>Recharge &amp; bill payments</td>\n",
       "      <td>1392529171</td>\n",
       "      <td>1.255973e+12</td>\n",
       "    </tr>\n",
       "    <tr>\n",
       "      <th>138</th>\n",
       "      <td>2024-10-01</td>\n",
       "      <td>2024-12-28</td>\n",
       "      <td>Financial Services</td>\n",
       "      <td>32113340</td>\n",
       "      <td>1.816233e+10</td>\n",
       "    </tr>\n",
       "    <tr>\n",
       "      <th>139</th>\n",
       "      <td>2024-10-01</td>\n",
       "      <td>2024-12-28</td>\n",
       "      <td>Others</td>\n",
       "      <td>7217236</td>\n",
       "      <td>9.369386e+09</td>\n",
       "    </tr>\n",
       "  </tbody>\n",
       "</table>\n",
       "<p>140 rows × 5 columns</p>\n",
       "</div>"
      ],
      "text/plain": [
       "      from_date     to_date          transaction_name        count  \\\n",
       "0    2018-01-01  2018-03-28  Recharge & bill payments     72550406   \n",
       "1    2018-01-01  2018-03-28     Peer-to-peer payments     46982705   \n",
       "2    2018-01-01  2018-03-28         Merchant payments      5368669   \n",
       "3    2018-01-01  2018-03-28        Financial Services      3762820   \n",
       "4    2018-01-01  2018-03-28                    Others      5761576   \n",
       "..          ...         ...                       ...          ...   \n",
       "135  2024-10-01  2024-12-28         Merchant payments  17419191808   \n",
       "136  2024-10-01  2024-12-28     Peer-to-peer payments   9368204284   \n",
       "137  2024-10-01  2024-12-28  Recharge & bill payments   1392529171   \n",
       "138  2024-10-01  2024-12-28        Financial Services     32113340   \n",
       "139  2024-10-01  2024-12-28                    Others      7217236   \n",
       "\n",
       "           amount  \n",
       "0    1.447271e+10  \n",
       "1    1.472459e+11  \n",
       "2    4.656679e+09  \n",
       "3    8.158531e+08  \n",
       "4    4.643217e+09  \n",
       "..            ...  \n",
       "135  8.081430e+12  \n",
       "136  2.663387e+13  \n",
       "137  1.255973e+12  \n",
       "138  1.816233e+10  \n",
       "139  9.369386e+09  \n",
       "\n",
       "[140 rows x 5 columns]"
      ]
     },
     "execution_count": 2,
     "metadata": {},
     "output_type": "execute_result"
    }
   ],
   "source": [
    "df1 = pd.read_csv(\"dataset/transaction/aggregated_transaction_country.csv\")\n",
    "df1"
   ]
  },
  {
   "cell_type": "markdown",
   "id": "fc92a741",
   "metadata": {},
   "source": [
    "### **Dataset Info**"
   ]
  },
  {
   "cell_type": "code",
   "execution_count": 3,
   "id": "e506e6b1",
   "metadata": {},
   "outputs": [
    {
     "name": "stdout",
     "output_type": "stream",
     "text": [
      "<class 'pandas.core.frame.DataFrame'>\n",
      "RangeIndex: 140 entries, 0 to 139\n",
      "Data columns (total 5 columns):\n",
      " #   Column            Non-Null Count  Dtype  \n",
      "---  ------            --------------  -----  \n",
      " 0   from_date         140 non-null    object \n",
      " 1   to_date           140 non-null    object \n",
      " 2   transaction_name  140 non-null    object \n",
      " 3   count             140 non-null    int64  \n",
      " 4   amount            140 non-null    float64\n",
      "dtypes: float64(1), int64(1), object(3)\n",
      "memory usage: 5.6+ KB\n"
     ]
    }
   ],
   "source": [
    "df1.info()"
   ]
  },
  {
   "cell_type": "markdown",
   "id": "68a7e31c",
   "metadata": {},
   "source": [
    "* Type Conversion needed for from_date & to_date"
   ]
  },
  {
   "cell_type": "code",
   "execution_count": 4,
   "id": "35f22ebb",
   "metadata": {},
   "outputs": [],
   "source": [
    "df1['from_date'] = pd.to_datetime(df1['from_date'])\n",
    "df1['to_date'] = pd.to_datetime(df1['to_date'])\n",
    "df1['year'] = df1['from_date'].dt.year"
   ]
  },
  {
   "cell_type": "markdown",
   "id": "f2f06063",
   "metadata": {},
   "source": [
    "### **Dataset Describe**"
   ]
  },
  {
   "cell_type": "code",
   "execution_count": 5,
   "id": "ebc86c06",
   "metadata": {},
   "outputs": [
    {
     "data": {
      "application/vnd.microsoft.datawrangler.viewer.v0+json": {
       "columns": [
        {
         "name": "index",
         "rawType": "object",
         "type": "string"
        },
        {
         "name": "from_date",
         "rawType": "object",
         "type": "unknown"
        },
        {
         "name": "to_date",
         "rawType": "object",
         "type": "unknown"
        },
        {
         "name": "count",
         "rawType": "float64",
         "type": "float"
        },
        {
         "name": "amount",
         "rawType": "float64",
         "type": "float"
        },
        {
         "name": "year",
         "rawType": "float64",
         "type": "float"
        }
       ],
       "ref": "3d76e308-973c-4c23-a6f0-9f37997d1d3a",
       "rows": [
        [
         "count",
         "140",
         "140",
         "140.0",
         "140.0",
         "140.0"
        ],
        [
         "mean",
         "2021-05-16 18:51:25.714285824",
         "2021-08-12 14:34:17.142857216",
         "1680606461.2214286",
         "2468027006208.04",
         "2021.0"
        ],
        [
         "min",
         "2018-01-01 00:00:00",
         "2018-03-28 00:00:00",
         "1358171.0",
         "545329308.0899862",
         "2018.0"
        ],
        [
         "25%",
         "2019-09-08 00:00:00",
         "2019-12-05 06:00:00",
         "8441505.75",
         "6384408755.75",
         "2019.0"
        ],
        [
         "50%",
         "2021-05-16 12:00:00",
         "2021-08-13 00:00:00",
         "204244384.5",
         "119777197364.35556",
         "2021.0"
        ],
        [
         "75%",
         "2023-01-23 12:00:00",
         "2023-04-20 00:00:00",
         "1372036016.5",
         "1430352296955.3418",
         "2023.0"
        ],
        [
         "max",
         "2024-10-01 00:00:00",
         "2024-12-28 00:00:00",
         "17419191808.0",
         "26633866936498.0",
         "2024.0"
        ],
        [
         "std",
         null,
         null,
         "3302733845.239445",
         "5397845572479.837",
         "2.007181351651431"
        ]
       ],
       "shape": {
        "columns": 5,
        "rows": 8
       }
      },
      "text/html": [
       "<div>\n",
       "<style scoped>\n",
       "    .dataframe tbody tr th:only-of-type {\n",
       "        vertical-align: middle;\n",
       "    }\n",
       "\n",
       "    .dataframe tbody tr th {\n",
       "        vertical-align: top;\n",
       "    }\n",
       "\n",
       "    .dataframe thead th {\n",
       "        text-align: right;\n",
       "    }\n",
       "</style>\n",
       "<table border=\"1\" class=\"dataframe\">\n",
       "  <thead>\n",
       "    <tr style=\"text-align: right;\">\n",
       "      <th></th>\n",
       "      <th>from_date</th>\n",
       "      <th>to_date</th>\n",
       "      <th>count</th>\n",
       "      <th>amount</th>\n",
       "      <th>year</th>\n",
       "    </tr>\n",
       "  </thead>\n",
       "  <tbody>\n",
       "    <tr>\n",
       "      <th>count</th>\n",
       "      <td>140</td>\n",
       "      <td>140</td>\n",
       "      <td>1.400000e+02</td>\n",
       "      <td>1.400000e+02</td>\n",
       "      <td>140.000000</td>\n",
       "    </tr>\n",
       "    <tr>\n",
       "      <th>mean</th>\n",
       "      <td>2021-05-16 18:51:25.714285824</td>\n",
       "      <td>2021-08-12 14:34:17.142857216</td>\n",
       "      <td>1.680606e+09</td>\n",
       "      <td>2.468027e+12</td>\n",
       "      <td>2021.000000</td>\n",
       "    </tr>\n",
       "    <tr>\n",
       "      <th>min</th>\n",
       "      <td>2018-01-01 00:00:00</td>\n",
       "      <td>2018-03-28 00:00:00</td>\n",
       "      <td>1.358171e+06</td>\n",
       "      <td>5.453293e+08</td>\n",
       "      <td>2018.000000</td>\n",
       "    </tr>\n",
       "    <tr>\n",
       "      <th>25%</th>\n",
       "      <td>2019-09-08 00:00:00</td>\n",
       "      <td>2019-12-05 06:00:00</td>\n",
       "      <td>8.441506e+06</td>\n",
       "      <td>6.384409e+09</td>\n",
       "      <td>2019.000000</td>\n",
       "    </tr>\n",
       "    <tr>\n",
       "      <th>50%</th>\n",
       "      <td>2021-05-16 12:00:00</td>\n",
       "      <td>2021-08-13 00:00:00</td>\n",
       "      <td>2.042444e+08</td>\n",
       "      <td>1.197772e+11</td>\n",
       "      <td>2021.000000</td>\n",
       "    </tr>\n",
       "    <tr>\n",
       "      <th>75%</th>\n",
       "      <td>2023-01-23 12:00:00</td>\n",
       "      <td>2023-04-20 00:00:00</td>\n",
       "      <td>1.372036e+09</td>\n",
       "      <td>1.430352e+12</td>\n",
       "      <td>2023.000000</td>\n",
       "    </tr>\n",
       "    <tr>\n",
       "      <th>max</th>\n",
       "      <td>2024-10-01 00:00:00</td>\n",
       "      <td>2024-12-28 00:00:00</td>\n",
       "      <td>1.741919e+10</td>\n",
       "      <td>2.663387e+13</td>\n",
       "      <td>2024.000000</td>\n",
       "    </tr>\n",
       "    <tr>\n",
       "      <th>std</th>\n",
       "      <td>NaN</td>\n",
       "      <td>NaN</td>\n",
       "      <td>3.302734e+09</td>\n",
       "      <td>5.397846e+12</td>\n",
       "      <td>2.007181</td>\n",
       "    </tr>\n",
       "  </tbody>\n",
       "</table>\n",
       "</div>"
      ],
      "text/plain": [
       "                           from_date                        to_date  \\\n",
       "count                            140                            140   \n",
       "mean   2021-05-16 18:51:25.714285824  2021-08-12 14:34:17.142857216   \n",
       "min              2018-01-01 00:00:00            2018-03-28 00:00:00   \n",
       "25%              2019-09-08 00:00:00            2019-12-05 06:00:00   \n",
       "50%              2021-05-16 12:00:00            2021-08-13 00:00:00   \n",
       "75%              2023-01-23 12:00:00            2023-04-20 00:00:00   \n",
       "max              2024-10-01 00:00:00            2024-12-28 00:00:00   \n",
       "std                              NaN                            NaN   \n",
       "\n",
       "              count        amount         year  \n",
       "count  1.400000e+02  1.400000e+02   140.000000  \n",
       "mean   1.680606e+09  2.468027e+12  2021.000000  \n",
       "min    1.358171e+06  5.453293e+08  2018.000000  \n",
       "25%    8.441506e+06  6.384409e+09  2019.000000  \n",
       "50%    2.042444e+08  1.197772e+11  2021.000000  \n",
       "75%    1.372036e+09  1.430352e+12  2023.000000  \n",
       "max    1.741919e+10  2.663387e+13  2024.000000  \n",
       "std    3.302734e+09  5.397846e+12     2.007181  "
      ]
     },
     "execution_count": 5,
     "metadata": {},
     "output_type": "execute_result"
    }
   ],
   "source": [
    "df1.describe()"
   ]
  },
  {
   "cell_type": "code",
   "execution_count": 6,
   "id": "1a915a77",
   "metadata": {},
   "outputs": [
    {
     "name": "stdout",
     "output_type": "stream",
     "text": [
      "Total Amounts: 345523780869125.6\n",
      "Total Counts: 235284904571\n",
      "Amounts per Counts: 1468.533569967553\n"
     ]
    }
   ],
   "source": [
    "print(f\"Total Amounts: {df1['amount'].sum()}\")\n",
    "print(f\"Total Counts: {df1['count'].sum()}\")\n",
    "print(f\"Amounts per Counts: {df1['amount'].sum()/df1['count'].sum()}\")"
   ]
  },
  {
   "cell_type": "markdown",
   "id": "fe962f57",
   "metadata": {},
   "source": [
    "### **Plots**"
   ]
  },
  {
   "cell_type": "code",
   "execution_count": 7,
   "id": "7a56ed9c",
   "metadata": {},
   "outputs": [
    {
     "data": {
      "image/png": "[encoded data removed]",
      "text/plain": [
       "<Figure size 1200x600 with 1 Axes>"
      ]
     },
     "metadata": {},
     "output_type": "display_data"
    }
   ],
   "source": [
    "# Highest Transactions Methods by Amount\n",
    "transaction_total_amount = df1.groupby('transaction_name')['amount'].sum().reset_index()\n",
    "\n",
    "plt.figure(figsize=(12,6))\n",
    "plt.bar(transaction_total_amount['transaction_name'], transaction_total_amount['amount'], color='green')\n",
    "plt.title(\"Total Transaction Amount by Type (2020–2024)\")\n",
    "plt.xlabel(\"Transaction Type\")\n",
    "plt.ylabel(\"Total Amount (₹)\")\n",
    "plt.grid(axis='y')\n",
    "plt.show()"
   ]
  },
  {
   "cell_type": "markdown",
   "id": "bdc63dd7",
   "metadata": {},
   "source": [
    "* Peer-to-peer payments were used for the highest amounts that were transferred.\n",
    "* Merchant Payment is not even half of the peer-to-peer payments.\n",
    "* This shows people transfer more money in person than to merchants."
   ]
  },
  {
   "cell_type": "code",
   "execution_count": 8,
   "id": "02968a3f",
   "metadata": {},
   "outputs": [
    {
     "data": {
      "image/png": "[encoded data removed]",
      "text/plain": [
       "<Figure size 1200x600 with 1 Axes>"
      ]
     },
     "metadata": {},
     "output_type": "display_data"
    }
   ],
   "source": [
    "# Highest Transactions Methods by Counts\n",
    "transaction_total_count = df1.groupby('transaction_name')['count'].sum().reset_index()\n",
    "\n",
    "plt.figure(figsize=(12,6))\n",
    "plt.bar(transaction_total_count['transaction_name'], transaction_total_count['count'], color='orange')\n",
    "plt.title(\"Total Transaction Count by Type (2018–2024)\")\n",
    "plt.xlabel(\"Transaction Type\")\n",
    "plt.ylabel(\"Total Transaction Count\")\n",
    "plt.grid(axis='y')\n",
    "plt.show()"
   ]
  },
  {
   "cell_type": "markdown",
   "id": "18743400",
   "metadata": {},
   "source": [
    "* Merchant payments count far exceeds that of peer-to-peer payments.\n",
    "* This means merchant payments are done heavily but only in small amounts compared to peer-to-peer.\n",
    "* This also shows people started opting for UPI payments."
   ]
  },
  {
   "cell_type": "markdown",
   "id": "8b253e2e",
   "metadata": {},
   "source": [
    "## **State**"
   ]
  },
  {
   "cell_type": "markdown",
   "id": "7e54f1ce",
   "metadata": {},
   "source": [
    "### **Load CSV**"
   ]
  },
  {
   "cell_type": "code",
   "execution_count": 9,
   "id": "b7dcf1a4",
   "metadata": {},
   "outputs": [
    {
     "data": {
      "application/vnd.microsoft.datawrangler.viewer.v0+json": {
       "columns": [
        {
         "name": "index",
         "rawType": "int64",
         "type": "integer"
        },
        {
         "name": "from_date",
         "rawType": "object",
         "type": "string"
        },
        {
         "name": "to_date",
         "rawType": "object",
         "type": "string"
        },
        {
         "name": "transaction_name",
         "rawType": "object",
         "type": "string"
        },
        {
         "name": "count",
         "rawType": "int64",
         "type": "integer"
        },
        {
         "name": "amount",
         "rawType": "float64",
         "type": "float"
        },
        {
         "name": "state",
         "rawType": "object",
         "type": "string"
        }
       ],
       "ref": "28f515a7-c3f4-4520-8113-471e888696bb",
       "rows": [
        [
         "0",
         "2018-01-01",
         "2018-03-28",
         "Recharge & bill payments",
         "4200",
         "1845307.467365509",
         "andaman-&-nicobar-islands"
        ],
        [
         "1",
         "2018-01-01",
         "2018-03-28",
         "Peer-to-peer payments",
         "1871",
         "12138655.299749982",
         "andaman-&-nicobar-islands"
        ],
        [
         "2",
         "2018-01-01",
         "2018-03-28",
         "Merchant payments",
         "298",
         "452507.168646613",
         "andaman-&-nicobar-islands"
        ],
        [
         "3",
         "2018-01-01",
         "2018-03-28",
         "Financial Services",
         "33",
         "10601.419933464951",
         "andaman-&-nicobar-islands"
        ],
        [
         "4",
         "2018-01-01",
         "2018-03-28",
         "Others",
         "256",
         "184689.8662902223",
         "andaman-&-nicobar-islands"
        ],
        [
         "5",
         "2018-04-01",
         "2018-06-28",
         "Recharge & bill payments",
         "6735",
         "2320944.731074479",
         "andaman-&-nicobar-islands"
        ],
        [
         "6",
         "2018-04-01",
         "2018-06-28",
         "Peer-to-peer payments",
         "3575",
         "24511925.231047668",
         "andaman-&-nicobar-islands"
        ],
        [
         "7",
         "2018-04-01",
         "2018-06-28",
         "Merchant payments",
         "603",
         "1024491.0133579008",
         "andaman-&-nicobar-islands"
        ],
        [
         "8",
         "2018-04-01",
         "2018-06-28",
         "Financial Services",
         "59",
         "121336.0270987509",
         "andaman-&-nicobar-islands"
        ],
        [
         "9",
         "2018-04-01",
         "2018-06-28",
         "Others",
         "368",
         "359838.50537474576",
         "andaman-&-nicobar-islands"
        ],
        [
         "10",
         "2018-07-01",
         "2018-09-28",
         "Recharge & bill payments",
         "8636",
         "4343504.868377829",
         "andaman-&-nicobar-islands"
        ],
        [
         "11",
         "2018-07-01",
         "2018-09-28",
         "Peer-to-peer payments",
         "6448",
         "49270781.54163504",
         "andaman-&-nicobar-islands"
        ],
        [
         "12",
         "2018-07-01",
         "2018-09-28",
         "Merchant payments",
         "945",
         "1627359.8394868043",
         "andaman-&-nicobar-islands"
        ],
        [
         "13",
         "2018-07-01",
         "2018-09-28",
         "Financial Services",
         "42",
         "1481.4907042806483",
         "andaman-&-nicobar-islands"
        ],
        [
         "14",
         "2018-07-01",
         "2018-09-28",
         "Others",
         "194",
         "314343.39410715323",
         "andaman-&-nicobar-islands"
        ],
        [
         "15",
         "2018-10-01",
         "2018-12-28",
         "Recharge & bill payments",
         "11517",
         "5450549.512294375",
         "andaman-&-nicobar-islands"
        ],
        [
         "16",
         "2018-10-01",
         "2018-12-28",
         "Peer-to-peer payments",
         "10451",
         "81001456.97825177",
         "andaman-&-nicobar-islands"
        ],
        [
         "17",
         "2018-10-01",
         "2018-12-28",
         "Merchant payments",
         "1421",
         "3552027.735492656",
         "andaman-&-nicobar-islands"
        ],
        [
         "18",
         "2018-10-01",
         "2018-12-28",
         "Financial Services",
         "29",
         "76035.7877393286",
         "andaman-&-nicobar-islands"
        ],
        [
         "19",
         "2018-10-01",
         "2018-12-28",
         "Others",
         "340",
         "468266.0606770435",
         "andaman-&-nicobar-islands"
        ],
        [
         "20",
         "2019-01-01",
         "2019-03-28",
         "Recharge & bill payments",
         "15263",
         "6611459.872972583",
         "andaman-&-nicobar-islands"
        ],
        [
         "21",
         "2019-01-01",
         "2019-03-28",
         "Peer-to-peer payments",
         "13119",
         "91808345.86839552",
         "andaman-&-nicobar-islands"
        ],
        [
         "22",
         "2019-01-01",
         "2019-03-28",
         "Merchant payments",
         "1759",
         "3266589.8469614363",
         "andaman-&-nicobar-islands"
        ],
        [
         "23",
         "2019-01-01",
         "2019-03-28",
         "Financial Services",
         "62",
         "116250.436718611",
         "andaman-&-nicobar-islands"
        ],
        [
         "24",
         "2019-01-01",
         "2019-03-28",
         "Others",
         "283",
         "497094.6484417205",
         "andaman-&-nicobar-islands"
        ],
        [
         "25",
         "2019-04-01",
         "2019-06-28",
         "Recharge & bill payments",
         "14676",
         "7242448.256212333",
         "andaman-&-nicobar-islands"
        ],
        [
         "26",
         "2019-04-01",
         "2019-06-28",
         "Peer-to-peer payments",
         "14481",
         "107525358.66652842",
         "andaman-&-nicobar-islands"
        ],
        [
         "27",
         "2019-04-01",
         "2019-06-28",
         "Merchant payments",
         "4031",
         "4702152.616619372",
         "andaman-&-nicobar-islands"
        ],
        [
         "28",
         "2019-04-01",
         "2019-06-28",
         "Financial Services",
         "124",
         "113278.91371326068",
         "andaman-&-nicobar-islands"
        ],
        [
         "29",
         "2019-04-01",
         "2019-06-28",
         "Others",
         "377",
         "671471.222589792",
         "andaman-&-nicobar-islands"
        ],
        [
         "30",
         "2019-07-01",
         "2019-09-28",
         "Recharge & bill payments",
         "16219",
         "8171737.705916681",
         "andaman-&-nicobar-islands"
        ],
        [
         "31",
         "2019-07-01",
         "2019-09-28",
         "Peer-to-peer payments",
         "13767",
         "101079821.10344616",
         "andaman-&-nicobar-islands"
        ],
        [
         "32",
         "2019-07-01",
         "2019-09-28",
         "Merchant payments",
         "3519",
         "4428734.574846684",
         "andaman-&-nicobar-islands"
        ],
        [
         "33",
         "2019-07-01",
         "2019-09-28",
         "Financial Services",
         "50",
         "158857.94315586874",
         "andaman-&-nicobar-islands"
        ],
        [
         "34",
         "2019-07-01",
         "2019-09-28",
         "Others",
         "215",
         "232624.75992853564",
         "andaman-&-nicobar-islands"
        ],
        [
         "35",
         "2019-10-01",
         "2019-12-28",
         "Peer-to-peer payments",
         "18128",
         "121493224.30754513",
         "andaman-&-nicobar-islands"
        ],
        [
         "36",
         "2019-10-01",
         "2019-12-28",
         "Recharge & bill payments",
         "13851",
         "9538690.916424634",
         "andaman-&-nicobar-islands"
        ],
        [
         "37",
         "2019-10-01",
         "2019-12-28",
         "Merchant payments",
         "2920",
         "5247500.487902376",
         "andaman-&-nicobar-islands"
        ],
        [
         "38",
         "2019-10-01",
         "2019-12-28",
         "Financial Services",
         "60",
         "295937.2110898865",
         "andaman-&-nicobar-islands"
        ],
        [
         "39",
         "2019-10-01",
         "2019-12-28",
         "Others",
         "200",
         "263177.5944158883",
         "andaman-&-nicobar-islands"
        ],
        [
         "40",
         "2020-01-01",
         "2020-03-28",
         "Peer-to-peer payments",
         "18324",
         "142332401.79234773",
         "andaman-&-nicobar-islands"
        ],
        [
         "41",
         "2020-01-01",
         "2020-03-28",
         "Recharge & bill payments",
         "18268",
         "10850414.023977457",
         "andaman-&-nicobar-islands"
        ],
        [
         "42",
         "2020-01-01",
         "2020-03-28",
         "Merchant payments",
         "4424",
         "7752871.558217709",
         "andaman-&-nicobar-islands"
        ],
        [
         "43",
         "2020-01-01",
         "2020-03-28",
         "Financial Services",
         "66",
         "208231.7307165264",
         "andaman-&-nicobar-islands"
        ],
        [
         "44",
         "2020-01-01",
         "2020-03-28",
         "Others",
         "216",
         "332393.19201521645",
         "andaman-&-nicobar-islands"
        ],
        [
         "45",
         "2020-04-01",
         "2020-06-28",
         "Recharge & bill payments",
         "38125",
         "17659622.73418829",
         "andaman-&-nicobar-islands"
        ],
        [
         "46",
         "2020-04-01",
         "2020-06-28",
         "Peer-to-peer payments",
         "20303",
         "141728757.73517442",
         "andaman-&-nicobar-islands"
        ],
        [
         "47",
         "2020-04-01",
         "2020-06-28",
         "Merchant payments",
         "4004",
         "9236375.740471344",
         "andaman-&-nicobar-islands"
        ],
        [
         "48",
         "2020-04-01",
         "2020-06-28",
         "Financial Services",
         "175",
         "706932.1397115812",
         "andaman-&-nicobar-islands"
        ],
        [
         "49",
         "2020-04-01",
         "2020-06-28",
         "Others",
         "355",
         "313313.0646014327",
         "andaman-&-nicobar-islands"
        ]
       ],
       "shape": {
        "columns": 6,
        "rows": 5034
       }
      },
      "text/html": [
       "<div>\n",
       "<style scoped>\n",
       "    .dataframe tbody tr th:only-of-type {\n",
       "        vertical-align: middle;\n",
       "    }\n",
       "\n",
       "    .dataframe tbody tr th {\n",
       "        vertical-align: top;\n",
       "    }\n",
       "\n",
       "    .dataframe thead th {\n",
       "        text-align: right;\n",
       "    }\n",
       "</style>\n",
       "<table border=\"1\" class=\"dataframe\">\n",
       "  <thead>\n",
       "    <tr style=\"text-align: right;\">\n",
       "      <th></th>\n",
       "      <th>from_date</th>\n",
       "      <th>to_date</th>\n",
       "      <th>transaction_name</th>\n",
       "      <th>count</th>\n",
       "      <th>amount</th>\n",
       "      <th>state</th>\n",
       "    </tr>\n",
       "  </thead>\n",
       "  <tbody>\n",
       "    <tr>\n",
       "      <th>0</th>\n",
       "      <td>2018-01-01</td>\n",
       "      <td>2018-03-28</td>\n",
       "      <td>Recharge &amp; bill payments</td>\n",
       "      <td>4200</td>\n",
       "      <td>1.845307e+06</td>\n",
       "      <td>andaman-&amp;-nicobar-islands</td>\n",
       "    </tr>\n",
       "    <tr>\n",
       "      <th>1</th>\n",
       "      <td>2018-01-01</td>\n",
       "      <td>2018-03-28</td>\n",
       "      <td>Peer-to-peer payments</td>\n",
       "      <td>1871</td>\n",
       "      <td>1.213866e+07</td>\n",
       "      <td>andaman-&amp;-nicobar-islands</td>\n",
       "    </tr>\n",
       "    <tr>\n",
       "      <th>2</th>\n",
       "      <td>2018-01-01</td>\n",
       "      <td>2018-03-28</td>\n",
       "      <td>Merchant payments</td>\n",
       "      <td>298</td>\n",
       "      <td>4.525072e+05</td>\n",
       "      <td>andaman-&amp;-nicobar-islands</td>\n",
       "    </tr>\n",
       "    <tr>\n",
       "      <th>3</th>\n",
       "      <td>2018-01-01</td>\n",
       "      <td>2018-03-28</td>\n",
       "      <td>Financial Services</td>\n",
       "      <td>33</td>\n",
       "      <td>1.060142e+04</td>\n",
       "      <td>andaman-&amp;-nicobar-islands</td>\n",
       "    </tr>\n",
       "    <tr>\n",
       "      <th>4</th>\n",
       "      <td>2018-01-01</td>\n",
       "      <td>2018-03-28</td>\n",
       "      <td>Others</td>\n",
       "      <td>256</td>\n",
       "      <td>1.846899e+05</td>\n",
       "      <td>andaman-&amp;-nicobar-islands</td>\n",
       "    </tr>\n",
       "    <tr>\n",
       "      <th>...</th>\n",
       "      <td>...</td>\n",
       "      <td>...</td>\n",
       "      <td>...</td>\n",
       "      <td>...</td>\n",
       "      <td>...</td>\n",
       "      <td>...</td>\n",
       "    </tr>\n",
       "    <tr>\n",
       "      <th>5029</th>\n",
       "      <td>2024-10-01</td>\n",
       "      <td>2024-12-28</td>\n",
       "      <td>Merchant payments</td>\n",
       "      <td>655100809</td>\n",
       "      <td>3.892862e+11</td>\n",
       "      <td>west-bengal</td>\n",
       "    </tr>\n",
       "    <tr>\n",
       "      <th>5030</th>\n",
       "      <td>2024-10-01</td>\n",
       "      <td>2024-12-28</td>\n",
       "      <td>Peer-to-peer payments</td>\n",
       "      <td>493217788</td>\n",
       "      <td>1.361927e+12</td>\n",
       "      <td>west-bengal</td>\n",
       "    </tr>\n",
       "    <tr>\n",
       "      <th>5031</th>\n",
       "      <td>2024-10-01</td>\n",
       "      <td>2024-12-28</td>\n",
       "      <td>Recharge &amp; bill payments</td>\n",
       "      <td>76043195</td>\n",
       "      <td>5.753406e+10</td>\n",
       "      <td>west-bengal</td>\n",
       "    </tr>\n",
       "    <tr>\n",
       "      <th>5032</th>\n",
       "      <td>2024-10-01</td>\n",
       "      <td>2024-12-28</td>\n",
       "      <td>Financial Services</td>\n",
       "      <td>2352084</td>\n",
       "      <td>8.472965e+08</td>\n",
       "      <td>west-bengal</td>\n",
       "    </tr>\n",
       "    <tr>\n",
       "      <th>5033</th>\n",
       "      <td>2024-10-01</td>\n",
       "      <td>2024-12-28</td>\n",
       "      <td>Others</td>\n",
       "      <td>421806</td>\n",
       "      <td>5.053641e+08</td>\n",
       "      <td>west-bengal</td>\n",
       "    </tr>\n",
       "  </tbody>\n",
       "</table>\n",
       "<p>5034 rows × 6 columns</p>\n",
       "</div>"
      ],
      "text/plain": [
       "       from_date     to_date          transaction_name      count  \\\n",
       "0     2018-01-01  2018-03-28  Recharge & bill payments       4200   \n",
       "1     2018-01-01  2018-03-28     Peer-to-peer payments       1871   \n",
       "2     2018-01-01  2018-03-28         Merchant payments        298   \n",
       "3     2018-01-01  2018-03-28        Financial Services         33   \n",
       "4     2018-01-01  2018-03-28                    Others        256   \n",
       "...          ...         ...                       ...        ...   \n",
       "5029  2024-10-01  2024-12-28         Merchant payments  655100809   \n",
       "5030  2024-10-01  2024-12-28     Peer-to-peer payments  493217788   \n",
       "5031  2024-10-01  2024-12-28  Recharge & bill payments   76043195   \n",
       "5032  2024-10-01  2024-12-28        Financial Services    2352084   \n",
       "5033  2024-10-01  2024-12-28                    Others     421806   \n",
       "\n",
       "            amount                      state  \n",
       "0     1.845307e+06  andaman-&-nicobar-islands  \n",
       "1     1.213866e+07  andaman-&-nicobar-islands  \n",
       "2     4.525072e+05  andaman-&-nicobar-islands  \n",
       "3     1.060142e+04  andaman-&-nicobar-islands  \n",
       "4     1.846899e+05  andaman-&-nicobar-islands  \n",
       "...            ...                        ...  \n",
       "5029  3.892862e+11                west-bengal  \n",
       "5030  1.361927e+12                west-bengal  \n",
       "5031  5.753406e+10                west-bengal  \n",
       "5032  8.472965e+08                west-bengal  \n",
       "5033  5.053641e+08                west-bengal  \n",
       "\n",
       "[5034 rows x 6 columns]"
      ]
     },
     "execution_count": 9,
     "metadata": {},
     "output_type": "execute_result"
    }
   ],
   "source": [
    "df2 = pd.read_csv(\"dataset/transaction/aggregated_transaction_state.csv\")\n",
    "df2"
   ]
  },
  {
   "cell_type": "markdown",
   "id": "b5e8db8f",
   "metadata": {},
   "source": [
    "### **Dataset Info**"
   ]
  },
  {
   "cell_type": "code",
   "execution_count": 10,
   "id": "add63855",
   "metadata": {},
   "outputs": [
    {
     "name": "stdout",
     "output_type": "stream",
     "text": [
      "<class 'pandas.core.frame.DataFrame'>\n",
      "RangeIndex: 5034 entries, 0 to 5033\n",
      "Data columns (total 6 columns):\n",
      " #   Column            Non-Null Count  Dtype  \n",
      "---  ------            --------------  -----  \n",
      " 0   from_date         5034 non-null   object \n",
      " 1   to_date           5034 non-null   object \n",
      " 2   transaction_name  5034 non-null   object \n",
      " 3   count             5034 non-null   int64  \n",
      " 4   amount            5034 non-null   float64\n",
      " 5   state             5034 non-null   object \n",
      "dtypes: float64(1), int64(1), object(4)\n",
      "memory usage: 236.1+ KB\n"
     ]
    }
   ],
   "source": [
    "df2.info()"
   ]
  },
  {
   "cell_type": "markdown",
   "id": "e179d668",
   "metadata": {},
   "source": [
    "* Type Conversion needed for from_date & to_date"
   ]
  },
  {
   "cell_type": "code",
   "execution_count": 11,
   "id": "5a21d0de",
   "metadata": {},
   "outputs": [],
   "source": [
    "df2['from_date'] = pd.to_datetime(df2['from_date'])\n",
    "df2['to_date'] = pd.to_datetime(df2['to_date'])"
   ]
  },
  {
   "cell_type": "markdown",
   "id": "d3dded24",
   "metadata": {},
   "source": [
    "### **Dataset Describe**"
   ]
  },
  {
   "cell_type": "code",
   "execution_count": 12,
   "id": "68602666",
   "metadata": {},
   "outputs": [
    {
     "data": {
      "application/vnd.microsoft.datawrangler.viewer.v0+json": {
       "columns": [
        {
         "name": "index",
         "rawType": "object",
         "type": "string"
        },
        {
         "name": "from_date",
         "rawType": "object",
         "type": "unknown"
        },
        {
         "name": "to_date",
         "rawType": "object",
         "type": "unknown"
        },
        {
         "name": "count",
         "rawType": "float64",
         "type": "float"
        },
        {
         "name": "amount",
         "rawType": "float64",
         "type": "float"
        }
       ],
       "ref": "a6a28ed6-27ee-4009-a147-6373114a052d",
       "rows": [
        [
         "count",
         "5034",
         "5034",
         "5034.0",
         "5034.0"
        ],
        [
         "mean",
         "2021-05-17 19:14:13.873659136",
         "2021-08-13 14:57:38.402860800",
         "46739018.05204608",
         "68637722454.38747"
        ],
        [
         "min",
         "2018-01-01 00:00:00",
         "2018-03-28 00:00:00",
         "2.0",
         "34.39721181625656"
        ],
        [
         "25%",
         "2019-10-01 00:00:00",
         "2019-12-28 00:00:00",
         "58089.5",
         "39938879.642834745"
        ],
        [
         "50%",
         "2021-07-01 00:00:00",
         "2021-09-28 00:00:00",
         "515831.0",
         "439413884.61491185"
        ],
        [
         "75%",
         "2023-04-01 00:00:00",
         "2023-06-28 00:00:00",
         "11666286.25",
         "11028222171.77806"
        ],
        [
         "max",
         "2024-10-01 00:00:00",
         "2024-12-28 00:00:00",
         "2393917535.0",
         "3095666288407.0"
        ],
        [
         "std",
         null,
         null,
         "169096816.5686415",
         "268519963110.1489"
        ]
       ],
       "shape": {
        "columns": 4,
        "rows": 8
       }
      },
      "text/html": [
       "<div>\n",
       "<style scoped>\n",
       "    .dataframe tbody tr th:only-of-type {\n",
       "        vertical-align: middle;\n",
       "    }\n",
       "\n",
       "    .dataframe tbody tr th {\n",
       "        vertical-align: top;\n",
       "    }\n",
       "\n",
       "    .dataframe thead th {\n",
       "        text-align: right;\n",
       "    }\n",
       "</style>\n",
       "<table border=\"1\" class=\"dataframe\">\n",
       "  <thead>\n",
       "    <tr style=\"text-align: right;\">\n",
       "      <th></th>\n",
       "      <th>from_date</th>\n",
       "      <th>to_date</th>\n",
       "      <th>count</th>\n",
       "      <th>amount</th>\n",
       "    </tr>\n",
       "  </thead>\n",
       "  <tbody>\n",
       "    <tr>\n",
       "      <th>count</th>\n",
       "      <td>5034</td>\n",
       "      <td>5034</td>\n",
       "      <td>5.034000e+03</td>\n",
       "      <td>5.034000e+03</td>\n",
       "    </tr>\n",
       "    <tr>\n",
       "      <th>mean</th>\n",
       "      <td>2021-05-17 19:14:13.873659136</td>\n",
       "      <td>2021-08-13 14:57:38.402860800</td>\n",
       "      <td>4.673902e+07</td>\n",
       "      <td>6.863772e+10</td>\n",
       "    </tr>\n",
       "    <tr>\n",
       "      <th>min</th>\n",
       "      <td>2018-01-01 00:00:00</td>\n",
       "      <td>2018-03-28 00:00:00</td>\n",
       "      <td>2.000000e+00</td>\n",
       "      <td>3.439721e+01</td>\n",
       "    </tr>\n",
       "    <tr>\n",
       "      <th>25%</th>\n",
       "      <td>2019-10-01 00:00:00</td>\n",
       "      <td>2019-12-28 00:00:00</td>\n",
       "      <td>5.808950e+04</td>\n",
       "      <td>3.993888e+07</td>\n",
       "    </tr>\n",
       "    <tr>\n",
       "      <th>50%</th>\n",
       "      <td>2021-07-01 00:00:00</td>\n",
       "      <td>2021-09-28 00:00:00</td>\n",
       "      <td>5.158310e+05</td>\n",
       "      <td>4.394139e+08</td>\n",
       "    </tr>\n",
       "    <tr>\n",
       "      <th>75%</th>\n",
       "      <td>2023-04-01 00:00:00</td>\n",
       "      <td>2023-06-28 00:00:00</td>\n",
       "      <td>1.166629e+07</td>\n",
       "      <td>1.102822e+10</td>\n",
       "    </tr>\n",
       "    <tr>\n",
       "      <th>max</th>\n",
       "      <td>2024-10-01 00:00:00</td>\n",
       "      <td>2024-12-28 00:00:00</td>\n",
       "      <td>2.393918e+09</td>\n",
       "      <td>3.095666e+12</td>\n",
       "    </tr>\n",
       "    <tr>\n",
       "      <th>std</th>\n",
       "      <td>NaN</td>\n",
       "      <td>NaN</td>\n",
       "      <td>1.690968e+08</td>\n",
       "      <td>2.685200e+11</td>\n",
       "    </tr>\n",
       "  </tbody>\n",
       "</table>\n",
       "</div>"
      ],
      "text/plain": [
       "                           from_date                        to_date  \\\n",
       "count                           5034                           5034   \n",
       "mean   2021-05-17 19:14:13.873659136  2021-08-13 14:57:38.402860800   \n",
       "min              2018-01-01 00:00:00            2018-03-28 00:00:00   \n",
       "25%              2019-10-01 00:00:00            2019-12-28 00:00:00   \n",
       "50%              2021-07-01 00:00:00            2021-09-28 00:00:00   \n",
       "75%              2023-04-01 00:00:00            2023-06-28 00:00:00   \n",
       "max              2024-10-01 00:00:00            2024-12-28 00:00:00   \n",
       "std                              NaN                            NaN   \n",
       "\n",
       "              count        amount  \n",
       "count  5.034000e+03  5.034000e+03  \n",
       "mean   4.673902e+07  6.863772e+10  \n",
       "min    2.000000e+00  3.439721e+01  \n",
       "25%    5.808950e+04  3.993888e+07  \n",
       "50%    5.158310e+05  4.394139e+08  \n",
       "75%    1.166629e+07  1.102822e+10  \n",
       "max    2.393918e+09  3.095666e+12  \n",
       "std    1.690968e+08  2.685200e+11  "
      ]
     },
     "execution_count": 12,
     "metadata": {},
     "output_type": "execute_result"
    }
   ],
   "source": [
    "df2.describe()"
   ]
  },
  {
   "cell_type": "code",
   "execution_count": 13,
   "id": "f18c5c18",
   "metadata": {},
   "outputs": [
    {
     "name": "stdout",
     "output_type": "stream",
     "text": [
      "Total Amounts: 345523780869125.6\n",
      "Total Counts: 235284904571\n",
      "Amounts per Counts: 1468.533569967553\n"
     ]
    }
   ],
   "source": [
    "print(f\"Total Amounts: {df1['amount'].sum()}\")\n",
    "print(f\"Total Counts: {df1['count'].sum()}\")\n",
    "print(f\"Amounts per Counts: {df1['amount'].sum()/df1['count'].sum()}\")"
   ]
  },
  {
   "cell_type": "markdown",
   "id": "6b0e38b8",
   "metadata": {},
   "source": [
    "### **Plots**"
   ]
  },
  {
   "cell_type": "code",
   "execution_count": 14,
   "id": "3ef0db7c",
   "metadata": {},
   "outputs": [
    {
     "data": {
      "image/png": "[encoded data removed]",
      "text/plain": [
       "<Figure size 1200x600 with 1 Axes>"
      ]
     },
     "metadata": {},
     "output_type": "display_data"
    }
   ],
   "source": [
    "# Highest Total Transactions\n",
    "state_amount = df2.groupby('state')['amount'].sum().reset_index()\n",
    "\n",
    "plt.figure(figsize=(12,6))\n",
    "plt.bar(state_amount['state'], state_amount['amount'], color='green')\n",
    "plt.xticks(rotation=90)\n",
    "plt.title(\"Total Transaction Amount by State (2020–2024)\")\n",
    "plt.xlabel(\"State\")\n",
    "plt.ylabel(\"Total Amount (₹)\")\n",
    "plt.grid(axis='y')\n",
    "plt.show()"
   ]
  },
  {
   "cell_type": "markdown",
   "id": "15ab2222",
   "metadata": {},
   "source": [
    "From above two graph we can see:\n",
    "* Telangana has the highest Transactional Amount.\n",
    "* Its wasn't high in the insurance purchase but high in transactions.\n",
    "* AP has raised to the highest also.\n",
    "* this reveals people of Telugana & AP spent less on Insurance.\n",
    "* Maharashtra & Karnataka has maintained their position as the highest.\n",
    "* Kerala is down bottom in Transactions but held a good position in Insurance."
   ]
  },
  {
   "cell_type": "markdown",
   "id": "4e820dbc",
   "metadata": {},
   "source": [
    "# **Map**"
   ]
  },
  {
   "cell_type": "markdown",
   "id": "44d9d671",
   "metadata": {},
   "source": [
    "## **Country**"
   ]
  },
  {
   "cell_type": "markdown",
   "id": "30b4c775",
   "metadata": {},
   "source": [
    "### **Load CSV**"
   ]
  },
  {
   "cell_type": "code",
   "execution_count": 15,
   "id": "2674bbdd",
   "metadata": {},
   "outputs": [
    {
     "data": {
      "application/vnd.microsoft.datawrangler.viewer.v0+json": {
       "columns": [
        {
         "name": "index",
         "rawType": "int64",
         "type": "integer"
        },
        {
         "name": "year",
         "rawType": "int64",
         "type": "integer"
        },
        {
         "name": "state",
         "rawType": "object",
         "type": "string"
        },
        {
         "name": "count",
         "rawType": "int64",
         "type": "integer"
        },
        {
         "name": "amount",
         "rawType": "float64",
         "type": "float"
        }
       ],
       "ref": "c928b841-8e69-41cc-82eb-45796b6676d0",
       "rows": [
        [
         "0",
         "2018",
         "puducherry",
         "104212",
         "165825971.36983618"
        ],
        [
         "1",
         "2018",
         "tamil nadu",
         "6726622",
         "11261557697.516891"
        ],
        [
         "2",
         "2018",
         "uttar pradesh",
         "12537805",
         "13939970923.223106"
        ],
        [
         "3",
         "2018",
         "madhya pradesh",
         "8025395",
         "8681603403.446348"
        ],
        [
         "4",
         "2018",
         "andhra pradesh",
         "9039585",
         "11996276391.823706"
        ],
        [
         "5",
         "2018",
         "tripura",
         "148157",
         "137978914.53062224"
        ],
        [
         "6",
         "2018",
         "lakshadweep",
         "778",
         "1928611.1808777405"
        ],
        [
         "7",
         "2018",
         "manipur",
         "84069",
         "128046173.93020926"
        ],
        [
         "8",
         "2018",
         "maharashtra",
         "16387034",
         "21711613257.725677"
        ],
        [
         "9",
         "2018",
         "dadra & nagar haveli & daman & diu",
         "148549",
         "175658384.10921687"
        ],
        [
         "10",
         "2018",
         "meghalaya",
         "49571",
         "66250259.78990036"
        ],
        [
         "11",
         "2018",
         "andaman & nicobar islands",
         "6658",
         "14631761.22198579"
        ],
        [
         "12",
         "2018",
         "haryana",
         "4480770",
         "6793511514.660528"
        ],
        [
         "13",
         "2018",
         "rajasthan",
         "7591690",
         "8926293130.726837"
        ],
        [
         "14",
         "2018",
         "ladakh",
         "6089",
         "12532857.771114783"
        ],
        [
         "15",
         "2018",
         "punjab",
         "1870433",
         "2780758224.854389"
        ],
        [
         "16",
         "2018",
         "assam",
         "1056881",
         "1157804456.212469"
        ],
        [
         "17",
         "2018",
         "jharkhand",
         "2178921",
         "2374186389.9194"
        ],
        [
         "18",
         "2018",
         "odisha",
         "5809821",
         "4627632210.887628"
        ],
        [
         "19",
         "2018",
         "bihar",
         "5824302",
         "6045758172.017314"
        ],
        [
         "20",
         "2018",
         "kerala",
         "1771380",
         "2402674753.100502"
        ],
        [
         "21",
         "2018",
         "karnataka",
         "12016899",
         "19217895314.0128"
        ],
        [
         "22",
         "2018",
         "chandigarh",
         "381895",
         "613435420.8676233"
        ],
        [
         "23",
         "2018",
         "telangana",
         "8522766",
         "13308204118.542437"
        ],
        [
         "24",
         "2018",
         "himachal pradesh",
         "481918",
         "628737806.3723404"
        ],
        [
         "25",
         "2018",
         "west bengal",
         "11710225",
         "10625978552.140451"
        ],
        [
         "26",
         "2018",
         "gujarat",
         "5948775",
         "7577982255.034092"
        ],
        [
         "27",
         "2018",
         "sikkim",
         "44078",
         "64650938.94036834"
        ],
        [
         "28",
         "2018",
         "nagaland",
         "42845",
         "78005891.08612517"
        ],
        [
         "29",
         "2018",
         "mizoram",
         "18561",
         "45227219.97579084"
        ],
        [
         "30",
         "2018",
         "chhattisgarh",
         "1891514",
         "2149155557.2367463"
        ],
        [
         "31",
         "2018",
         "jammu & kashmir",
         "941568",
         "1005371239.2561305"
        ],
        [
         "32",
         "2018",
         "goa",
         "160897",
         "303856742.34308386"
        ],
        [
         "33",
         "2018",
         "arunachal pradesh",
         "45497",
         "92387336.00940911"
        ],
        [
         "34",
         "2018",
         "delhi",
         "7122754",
         "11211503806.91996"
        ],
        [
         "35",
         "2018",
         "uttarakhand",
         "1246685",
         "1508545358.5238864"
        ],
        [
         "36",
         "2018",
         "puducherry",
         "130261",
         "285801119.5324367"
        ],
        [
         "37",
         "2018",
         "tamil nadu",
         "9992128",
         "20125844276.267666"
        ],
        [
         "38",
         "2018",
         "uttar pradesh",
         "17710943",
         "25720201695.701435"
        ],
        [
         "39",
         "2018",
         "madhya pradesh",
         "10561412",
         "15924081066.680986"
        ],
        [
         "40",
         "2018",
         "andhra pradesh",
         "12353918",
         "22883914272.633617"
        ],
        [
         "41",
         "2018",
         "tripura",
         "214559",
         "236891718.7161358"
        ],
        [
         "42",
         "2018",
         "lakshadweep",
         "2132",
         "6187809.539400538"
        ],
        [
         "43",
         "2018",
         "manipur",
         "151721",
         "253209721.319494"
        ],
        [
         "44",
         "2018",
         "maharashtra",
         "22285740",
         "36357057241.12254"
        ],
        [
         "45",
         "2018",
         "dadra & nagar haveli & daman & diu",
         "202626",
         "302070771.6561514"
        ],
        [
         "46",
         "2018",
         "meghalaya",
         "67857",
         "117004667.8418316"
        ],
        [
         "47",
         "2018",
         "andaman & nicobar islands",
         "11340",
         "28338535.507953547"
        ],
        [
         "48",
         "2018",
         "haryana",
         "6150931",
         "11320414442.116665"
        ],
        [
         "49",
         "2018",
         "rajasthan",
         "9973697",
         "15559086175.75962"
        ]
       ],
       "shape": {
        "columns": 4,
        "rows": 1008
       }
      },
      "text/html": [
       "<div>\n",
       "<style scoped>\n",
       "    .dataframe tbody tr th:only-of-type {\n",
       "        vertical-align: middle;\n",
       "    }\n",
       "\n",
       "    .dataframe tbody tr th {\n",
       "        vertical-align: top;\n",
       "    }\n",
       "\n",
       "    .dataframe thead th {\n",
       "        text-align: right;\n",
       "    }\n",
       "</style>\n",
       "<table border=\"1\" class=\"dataframe\">\n",
       "  <thead>\n",
       "    <tr style=\"text-align: right;\">\n",
       "      <th></th>\n",
       "      <th>year</th>\n",
       "      <th>state</th>\n",
       "      <th>count</th>\n",
       "      <th>amount</th>\n",
       "    </tr>\n",
       "  </thead>\n",
       "  <tbody>\n",
       "    <tr>\n",
       "      <th>0</th>\n",
       "      <td>2018</td>\n",
       "      <td>puducherry</td>\n",
       "      <td>104212</td>\n",
       "      <td>1.658260e+08</td>\n",
       "    </tr>\n",
       "    <tr>\n",
       "      <th>1</th>\n",
       "      <td>2018</td>\n",
       "      <td>tamil nadu</td>\n",
       "      <td>6726622</td>\n",
       "      <td>1.126156e+10</td>\n",
       "    </tr>\n",
       "    <tr>\n",
       "      <th>2</th>\n",
       "      <td>2018</td>\n",
       "      <td>uttar pradesh</td>\n",
       "      <td>12537805</td>\n",
       "      <td>1.393997e+10</td>\n",
       "    </tr>\n",
       "    <tr>\n",
       "      <th>3</th>\n",
       "      <td>2018</td>\n",
       "      <td>madhya pradesh</td>\n",
       "      <td>8025395</td>\n",
       "      <td>8.681603e+09</td>\n",
       "    </tr>\n",
       "    <tr>\n",
       "      <th>4</th>\n",
       "      <td>2018</td>\n",
       "      <td>andhra pradesh</td>\n",
       "      <td>9039585</td>\n",
       "      <td>1.199628e+10</td>\n",
       "    </tr>\n",
       "    <tr>\n",
       "      <th>...</th>\n",
       "      <td>...</td>\n",
       "      <td>...</td>\n",
       "      <td>...</td>\n",
       "      <td>...</td>\n",
       "    </tr>\n",
       "    <tr>\n",
       "      <th>1003</th>\n",
       "      <td>2024</td>\n",
       "      <td>jammu &amp; kashmir</td>\n",
       "      <td>126261217</td>\n",
       "      <td>1.609510e+11</td>\n",
       "    </tr>\n",
       "    <tr>\n",
       "      <th>1004</th>\n",
       "      <td>2024</td>\n",
       "      <td>goa</td>\n",
       "      <td>46131536</td>\n",
       "      <td>5.656259e+10</td>\n",
       "    </tr>\n",
       "    <tr>\n",
       "      <th>1005</th>\n",
       "      <td>2024</td>\n",
       "      <td>arunachal pradesh</td>\n",
       "      <td>26793457</td>\n",
       "      <td>3.507989e+10</td>\n",
       "    </tr>\n",
       "    <tr>\n",
       "      <th>1006</th>\n",
       "      <td>2024</td>\n",
       "      <td>delhi</td>\n",
       "      <td>910543082</td>\n",
       "      <td>1.057060e+12</td>\n",
       "    </tr>\n",
       "    <tr>\n",
       "      <th>1007</th>\n",
       "      <td>2024</td>\n",
       "      <td>uttarakhand</td>\n",
       "      <td>171136132</td>\n",
       "      <td>1.949088e+11</td>\n",
       "    </tr>\n",
       "  </tbody>\n",
       "</table>\n",
       "<p>1008 rows × 4 columns</p>\n",
       "</div>"
      ],
      "text/plain": [
       "      year              state      count        amount\n",
       "0     2018         puducherry     104212  1.658260e+08\n",
       "1     2018         tamil nadu    6726622  1.126156e+10\n",
       "2     2018      uttar pradesh   12537805  1.393997e+10\n",
       "3     2018     madhya pradesh    8025395  8.681603e+09\n",
       "4     2018     andhra pradesh    9039585  1.199628e+10\n",
       "...    ...                ...        ...           ...\n",
       "1003  2024    jammu & kashmir  126261217  1.609510e+11\n",
       "1004  2024                goa   46131536  5.656259e+10\n",
       "1005  2024  arunachal pradesh   26793457  3.507989e+10\n",
       "1006  2024              delhi  910543082  1.057060e+12\n",
       "1007  2024        uttarakhand  171136132  1.949088e+11\n",
       "\n",
       "[1008 rows x 4 columns]"
      ]
     },
     "execution_count": 15,
     "metadata": {},
     "output_type": "execute_result"
    }
   ],
   "source": [
    "df3 = pd.read_csv(\"dataset/transaction/map_transaction_country.csv\")\n",
    "df3"
   ]
  },
  {
   "cell_type": "markdown",
   "id": "46a58c66",
   "metadata": {},
   "source": [
    "### **Dataset Info**"
   ]
  },
  {
   "cell_type": "code",
   "execution_count": 16,
   "id": "79117da5",
   "metadata": {},
   "outputs": [
    {
     "name": "stdout",
     "output_type": "stream",
     "text": [
      "<class 'pandas.core.frame.DataFrame'>\n",
      "RangeIndex: 1008 entries, 0 to 1007\n",
      "Data columns (total 4 columns):\n",
      " #   Column  Non-Null Count  Dtype  \n",
      "---  ------  --------------  -----  \n",
      " 0   year    1008 non-null   int64  \n",
      " 1   state   1008 non-null   object \n",
      " 2   count   1008 non-null   int64  \n",
      " 3   amount  1008 non-null   float64\n",
      "dtypes: float64(1), int64(2), object(1)\n",
      "memory usage: 31.6+ KB\n"
     ]
    }
   ],
   "source": [
    "df3.info()"
   ]
  },
  {
   "cell_type": "markdown",
   "id": "3c3b9524",
   "metadata": {},
   "source": [
    "### **Dataset Describe**"
   ]
  },
  {
   "cell_type": "code",
   "execution_count": 17,
   "id": "4804f584",
   "metadata": {},
   "outputs": [
    {
     "data": {
      "application/vnd.microsoft.datawrangler.viewer.v0+json": {
       "columns": [
        {
         "name": "index",
         "rawType": "object",
         "type": "string"
        },
        {
         "name": "year",
         "rawType": "float64",
         "type": "float"
        },
        {
         "name": "count",
         "rawType": "float64",
         "type": "float"
        },
        {
         "name": "amount",
         "rawType": "float64",
         "type": "float"
        }
       ],
       "ref": "0fa5751b-dd5c-4a15-a679-a1372eb69534",
       "rows": [
        [
         "count",
         "1008.0",
         "1008.0",
         "1008.0"
        ],
        [
         "mean",
         "2021.0",
         "233416881.81944445",
         "342780054400.1838"
        ],
        [
         "std",
         "2.00099280224531",
         "514372084.8660386",
         "703028813261.4812"
        ],
        [
         "min",
         "2018.0",
         "778.0",
         "1928611.1808777405"
        ],
        [
         "25%",
         "2019.0",
         "2072062.25",
         "4434177031.7116375"
        ],
        [
         "50%",
         "2021.0",
         "17993643.0",
         "29518221935.592026"
        ],
        [
         "75%",
         "2023.0",
         "177512117.0",
         "281215511697.0548"
        ],
        [
         "max",
         "2024.0",
         "3634231839.0",
         "4151819803822.0"
        ]
       ],
       "shape": {
        "columns": 3,
        "rows": 8
       }
      },
      "text/html": [
       "<div>\n",
       "<style scoped>\n",
       "    .dataframe tbody tr th:only-of-type {\n",
       "        vertical-align: middle;\n",
       "    }\n",
       "\n",
       "    .dataframe tbody tr th {\n",
       "        vertical-align: top;\n",
       "    }\n",
       "\n",
       "    .dataframe thead th {\n",
       "        text-align: right;\n",
       "    }\n",
       "</style>\n",
       "<table border=\"1\" class=\"dataframe\">\n",
       "  <thead>\n",
       "    <tr style=\"text-align: right;\">\n",
       "      <th></th>\n",
       "      <th>year</th>\n",
       "      <th>count</th>\n",
       "      <th>amount</th>\n",
       "    </tr>\n",
       "  </thead>\n",
       "  <tbody>\n",
       "    <tr>\n",
       "      <th>count</th>\n",
       "      <td>1008.000000</td>\n",
       "      <td>1.008000e+03</td>\n",
       "      <td>1.008000e+03</td>\n",
       "    </tr>\n",
       "    <tr>\n",
       "      <th>mean</th>\n",
       "      <td>2021.000000</td>\n",
       "      <td>2.334169e+08</td>\n",
       "      <td>3.427801e+11</td>\n",
       "    </tr>\n",
       "    <tr>\n",
       "      <th>std</th>\n",
       "      <td>2.000993</td>\n",
       "      <td>5.143721e+08</td>\n",
       "      <td>7.030288e+11</td>\n",
       "    </tr>\n",
       "    <tr>\n",
       "      <th>min</th>\n",
       "      <td>2018.000000</td>\n",
       "      <td>7.780000e+02</td>\n",
       "      <td>1.928611e+06</td>\n",
       "    </tr>\n",
       "    <tr>\n",
       "      <th>25%</th>\n",
       "      <td>2019.000000</td>\n",
       "      <td>2.072062e+06</td>\n",
       "      <td>4.434177e+09</td>\n",
       "    </tr>\n",
       "    <tr>\n",
       "      <th>50%</th>\n",
       "      <td>2021.000000</td>\n",
       "      <td>1.799364e+07</td>\n",
       "      <td>2.951822e+10</td>\n",
       "    </tr>\n",
       "    <tr>\n",
       "      <th>75%</th>\n",
       "      <td>2023.000000</td>\n",
       "      <td>1.775121e+08</td>\n",
       "      <td>2.812155e+11</td>\n",
       "    </tr>\n",
       "    <tr>\n",
       "      <th>max</th>\n",
       "      <td>2024.000000</td>\n",
       "      <td>3.634232e+09</td>\n",
       "      <td>4.151820e+12</td>\n",
       "    </tr>\n",
       "  </tbody>\n",
       "</table>\n",
       "</div>"
      ],
      "text/plain": [
       "              year         count        amount\n",
       "count  1008.000000  1.008000e+03  1.008000e+03\n",
       "mean   2021.000000  2.334169e+08  3.427801e+11\n",
       "std       2.000993  5.143721e+08  7.030288e+11\n",
       "min    2018.000000  7.780000e+02  1.928611e+06\n",
       "25%    2019.000000  2.072062e+06  4.434177e+09\n",
       "50%    2021.000000  1.799364e+07  2.951822e+10\n",
       "75%    2023.000000  1.775121e+08  2.812155e+11\n",
       "max    2024.000000  3.634232e+09  4.151820e+12"
      ]
     },
     "execution_count": 17,
     "metadata": {},
     "output_type": "execute_result"
    }
   ],
   "source": [
    "df3.describe()"
   ]
  },
  {
   "cell_type": "markdown",
   "id": "21a6c75d",
   "metadata": {},
   "source": [
    "### **Plots**"
   ]
  },
  {
   "cell_type": "code",
   "execution_count": 18,
   "id": "e28bf8df",
   "metadata": {},
   "outputs": [
    {
     "data": {
      "application/vnd.microsoft.datawrangler.viewer.v0+json": {
       "columns": [
        {
         "name": "index",
         "rawType": "int64",
         "type": "integer"
        },
        {
         "name": "year",
         "rawType": "int64",
         "type": "integer"
        },
        {
         "name": "state",
         "rawType": "object",
         "type": "string"
        },
        {
         "name": "count",
         "rawType": "int64",
         "type": "integer"
        },
        {
         "name": "amount",
         "rawType": "float64",
         "type": "float"
        }
       ],
       "ref": "0c803ee6-c55c-4bc0-8018-3191d8396772",
       "rows": [
        [
         "0",
         "2018",
         "maharashtra",
         "46090223",
         "79518937047.82959"
        ],
        [
         "1",
         "2019",
         "karnataka",
         "237796252",
         "295047143447.23846"
        ],
        [
         "2",
         "2020",
         "telangana",
         "343643787",
         "696350439226.9453"
        ],
        [
         "3",
         "2021",
         "maharashtra",
         "1010731502",
         "1475358473128.29"
        ],
        [
         "4",
         "2022",
         "telangana",
         "1819506832",
         "2978252562916.1367"
        ],
        [
         "5",
         "2023",
         "karnataka",
         "2564434164",
         "3241376424383.0"
        ],
        [
         "6",
         "2024",
         "karnataka",
         "3455056424",
         "4151819803822.0"
        ]
       ],
       "shape": {
        "columns": 4,
        "rows": 7
       }
      },
      "text/html": [
       "<div>\n",
       "<style scoped>\n",
       "    .dataframe tbody tr th:only-of-type {\n",
       "        vertical-align: middle;\n",
       "    }\n",
       "\n",
       "    .dataframe tbody tr th {\n",
       "        vertical-align: top;\n",
       "    }\n",
       "\n",
       "    .dataframe thead th {\n",
       "        text-align: right;\n",
       "    }\n",
       "</style>\n",
       "<table border=\"1\" class=\"dataframe\">\n",
       "  <thead>\n",
       "    <tr style=\"text-align: right;\">\n",
       "      <th></th>\n",
       "      <th>year</th>\n",
       "      <th>state</th>\n",
       "      <th>count</th>\n",
       "      <th>amount</th>\n",
       "    </tr>\n",
       "  </thead>\n",
       "  <tbody>\n",
       "    <tr>\n",
       "      <th>0</th>\n",
       "      <td>2018</td>\n",
       "      <td>maharashtra</td>\n",
       "      <td>46090223</td>\n",
       "      <td>7.951894e+10</td>\n",
       "    </tr>\n",
       "    <tr>\n",
       "      <th>1</th>\n",
       "      <td>2019</td>\n",
       "      <td>karnataka</td>\n",
       "      <td>237796252</td>\n",
       "      <td>2.950471e+11</td>\n",
       "    </tr>\n",
       "    <tr>\n",
       "      <th>2</th>\n",
       "      <td>2020</td>\n",
       "      <td>telangana</td>\n",
       "      <td>343643787</td>\n",
       "      <td>6.963504e+11</td>\n",
       "    </tr>\n",
       "    <tr>\n",
       "      <th>3</th>\n",
       "      <td>2021</td>\n",
       "      <td>maharashtra</td>\n",
       "      <td>1010731502</td>\n",
       "      <td>1.475358e+12</td>\n",
       "    </tr>\n",
       "    <tr>\n",
       "      <th>4</th>\n",
       "      <td>2022</td>\n",
       "      <td>telangana</td>\n",
       "      <td>1819506832</td>\n",
       "      <td>2.978253e+12</td>\n",
       "    </tr>\n",
       "    <tr>\n",
       "      <th>5</th>\n",
       "      <td>2023</td>\n",
       "      <td>karnataka</td>\n",
       "      <td>2564434164</td>\n",
       "      <td>3.241376e+12</td>\n",
       "    </tr>\n",
       "    <tr>\n",
       "      <th>6</th>\n",
       "      <td>2024</td>\n",
       "      <td>karnataka</td>\n",
       "      <td>3455056424</td>\n",
       "      <td>4.151820e+12</td>\n",
       "    </tr>\n",
       "  </tbody>\n",
       "</table>\n",
       "</div>"
      ],
      "text/plain": [
       "   year        state       count        amount\n",
       "0  2018  maharashtra    46090223  7.951894e+10\n",
       "1  2019    karnataka   237796252  2.950471e+11\n",
       "2  2020    telangana   343643787  6.963504e+11\n",
       "3  2021  maharashtra  1010731502  1.475358e+12\n",
       "4  2022    telangana  1819506832  2.978253e+12\n",
       "5  2023    karnataka  2564434164  3.241376e+12\n",
       "6  2024    karnataka  3455056424  4.151820e+12"
      ]
     },
     "execution_count": 18,
     "metadata": {},
     "output_type": "execute_result"
    }
   ],
   "source": [
    "# Highest State of Each Year\n",
    "idx = df3.groupby('year')['amount'].idxmax()\n",
    "top_states = df3.loc[idx].reset_index(drop=True)\n",
    "top_states"
   ]
  },
  {
   "cell_type": "code",
   "execution_count": 19,
   "id": "5baf44f8",
   "metadata": {},
   "outputs": [
    {
     "data": {
      "image/png": "[encoded data removed]",
      "text/plain": [
       "<Figure size 1000x600 with 1 Axes>"
      ]
     },
     "metadata": {},
     "output_type": "display_data"
    }
   ],
   "source": [
    "plt.figure(figsize=(10,6))\n",
    "plt.bar(top_states['year'].astype(str), top_states['amount'], color='green')\n",
    "\n",
    "for i,(state, amount) in enumerate(zip(top_states['state'], top_states['amount'])):\n",
    "    plt.text(i, amount, state, ha='center', va='bottom', fontsize=12)\n",
    "\n",
    "plt.title(\"State with Highest Transaction Amount per Year\")\n",
    "plt.xlabel(\"Year\")\n",
    "plt.ylabel(\"Total Transaction Amount (₹)\")\n",
    "plt.grid(axis='y')\n",
    "plt.show()"
   ]
  },
  {
   "cell_type": "markdown",
   "id": "c24560b1",
   "metadata": {},
   "source": [
    "* Maharashtra was leading at the start of 2018.\n",
    "* Telangana made an appearance in 2020 & 2022.\n",
    "* Karnataka overtook all from 2023 onwards."
   ]
  },
  {
   "cell_type": "code",
   "execution_count": 20,
   "id": "d6d442b5",
   "metadata": {},
   "outputs": [
    {
     "data": {
      "application/vnd.microsoft.datawrangler.viewer.v0+json": {
       "columns": [
        {
         "name": "index",
         "rawType": "int64",
         "type": "integer"
        },
        {
         "name": "year",
         "rawType": "int64",
         "type": "integer"
        },
        {
         "name": "state",
         "rawType": "object",
         "type": "string"
        },
        {
         "name": "count",
         "rawType": "int64",
         "type": "integer"
        },
        {
         "name": "amount",
         "rawType": "float64",
         "type": "float"
        }
       ],
       "ref": "2e2cd9ba-7b09-4836-a778-db1225545ba7",
       "rows": [
        [
         "0",
         "2018",
         "west bengal",
         "53705416",
         "41843934183.17764"
        ],
        [
         "1",
         "2019",
         "karnataka",
         "237796252",
         "295047143447.23846"
        ],
        [
         "2",
         "2020",
         "karnataka",
         "431536984",
         "658036698565.0032"
        ],
        [
         "3",
         "2021",
         "maharashtra",
         "1010731502",
         "1475358473128.29"
        ],
        [
         "4",
         "2022",
         "telangana",
         "1819506832",
         "2978252562916.1367"
        ],
        [
         "5",
         "2023",
         "maharashtra",
         "2572162725",
         "3098014934958.0"
        ],
        [
         "6",
         "2024",
         "maharashtra",
         "3634231839",
         "4151028450887.0"
        ]
       ],
       "shape": {
        "columns": 4,
        "rows": 7
       }
      },
      "text/html": [
       "<div>\n",
       "<style scoped>\n",
       "    .dataframe tbody tr th:only-of-type {\n",
       "        vertical-align: middle;\n",
       "    }\n",
       "\n",
       "    .dataframe tbody tr th {\n",
       "        vertical-align: top;\n",
       "    }\n",
       "\n",
       "    .dataframe thead th {\n",
       "        text-align: right;\n",
       "    }\n",
       "</style>\n",
       "<table border=\"1\" class=\"dataframe\">\n",
       "  <thead>\n",
       "    <tr style=\"text-align: right;\">\n",
       "      <th></th>\n",
       "      <th>year</th>\n",
       "      <th>state</th>\n",
       "      <th>count</th>\n",
       "      <th>amount</th>\n",
       "    </tr>\n",
       "  </thead>\n",
       "  <tbody>\n",
       "    <tr>\n",
       "      <th>0</th>\n",
       "      <td>2018</td>\n",
       "      <td>west bengal</td>\n",
       "      <td>53705416</td>\n",
       "      <td>4.184393e+10</td>\n",
       "    </tr>\n",
       "    <tr>\n",
       "      <th>1</th>\n",
       "      <td>2019</td>\n",
       "      <td>karnataka</td>\n",
       "      <td>237796252</td>\n",
       "      <td>2.950471e+11</td>\n",
       "    </tr>\n",
       "    <tr>\n",
       "      <th>2</th>\n",
       "      <td>2020</td>\n",
       "      <td>karnataka</td>\n",
       "      <td>431536984</td>\n",
       "      <td>6.580367e+11</td>\n",
       "    </tr>\n",
       "    <tr>\n",
       "      <th>3</th>\n",
       "      <td>2021</td>\n",
       "      <td>maharashtra</td>\n",
       "      <td>1010731502</td>\n",
       "      <td>1.475358e+12</td>\n",
       "    </tr>\n",
       "    <tr>\n",
       "      <th>4</th>\n",
       "      <td>2022</td>\n",
       "      <td>telangana</td>\n",
       "      <td>1819506832</td>\n",
       "      <td>2.978253e+12</td>\n",
       "    </tr>\n",
       "    <tr>\n",
       "      <th>5</th>\n",
       "      <td>2023</td>\n",
       "      <td>maharashtra</td>\n",
       "      <td>2572162725</td>\n",
       "      <td>3.098015e+12</td>\n",
       "    </tr>\n",
       "    <tr>\n",
       "      <th>6</th>\n",
       "      <td>2024</td>\n",
       "      <td>maharashtra</td>\n",
       "      <td>3634231839</td>\n",
       "      <td>4.151028e+12</td>\n",
       "    </tr>\n",
       "  </tbody>\n",
       "</table>\n",
       "</div>"
      ],
      "text/plain": [
       "   year        state       count        amount\n",
       "0  2018  west bengal    53705416  4.184393e+10\n",
       "1  2019    karnataka   237796252  2.950471e+11\n",
       "2  2020    karnataka   431536984  6.580367e+11\n",
       "3  2021  maharashtra  1010731502  1.475358e+12\n",
       "4  2022    telangana  1819506832  2.978253e+12\n",
       "5  2023  maharashtra  2572162725  3.098015e+12\n",
       "6  2024  maharashtra  3634231839  4.151028e+12"
      ]
     },
     "execution_count": 20,
     "metadata": {},
     "output_type": "execute_result"
    }
   ],
   "source": [
    "# Highest State of Count Each Year\n",
    "idx = df3.groupby('year')['count'].idxmax()\n",
    "top_states = df3.loc[idx].reset_index(drop=True)\n",
    "top_states"
   ]
  },
  {
   "cell_type": "code",
   "execution_count": 21,
   "id": "a696ac3c",
   "metadata": {},
   "outputs": [
    {
     "data": {
      "image/png": "[encoded data removed]",
      "text/plain": [
       "<Figure size 1000x600 with 1 Axes>"
      ]
     },
     "metadata": {},
     "output_type": "display_data"
    }
   ],
   "source": [
    "plt.figure(figsize=(10,6))\n",
    "plt.bar(top_states['year'].astype(str), top_states['count'], color='orange')\n",
    "\n",
    "for i, (state, count) in enumerate(zip(top_states['state'], top_states['count'])):\n",
    "    plt.text(i, count, state, ha='center', va='bottom', fontsize=12)\n",
    "\n",
    "plt.title(\"State with Highest Transaction Count per Year\")\n",
    "plt.xlabel(\"Year\")\n",
    "plt.ylabel(\"Total Transaction Count\")\n",
    "plt.grid(axis='y')\n",
    "plt.show()"
   ]
  },
  {
   "cell_type": "markdown",
   "id": "117854eb",
   "metadata": {},
   "source": [
    "* Maharashtra has the highest count record but lost to Karnataka in terms of amount in 2024.\n",
    "* West Bengal showed an appearance in count in 2018 but didn't reach the amount mark.\n",
    "* Telangana's Peak was 2022."
   ]
  },
  {
   "cell_type": "markdown",
   "id": "9fe4f1dc",
   "metadata": {},
   "source": [
    "## **State**"
   ]
  },
  {
   "cell_type": "markdown",
   "id": "23530163",
   "metadata": {},
   "source": [
    "### **Load CSV**"
   ]
  },
  {
   "cell_type": "code",
   "execution_count": 22,
   "id": "37703a2d",
   "metadata": {},
   "outputs": [
    {
     "data": {
      "application/vnd.microsoft.datawrangler.viewer.v0+json": {
       "columns": [
        {
         "name": "index",
         "rawType": "int64",
         "type": "integer"
        },
        {
         "name": "year",
         "rawType": "int64",
         "type": "integer"
        },
        {
         "name": "district",
         "rawType": "object",
         "type": "string"
        },
        {
         "name": "count",
         "rawType": "int64",
         "type": "integer"
        },
        {
         "name": "amount",
         "rawType": "float64",
         "type": "float"
        },
        {
         "name": "state",
         "rawType": "object",
         "type": "string"
        }
       ],
       "ref": "c2868030-bbdb-4e3b-992b-912c70c2c958",
       "rows": [
        [
         "0",
         "2018",
         "north and middle andaman district",
         "442",
         "931663.0770939871",
         "andaman-&-nicobar-islands"
        ],
        [
         "1",
         "2018",
         "south andaman district",
         "5688",
         "12560249.34366581",
         "andaman-&-nicobar-islands"
        ],
        [
         "2",
         "2018",
         "nicobars district",
         "528",
         "1139848.801225994",
         "andaman-&-nicobar-islands"
        ],
        [
         "3",
         "2018",
         "north and middle andaman district",
         "825",
         "1317863.0834906558",
         "andaman-&-nicobar-islands"
        ],
        [
         "4",
         "2018",
         "south andaman district",
         "9395",
         "23948235.51634325",
         "andaman-&-nicobar-islands"
        ],
        [
         "5",
         "2018",
         "nicobars district",
         "1120",
         "3072436.9081196385",
         "andaman-&-nicobar-islands"
        ],
        [
         "6",
         "2018",
         "north and middle andaman district",
         "1283",
         "4901529.518499676",
         "andaman-&-nicobar-islands"
        ],
        [
         "7",
         "2018",
         "south andaman district",
         "13511",
         "44268112.46425246",
         "andaman-&-nicobar-islands"
        ],
        [
         "8",
         "2018",
         "nicobars district",
         "1471",
         "6387829.151558982",
         "andaman-&-nicobar-islands"
        ],
        [
         "9",
         "2018",
         "north and middle andaman district",
         "2137",
         "7955635.917688001",
         "andaman-&-nicobar-islands"
        ],
        [
         "10",
         "2018",
         "south andaman district",
         "20136",
         "75411840.8018554",
         "andaman-&-nicobar-islands"
        ],
        [
         "11",
         "2018",
         "nicobars district",
         "1485",
         "7180859.354911782",
         "andaman-&-nicobar-islands"
        ],
        [
         "12",
         "2019",
         "north and middle andaman district",
         "3264",
         "9561708.736298349",
         "andaman-&-nicobar-islands"
        ],
        [
         "13",
         "2019",
         "south andaman district",
         "25683",
         "85501972.38780196",
         "andaman-&-nicobar-islands"
        ],
        [
         "14",
         "2019",
         "nicobars district",
         "1539",
         "7236059.549389593",
         "andaman-&-nicobar-islands"
        ],
        [
         "15",
         "2019",
         "north and middle andaman district",
         "3371",
         "8612103.137888122",
         "andaman-&-nicobar-islands"
        ],
        [
         "16",
         "2019",
         "south andaman district",
         "28490",
         "102530955.71341258",
         "andaman-&-nicobar-islands"
        ],
        [
         "17",
         "2019",
         "nicobars district",
         "1828",
         "9111650.82436246",
         "andaman-&-nicobar-islands"
        ],
        [
         "18",
         "2019",
         "north and middle andaman district",
         "4049",
         "11481466.283356791",
         "andaman-&-nicobar-islands"
        ],
        [
         "19",
         "2019",
         "south andaman district",
         "27421",
         "91023888.32848611",
         "andaman-&-nicobar-islands"
        ],
        [
         "20",
         "2019",
         "nicobars district",
         "2300",
         "11566421.475451011",
         "andaman-&-nicobar-islands"
        ],
        [
         "21",
         "2019",
         "north and middle andaman district",
         "4716",
         "13524056.784573946",
         "andaman-&-nicobar-islands"
        ],
        [
         "22",
         "2019",
         "south andaman district",
         "27843",
         "110930312.20611624",
         "andaman-&-nicobar-islands"
        ],
        [
         "23",
         "2019",
         "nicobars district",
         "2600",
         "12384161.52668771",
         "andaman-&-nicobar-islands"
        ],
        [
         "24",
         "2020",
         "north and middle andaman district",
         "5674",
         "14697371.617857102",
         "andaman-&-nicobar-islands"
        ],
        [
         "25",
         "2020",
         "south andaman district",
         "32713",
         "134679396.90582755",
         "andaman-&-nicobar-islands"
        ],
        [
         "26",
         "2020",
         "nicobars district",
         "2911",
         "12099543.773590054",
         "andaman-&-nicobar-islands"
        ],
        [
         "27",
         "2020",
         "north and middle andaman district",
         "10979",
         "22447714.061058957",
         "andaman-&-nicobar-islands"
        ],
        [
         "28",
         "2020",
         "south andaman district",
         "48088",
         "132855778.74838585",
         "andaman-&-nicobar-islands"
        ],
        [
         "29",
         "2020",
         "nicobars district",
         "3895",
         "14341508.60470232",
         "andaman-&-nicobar-islands"
        ],
        [
         "30",
         "2020",
         "north and middle andaman district",
         "16747",
         "33486883.37042556",
         "andaman-&-nicobar-islands"
        ],
        [
         "31",
         "2020",
         "south andaman district",
         "95323",
         "282366109.20523936",
         "andaman-&-nicobar-islands"
        ],
        [
         "32",
         "2020",
         "nicobars district",
         "5413",
         "22166453.754695386",
         "andaman-&-nicobar-islands"
        ],
        [
         "33",
         "2020",
         "north and middle andaman district",
         "29349",
         "68941322.38839513",
         "andaman-&-nicobar-islands"
        ],
        [
         "34",
         "2020",
         "south andaman district",
         "186494",
         "523122462.883029",
         "andaman-&-nicobar-islands"
        ],
        [
         "35",
         "2020",
         "nicobars district",
         "8688",
         "35218871.04342849",
         "andaman-&-nicobar-islands"
        ],
        [
         "36",
         "2021",
         "north and middle andaman district",
         "27358",
         "75027255.27919498",
         "andaman-&-nicobar-islands"
        ],
        [
         "37",
         "2021",
         "south andaman district",
         "207092",
         "669604045.1248703",
         "andaman-&-nicobar-islands"
        ],
        [
         "38",
         "2021",
         "nicobars district",
         "10302",
         "39075266.9856904",
         "andaman-&-nicobar-islands"
        ],
        [
         "39",
         "2021",
         "north and middle andaman district",
         "39200",
         "90233388.79463302",
         "andaman-&-nicobar-islands"
        ],
        [
         "40",
         "2021",
         "south andaman district",
         "286907",
         "760893020.5704944",
         "andaman-&-nicobar-islands"
        ],
        [
         "41",
         "2021",
         "nicobars district",
         "15307",
         "48020606.74716837",
         "andaman-&-nicobar-islands"
        ],
        [
         "42",
         "2021",
         "north and middle andaman district",
         "46592",
         "118254865.82750684",
         "andaman-&-nicobar-islands"
        ],
        [
         "43",
         "2021",
         "south andaman district",
         "382418",
         "1116789010.6459613",
         "andaman-&-nicobar-islands"
        ],
        [
         "44",
         "2021",
         "nicobars district",
         "20754",
         "74980519.3281361",
         "andaman-&-nicobar-islands"
        ],
        [
         "45",
         "2021",
         "north and middle andaman district",
         "53115",
         "156486112.28732437",
         "andaman-&-nicobar-islands"
        ],
        [
         "46",
         "2021",
         "south andaman district",
         "558571",
         "1694794708.0093334",
         "andaman-&-nicobar-islands"
        ],
        [
         "47",
         "2021",
         "nicobars district",
         "24437",
         "81329281.0269996",
         "andaman-&-nicobar-islands"
        ],
        [
         "48",
         "2022",
         "north and middle andaman district",
         "60059",
         "161624878.52274162",
         "andaman-&-nicobar-islands"
        ],
        [
         "49",
         "2022",
         "south andaman district",
         "705512",
         "1872991195.902684",
         "andaman-&-nicobar-islands"
        ]
       ],
       "shape": {
        "columns": 5,
        "rows": 20604
       }
      },
      "text/html": [
       "<div>\n",
       "<style scoped>\n",
       "    .dataframe tbody tr th:only-of-type {\n",
       "        vertical-align: middle;\n",
       "    }\n",
       "\n",
       "    .dataframe tbody tr th {\n",
       "        vertical-align: top;\n",
       "    }\n",
       "\n",
       "    .dataframe thead th {\n",
       "        text-align: right;\n",
       "    }\n",
       "</style>\n",
       "<table border=\"1\" class=\"dataframe\">\n",
       "  <thead>\n",
       "    <tr style=\"text-align: right;\">\n",
       "      <th></th>\n",
       "      <th>year</th>\n",
       "      <th>district</th>\n",
       "      <th>count</th>\n",
       "      <th>amount</th>\n",
       "      <th>state</th>\n",
       "    </tr>\n",
       "  </thead>\n",
       "  <tbody>\n",
       "    <tr>\n",
       "      <th>0</th>\n",
       "      <td>2018</td>\n",
       "      <td>north and middle andaman district</td>\n",
       "      <td>442</td>\n",
       "      <td>9.316631e+05</td>\n",
       "      <td>andaman-&amp;-nicobar-islands</td>\n",
       "    </tr>\n",
       "    <tr>\n",
       "      <th>1</th>\n",
       "      <td>2018</td>\n",
       "      <td>south andaman district</td>\n",
       "      <td>5688</td>\n",
       "      <td>1.256025e+07</td>\n",
       "      <td>andaman-&amp;-nicobar-islands</td>\n",
       "    </tr>\n",
       "    <tr>\n",
       "      <th>2</th>\n",
       "      <td>2018</td>\n",
       "      <td>nicobars district</td>\n",
       "      <td>528</td>\n",
       "      <td>1.139849e+06</td>\n",
       "      <td>andaman-&amp;-nicobar-islands</td>\n",
       "    </tr>\n",
       "    <tr>\n",
       "      <th>3</th>\n",
       "      <td>2018</td>\n",
       "      <td>north and middle andaman district</td>\n",
       "      <td>825</td>\n",
       "      <td>1.317863e+06</td>\n",
       "      <td>andaman-&amp;-nicobar-islands</td>\n",
       "    </tr>\n",
       "    <tr>\n",
       "      <th>4</th>\n",
       "      <td>2018</td>\n",
       "      <td>south andaman district</td>\n",
       "      <td>9395</td>\n",
       "      <td>2.394824e+07</td>\n",
       "      <td>andaman-&amp;-nicobar-islands</td>\n",
       "    </tr>\n",
       "    <tr>\n",
       "      <th>...</th>\n",
       "      <td>...</td>\n",
       "      <td>...</td>\n",
       "      <td>...</td>\n",
       "      <td>...</td>\n",
       "      <td>...</td>\n",
       "    </tr>\n",
       "    <tr>\n",
       "      <th>20599</th>\n",
       "      <td>2024</td>\n",
       "      <td>alipurduar district</td>\n",
       "      <td>15875637</td>\n",
       "      <td>2.099251e+10</td>\n",
       "      <td>west-bengal</td>\n",
       "    </tr>\n",
       "    <tr>\n",
       "      <th>20600</th>\n",
       "      <td>2024</td>\n",
       "      <td>paschim bardhaman district</td>\n",
       "      <td>56616799</td>\n",
       "      <td>6.968735e+10</td>\n",
       "      <td>west-bengal</td>\n",
       "    </tr>\n",
       "    <tr>\n",
       "      <th>20601</th>\n",
       "      <td>2024</td>\n",
       "      <td>nadia district</td>\n",
       "      <td>65274337</td>\n",
       "      <td>1.079320e+11</td>\n",
       "      <td>west-bengal</td>\n",
       "    </tr>\n",
       "    <tr>\n",
       "      <th>20602</th>\n",
       "      <td>2024</td>\n",
       "      <td>birbhum district</td>\n",
       "      <td>36905213</td>\n",
       "      <td>5.778701e+10</td>\n",
       "      <td>west-bengal</td>\n",
       "    </tr>\n",
       "    <tr>\n",
       "      <th>20603</th>\n",
       "      <td>2024</td>\n",
       "      <td>purba medinipur district</td>\n",
       "      <td>67833775</td>\n",
       "      <td>1.142771e+11</td>\n",
       "      <td>west-bengal</td>\n",
       "    </tr>\n",
       "  </tbody>\n",
       "</table>\n",
       "<p>20604 rows × 5 columns</p>\n",
       "</div>"
      ],
      "text/plain": [
       "       year                           district     count        amount  \\\n",
       "0      2018  north and middle andaman district       442  9.316631e+05   \n",
       "1      2018             south andaman district      5688  1.256025e+07   \n",
       "2      2018                  nicobars district       528  1.139849e+06   \n",
       "3      2018  north and middle andaman district       825  1.317863e+06   \n",
       "4      2018             south andaman district      9395  2.394824e+07   \n",
       "...     ...                                ...       ...           ...   \n",
       "20599  2024                alipurduar district  15875637  2.099251e+10   \n",
       "20600  2024         paschim bardhaman district  56616799  6.968735e+10   \n",
       "20601  2024                     nadia district  65274337  1.079320e+11   \n",
       "20602  2024                   birbhum district  36905213  5.778701e+10   \n",
       "20603  2024           purba medinipur district  67833775  1.142771e+11   \n",
       "\n",
       "                           state  \n",
       "0      andaman-&-nicobar-islands  \n",
       "1      andaman-&-nicobar-islands  \n",
       "2      andaman-&-nicobar-islands  \n",
       "3      andaman-&-nicobar-islands  \n",
       "4      andaman-&-nicobar-islands  \n",
       "...                          ...  \n",
       "20599                west-bengal  \n",
       "20600                west-bengal  \n",
       "20601                west-bengal  \n",
       "20602                west-bengal  \n",
       "20603                west-bengal  \n",
       "\n",
       "[20604 rows x 5 columns]"
      ]
     },
     "execution_count": 22,
     "metadata": {},
     "output_type": "execute_result"
    }
   ],
   "source": [
    "df4 = pd.read_csv(\"dataset/transaction/map_transaction_state.csv\")\n",
    "df4"
   ]
  },
  {
   "cell_type": "markdown",
   "id": "69ef8657",
   "metadata": {},
   "source": [
    "### **Dataset Info**"
   ]
  },
  {
   "cell_type": "code",
   "execution_count": 23,
   "id": "aa136afd",
   "metadata": {},
   "outputs": [
    {
     "name": "stdout",
     "output_type": "stream",
     "text": [
      "<class 'pandas.core.frame.DataFrame'>\n",
      "RangeIndex: 20604 entries, 0 to 20603\n",
      "Data columns (total 5 columns):\n",
      " #   Column    Non-Null Count  Dtype  \n",
      "---  ------    --------------  -----  \n",
      " 0   year      20604 non-null  int64  \n",
      " 1   district  20604 non-null  object \n",
      " 2   count     20604 non-null  int64  \n",
      " 3   amount    20604 non-null  float64\n",
      " 4   state     20604 non-null  object \n",
      "dtypes: float64(1), int64(2), object(2)\n",
      "memory usage: 805.0+ KB\n"
     ]
    }
   ],
   "source": [
    "df4.info()"
   ]
  },
  {
   "cell_type": "markdown",
   "id": "693a3d91",
   "metadata": {},
   "source": [
    "### **Dataset Describe**"
   ]
  },
  {
   "cell_type": "code",
   "execution_count": 24,
   "id": "c037ba82",
   "metadata": {},
   "outputs": [
    {
     "data": {
      "application/vnd.microsoft.datawrangler.viewer.v0+json": {
       "columns": [
        {
         "name": "index",
         "rawType": "object",
         "type": "string"
        },
        {
         "name": "year",
         "rawType": "float64",
         "type": "float"
        },
        {
         "name": "count",
         "rawType": "float64",
         "type": "float"
        },
        {
         "name": "amount",
         "rawType": "float64",
         "type": "float"
        }
       ],
       "ref": "2e5a4590-85af-41dc-a8b7-824a889e9aa0",
       "rows": [
        [
         "count",
         "20604.0",
         "20604.0",
         "20604.0"
        ],
        [
         "mean",
         "2021.0168899242865",
         "11419346.577072414",
         "16769670687.021288"
        ],
        [
         "std",
         "2.0065190351378535",
         "45345702.31576506",
         "56556397602.96389"
        ],
        [
         "min",
         "2018.0",
         "2.0",
         "169.88856537681642"
        ],
        [
         "25%",
         "2019.0",
         "252145.5",
         "457829150.6844715"
        ],
        [
         "50%",
         "2021.0",
         "1558070.0",
         "2868917883.306988"
        ],
        [
         "75%",
         "2023.0",
         "8122777.25",
         "13524227543.504625"
        ],
        [
         "max",
         "2024.0",
         "1674347983.0",
         "1790144192589.0"
        ]
       ],
       "shape": {
        "columns": 3,
        "rows": 8
       }
      },
      "text/html": [
       "<div>\n",
       "<style scoped>\n",
       "    .dataframe tbody tr th:only-of-type {\n",
       "        vertical-align: middle;\n",
       "    }\n",
       "\n",
       "    .dataframe tbody tr th {\n",
       "        vertical-align: top;\n",
       "    }\n",
       "\n",
       "    .dataframe thead th {\n",
       "        text-align: right;\n",
       "    }\n",
       "</style>\n",
       "<table border=\"1\" class=\"dataframe\">\n",
       "  <thead>\n",
       "    <tr style=\"text-align: right;\">\n",
       "      <th></th>\n",
       "      <th>year</th>\n",
       "      <th>count</th>\n",
       "      <th>amount</th>\n",
       "    </tr>\n",
       "  </thead>\n",
       "  <tbody>\n",
       "    <tr>\n",
       "      <th>count</th>\n",
       "      <td>20604.000000</td>\n",
       "      <td>2.060400e+04</td>\n",
       "      <td>2.060400e+04</td>\n",
       "    </tr>\n",
       "    <tr>\n",
       "      <th>mean</th>\n",
       "      <td>2021.016890</td>\n",
       "      <td>1.141935e+07</td>\n",
       "      <td>1.676967e+10</td>\n",
       "    </tr>\n",
       "    <tr>\n",
       "      <th>std</th>\n",
       "      <td>2.006519</td>\n",
       "      <td>4.534570e+07</td>\n",
       "      <td>5.655640e+10</td>\n",
       "    </tr>\n",
       "    <tr>\n",
       "      <th>min</th>\n",
       "      <td>2018.000000</td>\n",
       "      <td>2.000000e+00</td>\n",
       "      <td>1.698886e+02</td>\n",
       "    </tr>\n",
       "    <tr>\n",
       "      <th>25%</th>\n",
       "      <td>2019.000000</td>\n",
       "      <td>2.521455e+05</td>\n",
       "      <td>4.578292e+08</td>\n",
       "    </tr>\n",
       "    <tr>\n",
       "      <th>50%</th>\n",
       "      <td>2021.000000</td>\n",
       "      <td>1.558070e+06</td>\n",
       "      <td>2.868918e+09</td>\n",
       "    </tr>\n",
       "    <tr>\n",
       "      <th>75%</th>\n",
       "      <td>2023.000000</td>\n",
       "      <td>8.122777e+06</td>\n",
       "      <td>1.352423e+10</td>\n",
       "    </tr>\n",
       "    <tr>\n",
       "      <th>max</th>\n",
       "      <td>2024.000000</td>\n",
       "      <td>1.674348e+09</td>\n",
       "      <td>1.790144e+12</td>\n",
       "    </tr>\n",
       "  </tbody>\n",
       "</table>\n",
       "</div>"
      ],
      "text/plain": [
       "               year         count        amount\n",
       "count  20604.000000  2.060400e+04  2.060400e+04\n",
       "mean    2021.016890  1.141935e+07  1.676967e+10\n",
       "std        2.006519  4.534570e+07  5.655640e+10\n",
       "min     2018.000000  2.000000e+00  1.698886e+02\n",
       "25%     2019.000000  2.521455e+05  4.578292e+08\n",
       "50%     2021.000000  1.558070e+06  2.868918e+09\n",
       "75%     2023.000000  8.122777e+06  1.352423e+10\n",
       "max     2024.000000  1.674348e+09  1.790144e+12"
      ]
     },
     "execution_count": 24,
     "metadata": {},
     "output_type": "execute_result"
    }
   ],
   "source": [
    "df4.describe()"
   ]
  },
  {
   "cell_type": "markdown",
   "id": "bab83beb",
   "metadata": {},
   "source": [
    "### **Plots**"
   ]
  },
  {
   "cell_type": "code",
   "execution_count": 25,
   "id": "dc730d89",
   "metadata": {},
   "outputs": [
    {
     "data": {
      "application/vnd.microsoft.datawrangler.viewer.v0+json": {
       "columns": [
        {
         "name": "index",
         "rawType": "int64",
         "type": "integer"
        },
        {
         "name": "year",
         "rawType": "int64",
         "type": "integer"
        },
        {
         "name": "district",
         "rawType": "object",
         "type": "string"
        },
        {
         "name": "count",
         "rawType": "int64",
         "type": "integer"
        },
        {
         "name": "amount",
         "rawType": "float64",
         "type": "float"
        },
        {
         "name": "state",
         "rawType": "object",
         "type": "string"
        }
       ],
       "ref": "c0883edc-a135-4845-aeae-c5919f61fcb3",
       "rows": [
        [
         "0",
         "2018",
         "bengaluru urban district",
         "33061353",
         "50279165003.07312",
         "karnataka"
        ],
        [
         "1",
         "2019",
         "bengaluru urban district",
         "180458808",
         "199966708446.8142",
         "karnataka"
        ],
        [
         "2",
         "2020",
         "bengaluru urban district",
         "267720411",
         "352536741958.4486",
         "karnataka"
        ],
        [
         "3",
         "2021",
         "bengaluru urban district",
         "584958847",
         "755926042210.8082",
         "karnataka"
        ],
        [
         "4",
         "2022",
         "hyderabad district",
         "1133829812",
         "1753799022390.8735",
         "telangana"
        ],
        [
         "5",
         "2023",
         "bengaluru urban district",
         "1345789742",
         "1497515119439.0",
         "karnataka"
        ],
        [
         "6",
         "2024",
         "bengaluru urban district",
         "1674347983",
         "1790144192589.0",
         "karnataka"
        ]
       ],
       "shape": {
        "columns": 5,
        "rows": 7
       }
      },
      "text/html": [
       "<div>\n",
       "<style scoped>\n",
       "    .dataframe tbody tr th:only-of-type {\n",
       "        vertical-align: middle;\n",
       "    }\n",
       "\n",
       "    .dataframe tbody tr th {\n",
       "        vertical-align: top;\n",
       "    }\n",
       "\n",
       "    .dataframe thead th {\n",
       "        text-align: right;\n",
       "    }\n",
       "</style>\n",
       "<table border=\"1\" class=\"dataframe\">\n",
       "  <thead>\n",
       "    <tr style=\"text-align: right;\">\n",
       "      <th></th>\n",
       "      <th>year</th>\n",
       "      <th>district</th>\n",
       "      <th>count</th>\n",
       "      <th>amount</th>\n",
       "      <th>state</th>\n",
       "    </tr>\n",
       "  </thead>\n",
       "  <tbody>\n",
       "    <tr>\n",
       "      <th>0</th>\n",
       "      <td>2018</td>\n",
       "      <td>bengaluru urban district</td>\n",
       "      <td>33061353</td>\n",
       "      <td>5.027917e+10</td>\n",
       "      <td>karnataka</td>\n",
       "    </tr>\n",
       "    <tr>\n",
       "      <th>1</th>\n",
       "      <td>2019</td>\n",
       "      <td>bengaluru urban district</td>\n",
       "      <td>180458808</td>\n",
       "      <td>1.999667e+11</td>\n",
       "      <td>karnataka</td>\n",
       "    </tr>\n",
       "    <tr>\n",
       "      <th>2</th>\n",
       "      <td>2020</td>\n",
       "      <td>bengaluru urban district</td>\n",
       "      <td>267720411</td>\n",
       "      <td>3.525367e+11</td>\n",
       "      <td>karnataka</td>\n",
       "    </tr>\n",
       "    <tr>\n",
       "      <th>3</th>\n",
       "      <td>2021</td>\n",
       "      <td>bengaluru urban district</td>\n",
       "      <td>584958847</td>\n",
       "      <td>7.559260e+11</td>\n",
       "      <td>karnataka</td>\n",
       "    </tr>\n",
       "    <tr>\n",
       "      <th>4</th>\n",
       "      <td>2022</td>\n",
       "      <td>hyderabad district</td>\n",
       "      <td>1133829812</td>\n",
       "      <td>1.753799e+12</td>\n",
       "      <td>telangana</td>\n",
       "    </tr>\n",
       "    <tr>\n",
       "      <th>5</th>\n",
       "      <td>2023</td>\n",
       "      <td>bengaluru urban district</td>\n",
       "      <td>1345789742</td>\n",
       "      <td>1.497515e+12</td>\n",
       "      <td>karnataka</td>\n",
       "    </tr>\n",
       "    <tr>\n",
       "      <th>6</th>\n",
       "      <td>2024</td>\n",
       "      <td>bengaluru urban district</td>\n",
       "      <td>1674347983</td>\n",
       "      <td>1.790144e+12</td>\n",
       "      <td>karnataka</td>\n",
       "    </tr>\n",
       "  </tbody>\n",
       "</table>\n",
       "</div>"
      ],
      "text/plain": [
       "   year                  district       count        amount      state\n",
       "0  2018  bengaluru urban district    33061353  5.027917e+10  karnataka\n",
       "1  2019  bengaluru urban district   180458808  1.999667e+11  karnataka\n",
       "2  2020  bengaluru urban district   267720411  3.525367e+11  karnataka\n",
       "3  2021  bengaluru urban district   584958847  7.559260e+11  karnataka\n",
       "4  2022        hyderabad district  1133829812  1.753799e+12  telangana\n",
       "5  2023  bengaluru urban district  1345789742  1.497515e+12  karnataka\n",
       "6  2024  bengaluru urban district  1674347983  1.790144e+12  karnataka"
      ]
     },
     "execution_count": 25,
     "metadata": {},
     "output_type": "execute_result"
    }
   ],
   "source": [
    "# Highest District on Transaction \n",
    "idx = df4.groupby('year')['amount'].idxmax()\n",
    "top_districts = df4.loc[idx].reset_index(drop=True)\n",
    "top_districts"
   ]
  },
  {
   "cell_type": "code",
   "execution_count": 26,
   "id": "61542ff0",
   "metadata": {},
   "outputs": [
    {
     "data": {
      "image/png": "[encoded data removed]",
      "text/plain": [
       "<Figure size 1000x600 with 1 Axes>"
      ]
     },
     "metadata": {},
     "output_type": "display_data"
    }
   ],
   "source": [
    "plt.figure(figsize=(10,6))\n",
    "plt.bar(top_districts['year'].astype(str), top_districts['amount'], color='green')\n",
    "\n",
    "for i, (district, amount) in enumerate(zip(top_districts['district'], top_districts['amount'])):\n",
    "    plt.text(i, amount, district, ha='center', va='bottom', fontsize=9)\n",
    "\n",
    "plt.title(\"District with Highest Transaction Amount per Year\")\n",
    "plt.xlabel(\"Year\")\n",
    "plt.ylabel(\"Total Transaction Amount (₹)\")\n",
    "plt.grid(axis='y')\n",
    "plt.show()"
   ]
  },
  {
   "cell_type": "markdown",
   "id": "3d80c6c7",
   "metadata": {},
   "source": [
    "* The Bengaluru urban district has held the largest amounts since 2018.\n",
    "* Hyderabad district took the lead in 2022 on amounts. \n",
    "* That lead was equivalent to the 2024 lead of the Bengaluru urban district.\n",
    "* 2022 was Hyderabad district's peak"
   ]
  },
  {
   "cell_type": "code",
   "execution_count": 27,
   "id": "b1d84ca0",
   "metadata": {},
   "outputs": [
    {
     "data": {
      "application/vnd.microsoft.datawrangler.viewer.v0+json": {
       "columns": [
        {
         "name": "index",
         "rawType": "int64",
         "type": "integer"
        },
        {
         "name": "year",
         "rawType": "int64",
         "type": "integer"
        },
        {
         "name": "district",
         "rawType": "object",
         "type": "string"
        },
        {
         "name": "count",
         "rawType": "int64",
         "type": "integer"
        },
        {
         "name": "amount",
         "rawType": "float64",
         "type": "float"
        },
        {
         "name": "state",
         "rawType": "object",
         "type": "string"
        }
       ],
       "ref": "6b88ac25-1ceb-4b82-8a19-d5138c1884c4",
       "rows": [
        [
         "0",
         "2018",
         "bengaluru urban district",
         "33061353",
         "50279165003.07312",
         "karnataka"
        ],
        [
         "1",
         "2019",
         "bengaluru urban district",
         "180458808",
         "199966708446.8142",
         "karnataka"
        ],
        [
         "2",
         "2020",
         "bengaluru urban district",
         "267720411",
         "352536741958.4486",
         "karnataka"
        ],
        [
         "3",
         "2021",
         "bengaluru urban district",
         "584958847",
         "755926042210.8082",
         "karnataka"
        ],
        [
         "4",
         "2022",
         "hyderabad district",
         "1133829812",
         "1753799022390.8735",
         "telangana"
        ],
        [
         "5",
         "2023",
         "bengaluru urban district",
         "1345789742",
         "1497515119439.0",
         "karnataka"
        ],
        [
         "6",
         "2024",
         "bengaluru urban district",
         "1674347983",
         "1790144192589.0",
         "karnataka"
        ]
       ],
       "shape": {
        "columns": 5,
        "rows": 7
       }
      },
      "text/html": [
       "<div>\n",
       "<style scoped>\n",
       "    .dataframe tbody tr th:only-of-type {\n",
       "        vertical-align: middle;\n",
       "    }\n",
       "\n",
       "    .dataframe tbody tr th {\n",
       "        vertical-align: top;\n",
       "    }\n",
       "\n",
       "    .dataframe thead th {\n",
       "        text-align: right;\n",
       "    }\n",
       "</style>\n",
       "<table border=\"1\" class=\"dataframe\">\n",
       "  <thead>\n",
       "    <tr style=\"text-align: right;\">\n",
       "      <th></th>\n",
       "      <th>year</th>\n",
       "      <th>district</th>\n",
       "      <th>count</th>\n",
       "      <th>amount</th>\n",
       "      <th>state</th>\n",
       "    </tr>\n",
       "  </thead>\n",
       "  <tbody>\n",
       "    <tr>\n",
       "      <th>0</th>\n",
       "      <td>2018</td>\n",
       "      <td>bengaluru urban district</td>\n",
       "      <td>33061353</td>\n",
       "      <td>5.027917e+10</td>\n",
       "      <td>karnataka</td>\n",
       "    </tr>\n",
       "    <tr>\n",
       "      <th>1</th>\n",
       "      <td>2019</td>\n",
       "      <td>bengaluru urban district</td>\n",
       "      <td>180458808</td>\n",
       "      <td>1.999667e+11</td>\n",
       "      <td>karnataka</td>\n",
       "    </tr>\n",
       "    <tr>\n",
       "      <th>2</th>\n",
       "      <td>2020</td>\n",
       "      <td>bengaluru urban district</td>\n",
       "      <td>267720411</td>\n",
       "      <td>3.525367e+11</td>\n",
       "      <td>karnataka</td>\n",
       "    </tr>\n",
       "    <tr>\n",
       "      <th>3</th>\n",
       "      <td>2021</td>\n",
       "      <td>bengaluru urban district</td>\n",
       "      <td>584958847</td>\n",
       "      <td>7.559260e+11</td>\n",
       "      <td>karnataka</td>\n",
       "    </tr>\n",
       "    <tr>\n",
       "      <th>4</th>\n",
       "      <td>2022</td>\n",
       "      <td>hyderabad district</td>\n",
       "      <td>1133829812</td>\n",
       "      <td>1.753799e+12</td>\n",
       "      <td>telangana</td>\n",
       "    </tr>\n",
       "    <tr>\n",
       "      <th>5</th>\n",
       "      <td>2023</td>\n",
       "      <td>bengaluru urban district</td>\n",
       "      <td>1345789742</td>\n",
       "      <td>1.497515e+12</td>\n",
       "      <td>karnataka</td>\n",
       "    </tr>\n",
       "    <tr>\n",
       "      <th>6</th>\n",
       "      <td>2024</td>\n",
       "      <td>bengaluru urban district</td>\n",
       "      <td>1674347983</td>\n",
       "      <td>1.790144e+12</td>\n",
       "      <td>karnataka</td>\n",
       "    </tr>\n",
       "  </tbody>\n",
       "</table>\n",
       "</div>"
      ],
      "text/plain": [
       "   year                  district       count        amount      state\n",
       "0  2018  bengaluru urban district    33061353  5.027917e+10  karnataka\n",
       "1  2019  bengaluru urban district   180458808  1.999667e+11  karnataka\n",
       "2  2020  bengaluru urban district   267720411  3.525367e+11  karnataka\n",
       "3  2021  bengaluru urban district   584958847  7.559260e+11  karnataka\n",
       "4  2022        hyderabad district  1133829812  1.753799e+12  telangana\n",
       "5  2023  bengaluru urban district  1345789742  1.497515e+12  karnataka\n",
       "6  2024  bengaluru urban district  1674347983  1.790144e+12  karnataka"
      ]
     },
     "execution_count": 27,
     "metadata": {},
     "output_type": "execute_result"
    }
   ],
   "source": [
    "# Highest District on Counts\n",
    "idx = df4.groupby('year')['count'].idxmax()\n",
    "top_districts_count = df4.loc[idx].reset_index(drop=True)\n",
    "top_districts_count"
   ]
  },
  {
   "cell_type": "code",
   "execution_count": 28,
   "id": "4fa5e587",
   "metadata": {},
   "outputs": [
    {
     "data": {
      "image/png": "[encoded data removed]",
      "text/plain": [
       "<Figure size 1000x600 with 1 Axes>"
      ]
     },
     "metadata": {},
     "output_type": "display_data"
    }
   ],
   "source": [
    "plt.figure(figsize=(10,6))\n",
    "plt.bar(top_districts_count['year'].astype(str), top_districts_count['count'], color='orange')\n",
    "\n",
    "for i, (district, count) in enumerate(zip(top_districts_count['district'], top_districts_count['count'])):\n",
    "    plt.text(i, count, district, ha='center', va='bottom', fontsize=9)\n",
    "\n",
    "plt.title(\"District with Highest Transaction Count per Year\")\n",
    "plt.xlabel(\"Year\")\n",
    "plt.ylabel(\"Total Transaction Count\")\n",
    "plt.grid(axis='y')\n",
    "plt.show()"
   ]
  },
  {
   "cell_type": "markdown",
   "id": "2d516894",
   "metadata": {},
   "source": [
    "* Bengaluru urban district also held the largest count since 2018.\n",
    "* Only lost once in 2022 to the Hyderabad district.\n",
    "* The following year it took back its position on top."
   ]
  },
  {
   "cell_type": "markdown",
   "id": "f1b57d69",
   "metadata": {},
   "source": [
    "# **Top**"
   ]
  },
  {
   "cell_type": "markdown",
   "id": "fb84c524",
   "metadata": {},
   "source": [
    "## **Country**"
   ]
  },
  {
   "cell_type": "markdown",
   "id": "aa9ecaaa",
   "metadata": {},
   "source": [
    "### **Load CSV**"
   ]
  },
  {
   "cell_type": "code",
   "execution_count": 29,
   "id": "99111708",
   "metadata": {},
   "outputs": [
    {
     "data": {
      "application/vnd.microsoft.datawrangler.viewer.v0+json": {
       "columns": [
        {
         "name": "index",
         "rawType": "int64",
         "type": "integer"
        },
        {
         "name": "year",
         "rawType": "int64",
         "type": "integer"
        },
        {
         "name": "entity",
         "rawType": "object",
         "type": "string"
        },
        {
         "name": "count",
         "rawType": "int64",
         "type": "integer"
        },
        {
         "name": "amount",
         "rawType": "float64",
         "type": "float"
        },
        {
         "name": "level",
         "rawType": "object",
         "type": "string"
        }
       ],
       "ref": "da6838e6-ccb8-486c-ad4e-0623c03d163d",
       "rows": [
        [
         "0",
         "2018",
         "maharashtra",
         "16387034",
         "21711613257.725677",
         "state"
        ],
        [
         "1",
         "2018",
         "uttar pradesh",
         "12537805",
         "13939970923.223106",
         "state"
        ],
        [
         "2",
         "2018",
         "karnataka",
         "12016899",
         "19217895314.0128",
         "state"
        ],
        [
         "3",
         "2018",
         "west bengal",
         "11710225",
         "10625978552.140451",
         "state"
        ],
        [
         "4",
         "2018",
         "andhra pradesh",
         "9039585",
         "11996276391.823706",
         "state"
        ],
        [
         "5",
         "2018",
         "telangana",
         "8522766",
         "13308204118.542437",
         "state"
        ],
        [
         "6",
         "2018",
         "madhya pradesh",
         "8025395",
         "8681603403.446348",
         "state"
        ],
        [
         "7",
         "2018",
         "rajasthan",
         "7591690",
         "8926293130.72684",
         "state"
        ],
        [
         "8",
         "2018",
         "delhi",
         "7122754",
         "11211503806.91996",
         "state"
        ],
        [
         "9",
         "2018",
         "tamil nadu",
         "6726622",
         "11261557697.516891",
         "state"
        ],
        [
         "10",
         "2018",
         "bengaluru urban",
         "8306513",
         "14162750303.06484",
         "district"
        ],
        [
         "11",
         "2018",
         "pune",
         "3842929",
         "5378982326.835919",
         "district"
        ],
        [
         "12",
         "2018",
         "central delhi",
         "2997714",
         "4312145216.274474",
         "district"
        ],
        [
         "13",
         "2018",
         "mumbai",
         "2671029",
         "3923116793.952079",
         "district"
        ],
        [
         "14",
         "2018",
         "chennai",
         "2656230",
         "4281137762.522443",
         "district"
        ],
        [
         "15",
         "2018",
         "hyderabad",
         "2545507",
         "4287223789.76588",
         "district"
        ],
        [
         "16",
         "2018",
         "jaipur",
         "2417174",
         "2953086960.1413727",
         "district"
        ],
        [
         "17",
         "2018",
         "birbhum",
         "2125816",
         "2520486412.452376",
         "district"
        ],
        [
         "18",
         "2018",
         "kolkata",
         "2043129",
         "2753347660.1429114",
         "district"
        ],
        [
         "19",
         "2018",
         "bhopal",
         "1704495",
         "1905473874.832672",
         "district"
        ],
        [
         "20",
         "2018",
         "560001",
         "2917356",
         "4684262246.184548",
         "pincode"
        ],
        [
         "21",
         "2018",
         "110006",
         "2636324",
         "3714139312.238586",
         "pincode"
        ],
        [
         "22",
         "2018",
         "400008",
         "2227885",
         "3105208723.475169",
         "pincode"
        ],
        [
         "23",
         "2018",
         "600003",
         "2010196",
         "2997847000.265506",
         "pincode"
        ],
        [
         "24",
         "2018",
         "731101",
         "1764956",
         "2366771285.7278423",
         "pincode"
        ],
        [
         "25",
         "2018",
         "700009",
         "1390629",
         "1851145374.4001176",
         "pincode"
        ],
        [
         "26",
         "2018",
         "411001",
         "1055656",
         "1413523605.595662",
         "pincode"
        ],
        [
         "27",
         "2018",
         "500012",
         "933013",
         "1643061976.4262943",
         "pincode"
        ],
        [
         "28",
         "2018",
         "462001",
         "832846",
         "898730606.684653",
         "pincode"
        ],
        [
         "29",
         "2018",
         "201301",
         "690196",
         "987613438.954012",
         "pincode"
        ],
        [
         "30",
         "2018",
         "maharashtra",
         "22285740",
         "36357057241.12254",
         "state"
        ],
        [
         "31",
         "2018",
         "west bengal",
         "18082446",
         "18629183470.204285",
         "state"
        ],
        [
         "32",
         "2018",
         "uttar pradesh",
         "17710943",
         "25720201695.701435",
         "state"
        ],
        [
         "33",
         "2018",
         "karnataka",
         "17116447",
         "33515580081.29709",
         "state"
        ],
        [
         "34",
         "2018",
         "andhra pradesh",
         "12353918",
         "22883914272.633617",
         "state"
        ],
        [
         "35",
         "2018",
         "telangana",
         "10764670",
         "23017201517.652737",
         "state"
        ],
        [
         "36",
         "2018",
         "madhya pradesh",
         "10561412",
         "15924081066.680984",
         "state"
        ],
        [
         "37",
         "2018",
         "tamil nadu",
         "9992128",
         "20125844276.267666",
         "state"
        ],
        [
         "38",
         "2018",
         "rajasthan",
         "9973697",
         "15559086175.759624",
         "state"
        ],
        [
         "39",
         "2018",
         "delhi",
         "9373723",
         "17446299902.205147",
         "state"
        ],
        [
         "40",
         "2018",
         "bengaluru urban",
         "11916035",
         "23824727965.49048",
         "district"
        ],
        [
         "41",
         "2018",
         "pune",
         "5162876",
         "8513428062.925206",
         "district"
        ],
        [
         "42",
         "2018",
         "chennai",
         "3719593",
         "7305357440.752291",
         "district"
        ],
        [
         "43",
         "2018",
         "central delhi",
         "3589206",
         "6223466821.092629",
         "district"
        ],
        [
         "44",
         "2018",
         "mumbai",
         "3277612",
         "6048515205.760132",
         "district"
        ],
        [
         "45",
         "2018",
         "jaipur",
         "3175255",
         "4952882923.415596",
         "district"
        ],
        [
         "46",
         "2018",
         "hyderabad",
         "3156805",
         "6628159910.681627",
         "district"
        ],
        [
         "47",
         "2018",
         "birbhum",
         "2775489",
         "3988930679.767912",
         "district"
        ],
        [
         "48",
         "2018",
         "kolkata",
         "2501448",
         "4109821729.890053",
         "district"
        ],
        [
         "49",
         "2018",
         "north twenty four parganas",
         "2119664",
         "2509379355.091834",
         "district"
        ]
       ],
       "shape": {
        "columns": 5,
        "rows": 840
       }
      },
      "text/html": [
       "<div>\n",
       "<style scoped>\n",
       "    .dataframe tbody tr th:only-of-type {\n",
       "        vertical-align: middle;\n",
       "    }\n",
       "\n",
       "    .dataframe tbody tr th {\n",
       "        vertical-align: top;\n",
       "    }\n",
       "\n",
       "    .dataframe thead th {\n",
       "        text-align: right;\n",
       "    }\n",
       "</style>\n",
       "<table border=\"1\" class=\"dataframe\">\n",
       "  <thead>\n",
       "    <tr style=\"text-align: right;\">\n",
       "      <th></th>\n",
       "      <th>year</th>\n",
       "      <th>entity</th>\n",
       "      <th>count</th>\n",
       "      <th>amount</th>\n",
       "      <th>level</th>\n",
       "    </tr>\n",
       "  </thead>\n",
       "  <tbody>\n",
       "    <tr>\n",
       "      <th>0</th>\n",
       "      <td>2018</td>\n",
       "      <td>maharashtra</td>\n",
       "      <td>16387034</td>\n",
       "      <td>2.171161e+10</td>\n",
       "      <td>state</td>\n",
       "    </tr>\n",
       "    <tr>\n",
       "      <th>1</th>\n",
       "      <td>2018</td>\n",
       "      <td>uttar pradesh</td>\n",
       "      <td>12537805</td>\n",
       "      <td>1.393997e+10</td>\n",
       "      <td>state</td>\n",
       "    </tr>\n",
       "    <tr>\n",
       "      <th>2</th>\n",
       "      <td>2018</td>\n",
       "      <td>karnataka</td>\n",
       "      <td>12016899</td>\n",
       "      <td>1.921790e+10</td>\n",
       "      <td>state</td>\n",
       "    </tr>\n",
       "    <tr>\n",
       "      <th>3</th>\n",
       "      <td>2018</td>\n",
       "      <td>west bengal</td>\n",
       "      <td>11710225</td>\n",
       "      <td>1.062598e+10</td>\n",
       "      <td>state</td>\n",
       "    </tr>\n",
       "    <tr>\n",
       "      <th>4</th>\n",
       "      <td>2018</td>\n",
       "      <td>andhra pradesh</td>\n",
       "      <td>9039585</td>\n",
       "      <td>1.199628e+10</td>\n",
       "      <td>state</td>\n",
       "    </tr>\n",
       "    <tr>\n",
       "      <th>...</th>\n",
       "      <td>...</td>\n",
       "      <td>...</td>\n",
       "      <td>...</td>\n",
       "      <td>...</td>\n",
       "      <td>...</td>\n",
       "    </tr>\n",
       "    <tr>\n",
       "      <th>835</th>\n",
       "      <td>2024</td>\n",
       "      <td>452001</td>\n",
       "      <td>58325781</td>\n",
       "      <td>5.278964e+10</td>\n",
       "      <td>pincode</td>\n",
       "    </tr>\n",
       "    <tr>\n",
       "      <th>836</th>\n",
       "      <td>2024</td>\n",
       "      <td>410501</td>\n",
       "      <td>55813356</td>\n",
       "      <td>4.227178e+10</td>\n",
       "      <td>pincode</td>\n",
       "    </tr>\n",
       "    <tr>\n",
       "      <th>837</th>\n",
       "      <td>2024</td>\n",
       "      <td>411057</td>\n",
       "      <td>48685493</td>\n",
       "      <td>3.854635e+10</td>\n",
       "      <td>pincode</td>\n",
       "    </tr>\n",
       "    <tr>\n",
       "      <th>838</th>\n",
       "      <td>2024</td>\n",
       "      <td>560037</td>\n",
       "      <td>48507070</td>\n",
       "      <td>5.037068e+10</td>\n",
       "      <td>pincode</td>\n",
       "    </tr>\n",
       "    <tr>\n",
       "      <th>839</th>\n",
       "      <td>2024</td>\n",
       "      <td>560066</td>\n",
       "      <td>44494164</td>\n",
       "      <td>4.507422e+10</td>\n",
       "      <td>pincode</td>\n",
       "    </tr>\n",
       "  </tbody>\n",
       "</table>\n",
       "<p>840 rows × 5 columns</p>\n",
       "</div>"
      ],
      "text/plain": [
       "     year          entity     count        amount    level\n",
       "0    2018     maharashtra  16387034  2.171161e+10    state\n",
       "1    2018   uttar pradesh  12537805  1.393997e+10    state\n",
       "2    2018       karnataka  12016899  1.921790e+10    state\n",
       "3    2018     west bengal  11710225  1.062598e+10    state\n",
       "4    2018  andhra pradesh   9039585  1.199628e+10    state\n",
       "..    ...             ...       ...           ...      ...\n",
       "835  2024          452001  58325781  5.278964e+10  pincode\n",
       "836  2024          410501  55813356  4.227178e+10  pincode\n",
       "837  2024          411057  48685493  3.854635e+10  pincode\n",
       "838  2024          560037  48507070  5.037068e+10  pincode\n",
       "839  2024          560066  44494164  4.507422e+10  pincode\n",
       "\n",
       "[840 rows x 5 columns]"
      ]
     },
     "execution_count": 29,
     "metadata": {},
     "output_type": "execute_result"
    }
   ],
   "source": [
    "df5 = pd.read_csv(\"dataset/transaction/top_transaction_country.csv\")\n",
    "df5"
   ]
  },
  {
   "cell_type": "markdown",
   "id": "ef5e63dc",
   "metadata": {},
   "source": [
    "### **Dataset Info**"
   ]
  },
  {
   "cell_type": "code",
   "execution_count": 30,
   "id": "46b5ba51",
   "metadata": {},
   "outputs": [
    {
     "name": "stdout",
     "output_type": "stream",
     "text": [
      "<class 'pandas.core.frame.DataFrame'>\n",
      "RangeIndex: 840 entries, 0 to 839\n",
      "Data columns (total 5 columns):\n",
      " #   Column  Non-Null Count  Dtype  \n",
      "---  ------  --------------  -----  \n",
      " 0   year    840 non-null    int64  \n",
      " 1   entity  840 non-null    object \n",
      " 2   count   840 non-null    int64  \n",
      " 3   amount  840 non-null    float64\n",
      " 4   level   840 non-null    object \n",
      "dtypes: float64(1), int64(2), object(2)\n",
      "memory usage: 32.9+ KB\n"
     ]
    }
   ],
   "source": [
    "df5.info()"
   ]
  },
  {
   "cell_type": "markdown",
   "id": "c607d4d8",
   "metadata": {},
   "source": [
    "### **Dataset Describe**"
   ]
  },
  {
   "cell_type": "code",
   "execution_count": 31,
   "id": "1c644d28",
   "metadata": {},
   "outputs": [
    {
     "data": {
      "application/vnd.microsoft.datawrangler.viewer.v0+json": {
       "columns": [
        {
         "name": "index",
         "rawType": "object",
         "type": "string"
        },
        {
         "name": "year",
         "rawType": "float64",
         "type": "float"
        },
        {
         "name": "count",
         "rawType": "float64",
         "type": "float"
        },
        {
         "name": "amount",
         "rawType": "float64",
         "type": "float"
        }
       ],
       "ref": "e3fd2acc-94de-43d5-8d96-df5feb4d1468",
       "rows": [
        [
         "count",
         "840.0",
         "840.0",
         "840.0"
        ],
        [
         "mean",
         "2021.0",
         "316279362.8095238",
         "450191970326.0294"
        ],
        [
         "std",
         "2.0011915401712352",
         "554400424.2399285",
         "748476706661.1335"
        ],
        [
         "min",
         "2018.0",
         "690196.0",
         "671779876.5266988"
        ],
        [
         "25%",
         "2019.0",
         "27470390.25",
         "38530847678.5"
        ],
        [
         "50%",
         "2021.0",
         "79734635.0",
         "132227399369.14233"
        ],
        [
         "75%",
         "2023.0",
         "301721332.5",
         "485462714463.0"
        ],
        [
         "max",
         "2024.0",
         "3634231839.0",
         "4151819803822.0"
        ]
       ],
       "shape": {
        "columns": 3,
        "rows": 8
       }
      },
      "text/html": [
       "<div>\n",
       "<style scoped>\n",
       "    .dataframe tbody tr th:only-of-type {\n",
       "        vertical-align: middle;\n",
       "    }\n",
       "\n",
       "    .dataframe tbody tr th {\n",
       "        vertical-align: top;\n",
       "    }\n",
       "\n",
       "    .dataframe thead th {\n",
       "        text-align: right;\n",
       "    }\n",
       "</style>\n",
       "<table border=\"1\" class=\"dataframe\">\n",
       "  <thead>\n",
       "    <tr style=\"text-align: right;\">\n",
       "      <th></th>\n",
       "      <th>year</th>\n",
       "      <th>count</th>\n",
       "      <th>amount</th>\n",
       "    </tr>\n",
       "  </thead>\n",
       "  <tbody>\n",
       "    <tr>\n",
       "      <th>count</th>\n",
       "      <td>840.000000</td>\n",
       "      <td>8.400000e+02</td>\n",
       "      <td>8.400000e+02</td>\n",
       "    </tr>\n",
       "    <tr>\n",
       "      <th>mean</th>\n",
       "      <td>2021.000000</td>\n",
       "      <td>3.162794e+08</td>\n",
       "      <td>4.501920e+11</td>\n",
       "    </tr>\n",
       "    <tr>\n",
       "      <th>std</th>\n",
       "      <td>2.001192</td>\n",
       "      <td>5.544004e+08</td>\n",
       "      <td>7.484767e+11</td>\n",
       "    </tr>\n",
       "    <tr>\n",
       "      <th>min</th>\n",
       "      <td>2018.000000</td>\n",
       "      <td>6.901960e+05</td>\n",
       "      <td>6.717799e+08</td>\n",
       "    </tr>\n",
       "    <tr>\n",
       "      <th>25%</th>\n",
       "      <td>2019.000000</td>\n",
       "      <td>2.747039e+07</td>\n",
       "      <td>3.853085e+10</td>\n",
       "    </tr>\n",
       "    <tr>\n",
       "      <th>50%</th>\n",
       "      <td>2021.000000</td>\n",
       "      <td>7.973464e+07</td>\n",
       "      <td>1.322274e+11</td>\n",
       "    </tr>\n",
       "    <tr>\n",
       "      <th>75%</th>\n",
       "      <td>2023.000000</td>\n",
       "      <td>3.017213e+08</td>\n",
       "      <td>4.854627e+11</td>\n",
       "    </tr>\n",
       "    <tr>\n",
       "      <th>max</th>\n",
       "      <td>2024.000000</td>\n",
       "      <td>3.634232e+09</td>\n",
       "      <td>4.151820e+12</td>\n",
       "    </tr>\n",
       "  </tbody>\n",
       "</table>\n",
       "</div>"
      ],
      "text/plain": [
       "              year         count        amount\n",
       "count   840.000000  8.400000e+02  8.400000e+02\n",
       "mean   2021.000000  3.162794e+08  4.501920e+11\n",
       "std       2.001192  5.544004e+08  7.484767e+11\n",
       "min    2018.000000  6.901960e+05  6.717799e+08\n",
       "25%    2019.000000  2.747039e+07  3.853085e+10\n",
       "50%    2021.000000  7.973464e+07  1.322274e+11\n",
       "75%    2023.000000  3.017213e+08  4.854627e+11\n",
       "max    2024.000000  3.634232e+09  4.151820e+12"
      ]
     },
     "execution_count": 31,
     "metadata": {},
     "output_type": "execute_result"
    }
   ],
   "source": [
    "df5.describe()"
   ]
  },
  {
   "cell_type": "code",
   "execution_count": 32,
   "id": "66174ec3",
   "metadata": {},
   "outputs": [
    {
     "data": {
      "application/vnd.microsoft.datawrangler.viewer.v0+json": {
       "columns": [
        {
         "name": "entity",
         "rawType": "object",
         "type": "string"
        },
        {
         "name": "count",
         "rawType": "int64",
         "type": "integer"
        }
       ],
       "ref": "178ed381-8ee3-45f0-8e79-5371c738f662",
       "rows": [
        [
         "maharashtra",
         "28"
        ],
        [
         "uttar pradesh",
         "28"
        ],
        [
         "karnataka",
         "28"
        ],
        [
         "andhra pradesh",
         "28"
        ],
        [
         "madhya pradesh",
         "28"
        ],
        [
         "telangana",
         "28"
        ],
        [
         "rajasthan",
         "26"
        ],
        [
         "west bengal",
         "20"
        ],
        [
         "delhi",
         "20"
        ],
        [
         "bihar",
         "17"
        ],
        [
         "tamil nadu",
         "15"
        ],
        [
         "odisha",
         "14"
        ]
       ],
       "shape": {
        "columns": 1,
        "rows": 12
       }
      },
      "text/plain": [
       "entity\n",
       "maharashtra       28\n",
       "uttar pradesh     28\n",
       "karnataka         28\n",
       "andhra pradesh    28\n",
       "madhya pradesh    28\n",
       "telangana         28\n",
       "rajasthan         26\n",
       "west bengal       20\n",
       "delhi             20\n",
       "bihar             17\n",
       "tamil nadu        15\n",
       "odisha            14\n",
       "Name: count, dtype: int64"
      ]
     },
     "execution_count": 32,
     "metadata": {},
     "output_type": "execute_result"
    }
   ],
   "source": [
    "df5[df5['level']=='state']['entity'].value_counts()"
   ]
  },
  {
   "cell_type": "code",
   "execution_count": 33,
   "id": "85a0dd44",
   "metadata": {},
   "outputs": [
    {
     "data": {
      "application/vnd.microsoft.datawrangler.viewer.v0+json": {
       "columns": [
        {
         "name": "entity",
         "rawType": "object",
         "type": "string"
        },
        {
         "name": "count",
         "rawType": "int64",
         "type": "integer"
        }
       ],
       "ref": "99480527-6675-4979-88f2-6259196db67e",
       "rows": [
        [
         "bengaluru urban",
         "28"
        ],
        [
         "pune",
         "28"
        ],
        [
         "jaipur",
         "28"
        ],
        [
         "hyderabad",
         "28"
        ],
        [
         "rangareddy",
         "25"
        ],
        [
         "medchal malkajgiri",
         "21"
        ],
        [
         "central delhi",
         "17"
        ],
        [
         "visakhapatnam",
         "15"
        ],
        [
         "khordha",
         "13"
        ],
        [
         "bhopal",
         "9"
        ],
        [
         "mumbai suburban",
         "8"
        ],
        [
         "gautam buddha nagar",
         "8"
        ],
        [
         "gurugram",
         "8"
        ],
        [
         "kolkata",
         "6"
        ],
        [
         "thane",
         "6"
        ],
        [
         "chennai",
         "5"
        ],
        [
         "indore",
         "4"
        ],
        [
         "new delhi",
         "4"
        ],
        [
         "patna",
         "4"
        ],
        [
         "mumbai",
         "3"
        ],
        [
         "birbhum",
         "3"
        ],
        [
         "north twenty four parganas",
         "2"
        ],
        [
         "chhindwara",
         "2"
        ],
        [
         "gautambuddha nagar",
         "2"
        ],
        [
         "bankura",
         "1"
        ],
        [
         "lucknow",
         "1"
        ],
        [
         "ahmadabad",
         "1"
        ]
       ],
       "shape": {
        "columns": 1,
        "rows": 27
       }
      },
      "text/plain": [
       "entity\n",
       "bengaluru urban               28\n",
       "pune                          28\n",
       "jaipur                        28\n",
       "hyderabad                     28\n",
       "rangareddy                    25\n",
       "medchal malkajgiri            21\n",
       "central delhi                 17\n",
       "visakhapatnam                 15\n",
       "khordha                       13\n",
       "bhopal                         9\n",
       "mumbai suburban                8\n",
       "gautam buddha nagar            8\n",
       "gurugram                       8\n",
       "kolkata                        6\n",
       "thane                          6\n",
       "chennai                        5\n",
       "indore                         4\n",
       "new delhi                      4\n",
       "patna                          4\n",
       "mumbai                         3\n",
       "birbhum                        3\n",
       "north twenty four parganas     2\n",
       "chhindwara                     2\n",
       "gautambuddha nagar             2\n",
       "bankura                        1\n",
       "lucknow                        1\n",
       "ahmadabad                      1\n",
       "Name: count, dtype: int64"
      ]
     },
     "execution_count": 33,
     "metadata": {},
     "output_type": "execute_result"
    }
   ],
   "source": [
    "df5[df5['level']=='district']['entity'].value_counts()"
   ]
  },
  {
   "cell_type": "code",
   "execution_count": 34,
   "id": "a244852d",
   "metadata": {},
   "outputs": [
    {
     "data": {
      "application/vnd.microsoft.datawrangler.viewer.v0+json": {
       "columns": [
        {
         "name": "entity",
         "rawType": "object",
         "type": "string"
        },
        {
         "name": "count",
         "rawType": "int64",
         "type": "integer"
        }
       ],
       "ref": "dbe3475e-767e-48fe-9478-0401d61242ad",
       "rows": [
        [
         "560001",
         "18"
        ],
        [
         "110006",
         "17"
        ],
        [
         "600003",
         "16"
        ],
        [
         "201301",
         "13"
        ],
        [
         "700009",
         "12"
        ],
        [
         "751001",
         "12"
        ],
        [
         "800001",
         "11"
        ],
        [
         "411004",
         "10"
        ],
        [
         "302016",
         "10"
        ],
        [
         "500001",
         "10"
        ],
        [
         "560068",
         "9"
        ],
        [
         "500012",
         "8"
        ],
        [
         "462008",
         "8"
        ],
        [
         "500081",
         "8"
        ],
        [
         "500072",
         "8"
        ],
        [
         "560037",
         "8"
        ],
        [
         "400008",
         "7"
        ],
        [
         "560078",
         "6"
        ],
        [
         "560076",
         "6"
        ],
        [
         "500032",
         "6"
        ],
        [
         "560100",
         "6"
        ],
        [
         "411057",
         "6"
        ],
        [
         "410501",
         "5"
        ],
        [
         "444510",
         "4"
        ],
        [
         "302001",
         "4"
        ],
        [
         "411006",
         "4"
        ],
        [
         "411001",
         "4"
        ],
        [
         "731101",
         "4"
        ],
        [
         "110011",
         "4"
        ],
        [
         "400070",
         "4"
        ],
        [
         "800015",
         "3"
        ],
        [
         "751002",
         "3"
        ],
        [
         "110001",
         "3"
        ],
        [
         "462001",
         "2"
        ],
        [
         "411033",
         "2"
        ],
        [
         "302012",
         "2"
        ],
        [
         "500034",
         "2"
        ],
        [
         "226004",
         "2"
        ],
        [
         "560066",
         "2"
        ],
        [
         "480001",
         "2"
        ],
        [
         "560027",
         "2"
        ],
        [
         "700039",
         "2"
        ],
        [
         "452001",
         "2"
        ],
        [
         "221001",
         "1"
        ],
        [
         "380001",
         "1"
        ],
        [
         "560043",
         "1"
        ]
       ],
       "shape": {
        "columns": 1,
        "rows": 46
       }
      },
      "text/plain": [
       "entity\n",
       "560001    18\n",
       "110006    17\n",
       "600003    16\n",
       "201301    13\n",
       "700009    12\n",
       "751001    12\n",
       "800001    11\n",
       "411004    10\n",
       "302016    10\n",
       "500001    10\n",
       "560068     9\n",
       "500012     8\n",
       "462008     8\n",
       "500081     8\n",
       "500072     8\n",
       "560037     8\n",
       "400008     7\n",
       "560078     6\n",
       "560076     6\n",
       "500032     6\n",
       "560100     6\n",
       "411057     6\n",
       "410501     5\n",
       "444510     4\n",
       "302001     4\n",
       "411006     4\n",
       "411001     4\n",
       "731101     4\n",
       "110011     4\n",
       "400070     4\n",
       "800015     3\n",
       "751002     3\n",
       "110001     3\n",
       "462001     2\n",
       "411033     2\n",
       "302012     2\n",
       "500034     2\n",
       "226004     2\n",
       "560066     2\n",
       "480001     2\n",
       "560027     2\n",
       "700039     2\n",
       "452001     2\n",
       "221001     1\n",
       "380001     1\n",
       "560043     1\n",
       "Name: count, dtype: int64"
      ]
     },
     "execution_count": 34,
     "metadata": {},
     "output_type": "execute_result"
    }
   ],
   "source": [
    "df5[df5['level']=='pincode']['entity'].value_counts()"
   ]
  },
  {
   "cell_type": "markdown",
   "id": "a4f81814",
   "metadata": {},
   "source": [
    "### **Plots**"
   ]
  },
  {
   "cell_type": "code",
   "execution_count": 35,
   "id": "3ca4ccec",
   "metadata": {},
   "outputs": [
    {
     "data": {
      "image/png": "[encoded data removed]",
      "text/plain": [
       "<Figure size 1200x600 with 1 Axes>"
      ]
     },
     "metadata": {},
     "output_type": "display_data"
    }
   ],
   "source": [
    "# filter for states\n",
    "states = df5[df5['level'] == 'state']\n",
    "\n",
    "plt.figure(figsize=(12,6))\n",
    "plt.bar(states['entity'], states['amount'], color='green')\n",
    "plt.xticks(rotation=45)\n",
    "plt.title(\"Top States by Total Transaction Amount (2018)\")\n",
    "plt.xlabel(\"State\")\n",
    "plt.ylabel(\"Total Transaction Amount (₹)\")\n",
    "plt.grid(axis='y')\n",
    "plt.show()"
   ]
  },
  {
   "cell_type": "markdown",
   "id": "80b0a07a",
   "metadata": {},
   "source": [
    "* Maharashtra & Karnataka are on top and on the same level.\n",
    "* Telangana is right below them.\n",
    "* AP & UP are on the rise.\n",
    "* Delhi & Tamil Nadu seem to be last."
   ]
  },
  {
   "cell_type": "code",
   "execution_count": 36,
   "id": "407f4f4e",
   "metadata": {},
   "outputs": [
    {
     "data": {
      "image/png": "[encoded data removed]",
      "text/plain": [
       "<Figure size 1200x600 with 1 Axes>"
      ]
     },
     "metadata": {},
     "output_type": "display_data"
    }
   ],
   "source": [
    "districts = df5[df5['level'] == 'district']\n",
    "\n",
    "plt.figure(figsize=(12,6))\n",
    "plt.bar(districts['entity'], districts['amount'], color='blue')\n",
    "plt.xticks(rotation=90)\n",
    "plt.title(\"Top Districts by Total Transaction Amount (2018)\")\n",
    "plt.xlabel(\"District\")\n",
    "plt.ylabel(\"Total Transaction Amount (₹)\")\n",
    "plt.grid(axis='y')\n",
    "plt.show()"
   ]
  },
  {
   "cell_type": "markdown",
   "id": "b718930f",
   "metadata": {},
   "source": [
    "* On the district level, Bengaluru Urban & Hyderabad are nearly on the same level.\n",
    "* The rest are below their half level."
   ]
  },
  {
   "cell_type": "code",
   "execution_count": 37,
   "id": "e8783f09",
   "metadata": {},
   "outputs": [
    {
     "data": {
      "image/png": "[encoded data removed]",
      "text/plain": [
       "<Figure size 1200x600 with 1 Axes>"
      ]
     },
     "metadata": {},
     "output_type": "display_data"
    }
   ],
   "source": [
    "pincodes = df5[df5['level'] == 'pincode']\n",
    "\n",
    "plt.figure(figsize=(12,6))\n",
    "plt.bar(pincodes['entity'].astype(str), pincodes['amount'], color='orange')\n",
    "plt.xticks(rotation=90)\n",
    "plt.title(\"Top Pincodes by Total Transaction Amount (2018)\")\n",
    "plt.xlabel(\"Pincode\")\n",
    "plt.ylabel(\"Total Transaction Amount (₹)\")\n",
    "plt.grid(axis='y')\n",
    "plt.show()"
   ]
  },
  {
   "cell_type": "markdown",
   "id": "d6e5aba8",
   "metadata": {},
   "source": [
    "* The pincode `500034` has a huge lead in transactions compared to others.\n",
    "* The second-best pincode `500001`, couldn’t even reach half of the first pincode."
   ]
  },
  {
   "cell_type": "markdown",
   "id": "a6c30873",
   "metadata": {},
   "source": [
    "## **State**"
   ]
  },
  {
   "cell_type": "markdown",
   "id": "e721d961",
   "metadata": {},
   "source": [
    "### **Load CSV**"
   ]
  },
  {
   "cell_type": "code",
   "execution_count": 38,
   "id": "655bdd7d",
   "metadata": {},
   "outputs": [
    {
     "data": {
      "application/vnd.microsoft.datawrangler.viewer.v0+json": {
       "columns": [
        {
         "name": "index",
         "rawType": "int64",
         "type": "integer"
        },
        {
         "name": "year",
         "rawType": "int64",
         "type": "integer"
        },
        {
         "name": "state",
         "rawType": "object",
         "type": "string"
        },
        {
         "name": "entity",
         "rawType": "object",
         "type": "unknown"
        },
        {
         "name": "count",
         "rawType": "int64",
         "type": "integer"
        },
        {
         "name": "amount",
         "rawType": "float64",
         "type": "float"
        },
        {
         "name": "level",
         "rawType": "object",
         "type": "string"
        }
       ],
       "ref": "65c0e5a4-3822-43e3-8159-11d7ad9797e5",
       "rows": [
        [
         "0",
         "2018",
         "andaman-&-nicobar-islands",
         "south andaman",
         "5688",
         "12560249.343665812",
         "district"
        ],
        [
         "1",
         "2018",
         "andaman-&-nicobar-islands",
         "nicobars",
         "528",
         "1139848.801225994",
         "district"
        ],
        [
         "2",
         "2018",
         "andaman-&-nicobar-islands",
         "north and middle andaman",
         "442",
         "931663.0770939871",
         "district"
        ],
        [
         "3",
         "2018",
         "andaman-&-nicobar-islands",
         "744101",
         "1622",
         "2769297.9039997994",
         "pincode"
        ],
        [
         "4",
         "2018",
         "andaman-&-nicobar-islands",
         "744103",
         "1223",
         "2238041.8716124697",
         "pincode"
        ],
        [
         "5",
         "2018",
         "andaman-&-nicobar-islands",
         "744102",
         "969",
         "3519059.937562449",
         "pincode"
        ],
        [
         "6",
         "2018",
         "andaman-&-nicobar-islands",
         "744105",
         "685",
         "1298560.9515503529",
         "pincode"
        ],
        [
         "7",
         "2018",
         "andaman-&-nicobar-islands",
         "744104",
         "340",
         "1039715.311145054",
         "pincode"
        ],
        [
         "8",
         "2018",
         "andaman-&-nicobar-islands",
         "744107",
         "302",
         "556059.5308556345",
         "pincode"
        ],
        [
         "9",
         "2018",
         "andaman-&-nicobar-islands",
         "744301",
         "283",
         "445739.1633851439",
         "pincode"
        ],
        [
         "10",
         "2018",
         "andaman-&-nicobar-islands",
         "744112",
         "269",
         "333709.56700413954",
         "pincode"
        ],
        [
         "11",
         "2018",
         "andaman-&-nicobar-islands",
         "744202",
         "193",
         "238914.01667155625",
         "pincode"
        ],
        [
         "12",
         "2018",
         "andaman-&-nicobar-islands",
         "744302",
         "168",
         "547469.6509380838",
         "pincode"
        ],
        [
         "13",
         "2018",
         "andaman-&-nicobar-islands",
         "south andaman",
         "9395",
         "23948235.51634325",
         "district"
        ],
        [
         "14",
         "2018",
         "andaman-&-nicobar-islands",
         "nicobars",
         "1120",
         "3072436.9081196385",
         "district"
        ],
        [
         "15",
         "2018",
         "andaman-&-nicobar-islands",
         "north and middle andaman",
         "825",
         "1317863.0834906558",
         "district"
        ],
        [
         "16",
         "2018",
         "andaman-&-nicobar-islands",
         "744101",
         "2701",
         "6310089.917084678",
         "pincode"
        ],
        [
         "17",
         "2018",
         "andaman-&-nicobar-islands",
         "744103",
         "1965",
         "4752146.698501162",
         "pincode"
        ],
        [
         "18",
         "2018",
         "andaman-&-nicobar-islands",
         "744102",
         "1525",
         "5810267.574788321",
         "pincode"
        ],
        [
         "19",
         "2018",
         "andaman-&-nicobar-islands",
         "744105",
         "997",
         "2200332.971862734",
         "pincode"
        ],
        [
         "20",
         "2018",
         "andaman-&-nicobar-islands",
         "744301",
         "767",
         "1953749.3787199224",
         "pincode"
        ],
        [
         "21",
         "2018",
         "andaman-&-nicobar-islands",
         "744104",
         "659",
         "1650346.1906506256",
         "pincode"
        ],
        [
         "22",
         "2018",
         "andaman-&-nicobar-islands",
         "744107",
         "594",
         "1601569.982144104",
         "pincode"
        ],
        [
         "23",
         "2018",
         "andaman-&-nicobar-islands",
         "744112",
         "432",
         "578829.1795229593",
         "pincode"
        ],
        [
         "24",
         "2018",
         "andaman-&-nicobar-islands",
         "744202",
         "405",
         "626523.9803147907",
         "pincode"
        ],
        [
         "25",
         "2018",
         "andaman-&-nicobar-islands",
         "744302",
         "291",
         "1026590.0735863491",
         "pincode"
        ],
        [
         "26",
         "2018",
         "andaman-&-nicobar-islands",
         "south andaman",
         "13511",
         "44268112.46425246",
         "district"
        ],
        [
         "27",
         "2018",
         "andaman-&-nicobar-islands",
         "nicobars",
         "1471",
         "6387829.151558982",
         "district"
        ],
        [
         "28",
         "2018",
         "andaman-&-nicobar-islands",
         "north and middle andaman",
         "1283",
         "4901529.518499676",
         "district"
        ],
        [
         "29",
         "2018",
         "andaman-&-nicobar-islands",
         "744101",
         "3462",
         "10833893.444488766",
         "pincode"
        ],
        [
         "30",
         "2018",
         "andaman-&-nicobar-islands",
         "744103",
         "3182",
         "10184154.358592125",
         "pincode"
        ],
        [
         "31",
         "2018",
         "andaman-&-nicobar-islands",
         "744102",
         "2224",
         "10365275.479700703",
         "pincode"
        ],
        [
         "32",
         "2018",
         "andaman-&-nicobar-islands",
         "744105",
         "1613",
         "5152534.080403434",
         "pincode"
        ],
        [
         "33",
         "2018",
         "andaman-&-nicobar-islands",
         "744104",
         "1029",
         "2588077.6866583927",
         "pincode"
        ],
        [
         "34",
         "2018",
         "andaman-&-nicobar-islands",
         "744301",
         "975",
         "4256576.349618757",
         "pincode"
        ],
        [
         "35",
         "2018",
         "andaman-&-nicobar-islands",
         "744112",
         "579",
         "1145815.7801705198",
         "pincode"
        ],
        [
         "36",
         "2018",
         "andaman-&-nicobar-islands",
         "744107",
         "547",
         "1492405.302862124",
         "pincode"
        ],
        [
         "37",
         "2018",
         "andaman-&-nicobar-islands",
         "744302",
         "417",
         "1976781.919949036",
         "pincode"
        ],
        [
         "38",
         "2018",
         "andaman-&-nicobar-islands",
         "744202",
         "341",
         "2099404.078986112",
         "pincode"
        ],
        [
         "39",
         "2018",
         "andaman-&-nicobar-islands",
         "south andaman",
         "20136",
         "75411840.8018554",
         "district"
        ],
        [
         "40",
         "2018",
         "andaman-&-nicobar-islands",
         "north and middle andaman",
         "2137",
         "7955635.917688001",
         "district"
        ],
        [
         "41",
         "2018",
         "andaman-&-nicobar-islands",
         "nicobars",
         "1485",
         "7180859.354911782",
         "district"
        ],
        [
         "42",
         "2018",
         "andaman-&-nicobar-islands",
         "744101",
         "4674",
         "16392855.280625315",
         "pincode"
        ],
        [
         "43",
         "2018",
         "andaman-&-nicobar-islands",
         "744103",
         "4576",
         "17022520.257624768",
         "pincode"
        ],
        [
         "44",
         "2018",
         "andaman-&-nicobar-islands",
         "744102",
         "3306",
         "17019977.183053624",
         "pincode"
        ],
        [
         "45",
         "2018",
         "andaman-&-nicobar-islands",
         "744105",
         "2513",
         "9935282.83215146",
         "pincode"
        ],
        [
         "46",
         "2018",
         "andaman-&-nicobar-islands",
         "744104",
         "1432",
         "6091757.917089159",
         "pincode"
        ],
        [
         "47",
         "2018",
         "andaman-&-nicobar-islands",
         "744211",
         "1225",
         "3451359.606027063",
         "pincode"
        ],
        [
         "48",
         "2018",
         "andaman-&-nicobar-islands",
         "744301",
         "928",
         "4606293.657525641",
         "pincode"
        ],
        [
         "49",
         "2018",
         "andaman-&-nicobar-islands",
         "744112",
         "759",
         "2208675.0435713646",
         "pincode"
        ]
       ],
       "shape": {
        "columns": 6,
        "rows": 18295
       }
      },
      "text/html": [
       "<div>\n",
       "<style scoped>\n",
       "    .dataframe tbody tr th:only-of-type {\n",
       "        vertical-align: middle;\n",
       "    }\n",
       "\n",
       "    .dataframe tbody tr th {\n",
       "        vertical-align: top;\n",
       "    }\n",
       "\n",
       "    .dataframe thead th {\n",
       "        text-align: right;\n",
       "    }\n",
       "</style>\n",
       "<table border=\"1\" class=\"dataframe\">\n",
       "  <thead>\n",
       "    <tr style=\"text-align: right;\">\n",
       "      <th></th>\n",
       "      <th>year</th>\n",
       "      <th>state</th>\n",
       "      <th>entity</th>\n",
       "      <th>count</th>\n",
       "      <th>amount</th>\n",
       "      <th>level</th>\n",
       "    </tr>\n",
       "  </thead>\n",
       "  <tbody>\n",
       "    <tr>\n",
       "      <th>0</th>\n",
       "      <td>2018</td>\n",
       "      <td>andaman-&amp;-nicobar-islands</td>\n",
       "      <td>south andaman</td>\n",
       "      <td>5688</td>\n",
       "      <td>1.256025e+07</td>\n",
       "      <td>district</td>\n",
       "    </tr>\n",
       "    <tr>\n",
       "      <th>1</th>\n",
       "      <td>2018</td>\n",
       "      <td>andaman-&amp;-nicobar-islands</td>\n",
       "      <td>nicobars</td>\n",
       "      <td>528</td>\n",
       "      <td>1.139849e+06</td>\n",
       "      <td>district</td>\n",
       "    </tr>\n",
       "    <tr>\n",
       "      <th>2</th>\n",
       "      <td>2018</td>\n",
       "      <td>andaman-&amp;-nicobar-islands</td>\n",
       "      <td>north and middle andaman</td>\n",
       "      <td>442</td>\n",
       "      <td>9.316631e+05</td>\n",
       "      <td>district</td>\n",
       "    </tr>\n",
       "    <tr>\n",
       "      <th>3</th>\n",
       "      <td>2018</td>\n",
       "      <td>andaman-&amp;-nicobar-islands</td>\n",
       "      <td>744101</td>\n",
       "      <td>1622</td>\n",
       "      <td>2.769298e+06</td>\n",
       "      <td>pincode</td>\n",
       "    </tr>\n",
       "    <tr>\n",
       "      <th>4</th>\n",
       "      <td>2018</td>\n",
       "      <td>andaman-&amp;-nicobar-islands</td>\n",
       "      <td>744103</td>\n",
       "      <td>1223</td>\n",
       "      <td>2.238042e+06</td>\n",
       "      <td>pincode</td>\n",
       "    </tr>\n",
       "    <tr>\n",
       "      <th>...</th>\n",
       "      <td>...</td>\n",
       "      <td>...</td>\n",
       "      <td>...</td>\n",
       "      <td>...</td>\n",
       "      <td>...</td>\n",
       "      <td>...</td>\n",
       "    </tr>\n",
       "    <tr>\n",
       "      <th>18290</th>\n",
       "      <td>2024</td>\n",
       "      <td>west-bengal</td>\n",
       "      <td>711101</td>\n",
       "      <td>6753348</td>\n",
       "      <td>1.049483e+10</td>\n",
       "      <td>pincode</td>\n",
       "    </tr>\n",
       "    <tr>\n",
       "      <th>18291</th>\n",
       "      <td>2024</td>\n",
       "      <td>west-bengal</td>\n",
       "      <td>700059</td>\n",
       "      <td>6662715</td>\n",
       "      <td>8.009476e+09</td>\n",
       "      <td>pincode</td>\n",
       "    </tr>\n",
       "    <tr>\n",
       "      <th>18292</th>\n",
       "      <td>2024</td>\n",
       "      <td>west-bengal</td>\n",
       "      <td>700039</td>\n",
       "      <td>6575693</td>\n",
       "      <td>9.018748e+09</td>\n",
       "      <td>pincode</td>\n",
       "    </tr>\n",
       "    <tr>\n",
       "      <th>18293</th>\n",
       "      <td>2024</td>\n",
       "      <td>west-bengal</td>\n",
       "      <td>734001</td>\n",
       "      <td>6432082</td>\n",
       "      <td>8.996529e+09</td>\n",
       "      <td>pincode</td>\n",
       "    </tr>\n",
       "    <tr>\n",
       "      <th>18294</th>\n",
       "      <td>2024</td>\n",
       "      <td>west-bengal</td>\n",
       "      <td>733134</td>\n",
       "      <td>6313560</td>\n",
       "      <td>1.050259e+10</td>\n",
       "      <td>pincode</td>\n",
       "    </tr>\n",
       "  </tbody>\n",
       "</table>\n",
       "<p>18295 rows × 6 columns</p>\n",
       "</div>"
      ],
      "text/plain": [
       "       year                      state                    entity    count  \\\n",
       "0      2018  andaman-&-nicobar-islands             south andaman     5688   \n",
       "1      2018  andaman-&-nicobar-islands                  nicobars      528   \n",
       "2      2018  andaman-&-nicobar-islands  north and middle andaman      442   \n",
       "3      2018  andaman-&-nicobar-islands                    744101     1622   \n",
       "4      2018  andaman-&-nicobar-islands                    744103     1223   \n",
       "...     ...                        ...                       ...      ...   \n",
       "18290  2024                west-bengal                    711101  6753348   \n",
       "18291  2024                west-bengal                    700059  6662715   \n",
       "18292  2024                west-bengal                    700039  6575693   \n",
       "18293  2024                west-bengal                    734001  6432082   \n",
       "18294  2024                west-bengal                    733134  6313560   \n",
       "\n",
       "             amount     level  \n",
       "0      1.256025e+07  district  \n",
       "1      1.139849e+06  district  \n",
       "2      9.316631e+05  district  \n",
       "3      2.769298e+06   pincode  \n",
       "4      2.238042e+06   pincode  \n",
       "...             ...       ...  \n",
       "18290  1.049483e+10   pincode  \n",
       "18291  8.009476e+09   pincode  \n",
       "18292  9.018748e+09   pincode  \n",
       "18293  8.996529e+09   pincode  \n",
       "18294  1.050259e+10   pincode  \n",
       "\n",
       "[18295 rows x 6 columns]"
      ]
     },
     "execution_count": 38,
     "metadata": {},
     "output_type": "execute_result"
    }
   ],
   "source": [
    "df6 = pd.read_csv(\"dataset/transaction/top_transaction_state.csv\")\n",
    "df6"
   ]
  },
  {
   "cell_type": "markdown",
   "id": "622fa6f3",
   "metadata": {},
   "source": [
    "### **Dataset Info**"
   ]
  },
  {
   "cell_type": "code",
   "execution_count": 39,
   "id": "255c15a3",
   "metadata": {},
   "outputs": [
    {
     "name": "stdout",
     "output_type": "stream",
     "text": [
      "<class 'pandas.core.frame.DataFrame'>\n",
      "RangeIndex: 18295 entries, 0 to 18294\n",
      "Data columns (total 6 columns):\n",
      " #   Column  Non-Null Count  Dtype  \n",
      "---  ------  --------------  -----  \n",
      " 0   year    18295 non-null  int64  \n",
      " 1   state   18295 non-null  object \n",
      " 2   entity  18293 non-null  object \n",
      " 3   count   18295 non-null  int64  \n",
      " 4   amount  18295 non-null  float64\n",
      " 5   level   18295 non-null  object \n",
      "dtypes: float64(1), int64(2), object(3)\n",
      "memory usage: 857.7+ KB\n"
     ]
    }
   ],
   "source": [
    "df6.info()"
   ]
  },
  {
   "cell_type": "markdown",
   "id": "67eb1aaa",
   "metadata": {},
   "source": [
    "### **Dataset Describe**"
   ]
  },
  {
   "cell_type": "code",
   "execution_count": 40,
   "id": "c28afd5b",
   "metadata": {},
   "outputs": [
    {
     "data": {
      "application/vnd.microsoft.datawrangler.viewer.v0+json": {
       "columns": [
        {
         "name": "index",
         "rawType": "object",
         "type": "string"
        },
        {
         "name": "year",
         "rawType": "float64",
         "type": "float"
        },
        {
         "name": "count",
         "rawType": "float64",
         "type": "float"
        },
        {
         "name": "amount",
         "rawType": "float64",
         "type": "float"
        }
       ],
       "ref": "1075891e-8e0c-43f7-ae75-b9d28cffc689",
       "rows": [
        [
         "count",
         "18295.0",
         "18295.0",
         "18295.0"
        ],
        [
         "mean",
         "2021.0021317299809",
         "11974673.95332058",
         "16904436726.945272"
        ],
        [
         "std",
         "2.00080497715418",
         "49620897.90892498",
         "62770092945.70774"
        ],
        [
         "min",
         "2018.0",
         "2.0",
         "60.25276276346384"
        ],
        [
         "25%",
         "2019.0",
         "122221.5",
         "237268358.82132864"
        ],
        [
         "50%",
         "2021.0",
         "984522.0",
         "1538456707.4950671"
        ],
        [
         "75%",
         "2023.0",
         "6708908.5",
         "10330932577.65662"
        ],
        [
         "max",
         "2024.0",
         "1674347983.0",
         "1790144192589.0"
        ]
       ],
       "shape": {
        "columns": 3,
        "rows": 8
       }
      },
      "text/html": [
       "<div>\n",
       "<style scoped>\n",
       "    .dataframe tbody tr th:only-of-type {\n",
       "        vertical-align: middle;\n",
       "    }\n",
       "\n",
       "    .dataframe tbody tr th {\n",
       "        vertical-align: top;\n",
       "    }\n",
       "\n",
       "    .dataframe thead th {\n",
       "        text-align: right;\n",
       "    }\n",
       "</style>\n",
       "<table border=\"1\" class=\"dataframe\">\n",
       "  <thead>\n",
       "    <tr style=\"text-align: right;\">\n",
       "      <th></th>\n",
       "      <th>year</th>\n",
       "      <th>count</th>\n",
       "      <th>amount</th>\n",
       "    </tr>\n",
       "  </thead>\n",
       "  <tbody>\n",
       "    <tr>\n",
       "      <th>count</th>\n",
       "      <td>18295.000000</td>\n",
       "      <td>1.829500e+04</td>\n",
       "      <td>1.829500e+04</td>\n",
       "    </tr>\n",
       "    <tr>\n",
       "      <th>mean</th>\n",
       "      <td>2021.002132</td>\n",
       "      <td>1.197467e+07</td>\n",
       "      <td>1.690444e+10</td>\n",
       "    </tr>\n",
       "    <tr>\n",
       "      <th>std</th>\n",
       "      <td>2.000805</td>\n",
       "      <td>4.962090e+07</td>\n",
       "      <td>6.277009e+10</td>\n",
       "    </tr>\n",
       "    <tr>\n",
       "      <th>min</th>\n",
       "      <td>2018.000000</td>\n",
       "      <td>2.000000e+00</td>\n",
       "      <td>6.025276e+01</td>\n",
       "    </tr>\n",
       "    <tr>\n",
       "      <th>25%</th>\n",
       "      <td>2019.000000</td>\n",
       "      <td>1.222215e+05</td>\n",
       "      <td>2.372684e+08</td>\n",
       "    </tr>\n",
       "    <tr>\n",
       "      <th>50%</th>\n",
       "      <td>2021.000000</td>\n",
       "      <td>9.845220e+05</td>\n",
       "      <td>1.538457e+09</td>\n",
       "    </tr>\n",
       "    <tr>\n",
       "      <th>75%</th>\n",
       "      <td>2023.000000</td>\n",
       "      <td>6.708908e+06</td>\n",
       "      <td>1.033093e+10</td>\n",
       "    </tr>\n",
       "    <tr>\n",
       "      <th>max</th>\n",
       "      <td>2024.000000</td>\n",
       "      <td>1.674348e+09</td>\n",
       "      <td>1.790144e+12</td>\n",
       "    </tr>\n",
       "  </tbody>\n",
       "</table>\n",
       "</div>"
      ],
      "text/plain": [
       "               year         count        amount\n",
       "count  18295.000000  1.829500e+04  1.829500e+04\n",
       "mean    2021.002132  1.197467e+07  1.690444e+10\n",
       "std        2.000805  4.962090e+07  6.277009e+10\n",
       "min     2018.000000  2.000000e+00  6.025276e+01\n",
       "25%     2019.000000  1.222215e+05  2.372684e+08\n",
       "50%     2021.000000  9.845220e+05  1.538457e+09\n",
       "75%     2023.000000  6.708908e+06  1.033093e+10\n",
       "max     2024.000000  1.674348e+09  1.790144e+12"
      ]
     },
     "execution_count": 40,
     "metadata": {},
     "output_type": "execute_result"
    }
   ],
   "source": [
    "df6.describe()"
   ]
  }
 ],
 "metadata": {
  "kernelspec": {
   "display_name": "Python 3",
   "language": "python",
   "name": "python3"
  },
  "language_info": {
   "codemirror_mode": {
    "name": "ipython",
    "version": 3
   },
   "file_extension": ".py",
   "mimetype": "text/x-python",
   "name": "python",
   "nbconvert_exporter": "python",
   "pygments_lexer": "ipython3",
   "version": "3.10.11"
  }
 },
 "nbformat": 4,
 "nbformat_minor": 5
}
