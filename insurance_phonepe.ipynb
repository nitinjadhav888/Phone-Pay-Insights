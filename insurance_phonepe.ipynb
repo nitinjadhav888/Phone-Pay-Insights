{
 "cells": [
  {
   "cell_type": "markdown",
   "id": "164d5f6b",
   "metadata": {},
   "source": [
    "# **Insurance Data PhonePe**"
   ]
  },
  {
   "cell_type": "markdown",
   "id": "0eb5c22f",
   "metadata": {},
   "source": [
    "# **Libraries Used**"
   ]
  },
  {
   "cell_type": "code",
   "execution_count": 1,
   "id": "dafa74af",
   "metadata": {},
   "outputs": [],
   "source": [
    "import pandas as pd\n",
    "import matplotlib.pyplot as plt\n",
    "import seaborn as sns"
   ]
  },
  {
   "cell_type": "markdown",
   "id": "599fec0d",
   "metadata": {},
   "source": [
    "# **Aggregated**"
   ]
  },
  {
   "cell_type": "markdown",
   "id": "b122e318",
   "metadata": {},
   "source": [
    "## **Country**"
   ]
  },
  {
   "cell_type": "markdown",
   "id": "2cf758ee",
   "metadata": {},
   "source": [
    "### **Load CSV**"
   ]
  },
  {
   "cell_type": "code",
   "execution_count": 2,
   "id": "f3a3456d",
   "metadata": {},
   "outputs": [
    {
     "data": {
      "application/vnd.microsoft.datawrangler.viewer.v0+json": {
       "columns": [
        {
         "name": "index",
         "rawType": "int64",
         "type": "integer"
        },
        {
         "name": "from_date",
         "rawType": "object",
         "type": "string"
        },
        {
         "name": "to_date",
         "rawType": "object",
         "type": "string"
        },
        {
         "name": "count",
         "rawType": "int64",
         "type": "integer"
        },
        {
         "name": "amount",
         "rawType": "float64",
         "type": "float"
        }
       ],
       "ref": "4bd4c2a6-45d0-459d-8390-bd8dedbfeb94",
       "rows": [
        [
         "0",
         "2020-04-01",
         "2020-06-28",
         "185348",
         "33732166.0"
        ],
        [
         "1",
         "2020-07-01",
         "2020-09-28",
         "354284",
         "89495076.0"
        ],
        [
         "2",
         "2020-10-01",
         "2020-12-28",
         "248626",
         "170979933.0"
        ],
        [
         "3",
         "2021-01-01",
         "2021-03-28",
         "318119",
         "206307024.0"
        ],
        [
         "4",
         "2021-04-01",
         "2021-06-28",
         "363989",
         "295066678.0"
        ],
        [
         "5",
         "2021-07-01",
         "2021-09-28",
         "374867",
         "342403352.0"
        ],
        [
         "6",
         "2021-10-01",
         "2021-12-28",
         "526327",
         "655431877.0"
        ],
        [
         "7",
         "2022-01-01",
         "2022-03-28",
         "617606",
         "887447241.0"
        ],
        [
         "8",
         "2022-04-01",
         "2022-06-28",
         "630758",
         "857034846.0"
        ],
        [
         "9",
         "2022-07-01",
         "2022-09-28",
         "806491",
         "1054717869.0"
        ],
        [
         "10",
         "2022-10-01",
         "2022-12-28",
         "1035364",
         "1439762739.0"
        ],
        [
         "11",
         "2023-01-01",
         "2023-03-28",
         "923173",
         "1408801224.0"
        ],
        [
         "12",
         "2023-04-01",
         "2023-06-28",
         "893850",
         "1347399873.0"
        ],
        [
         "13",
         "2023-07-01",
         "2023-09-28",
         "1010211",
         "1445234680.0"
        ],
        [
         "14",
         "2023-10-01",
         "2023-12-28",
         "1159063",
         "1855299766.0"
        ],
        [
         "15",
         "2024-01-01",
         "2024-03-28",
         "1273789",
         "1931955654.0"
        ],
        [
         "16",
         "2024-04-01",
         "2024-06-28",
         "1105041",
         "1759627894.0"
        ],
        [
         "17",
         "2024-07-01",
         "2024-09-28",
         "1213629",
         "1941265641.0"
        ],
        [
         "18",
         "2024-10-01",
         "2024-12-28",
         "1475429",
         "2293956286.0"
        ]
       ],
       "shape": {
        "columns": 4,
        "rows": 19
       }
      },
      "text/html": [
       "<div>\n",
       "<style scoped>\n",
       "    .dataframe tbody tr th:only-of-type {\n",
       "        vertical-align: middle;\n",
       "    }\n",
       "\n",
       "    .dataframe tbody tr th {\n",
       "        vertical-align: top;\n",
       "    }\n",
       "\n",
       "    .dataframe thead th {\n",
       "        text-align: right;\n",
       "    }\n",
       "</style>\n",
       "<table border=\"1\" class=\"dataframe\">\n",
       "  <thead>\n",
       "    <tr style=\"text-align: right;\">\n",
       "      <th></th>\n",
       "      <th>from_date</th>\n",
       "      <th>to_date</th>\n",
       "      <th>count</th>\n",
       "      <th>amount</th>\n",
       "    </tr>\n",
       "  </thead>\n",
       "  <tbody>\n",
       "    <tr>\n",
       "      <th>0</th>\n",
       "      <td>2020-04-01</td>\n",
       "      <td>2020-06-28</td>\n",
       "      <td>185348</td>\n",
       "      <td>3.373217e+07</td>\n",
       "    </tr>\n",
       "    <tr>\n",
       "      <th>1</th>\n",
       "      <td>2020-07-01</td>\n",
       "      <td>2020-09-28</td>\n",
       "      <td>354284</td>\n",
       "      <td>8.949508e+07</td>\n",
       "    </tr>\n",
       "    <tr>\n",
       "      <th>2</th>\n",
       "      <td>2020-10-01</td>\n",
       "      <td>2020-12-28</td>\n",
       "      <td>248626</td>\n",
       "      <td>1.709799e+08</td>\n",
       "    </tr>\n",
       "    <tr>\n",
       "      <th>3</th>\n",
       "      <td>2021-01-01</td>\n",
       "      <td>2021-03-28</td>\n",
       "      <td>318119</td>\n",
       "      <td>2.063070e+08</td>\n",
       "    </tr>\n",
       "    <tr>\n",
       "      <th>4</th>\n",
       "      <td>2021-04-01</td>\n",
       "      <td>2021-06-28</td>\n",
       "      <td>363989</td>\n",
       "      <td>2.950667e+08</td>\n",
       "    </tr>\n",
       "    <tr>\n",
       "      <th>5</th>\n",
       "      <td>2021-07-01</td>\n",
       "      <td>2021-09-28</td>\n",
       "      <td>374867</td>\n",
       "      <td>3.424034e+08</td>\n",
       "    </tr>\n",
       "    <tr>\n",
       "      <th>6</th>\n",
       "      <td>2021-10-01</td>\n",
       "      <td>2021-12-28</td>\n",
       "      <td>526327</td>\n",
       "      <td>6.554319e+08</td>\n",
       "    </tr>\n",
       "    <tr>\n",
       "      <th>7</th>\n",
       "      <td>2022-01-01</td>\n",
       "      <td>2022-03-28</td>\n",
       "      <td>617606</td>\n",
       "      <td>8.874472e+08</td>\n",
       "    </tr>\n",
       "    <tr>\n",
       "      <th>8</th>\n",
       "      <td>2022-04-01</td>\n",
       "      <td>2022-06-28</td>\n",
       "      <td>630758</td>\n",
       "      <td>8.570348e+08</td>\n",
       "    </tr>\n",
       "    <tr>\n",
       "      <th>9</th>\n",
       "      <td>2022-07-01</td>\n",
       "      <td>2022-09-28</td>\n",
       "      <td>806491</td>\n",
       "      <td>1.054718e+09</td>\n",
       "    </tr>\n",
       "    <tr>\n",
       "      <th>10</th>\n",
       "      <td>2022-10-01</td>\n",
       "      <td>2022-12-28</td>\n",
       "      <td>1035364</td>\n",
       "      <td>1.439763e+09</td>\n",
       "    </tr>\n",
       "    <tr>\n",
       "      <th>11</th>\n",
       "      <td>2023-01-01</td>\n",
       "      <td>2023-03-28</td>\n",
       "      <td>923173</td>\n",
       "      <td>1.408801e+09</td>\n",
       "    </tr>\n",
       "    <tr>\n",
       "      <th>12</th>\n",
       "      <td>2023-04-01</td>\n",
       "      <td>2023-06-28</td>\n",
       "      <td>893850</td>\n",
       "      <td>1.347400e+09</td>\n",
       "    </tr>\n",
       "    <tr>\n",
       "      <th>13</th>\n",
       "      <td>2023-07-01</td>\n",
       "      <td>2023-09-28</td>\n",
       "      <td>1010211</td>\n",
       "      <td>1.445235e+09</td>\n",
       "    </tr>\n",
       "    <tr>\n",
       "      <th>14</th>\n",
       "      <td>2023-10-01</td>\n",
       "      <td>2023-12-28</td>\n",
       "      <td>1159063</td>\n",
       "      <td>1.855300e+09</td>\n",
       "    </tr>\n",
       "    <tr>\n",
       "      <th>15</th>\n",
       "      <td>2024-01-01</td>\n",
       "      <td>2024-03-28</td>\n",
       "      <td>1273789</td>\n",
       "      <td>1.931956e+09</td>\n",
       "    </tr>\n",
       "    <tr>\n",
       "      <th>16</th>\n",
       "      <td>2024-04-01</td>\n",
       "      <td>2024-06-28</td>\n",
       "      <td>1105041</td>\n",
       "      <td>1.759628e+09</td>\n",
       "    </tr>\n",
       "    <tr>\n",
       "      <th>17</th>\n",
       "      <td>2024-07-01</td>\n",
       "      <td>2024-09-28</td>\n",
       "      <td>1213629</td>\n",
       "      <td>1.941266e+09</td>\n",
       "    </tr>\n",
       "    <tr>\n",
       "      <th>18</th>\n",
       "      <td>2024-10-01</td>\n",
       "      <td>2024-12-28</td>\n",
       "      <td>1475429</td>\n",
       "      <td>2.293956e+09</td>\n",
       "    </tr>\n",
       "  </tbody>\n",
       "</table>\n",
       "</div>"
      ],
      "text/plain": [
       "     from_date     to_date    count        amount\n",
       "0   2020-04-01  2020-06-28   185348  3.373217e+07\n",
       "1   2020-07-01  2020-09-28   354284  8.949508e+07\n",
       "2   2020-10-01  2020-12-28   248626  1.709799e+08\n",
       "3   2021-01-01  2021-03-28   318119  2.063070e+08\n",
       "4   2021-04-01  2021-06-28   363989  2.950667e+08\n",
       "5   2021-07-01  2021-09-28   374867  3.424034e+08\n",
       "6   2021-10-01  2021-12-28   526327  6.554319e+08\n",
       "7   2022-01-01  2022-03-28   617606  8.874472e+08\n",
       "8   2022-04-01  2022-06-28   630758  8.570348e+08\n",
       "9   2022-07-01  2022-09-28   806491  1.054718e+09\n",
       "10  2022-10-01  2022-12-28  1035364  1.439763e+09\n",
       "11  2023-01-01  2023-03-28   923173  1.408801e+09\n",
       "12  2023-04-01  2023-06-28   893850  1.347400e+09\n",
       "13  2023-07-01  2023-09-28  1010211  1.445235e+09\n",
       "14  2023-10-01  2023-12-28  1159063  1.855300e+09\n",
       "15  2024-01-01  2024-03-28  1273789  1.931956e+09\n",
       "16  2024-04-01  2024-06-28  1105041  1.759628e+09\n",
       "17  2024-07-01  2024-09-28  1213629  1.941266e+09\n",
       "18  2024-10-01  2024-12-28  1475429  2.293956e+09"
      ]
     },
     "execution_count": 2,
     "metadata": {},
     "output_type": "execute_result"
    }
   ],
   "source": [
    "df1 = pd.read_csv(\"dataset/insurance/aggregated_insurance_country.csv\")\n",
    "df1"
   ]
  },
  {
   "cell_type": "markdown",
   "id": "fc92a741",
   "metadata": {},
   "source": [
    "### **Dataset Info**"
   ]
  },
  {
   "cell_type": "code",
   "execution_count": 3,
   "id": "e506e6b1",
   "metadata": {},
   "outputs": [
    {
     "name": "stdout",
     "output_type": "stream",
     "text": [
      "<class 'pandas.core.frame.DataFrame'>\n",
      "RangeIndex: 19 entries, 0 to 18\n",
      "Data columns (total 4 columns):\n",
      " #   Column     Non-Null Count  Dtype  \n",
      "---  ------     --------------  -----  \n",
      " 0   from_date  19 non-null     object \n",
      " 1   to_date    19 non-null     object \n",
      " 2   count      19 non-null     int64  \n",
      " 3   amount     19 non-null     float64\n",
      "dtypes: float64(1), int64(1), object(2)\n",
      "memory usage: 736.0+ bytes\n"
     ]
    }
   ],
   "source": [
    "df1.info()"
   ]
  },
  {
   "cell_type": "markdown",
   "id": "68a7e31c",
   "metadata": {},
   "source": [
    "* Type Conversion needed for from_date & to_date"
   ]
  },
  {
   "cell_type": "code",
   "execution_count": 4,
   "id": "35f22ebb",
   "metadata": {},
   "outputs": [],
   "source": [
    "df1['from_date'] = pd.to_datetime(df1['from_date'])\n",
    "df1['to_date'] = pd.to_datetime(df1['to_date'])"
   ]
  },
  {
   "cell_type": "markdown",
   "id": "f2f06063",
   "metadata": {},
   "source": [
    "### **Dataset Describe**"
   ]
  },
  {
   "cell_type": "code",
   "execution_count": 5,
   "id": "ebc86c06",
   "metadata": {},
   "outputs": [
    {
     "data": {
      "application/vnd.microsoft.datawrangler.viewer.v0+json": {
       "columns": [
        {
         "name": "index",
         "rawType": "object",
         "type": "string"
        },
        {
         "name": "from_date",
         "rawType": "object",
         "type": "unknown"
        },
        {
         "name": "to_date",
         "rawType": "object",
         "type": "unknown"
        },
        {
         "name": "count",
         "rawType": "float64",
         "type": "float"
        },
        {
         "name": "amount",
         "rawType": "float64",
         "type": "float"
        }
       ],
       "ref": "235785d7-9d58-4ab4-8455-127dd0933766",
       "rows": [
        [
         "count",
         "19",
         "19",
         "19.0",
         "19.0"
        ],
        [
         "mean",
         "2022-07-01 17:41:03.157894656",
         "2022-09-27 15:09:28.421052672",
         "763998.1052631579",
         "1053469464.1578947"
        ],
        [
         "min",
         "2020-04-01 00:00:00",
         "2020-06-28 00:00:00",
         "185348.0",
         "33732166.0"
        ],
        [
         "25%",
         "2021-05-16 12:00:00",
         "2021-08-13 00:00:00",
         "369428.0",
         "318735015.0"
        ],
        [
         "50%",
         "2022-07-01 00:00:00",
         "2022-09-28 00:00:00",
         "806491.0",
         "1054717869.0"
        ],
        [
         "75%",
         "2023-08-16 00:00:00",
         "2023-11-12 12:00:00",
         "1070202.5",
         "1602431287.0"
        ],
        [
         "max",
         "2024-10-01 00:00:00",
         "2024-12-28 00:00:00",
         "1475429.0",
         "2293956286.0"
        ],
        [
         "std",
         null,
         null,
         "393916.14975269587",
         "727500872.3455842"
        ]
       ],
       "shape": {
        "columns": 4,
        "rows": 8
       }
      },
      "text/html": [
       "<div>\n",
       "<style scoped>\n",
       "    .dataframe tbody tr th:only-of-type {\n",
       "        vertical-align: middle;\n",
       "    }\n",
       "\n",
       "    .dataframe tbody tr th {\n",
       "        vertical-align: top;\n",
       "    }\n",
       "\n",
       "    .dataframe thead th {\n",
       "        text-align: right;\n",
       "    }\n",
       "</style>\n",
       "<table border=\"1\" class=\"dataframe\">\n",
       "  <thead>\n",
       "    <tr style=\"text-align: right;\">\n",
       "      <th></th>\n",
       "      <th>from_date</th>\n",
       "      <th>to_date</th>\n",
       "      <th>count</th>\n",
       "      <th>amount</th>\n",
       "    </tr>\n",
       "  </thead>\n",
       "  <tbody>\n",
       "    <tr>\n",
       "      <th>count</th>\n",
       "      <td>19</td>\n",
       "      <td>19</td>\n",
       "      <td>1.900000e+01</td>\n",
       "      <td>1.900000e+01</td>\n",
       "    </tr>\n",
       "    <tr>\n",
       "      <th>mean</th>\n",
       "      <td>2022-07-01 17:41:03.157894656</td>\n",
       "      <td>2022-09-27 15:09:28.421052672</td>\n",
       "      <td>7.639981e+05</td>\n",
       "      <td>1.053469e+09</td>\n",
       "    </tr>\n",
       "    <tr>\n",
       "      <th>min</th>\n",
       "      <td>2020-04-01 00:00:00</td>\n",
       "      <td>2020-06-28 00:00:00</td>\n",
       "      <td>1.853480e+05</td>\n",
       "      <td>3.373217e+07</td>\n",
       "    </tr>\n",
       "    <tr>\n",
       "      <th>25%</th>\n",
       "      <td>2021-05-16 12:00:00</td>\n",
       "      <td>2021-08-13 00:00:00</td>\n",
       "      <td>3.694280e+05</td>\n",
       "      <td>3.187350e+08</td>\n",
       "    </tr>\n",
       "    <tr>\n",
       "      <th>50%</th>\n",
       "      <td>2022-07-01 00:00:00</td>\n",
       "      <td>2022-09-28 00:00:00</td>\n",
       "      <td>8.064910e+05</td>\n",
       "      <td>1.054718e+09</td>\n",
       "    </tr>\n",
       "    <tr>\n",
       "      <th>75%</th>\n",
       "      <td>2023-08-16 00:00:00</td>\n",
       "      <td>2023-11-12 12:00:00</td>\n",
       "      <td>1.070202e+06</td>\n",
       "      <td>1.602431e+09</td>\n",
       "    </tr>\n",
       "    <tr>\n",
       "      <th>max</th>\n",
       "      <td>2024-10-01 00:00:00</td>\n",
       "      <td>2024-12-28 00:00:00</td>\n",
       "      <td>1.475429e+06</td>\n",
       "      <td>2.293956e+09</td>\n",
       "    </tr>\n",
       "    <tr>\n",
       "      <th>std</th>\n",
       "      <td>NaN</td>\n",
       "      <td>NaN</td>\n",
       "      <td>3.939161e+05</td>\n",
       "      <td>7.275009e+08</td>\n",
       "    </tr>\n",
       "  </tbody>\n",
       "</table>\n",
       "</div>"
      ],
      "text/plain": [
       "                           from_date                        to_date  \\\n",
       "count                             19                             19   \n",
       "mean   2022-07-01 17:41:03.157894656  2022-09-27 15:09:28.421052672   \n",
       "min              2020-04-01 00:00:00            2020-06-28 00:00:00   \n",
       "25%              2021-05-16 12:00:00            2021-08-13 00:00:00   \n",
       "50%              2022-07-01 00:00:00            2022-09-28 00:00:00   \n",
       "75%              2023-08-16 00:00:00            2023-11-12 12:00:00   \n",
       "max              2024-10-01 00:00:00            2024-12-28 00:00:00   \n",
       "std                              NaN                            NaN   \n",
       "\n",
       "              count        amount  \n",
       "count  1.900000e+01  1.900000e+01  \n",
       "mean   7.639981e+05  1.053469e+09  \n",
       "min    1.853480e+05  3.373217e+07  \n",
       "25%    3.694280e+05  3.187350e+08  \n",
       "50%    8.064910e+05  1.054718e+09  \n",
       "75%    1.070202e+06  1.602431e+09  \n",
       "max    1.475429e+06  2.293956e+09  \n",
       "std    3.939161e+05  7.275009e+08  "
      ]
     },
     "execution_count": 5,
     "metadata": {},
     "output_type": "execute_result"
    }
   ],
   "source": [
    "df1.describe()"
   ]
  },
  {
   "cell_type": "code",
   "execution_count": 6,
   "id": "1a915a77",
   "metadata": {},
   "outputs": [
    {
     "name": "stdout",
     "output_type": "stream",
     "text": [
      "Total Amounts: 20015919819.0\n",
      "Total Counts: 14515964\n",
      "Amounts per Counts: 1378.890152868938\n"
     ]
    }
   ],
   "source": [
    "print(f\"Total Amounts: {df1['amount'].sum()}\")\n",
    "print(f\"Total Counts: {df1['count'].sum()}\")\n",
    "print(f\"Amounts per Counts: {df1['amount'].sum()/df1['count'].sum()}\")"
   ]
  },
  {
   "cell_type": "markdown",
   "id": "fe962f57",
   "metadata": {},
   "source": [
    "### **Plots**"
   ]
  },
  {
   "cell_type": "code",
   "execution_count": 7,
   "id": "cb0bb815",
   "metadata": {},
   "outputs": [
    {
     "data": {
      "image/png": "[encoded data removed]",
      "text/plain": [
       "<Figure size 1000x500 with 1 Axes>"
      ]
     },
     "metadata": {},
     "output_type": "display_data"
    }
   ],
   "source": [
    "# Time Series\n",
    "plt.figure(figsize=(10,5))\n",
    "plt.plot(df1['from_date'], df1['amount'], marker='o')\n",
    "plt.title(\"Amount over time\")\n",
    "plt.xlabel(\"From Date\")\n",
    "plt.ylabel(\"Amount\")\n",
    "plt.grid()\n",
    "plt.show()"
   ]
  },
  {
   "cell_type": "markdown",
   "id": "32f38f42",
   "metadata": {},
   "source": [
    "* This time series graph displays the aggregated transaction amounts reported quarterly over the period from 2020 to 2024. \n",
    "* The plot highlights a consistent upward trend, suggesting strong growth in these financial transactions. "
   ]
  },
  {
   "cell_type": "code",
   "execution_count": 8,
   "id": "2d5a18c5",
   "metadata": {},
   "outputs": [
    {
     "data": {
      "application/vnd.microsoft.datawrangler.viewer.v0+json": {
       "columns": [
        {
         "name": "index",
         "rawType": "int64",
         "type": "integer"
        },
        {
         "name": "from_date",
         "rawType": "datetime64[ns]",
         "type": "datetime"
        },
        {
         "name": "average_transaction_amount",
         "rawType": "float64",
         "type": "float"
        }
       ],
       "ref": "6cfc176b-ade1-4f4d-8d2e-883f955fee5c",
       "rows": [
        [
         "0",
         "2020-04-01 00:00:00",
         "181.99368754990613"
        ],
        [
         "1",
         "2020-07-01 00:00:00",
         "252.60829165302414"
        ],
        [
         "2",
         "2020-10-01 00:00:00",
         "687.6993275039617"
        ],
        [
         "3",
         "2021-01-01 00:00:00",
         "648.5215406813173"
        ],
        [
         "4",
         "2021-04-01 00:00:00",
         "810.6472393396504"
        ],
        [
         "5",
         "2021-07-01 00:00:00",
         "913.3995577098011"
        ],
        [
         "6",
         "2021-10-01 00:00:00",
         "1245.2940415369153"
        ],
        [
         "7",
         "2022-01-01 00:00:00",
         "1436.9148631975725"
        ],
        [
         "8",
         "2022-04-01 00:00:00",
         "1358.7379724078014"
        ],
        [
         "9",
         "2022-07-01 00:00:00",
         "1307.7862852778271"
        ],
        [
         "10",
         "2022-10-01 00:00:00",
         "1390.5860537936417"
        ],
        [
         "11",
         "2023-01-01 00:00:00",
         "1526.0424904107897"
        ],
        [
         "12",
         "2023-04-01 00:00:00",
         "1507.4116160429603"
        ],
        [
         "13",
         "2023-07-01 00:00:00",
         "1430.6265522747228"
        ],
        [
         "14",
         "2023-10-01 00:00:00",
         "1600.6893205977588"
        ],
        [
         "15",
         "2024-01-01 00:00:00",
         "1516.699903987238"
        ],
        [
         "16",
         "2024-04-01 00:00:00",
         "1592.3643502820257"
        ],
        [
         "17",
         "2024-07-01 00:00:00",
         "1599.5544280830468"
        ],
        [
         "18",
         "2024-10-01 00:00:00",
         "1554.7723990785053"
        ]
       ],
       "shape": {
        "columns": 2,
        "rows": 19
       }
      },
      "text/html": [
       "<div>\n",
       "<style scoped>\n",
       "    .dataframe tbody tr th:only-of-type {\n",
       "        vertical-align: middle;\n",
       "    }\n",
       "\n",
       "    .dataframe tbody tr th {\n",
       "        vertical-align: top;\n",
       "    }\n",
       "\n",
       "    .dataframe thead th {\n",
       "        text-align: right;\n",
       "    }\n",
       "</style>\n",
       "<table border=\"1\" class=\"dataframe\">\n",
       "  <thead>\n",
       "    <tr style=\"text-align: right;\">\n",
       "      <th></th>\n",
       "      <th>from_date</th>\n",
       "      <th>average_transaction_amount</th>\n",
       "    </tr>\n",
       "  </thead>\n",
       "  <tbody>\n",
       "    <tr>\n",
       "      <th>0</th>\n",
       "      <td>2020-04-01</td>\n",
       "      <td>181.993688</td>\n",
       "    </tr>\n",
       "    <tr>\n",
       "      <th>1</th>\n",
       "      <td>2020-07-01</td>\n",
       "      <td>252.608292</td>\n",
       "    </tr>\n",
       "    <tr>\n",
       "      <th>2</th>\n",
       "      <td>2020-10-01</td>\n",
       "      <td>687.699328</td>\n",
       "    </tr>\n",
       "    <tr>\n",
       "      <th>3</th>\n",
       "      <td>2021-01-01</td>\n",
       "      <td>648.521541</td>\n",
       "    </tr>\n",
       "    <tr>\n",
       "      <th>4</th>\n",
       "      <td>2021-04-01</td>\n",
       "      <td>810.647239</td>\n",
       "    </tr>\n",
       "    <tr>\n",
       "      <th>5</th>\n",
       "      <td>2021-07-01</td>\n",
       "      <td>913.399558</td>\n",
       "    </tr>\n",
       "    <tr>\n",
       "      <th>6</th>\n",
       "      <td>2021-10-01</td>\n",
       "      <td>1245.294042</td>\n",
       "    </tr>\n",
       "    <tr>\n",
       "      <th>7</th>\n",
       "      <td>2022-01-01</td>\n",
       "      <td>1436.914863</td>\n",
       "    </tr>\n",
       "    <tr>\n",
       "      <th>8</th>\n",
       "      <td>2022-04-01</td>\n",
       "      <td>1358.737972</td>\n",
       "    </tr>\n",
       "    <tr>\n",
       "      <th>9</th>\n",
       "      <td>2022-07-01</td>\n",
       "      <td>1307.786285</td>\n",
       "    </tr>\n",
       "    <tr>\n",
       "      <th>10</th>\n",
       "      <td>2022-10-01</td>\n",
       "      <td>1390.586054</td>\n",
       "    </tr>\n",
       "    <tr>\n",
       "      <th>11</th>\n",
       "      <td>2023-01-01</td>\n",
       "      <td>1526.042490</td>\n",
       "    </tr>\n",
       "    <tr>\n",
       "      <th>12</th>\n",
       "      <td>2023-04-01</td>\n",
       "      <td>1507.411616</td>\n",
       "    </tr>\n",
       "    <tr>\n",
       "      <th>13</th>\n",
       "      <td>2023-07-01</td>\n",
       "      <td>1430.626552</td>\n",
       "    </tr>\n",
       "    <tr>\n",
       "      <th>14</th>\n",
       "      <td>2023-10-01</td>\n",
       "      <td>1600.689321</td>\n",
       "    </tr>\n",
       "    <tr>\n",
       "      <th>15</th>\n",
       "      <td>2024-01-01</td>\n",
       "      <td>1516.699904</td>\n",
       "    </tr>\n",
       "    <tr>\n",
       "      <th>16</th>\n",
       "      <td>2024-04-01</td>\n",
       "      <td>1592.364350</td>\n",
       "    </tr>\n",
       "    <tr>\n",
       "      <th>17</th>\n",
       "      <td>2024-07-01</td>\n",
       "      <td>1599.554428</td>\n",
       "    </tr>\n",
       "    <tr>\n",
       "      <th>18</th>\n",
       "      <td>2024-10-01</td>\n",
       "      <td>1554.772399</td>\n",
       "    </tr>\n",
       "  </tbody>\n",
       "</table>\n",
       "</div>"
      ],
      "text/plain": [
       "    from_date  average_transaction_amount\n",
       "0  2020-04-01                  181.993688\n",
       "1  2020-07-01                  252.608292\n",
       "2  2020-10-01                  687.699328\n",
       "3  2021-01-01                  648.521541\n",
       "4  2021-04-01                  810.647239\n",
       "5  2021-07-01                  913.399558\n",
       "6  2021-10-01                 1245.294042\n",
       "7  2022-01-01                 1436.914863\n",
       "8  2022-04-01                 1358.737972\n",
       "9  2022-07-01                 1307.786285\n",
       "10 2022-10-01                 1390.586054\n",
       "11 2023-01-01                 1526.042490\n",
       "12 2023-04-01                 1507.411616\n",
       "13 2023-07-01                 1430.626552\n",
       "14 2023-10-01                 1600.689321\n",
       "15 2024-01-01                 1516.699904\n",
       "16 2024-04-01                 1592.364350\n",
       "17 2024-07-01                 1599.554428\n",
       "18 2024-10-01                 1554.772399"
      ]
     },
     "execution_count": 8,
     "metadata": {},
     "output_type": "execute_result"
    }
   ],
   "source": [
    "df1['average_transaction_amount'] = df1['amount'] / df1['count']\n",
    "df1[['from_date', 'average_transaction_amount']]"
   ]
  },
  {
   "cell_type": "code",
   "execution_count": 9,
   "id": "e079577b",
   "metadata": {},
   "outputs": [
    {
     "data": {
      "image/png": "[encoded data removed]",
      "text/plain": [
       "<Figure size 1000x600 with 1 Axes>"
      ]
     },
     "metadata": {},
     "output_type": "display_data"
    }
   ],
   "source": [
    "# Bar Plot \n",
    "df1['year'] = df1['from_date'].dt.year\n",
    "yearly_avg = df1.groupby('year')['average_transaction_amount'].mean().reset_index()\n",
    "\n",
    "plt.figure(figsize=(10,6))\n",
    "plt.bar(yearly_avg['year'], yearly_avg['average_transaction_amount'], color='green')\n",
    "plt.title(\"Average Amount per Transaction by Year\")\n",
    "plt.xlabel(\"Year\")\n",
    "plt.ylabel(\"Average Amount per Transaction\")\n",
    "plt.grid(axis='y')\n",
    "plt.show()"
   ]
  },
  {
   "cell_type": "markdown",
   "id": "18743400",
   "metadata": {},
   "source": [
    "* This bar plot shows the average amount per insurance transaction at the country level from 2020 to 2024.\n",
    "* The average amount increased steadily from just below ₹400 in 2020 to nearly ₹1600 in 2024.\n",
    "* This trend highlights clear growth in the value of insurance transactions over these years."
   ]
  },
  {
   "cell_type": "markdown",
   "id": "8b253e2e",
   "metadata": {},
   "source": [
    "## **State**"
   ]
  },
  {
   "cell_type": "markdown",
   "id": "7e54f1ce",
   "metadata": {},
   "source": [
    "### **Load CSV**"
   ]
  },
  {
   "cell_type": "code",
   "execution_count": 10,
   "id": "b7dcf1a4",
   "metadata": {},
   "outputs": [
    {
     "data": {
      "application/vnd.microsoft.datawrangler.viewer.v0+json": {
       "columns": [
        {
         "name": "index",
         "rawType": "int64",
         "type": "integer"
        },
        {
         "name": "from_date",
         "rawType": "object",
         "type": "string"
        },
        {
         "name": "to_date",
         "rawType": "object",
         "type": "string"
        },
        {
         "name": "count",
         "rawType": "int64",
         "type": "integer"
        },
        {
         "name": "amount",
         "rawType": "float64",
         "type": "float"
        },
        {
         "name": "state",
         "rawType": "object",
         "type": "string"
        }
       ],
       "ref": "a5513bc9-146c-4e4c-9fb0-b87af175b902",
       "rows": [
        [
         "0",
         "2020-04-01",
         "2020-06-28",
         "6",
         "1360.0",
         "andaman-&-nicobar-islands"
        ],
        [
         "1",
         "2020-07-01",
         "2020-09-28",
         "41",
         "15380.0",
         "andaman-&-nicobar-islands"
        ],
        [
         "2",
         "2020-10-01",
         "2020-12-28",
         "124",
         "157975.0",
         "andaman-&-nicobar-islands"
        ],
        [
         "3",
         "2021-01-01",
         "2021-03-28",
         "225",
         "244266.0",
         "andaman-&-nicobar-islands"
        ],
        [
         "4",
         "2021-04-01",
         "2021-06-28",
         "137",
         "181504.0",
         "andaman-&-nicobar-islands"
        ],
        [
         "5",
         "2021-07-01",
         "2021-09-28",
         "230",
         "305235.0",
         "andaman-&-nicobar-islands"
        ],
        [
         "6",
         "2021-10-01",
         "2021-12-28",
         "757",
         "1056380.0",
         "andaman-&-nicobar-islands"
        ],
        [
         "7",
         "2022-01-01",
         "2022-03-28",
         "768",
         "1131287.0",
         "andaman-&-nicobar-islands"
        ],
        [
         "8",
         "2022-04-01",
         "2022-06-28",
         "501",
         "779740.0",
         "andaman-&-nicobar-islands"
        ],
        [
         "9",
         "2022-07-01",
         "2022-09-28",
         "643",
         "902466.0",
         "andaman-&-nicobar-islands"
        ],
        [
         "10",
         "2022-10-01",
         "2022-12-28",
         "901",
         "1441210.0",
         "andaman-&-nicobar-islands"
        ],
        [
         "11",
         "2023-01-01",
         "2023-03-28",
         "1004",
         "1439198.0",
         "andaman-&-nicobar-islands"
        ],
        [
         "12",
         "2023-04-01",
         "2023-06-28",
         "768",
         "1233395.0",
         "andaman-&-nicobar-islands"
        ],
        [
         "13",
         "2023-07-01",
         "2023-09-28",
         "795",
         "1251145.0",
         "andaman-&-nicobar-islands"
        ],
        [
         "14",
         "2023-10-01",
         "2023-12-28",
         "1145",
         "1757821.0",
         "andaman-&-nicobar-islands"
        ],
        [
         "15",
         "2024-01-01",
         "2024-03-28",
         "1371",
         "1964556.0",
         "andaman-&-nicobar-islands"
        ],
        [
         "16",
         "2024-04-01",
         "2024-06-28",
         "1097",
         "1744694.0",
         "andaman-&-nicobar-islands"
        ],
        [
         "17",
         "2024-07-01",
         "2024-09-28",
         "1191",
         "1752800.0",
         "andaman-&-nicobar-islands"
        ],
        [
         "18",
         "2024-10-01",
         "2024-12-28",
         "1293",
         "2026380.0",
         "andaman-&-nicobar-islands"
        ],
        [
         "19",
         "2020-04-01",
         "2020-06-28",
         "22104",
         "3982391.0",
         "andhra-pradesh"
        ],
        [
         "20",
         "2020-07-01",
         "2020-09-28",
         "49812",
         "12426481.0",
         "andhra-pradesh"
        ],
        [
         "21",
         "2020-10-01",
         "2020-12-28",
         "21464",
         "12985632.0",
         "andhra-pradesh"
        ],
        [
         "22",
         "2021-01-01",
         "2021-03-28",
         "22105",
         "12749874.0",
         "andhra-pradesh"
        ],
        [
         "23",
         "2021-04-01",
         "2021-06-28",
         "33205",
         "22730687.0",
         "andhra-pradesh"
        ],
        [
         "24",
         "2021-07-01",
         "2021-09-28",
         "23075",
         "19914338.0",
         "andhra-pradesh"
        ],
        [
         "25",
         "2021-10-01",
         "2021-12-28",
         "25423",
         "31610335.0",
         "andhra-pradesh"
        ],
        [
         "26",
         "2022-01-01",
         "2022-03-28",
         "29954",
         "42648157.0",
         "andhra-pradesh"
        ],
        [
         "27",
         "2022-04-01",
         "2022-06-28",
         "32185",
         "41708072.0",
         "andhra-pradesh"
        ],
        [
         "28",
         "2022-07-01",
         "2022-09-28",
         "39301",
         "48791931.0",
         "andhra-pradesh"
        ],
        [
         "29",
         "2022-10-01",
         "2022-12-28",
         "44329",
         "58043239.0",
         "andhra-pradesh"
        ],
        [
         "30",
         "2023-01-01",
         "2023-03-28",
         "34920",
         "51963355.0",
         "andhra-pradesh"
        ],
        [
         "31",
         "2023-04-01",
         "2023-06-28",
         "36376",
         "52067478.0",
         "andhra-pradesh"
        ],
        [
         "32",
         "2023-07-01",
         "2023-09-28",
         "43150",
         "57802396.0",
         "andhra-pradesh"
        ],
        [
         "33",
         "2023-10-01",
         "2023-12-28",
         "41798",
         "62342423.0",
         "andhra-pradesh"
        ],
        [
         "34",
         "2024-01-01",
         "2024-03-28",
         "46582",
         "63563802.0",
         "andhra-pradesh"
        ],
        [
         "35",
         "2024-04-01",
         "2024-06-28",
         "42547",
         "62948281.0",
         "andhra-pradesh"
        ],
        [
         "36",
         "2024-07-01",
         "2024-09-28",
         "48014",
         "73915199.0",
         "andhra-pradesh"
        ],
        [
         "37",
         "2024-10-01",
         "2024-12-28",
         "61425",
         "80028914.0",
         "andhra-pradesh"
        ],
        [
         "38",
         "2020-04-01",
         "2020-06-28",
         "65",
         "14329.0",
         "arunachal-pradesh"
        ],
        [
         "39",
         "2020-07-01",
         "2020-09-28",
         "135",
         "39687.0",
         "arunachal-pradesh"
        ],
        [
         "40",
         "2020-10-01",
         "2020-12-28",
         "125",
         "84247.0",
         "arunachal-pradesh"
        ],
        [
         "41",
         "2021-01-01",
         "2021-03-28",
         "194",
         "131611.0",
         "arunachal-pradesh"
        ],
        [
         "42",
         "2021-04-01",
         "2021-06-28",
         "204",
         "224928.0",
         "arunachal-pradesh"
        ],
        [
         "43",
         "2021-07-01",
         "2021-09-28",
         "212",
         "371051.0",
         "arunachal-pradesh"
        ],
        [
         "44",
         "2021-10-01",
         "2021-12-28",
         "320",
         "598459.0",
         "arunachal-pradesh"
        ],
        [
         "45",
         "2022-01-01",
         "2022-03-28",
         "355",
         "894107.0",
         "arunachal-pradesh"
        ],
        [
         "46",
         "2022-04-01",
         "2022-06-28",
         "564",
         "1360231.0",
         "arunachal-pradesh"
        ],
        [
         "47",
         "2022-07-01",
         "2022-09-28",
         "510",
         "1300304.0",
         "arunachal-pradesh"
        ],
        [
         "48",
         "2022-10-01",
         "2022-12-28",
         "613",
         "1464572.0",
         "arunachal-pradesh"
        ],
        [
         "49",
         "2023-01-01",
         "2023-03-28",
         "606",
         "1747475.0",
         "arunachal-pradesh"
        ]
       ],
       "shape": {
        "columns": 5,
        "rows": 682
       }
      },
      "text/html": [
       "<div>\n",
       "<style scoped>\n",
       "    .dataframe tbody tr th:only-of-type {\n",
       "        vertical-align: middle;\n",
       "    }\n",
       "\n",
       "    .dataframe tbody tr th {\n",
       "        vertical-align: top;\n",
       "    }\n",
       "\n",
       "    .dataframe thead th {\n",
       "        text-align: right;\n",
       "    }\n",
       "</style>\n",
       "<table border=\"1\" class=\"dataframe\">\n",
       "  <thead>\n",
       "    <tr style=\"text-align: right;\">\n",
       "      <th></th>\n",
       "      <th>from_date</th>\n",
       "      <th>to_date</th>\n",
       "      <th>count</th>\n",
       "      <th>amount</th>\n",
       "      <th>state</th>\n",
       "    </tr>\n",
       "  </thead>\n",
       "  <tbody>\n",
       "    <tr>\n",
       "      <th>0</th>\n",
       "      <td>2020-04-01</td>\n",
       "      <td>2020-06-28</td>\n",
       "      <td>6</td>\n",
       "      <td>1360.0</td>\n",
       "      <td>andaman-&amp;-nicobar-islands</td>\n",
       "    </tr>\n",
       "    <tr>\n",
       "      <th>1</th>\n",
       "      <td>2020-07-01</td>\n",
       "      <td>2020-09-28</td>\n",
       "      <td>41</td>\n",
       "      <td>15380.0</td>\n",
       "      <td>andaman-&amp;-nicobar-islands</td>\n",
       "    </tr>\n",
       "    <tr>\n",
       "      <th>2</th>\n",
       "      <td>2020-10-01</td>\n",
       "      <td>2020-12-28</td>\n",
       "      <td>124</td>\n",
       "      <td>157975.0</td>\n",
       "      <td>andaman-&amp;-nicobar-islands</td>\n",
       "    </tr>\n",
       "    <tr>\n",
       "      <th>3</th>\n",
       "      <td>2021-01-01</td>\n",
       "      <td>2021-03-28</td>\n",
       "      <td>225</td>\n",
       "      <td>244266.0</td>\n",
       "      <td>andaman-&amp;-nicobar-islands</td>\n",
       "    </tr>\n",
       "    <tr>\n",
       "      <th>4</th>\n",
       "      <td>2021-04-01</td>\n",
       "      <td>2021-06-28</td>\n",
       "      <td>137</td>\n",
       "      <td>181504.0</td>\n",
       "      <td>andaman-&amp;-nicobar-islands</td>\n",
       "    </tr>\n",
       "    <tr>\n",
       "      <th>...</th>\n",
       "      <td>...</td>\n",
       "      <td>...</td>\n",
       "      <td>...</td>\n",
       "      <td>...</td>\n",
       "      <td>...</td>\n",
       "    </tr>\n",
       "    <tr>\n",
       "      <th>677</th>\n",
       "      <td>2023-10-01</td>\n",
       "      <td>2023-12-28</td>\n",
       "      <td>72712</td>\n",
       "      <td>100365562.0</td>\n",
       "      <td>west-bengal</td>\n",
       "    </tr>\n",
       "    <tr>\n",
       "      <th>678</th>\n",
       "      <td>2024-01-01</td>\n",
       "      <td>2024-03-28</td>\n",
       "      <td>79576</td>\n",
       "      <td>104987909.0</td>\n",
       "      <td>west-bengal</td>\n",
       "    </tr>\n",
       "    <tr>\n",
       "      <th>679</th>\n",
       "      <td>2024-04-01</td>\n",
       "      <td>2024-06-28</td>\n",
       "      <td>67048</td>\n",
       "      <td>89476633.0</td>\n",
       "      <td>west-bengal</td>\n",
       "    </tr>\n",
       "    <tr>\n",
       "      <th>680</th>\n",
       "      <td>2024-07-01</td>\n",
       "      <td>2024-09-28</td>\n",
       "      <td>77158</td>\n",
       "      <td>107451766.0</td>\n",
       "      <td>west-bengal</td>\n",
       "    </tr>\n",
       "    <tr>\n",
       "      <th>681</th>\n",
       "      <td>2024-10-01</td>\n",
       "      <td>2024-12-28</td>\n",
       "      <td>91719</td>\n",
       "      <td>120602777.0</td>\n",
       "      <td>west-bengal</td>\n",
       "    </tr>\n",
       "  </tbody>\n",
       "</table>\n",
       "<p>682 rows × 5 columns</p>\n",
       "</div>"
      ],
      "text/plain": [
       "      from_date     to_date  count       amount                      state\n",
       "0    2020-04-01  2020-06-28      6       1360.0  andaman-&-nicobar-islands\n",
       "1    2020-07-01  2020-09-28     41      15380.0  andaman-&-nicobar-islands\n",
       "2    2020-10-01  2020-12-28    124     157975.0  andaman-&-nicobar-islands\n",
       "3    2021-01-01  2021-03-28    225     244266.0  andaman-&-nicobar-islands\n",
       "4    2021-04-01  2021-06-28    137     181504.0  andaman-&-nicobar-islands\n",
       "..          ...         ...    ...          ...                        ...\n",
       "677  2023-10-01  2023-12-28  72712  100365562.0                west-bengal\n",
       "678  2024-01-01  2024-03-28  79576  104987909.0                west-bengal\n",
       "679  2024-04-01  2024-06-28  67048   89476633.0                west-bengal\n",
       "680  2024-07-01  2024-09-28  77158  107451766.0                west-bengal\n",
       "681  2024-10-01  2024-12-28  91719  120602777.0                west-bengal\n",
       "\n",
       "[682 rows x 5 columns]"
      ]
     },
     "execution_count": 10,
     "metadata": {},
     "output_type": "execute_result"
    }
   ],
   "source": [
    "df2 = pd.read_csv(\"dataset/insurance/aggregated_insurance_state.csv\")\n",
    "df2"
   ]
  },
  {
   "cell_type": "markdown",
   "id": "b5e8db8f",
   "metadata": {},
   "source": [
    "### **Dataset Info**"
   ]
  },
  {
   "cell_type": "code",
   "execution_count": 11,
   "id": "add63855",
   "metadata": {},
   "outputs": [
    {
     "name": "stdout",
     "output_type": "stream",
     "text": [
      "<class 'pandas.core.frame.DataFrame'>\n",
      "RangeIndex: 682 entries, 0 to 681\n",
      "Data columns (total 5 columns):\n",
      " #   Column     Non-Null Count  Dtype  \n",
      "---  ------     --------------  -----  \n",
      " 0   from_date  682 non-null    object \n",
      " 1   to_date    682 non-null    object \n",
      " 2   count      682 non-null    int64  \n",
      " 3   amount     682 non-null    float64\n",
      " 4   state      682 non-null    object \n",
      "dtypes: float64(1), int64(1), object(3)\n",
      "memory usage: 26.8+ KB\n"
     ]
    }
   ],
   "source": [
    "df2.info()"
   ]
  },
  {
   "cell_type": "markdown",
   "id": "e179d668",
   "metadata": {},
   "source": [
    "* Type Conversion needed for from_date & to_date"
   ]
  },
  {
   "cell_type": "code",
   "execution_count": 12,
   "id": "5a21d0de",
   "metadata": {},
   "outputs": [],
   "source": [
    "df2['from_date'] = pd.to_datetime(df2['from_date'])\n",
    "df2['to_date'] = pd.to_datetime(df2['to_date'])"
   ]
  },
  {
   "cell_type": "markdown",
   "id": "d3dded24",
   "metadata": {},
   "source": [
    "### **Dataset Describe**"
   ]
  },
  {
   "cell_type": "code",
   "execution_count": 13,
   "id": "68602666",
   "metadata": {},
   "outputs": [
    {
     "data": {
      "application/vnd.microsoft.datawrangler.viewer.v0+json": {
       "columns": [
        {
         "name": "index",
         "rawType": "object",
         "type": "string"
        },
        {
         "name": "from_date",
         "rawType": "object",
         "type": "unknown"
        },
        {
         "name": "to_date",
         "rawType": "object",
         "type": "unknown"
        },
        {
         "name": "count",
         "rawType": "float64",
         "type": "float"
        },
        {
         "name": "amount",
         "rawType": "float64",
         "type": "float"
        }
       ],
       "ref": "f6f2701a-6c9b-4475-91ab-d6b34476adf8",
       "rows": [
        [
         "count",
         "682",
         "682",
         "682.0",
         "682.0"
        ],
        [
         "mean",
         "2022-07-03 21:04:45.043988224",
         "2022-09-29 18:32:43.636363520",
         "21283.99853372434",
         "29348355.40175953"
        ],
        [
         "min",
         "2020-04-01 00:00:00",
         "2020-06-28 00:00:00",
         "4.0",
         "1199.0"
        ],
        [
         "25%",
         "2021-04-01 00:00:00",
         "2021-06-28 00:00:00",
         "607.75",
         "821147.5"
        ],
        [
         "50%",
         "2022-07-01 00:00:00",
         "2022-09-28 00:00:00",
         "6679.5",
         "6675645.0"
        ],
        [
         "75%",
         "2023-10-01 00:00:00",
         "2023-12-28 00:00:00",
         "29790.5",
         "37306845.75"
        ],
        [
         "max",
         "2024-10-01 00:00:00",
         "2024-12-28 00:00:00",
         "183532.0",
         "305861806.0"
        ],
        [
         "std",
         null,
         null,
         "31503.74579124817",
         "47630854.45035431"
        ]
       ],
       "shape": {
        "columns": 4,
        "rows": 8
       }
      },
      "text/html": [
       "<div>\n",
       "<style scoped>\n",
       "    .dataframe tbody tr th:only-of-type {\n",
       "        vertical-align: middle;\n",
       "    }\n",
       "\n",
       "    .dataframe tbody tr th {\n",
       "        vertical-align: top;\n",
       "    }\n",
       "\n",
       "    .dataframe thead th {\n",
       "        text-align: right;\n",
       "    }\n",
       "</style>\n",
       "<table border=\"1\" class=\"dataframe\">\n",
       "  <thead>\n",
       "    <tr style=\"text-align: right;\">\n",
       "      <th></th>\n",
       "      <th>from_date</th>\n",
       "      <th>to_date</th>\n",
       "      <th>count</th>\n",
       "      <th>amount</th>\n",
       "    </tr>\n",
       "  </thead>\n",
       "  <tbody>\n",
       "    <tr>\n",
       "      <th>count</th>\n",
       "      <td>682</td>\n",
       "      <td>682</td>\n",
       "      <td>682.000000</td>\n",
       "      <td>6.820000e+02</td>\n",
       "    </tr>\n",
       "    <tr>\n",
       "      <th>mean</th>\n",
       "      <td>2022-07-03 21:04:45.043988224</td>\n",
       "      <td>2022-09-29 18:32:43.636363520</td>\n",
       "      <td>21283.998534</td>\n",
       "      <td>2.934836e+07</td>\n",
       "    </tr>\n",
       "    <tr>\n",
       "      <th>min</th>\n",
       "      <td>2020-04-01 00:00:00</td>\n",
       "      <td>2020-06-28 00:00:00</td>\n",
       "      <td>4.000000</td>\n",
       "      <td>1.199000e+03</td>\n",
       "    </tr>\n",
       "    <tr>\n",
       "      <th>25%</th>\n",
       "      <td>2021-04-01 00:00:00</td>\n",
       "      <td>2021-06-28 00:00:00</td>\n",
       "      <td>607.750000</td>\n",
       "      <td>8.211475e+05</td>\n",
       "    </tr>\n",
       "    <tr>\n",
       "      <th>50%</th>\n",
       "      <td>2022-07-01 00:00:00</td>\n",
       "      <td>2022-09-28 00:00:00</td>\n",
       "      <td>6679.500000</td>\n",
       "      <td>6.675645e+06</td>\n",
       "    </tr>\n",
       "    <tr>\n",
       "      <th>75%</th>\n",
       "      <td>2023-10-01 00:00:00</td>\n",
       "      <td>2023-12-28 00:00:00</td>\n",
       "      <td>29790.500000</td>\n",
       "      <td>3.730685e+07</td>\n",
       "    </tr>\n",
       "    <tr>\n",
       "      <th>max</th>\n",
       "      <td>2024-10-01 00:00:00</td>\n",
       "      <td>2024-12-28 00:00:00</td>\n",
       "      <td>183532.000000</td>\n",
       "      <td>3.058618e+08</td>\n",
       "    </tr>\n",
       "    <tr>\n",
       "      <th>std</th>\n",
       "      <td>NaN</td>\n",
       "      <td>NaN</td>\n",
       "      <td>31503.745791</td>\n",
       "      <td>4.763085e+07</td>\n",
       "    </tr>\n",
       "  </tbody>\n",
       "</table>\n",
       "</div>"
      ],
      "text/plain": [
       "                           from_date                        to_date  \\\n",
       "count                            682                            682   \n",
       "mean   2022-07-03 21:04:45.043988224  2022-09-29 18:32:43.636363520   \n",
       "min              2020-04-01 00:00:00            2020-06-28 00:00:00   \n",
       "25%              2021-04-01 00:00:00            2021-06-28 00:00:00   \n",
       "50%              2022-07-01 00:00:00            2022-09-28 00:00:00   \n",
       "75%              2023-10-01 00:00:00            2023-12-28 00:00:00   \n",
       "max              2024-10-01 00:00:00            2024-12-28 00:00:00   \n",
       "std                              NaN                            NaN   \n",
       "\n",
       "               count        amount  \n",
       "count     682.000000  6.820000e+02  \n",
       "mean    21283.998534  2.934836e+07  \n",
       "min         4.000000  1.199000e+03  \n",
       "25%       607.750000  8.211475e+05  \n",
       "50%      6679.500000  6.675645e+06  \n",
       "75%     29790.500000  3.730685e+07  \n",
       "max    183532.000000  3.058618e+08  \n",
       "std     31503.745791  4.763085e+07  "
      ]
     },
     "execution_count": 13,
     "metadata": {},
     "output_type": "execute_result"
    }
   ],
   "source": [
    "df2.describe()"
   ]
  },
  {
   "cell_type": "markdown",
   "id": "6b0e38b8",
   "metadata": {},
   "source": [
    "### **Plots**"
   ]
  },
  {
   "cell_type": "code",
   "execution_count": 14,
   "id": "4b44ff68",
   "metadata": {},
   "outputs": [
    {
     "data": {
      "image/png": "[encoded data removed]",
      "text/plain": [
       "<Figure size 1400x800 with 1 Axes>"
      ]
     },
     "metadata": {},
     "output_type": "display_data"
    }
   ],
   "source": [
    "state_total_amount = df2.groupby('state')['amount'].mean().reset_index()\n",
    "\n",
    "plt.figure(figsize=(14,8))\n",
    "plt.bar(state_total_amount['state'], state_total_amount['amount'], color='green')\n",
    "plt.xticks(rotation=90)\n",
    "plt.title(\"Total Insurance Transaction Amount by State (2020–2024)\")\n",
    "plt.xlabel(\"State\")\n",
    "plt.ylabel(\"Total Amount (₹)\")\n",
    "plt.grid(axis='y')\n",
    "plt.show()"
   ]
  },
  {
   "cell_type": "markdown",
   "id": "15fe0d64",
   "metadata": {},
   "source": [
    " * Karnataka and Maharashtra not only had more transactions but also had higher average insurance amounts per transaction.\n",
    " * This means people there are choosing bigger insurance plans.\n",
    " * In contrast, states like Ladakh, Mizoram, and Nagaland had much smaller average amounts, almost negligible in comparison."
   ]
  },
  {
   "cell_type": "code",
   "execution_count": 15,
   "id": "b29891ec",
   "metadata": {},
   "outputs": [
    {
     "data": {
      "image/png": "[encoded data removed]",
      "text/plain": [
       "<Figure size 1400x800 with 1 Axes>"
      ]
     },
     "metadata": {},
     "output_type": "display_data"
    }
   ],
   "source": [
    "state_total_count = df2.groupby('state')['count'].mean().reset_index()\n",
    "\n",
    "plt.figure(figsize=(14,8))\n",
    "plt.bar(state_total_count['state'], state_total_count['count'], color='orange')\n",
    "plt.xticks(rotation=90)\n",
    "plt.title(\"Total Number of Insurance Transactions by State (2020–2024)\")\n",
    "plt.xlabel(\"State\")\n",
    "plt.ylabel(\"Total Transaction Count\")\n",
    "plt.grid(axis='y')\n",
    "plt.show()"
   ]
  },
  {
   "cell_type": "markdown",
   "id": "15ab2222",
   "metadata": {},
   "source": [
    "From above two graph we can see:\n",
    "* Karnataka and Maharashtra had the highest number of insurance transactions.\n",
    "* These states clearly saw more people using PhonePe for insurance.\n",
    "* Tamil Nadu and Uttar Pradesh had a moderate count, while smaller states like Ladakh and Sikkim had very few — barely visible on the chart."
   ]
  },
  {
   "cell_type": "markdown",
   "id": "4e820dbc",
   "metadata": {},
   "source": [
    "# **Map**"
   ]
  },
  {
   "cell_type": "markdown",
   "id": "44d9d671",
   "metadata": {},
   "source": [
    "## **Country**"
   ]
  },
  {
   "cell_type": "markdown",
   "id": "30b4c775",
   "metadata": {},
   "source": [
    "### **Load CSV**"
   ]
  },
  {
   "cell_type": "code",
   "execution_count": 16,
   "id": "2674bbdd",
   "metadata": {},
   "outputs": [
    {
     "data": {
      "application/vnd.microsoft.datawrangler.viewer.v0+json": {
       "columns": [
        {
         "name": "index",
         "rawType": "int64",
         "type": "integer"
        },
        {
         "name": "year",
         "rawType": "int64",
         "type": "integer"
        },
        {
         "name": "state",
         "rawType": "object",
         "type": "string"
        },
        {
         "name": "count",
         "rawType": "int64",
         "type": "integer"
        },
        {
         "name": "amount",
         "rawType": "float64",
         "type": "float"
        }
       ],
       "ref": "18e0fdf1-b05c-4178-883d-f114352112d1",
       "rows": [
        [
         "0",
         "2020",
         "puducherry",
         "112",
         "22251.0"
        ],
        [
         "1",
         "2020",
         "tamil nadu",
         "5473",
         "1075552.0"
        ],
        [
         "2",
         "2020",
         "uttar pradesh",
         "9884",
         "1912266.0"
        ],
        [
         "3",
         "2020",
         "madhya pradesh",
         "6283",
         "1198701.0"
        ],
        [
         "4",
         "2020",
         "andhra pradesh",
         "22104",
         "3982391.0"
        ],
        [
         "5",
         "2020",
         "tripura",
         "88",
         "22054.0"
        ],
        [
         "6",
         "2020",
         "manipur",
         "55",
         "12554.0"
        ],
        [
         "7",
         "2020",
         "maharashtra",
         "39836",
         "6879717.0"
        ],
        [
         "8",
         "2020",
         "dadra & nagar haveli & daman & diu",
         "651",
         "101029.0"
        ],
        [
         "9",
         "2020",
         "meghalaya",
         "41",
         "8829.0"
        ],
        [
         "10",
         "2020",
         "andaman & nicobar islands",
         "6",
         "1360.0"
        ],
        [
         "11",
         "2020",
         "haryana",
         "6321",
         "1179814.0"
        ],
        [
         "12",
         "2020",
         "rajasthan",
         "5373",
         "1095933.0"
        ],
        [
         "13",
         "2020",
         "ladakh",
         "14",
         "2538.0"
        ],
        [
         "14",
         "2020",
         "punjab",
         "2036",
         "399452.0"
        ],
        [
         "15",
         "2020",
         "assam",
         "978",
         "210034.0"
        ],
        [
         "16",
         "2020",
         "jharkhand",
         "2063",
         "405031.0"
        ],
        [
         "17",
         "2020",
         "odisha",
         "2981",
         "615193.0"
        ],
        [
         "18",
         "2020",
         "bihar",
         "2816",
         "595621.0"
        ],
        [
         "19",
         "2020",
         "kerala",
         "1588",
         "360216.0"
        ],
        [
         "20",
         "2020",
         "karnataka",
         "27358",
         "4794150.0"
        ],
        [
         "21",
         "2020",
         "chandigarh",
         "149",
         "29537.0"
        ],
        [
         "22",
         "2020",
         "telangana",
         "19003",
         "3419453.0"
        ],
        [
         "23",
         "2020",
         "himachal pradesh",
         "392",
         "77936.0"
        ],
        [
         "24",
         "2020",
         "west bengal",
         "7619",
         "1432764.0"
        ],
        [
         "25",
         "2020",
         "gujarat",
         "7697",
         "1430591.0"
        ],
        [
         "26",
         "2020",
         "sikkim",
         "21",
         "4789.0"
        ],
        [
         "27",
         "2020",
         "nagaland",
         "41",
         "9791.0"
        ],
        [
         "28",
         "2020",
         "mizoram",
         "31",
         "7322.0"
        ],
        [
         "29",
         "2020",
         "chhattisgarh",
         "1346",
         "279005.0"
        ],
        [
         "30",
         "2020",
         "jammu & kashmir",
         "206",
         "48484.0"
        ],
        [
         "31",
         "2020",
         "goa",
         "341",
         "71100.0"
        ],
        [
         "32",
         "2020",
         "arunachal pradesh",
         "65",
         "14329.0"
        ],
        [
         "33",
         "2020",
         "delhi",
         "11716",
         "1897480.0"
        ],
        [
         "34",
         "2020",
         "uttarakhand",
         "660",
         "134899.0"
        ],
        [
         "35",
         "2020",
         "puducherry",
         "191",
         "58399.0"
        ],
        [
         "36",
         "2020",
         "tamil nadu",
         "8026",
         "2257373.0"
        ],
        [
         "37",
         "2020",
         "uttar pradesh",
         "18131",
         "4436969.0"
        ],
        [
         "38",
         "2020",
         "madhya pradesh",
         "14476",
         "3496126.0"
        ],
        [
         "39",
         "2020",
         "andhra pradesh",
         "49812",
         "12426481.0"
        ],
        [
         "40",
         "2020",
         "tripura",
         "249",
         "61642.0"
        ],
        [
         "41",
         "2020",
         "lakshadweep",
         "4",
         "1199.0"
        ],
        [
         "42",
         "2020",
         "manipur",
         "134",
         "45164.0"
        ],
        [
         "43",
         "2020",
         "maharashtra",
         "71662",
         "19230156.0"
        ],
        [
         "44",
         "2020",
         "dadra & nagar haveli & daman & diu",
         "257",
         "65504.0"
        ],
        [
         "45",
         "2020",
         "meghalaya",
         "112",
         "33615.0"
        ],
        [
         "46",
         "2020",
         "andaman & nicobar islands",
         "41",
         "15380.0"
        ],
        [
         "47",
         "2020",
         "haryana",
         "7139",
         "1884868.0"
        ],
        [
         "48",
         "2020",
         "rajasthan",
         "15235",
         "3758527.0"
        ],
        [
         "49",
         "2020",
         "ladakh",
         "33",
         "10260.0"
        ]
       ],
       "shape": {
        "columns": 4,
        "rows": 682
       }
      },
      "text/html": [
       "<div>\n",
       "<style scoped>\n",
       "    .dataframe tbody tr th:only-of-type {\n",
       "        vertical-align: middle;\n",
       "    }\n",
       "\n",
       "    .dataframe tbody tr th {\n",
       "        vertical-align: top;\n",
       "    }\n",
       "\n",
       "    .dataframe thead th {\n",
       "        text-align: right;\n",
       "    }\n",
       "</style>\n",
       "<table border=\"1\" class=\"dataframe\">\n",
       "  <thead>\n",
       "    <tr style=\"text-align: right;\">\n",
       "      <th></th>\n",
       "      <th>year</th>\n",
       "      <th>state</th>\n",
       "      <th>count</th>\n",
       "      <th>amount</th>\n",
       "    </tr>\n",
       "  </thead>\n",
       "  <tbody>\n",
       "    <tr>\n",
       "      <th>0</th>\n",
       "      <td>2020</td>\n",
       "      <td>puducherry</td>\n",
       "      <td>112</td>\n",
       "      <td>22251.0</td>\n",
       "    </tr>\n",
       "    <tr>\n",
       "      <th>1</th>\n",
       "      <td>2020</td>\n",
       "      <td>tamil nadu</td>\n",
       "      <td>5473</td>\n",
       "      <td>1075552.0</td>\n",
       "    </tr>\n",
       "    <tr>\n",
       "      <th>2</th>\n",
       "      <td>2020</td>\n",
       "      <td>uttar pradesh</td>\n",
       "      <td>9884</td>\n",
       "      <td>1912266.0</td>\n",
       "    </tr>\n",
       "    <tr>\n",
       "      <th>3</th>\n",
       "      <td>2020</td>\n",
       "      <td>madhya pradesh</td>\n",
       "      <td>6283</td>\n",
       "      <td>1198701.0</td>\n",
       "    </tr>\n",
       "    <tr>\n",
       "      <th>4</th>\n",
       "      <td>2020</td>\n",
       "      <td>andhra pradesh</td>\n",
       "      <td>22104</td>\n",
       "      <td>3982391.0</td>\n",
       "    </tr>\n",
       "    <tr>\n",
       "      <th>...</th>\n",
       "      <td>...</td>\n",
       "      <td>...</td>\n",
       "      <td>...</td>\n",
       "      <td>...</td>\n",
       "    </tr>\n",
       "    <tr>\n",
       "      <th>677</th>\n",
       "      <td>2024</td>\n",
       "      <td>jammu &amp; kashmir</td>\n",
       "      <td>8893</td>\n",
       "      <td>18252110.0</td>\n",
       "    </tr>\n",
       "    <tr>\n",
       "      <th>678</th>\n",
       "      <td>2024</td>\n",
       "      <td>goa</td>\n",
       "      <td>6662</td>\n",
       "      <td>9903374.0</td>\n",
       "    </tr>\n",
       "    <tr>\n",
       "      <th>679</th>\n",
       "      <td>2024</td>\n",
       "      <td>arunachal pradesh</td>\n",
       "      <td>999</td>\n",
       "      <td>2359472.0</td>\n",
       "    </tr>\n",
       "    <tr>\n",
       "      <th>680</th>\n",
       "      <td>2024</td>\n",
       "      <td>delhi</td>\n",
       "      <td>67962</td>\n",
       "      <td>94390728.0</td>\n",
       "    </tr>\n",
       "    <tr>\n",
       "      <th>681</th>\n",
       "      <td>2024</td>\n",
       "      <td>uttarakhand</td>\n",
       "      <td>13090</td>\n",
       "      <td>23367549.0</td>\n",
       "    </tr>\n",
       "  </tbody>\n",
       "</table>\n",
       "<p>682 rows × 4 columns</p>\n",
       "</div>"
      ],
      "text/plain": [
       "     year              state  count      amount\n",
       "0    2020         puducherry    112     22251.0\n",
       "1    2020         tamil nadu   5473   1075552.0\n",
       "2    2020      uttar pradesh   9884   1912266.0\n",
       "3    2020     madhya pradesh   6283   1198701.0\n",
       "4    2020     andhra pradesh  22104   3982391.0\n",
       "..    ...                ...    ...         ...\n",
       "677  2024    jammu & kashmir   8893  18252110.0\n",
       "678  2024                goa   6662   9903374.0\n",
       "679  2024  arunachal pradesh    999   2359472.0\n",
       "680  2024              delhi  67962  94390728.0\n",
       "681  2024        uttarakhand  13090  23367549.0\n",
       "\n",
       "[682 rows x 4 columns]"
      ]
     },
     "execution_count": 16,
     "metadata": {},
     "output_type": "execute_result"
    }
   ],
   "source": [
    "df3 = pd.read_csv(\"dataset/insurance/map_insurance_hover_country.csv\")\n",
    "df3"
   ]
  },
  {
   "cell_type": "markdown",
   "id": "46a58c66",
   "metadata": {},
   "source": [
    "### **Dataset Info**"
   ]
  },
  {
   "cell_type": "code",
   "execution_count": 17,
   "id": "79117da5",
   "metadata": {},
   "outputs": [
    {
     "name": "stdout",
     "output_type": "stream",
     "text": [
      "<class 'pandas.core.frame.DataFrame'>\n",
      "RangeIndex: 682 entries, 0 to 681\n",
      "Data columns (total 4 columns):\n",
      " #   Column  Non-Null Count  Dtype  \n",
      "---  ------  --------------  -----  \n",
      " 0   year    682 non-null    int64  \n",
      " 1   state   682 non-null    object \n",
      " 2   count   682 non-null    int64  \n",
      " 3   amount  682 non-null    float64\n",
      "dtypes: float64(1), int64(2), object(1)\n",
      "memory usage: 21.4+ KB\n"
     ]
    }
   ],
   "source": [
    "df3.info()"
   ]
  },
  {
   "cell_type": "markdown",
   "id": "3c3b9524",
   "metadata": {},
   "source": [
    "### **Dataset Describe**"
   ]
  },
  {
   "cell_type": "code",
   "execution_count": 18,
   "id": "4804f584",
   "metadata": {},
   "outputs": [
    {
     "data": {
      "application/vnd.microsoft.datawrangler.viewer.v0+json": {
       "columns": [
        {
         "name": "index",
         "rawType": "object",
         "type": "string"
        },
        {
         "name": "year",
         "rawType": "float64",
         "type": "float"
        },
        {
         "name": "count",
         "rawType": "float64",
         "type": "float"
        },
        {
         "name": "amount",
         "rawType": "float64",
         "type": "float"
        }
       ],
       "ref": "860e855f-2e6e-4141-81ca-fd7cf7facd7f",
       "rows": [
        [
         "count",
         "682.0",
         "682.0",
         "682.0"
        ],
        [
         "mean",
         "2022.1114369501465",
         "21283.99853372434",
         "29348355.40175953"
        ],
        [
         "std",
         "1.370729674698714",
         "31503.74579124817",
         "47630854.45035431"
        ],
        [
         "min",
         "2020.0",
         "4.0",
         "1199.0"
        ],
        [
         "25%",
         "2021.0",
         "607.75",
         "821147.5"
        ],
        [
         "50%",
         "2022.0",
         "6679.5",
         "6675645.0"
        ],
        [
         "75%",
         "2023.0",
         "29790.5",
         "37306845.75"
        ],
        [
         "max",
         "2024.0",
         "183532.0",
         "305861806.0"
        ]
       ],
       "shape": {
        "columns": 3,
        "rows": 8
       }
      },
      "text/html": [
       "<div>\n",
       "<style scoped>\n",
       "    .dataframe tbody tr th:only-of-type {\n",
       "        vertical-align: middle;\n",
       "    }\n",
       "\n",
       "    .dataframe tbody tr th {\n",
       "        vertical-align: top;\n",
       "    }\n",
       "\n",
       "    .dataframe thead th {\n",
       "        text-align: right;\n",
       "    }\n",
       "</style>\n",
       "<table border=\"1\" class=\"dataframe\">\n",
       "  <thead>\n",
       "    <tr style=\"text-align: right;\">\n",
       "      <th></th>\n",
       "      <th>year</th>\n",
       "      <th>count</th>\n",
       "      <th>amount</th>\n",
       "    </tr>\n",
       "  </thead>\n",
       "  <tbody>\n",
       "    <tr>\n",
       "      <th>count</th>\n",
       "      <td>682.000000</td>\n",
       "      <td>682.000000</td>\n",
       "      <td>6.820000e+02</td>\n",
       "    </tr>\n",
       "    <tr>\n",
       "      <th>mean</th>\n",
       "      <td>2022.111437</td>\n",
       "      <td>21283.998534</td>\n",
       "      <td>2.934836e+07</td>\n",
       "    </tr>\n",
       "    <tr>\n",
       "      <th>std</th>\n",
       "      <td>1.370730</td>\n",
       "      <td>31503.745791</td>\n",
       "      <td>4.763085e+07</td>\n",
       "    </tr>\n",
       "    <tr>\n",
       "      <th>min</th>\n",
       "      <td>2020.000000</td>\n",
       "      <td>4.000000</td>\n",
       "      <td>1.199000e+03</td>\n",
       "    </tr>\n",
       "    <tr>\n",
       "      <th>25%</th>\n",
       "      <td>2021.000000</td>\n",
       "      <td>607.750000</td>\n",
       "      <td>8.211475e+05</td>\n",
       "    </tr>\n",
       "    <tr>\n",
       "      <th>50%</th>\n",
       "      <td>2022.000000</td>\n",
       "      <td>6679.500000</td>\n",
       "      <td>6.675645e+06</td>\n",
       "    </tr>\n",
       "    <tr>\n",
       "      <th>75%</th>\n",
       "      <td>2023.000000</td>\n",
       "      <td>29790.500000</td>\n",
       "      <td>3.730685e+07</td>\n",
       "    </tr>\n",
       "    <tr>\n",
       "      <th>max</th>\n",
       "      <td>2024.000000</td>\n",
       "      <td>183532.000000</td>\n",
       "      <td>3.058618e+08</td>\n",
       "    </tr>\n",
       "  </tbody>\n",
       "</table>\n",
       "</div>"
      ],
      "text/plain": [
       "              year          count        amount\n",
       "count   682.000000     682.000000  6.820000e+02\n",
       "mean   2022.111437   21283.998534  2.934836e+07\n",
       "std       1.370730   31503.745791  4.763085e+07\n",
       "min    2020.000000       4.000000  1.199000e+03\n",
       "25%    2021.000000     607.750000  8.211475e+05\n",
       "50%    2022.000000    6679.500000  6.675645e+06\n",
       "75%    2023.000000   29790.500000  3.730685e+07\n",
       "max    2024.000000  183532.000000  3.058618e+08"
      ]
     },
     "execution_count": 18,
     "metadata": {},
     "output_type": "execute_result"
    }
   ],
   "source": [
    "df3.describe()"
   ]
  },
  {
   "cell_type": "markdown",
   "id": "21a6c75d",
   "metadata": {},
   "source": [
    "### **Plots**"
   ]
  },
  {
   "cell_type": "code",
   "execution_count": 19,
   "id": "e28bf8df",
   "metadata": {},
   "outputs": [
    {
     "data": {
      "application/vnd.microsoft.datawrangler.viewer.v0+json": {
       "columns": [
        {
         "name": "index",
         "rawType": "int64",
         "type": "integer"
        },
        {
         "name": "year",
         "rawType": "int64",
         "type": "integer"
        },
        {
         "name": "state",
         "rawType": "object",
         "type": "string"
        },
        {
         "name": "count",
         "rawType": "int64",
         "type": "integer"
        },
        {
         "name": "amount",
         "rawType": "float64",
         "type": "float"
        }
       ],
       "ref": "c28bcf9c-b430-45ab-8d14-bfc42c4cd5c3",
       "rows": [
        [
         "78",
         "2020",
         "maharashtra",
         "44798",
         "27113814.0"
        ],
        [
         "222",
         "2021",
         "maharashtra",
         "82423",
         "93262227.0"
        ],
        [
         "379",
         "2022",
         "karnataka",
         "133971",
         "185063287.0"
        ],
        [
         "523",
         "2023",
         "karnataka",
         "156076",
         "248056311.0"
        ],
        [
         "667",
         "2024",
         "karnataka",
         "183532",
         "305861806.0"
        ]
       ],
       "shape": {
        "columns": 4,
        "rows": 5
       }
      },
      "text/html": [
       "<div>\n",
       "<style scoped>\n",
       "    .dataframe tbody tr th:only-of-type {\n",
       "        vertical-align: middle;\n",
       "    }\n",
       "\n",
       "    .dataframe tbody tr th {\n",
       "        vertical-align: top;\n",
       "    }\n",
       "\n",
       "    .dataframe thead th {\n",
       "        text-align: right;\n",
       "    }\n",
       "</style>\n",
       "<table border=\"1\" class=\"dataframe\">\n",
       "  <thead>\n",
       "    <tr style=\"text-align: right;\">\n",
       "      <th></th>\n",
       "      <th>year</th>\n",
       "      <th>state</th>\n",
       "      <th>count</th>\n",
       "      <th>amount</th>\n",
       "    </tr>\n",
       "  </thead>\n",
       "  <tbody>\n",
       "    <tr>\n",
       "      <th>78</th>\n",
       "      <td>2020</td>\n",
       "      <td>maharashtra</td>\n",
       "      <td>44798</td>\n",
       "      <td>27113814.0</td>\n",
       "    </tr>\n",
       "    <tr>\n",
       "      <th>222</th>\n",
       "      <td>2021</td>\n",
       "      <td>maharashtra</td>\n",
       "      <td>82423</td>\n",
       "      <td>93262227.0</td>\n",
       "    </tr>\n",
       "    <tr>\n",
       "      <th>379</th>\n",
       "      <td>2022</td>\n",
       "      <td>karnataka</td>\n",
       "      <td>133971</td>\n",
       "      <td>185063287.0</td>\n",
       "    </tr>\n",
       "    <tr>\n",
       "      <th>523</th>\n",
       "      <td>2023</td>\n",
       "      <td>karnataka</td>\n",
       "      <td>156076</td>\n",
       "      <td>248056311.0</td>\n",
       "    </tr>\n",
       "    <tr>\n",
       "      <th>667</th>\n",
       "      <td>2024</td>\n",
       "      <td>karnataka</td>\n",
       "      <td>183532</td>\n",
       "      <td>305861806.0</td>\n",
       "    </tr>\n",
       "  </tbody>\n",
       "</table>\n",
       "</div>"
      ],
      "text/plain": [
       "     year        state   count       amount\n",
       "78   2020  maharashtra   44798   27113814.0\n",
       "222  2021  maharashtra   82423   93262227.0\n",
       "379  2022    karnataka  133971  185063287.0\n",
       "523  2023    karnataka  156076  248056311.0\n",
       "667  2024    karnataka  183532  305861806.0"
      ]
     },
     "execution_count": 19,
     "metadata": {},
     "output_type": "execute_result"
    }
   ],
   "source": [
    "# Highest Amount\n",
    "idx = df3.groupby(['year'])['amount'].idxmax()\n",
    "top_states = df3.loc[idx]\n",
    "top_states"
   ]
  },
  {
   "cell_type": "code",
   "execution_count": 20,
   "id": "5baf44f8",
   "metadata": {},
   "outputs": [
    {
     "data": {
      "image/png": "[encoded data removed]",
      "text/plain": [
       "<Figure size 1000x600 with 1 Axes>"
      ]
     },
     "metadata": {},
     "output_type": "display_data"
    }
   ],
   "source": [
    "plt.figure(figsize=(10,6))\n",
    "plt.bar(top_states['year'].astype(str), top_states['amount'], color='green')\n",
    "\n",
    "for i, (state, amount) in enumerate(zip(top_states['state'], top_states['amount'])):\n",
    "    plt.text(i, amount, state, ha='center', va='bottom', fontsize=12)\n",
    "\n",
    "plt.title(\"State with Highest Insurance Amount by Year\")\n",
    "plt.xlabel(\"Year\")\n",
    "plt.ylabel(\"Total Insurance Amount (₹)\")\n",
    "plt.grid(axis='y')\n",
    "plt.show()"
   ]
  },
  {
   "cell_type": "markdown",
   "id": "c1ccf54f",
   "metadata": {},
   "source": [
    "* Karnataka and Maharashtra led in total insurance amount.\n",
    "* Karnataka started rising in 2022 and overtook Maharashtra in the later years."
   ]
  },
  {
   "cell_type": "code",
   "execution_count": 21,
   "id": "9f458ff8",
   "metadata": {},
   "outputs": [
    {
     "data": {
      "application/vnd.microsoft.datawrangler.viewer.v0+json": {
       "columns": [
        {
         "name": "index",
         "rawType": "int64",
         "type": "integer"
        },
        {
         "name": "year",
         "rawType": "int64",
         "type": "integer"
        },
        {
         "name": "state",
         "rawType": "object",
         "type": "string"
        },
        {
         "name": "count",
         "rawType": "int64",
         "type": "integer"
        },
        {
         "name": "amount",
         "rawType": "float64",
         "type": "float"
        }
       ],
       "ref": "a1e240a0-8523-4537-93d5-a65f18ca3391",
       "rows": [
        [
         "41",
         "2020",
         "lakshadweep",
         "4",
         "1199.0"
        ],
        [
         "112",
         "2021",
         "lakshadweep",
         "4",
         "5225.0"
        ],
        [
         "364",
         "2022",
         "lakshadweep",
         "15",
         "27135.0"
        ],
        [
         "472",
         "2023",
         "lakshadweep",
         "12",
         "12407.0"
        ],
        [
         "544",
         "2024",
         "lakshadweep",
         "15",
         "12935.0"
        ]
       ],
       "shape": {
        "columns": 4,
        "rows": 5
       }
      },
      "text/html": [
       "<div>\n",
       "<style scoped>\n",
       "    .dataframe tbody tr th:only-of-type {\n",
       "        vertical-align: middle;\n",
       "    }\n",
       "\n",
       "    .dataframe tbody tr th {\n",
       "        vertical-align: top;\n",
       "    }\n",
       "\n",
       "    .dataframe thead th {\n",
       "        text-align: right;\n",
       "    }\n",
       "</style>\n",
       "<table border=\"1\" class=\"dataframe\">\n",
       "  <thead>\n",
       "    <tr style=\"text-align: right;\">\n",
       "      <th></th>\n",
       "      <th>year</th>\n",
       "      <th>state</th>\n",
       "      <th>count</th>\n",
       "      <th>amount</th>\n",
       "    </tr>\n",
       "  </thead>\n",
       "  <tbody>\n",
       "    <tr>\n",
       "      <th>41</th>\n",
       "      <td>2020</td>\n",
       "      <td>lakshadweep</td>\n",
       "      <td>4</td>\n",
       "      <td>1199.0</td>\n",
       "    </tr>\n",
       "    <tr>\n",
       "      <th>112</th>\n",
       "      <td>2021</td>\n",
       "      <td>lakshadweep</td>\n",
       "      <td>4</td>\n",
       "      <td>5225.0</td>\n",
       "    </tr>\n",
       "    <tr>\n",
       "      <th>364</th>\n",
       "      <td>2022</td>\n",
       "      <td>lakshadweep</td>\n",
       "      <td>15</td>\n",
       "      <td>27135.0</td>\n",
       "    </tr>\n",
       "    <tr>\n",
       "      <th>472</th>\n",
       "      <td>2023</td>\n",
       "      <td>lakshadweep</td>\n",
       "      <td>12</td>\n",
       "      <td>12407.0</td>\n",
       "    </tr>\n",
       "    <tr>\n",
       "      <th>544</th>\n",
       "      <td>2024</td>\n",
       "      <td>lakshadweep</td>\n",
       "      <td>15</td>\n",
       "      <td>12935.0</td>\n",
       "    </tr>\n",
       "  </tbody>\n",
       "</table>\n",
       "</div>"
      ],
      "text/plain": [
       "     year        state  count   amount\n",
       "41   2020  lakshadweep      4   1199.0\n",
       "112  2021  lakshadweep      4   5225.0\n",
       "364  2022  lakshadweep     15  27135.0\n",
       "472  2023  lakshadweep     12  12407.0\n",
       "544  2024  lakshadweep     15  12935.0"
      ]
     },
     "execution_count": 21,
     "metadata": {},
     "output_type": "execute_result"
    }
   ],
   "source": [
    "# Lowest Amount\n",
    "idx = df3.groupby(['year'])['amount'].idxmin()\n",
    "bottom_states = df3.loc[idx]\n",
    "bottom_states"
   ]
  },
  {
   "cell_type": "code",
   "execution_count": 22,
   "id": "7cdbccfe",
   "metadata": {},
   "outputs": [
    {
     "data": {
      "image/png": "[encoded data removed]",
      "text/plain": [
       "<Figure size 1000x600 with 1 Axes>"
      ]
     },
     "metadata": {},
     "output_type": "display_data"
    }
   ],
   "source": [
    "plt.figure(figsize=(10,6))\n",
    "plt.bar(bottom_states['year'].astype(str), bottom_states['amount'], color='green')\n",
    "\n",
    "for i, (state, amount) in enumerate(zip(bottom_states['state'], bottom_states['amount'])):\n",
    "    plt.text(i, amount, state, ha='center', va='bottom', fontsize=12)\n",
    "\n",
    "plt.title(\"State with Lowest Insurance Amount by Year\")\n",
    "plt.xlabel(\"Year\")\n",
    "plt.ylabel(\"Total Insurance Amount (₹)\")\n",
    "plt.grid(axis='y')\n",
    "plt.show()"
   ]
  },
  {
   "cell_type": "markdown",
   "id": "117854eb",
   "metadata": {},
   "source": [
    "* Lakshadweep has been the last since 2020\n",
    "* Its Peak is just above 25k & didn't achieve it after 2022"
   ]
  },
  {
   "cell_type": "markdown",
   "id": "9fe4f1dc",
   "metadata": {},
   "source": [
    "## **State**"
   ]
  },
  {
   "cell_type": "markdown",
   "id": "23530163",
   "metadata": {},
   "source": [
    "### **Load CSV**"
   ]
  },
  {
   "cell_type": "code",
   "execution_count": 23,
   "id": "37703a2d",
   "metadata": {},
   "outputs": [
    {
     "data": {
      "application/vnd.microsoft.datawrangler.viewer.v0+json": {
       "columns": [
        {
         "name": "index",
         "rawType": "int64",
         "type": "integer"
        },
        {
         "name": "year",
         "rawType": "int64",
         "type": "integer"
        },
        {
         "name": "state",
         "rawType": "object",
         "type": "string"
        },
        {
         "name": "district",
         "rawType": "object",
         "type": "string"
        },
        {
         "name": "count",
         "rawType": "int64",
         "type": "integer"
        },
        {
         "name": "amount",
         "rawType": "float64",
         "type": "float"
        }
       ],
       "ref": "5ce26b3d-77c2-42c5-861f-1c8d6b753f6c",
       "rows": [
        [
         "0",
         "2020",
         "andaman-&-nicobar-islands",
         "south andaman district",
         "3",
         "795.0"
        ],
        [
         "1",
         "2020",
         "andaman-&-nicobar-islands",
         "nicobars district",
         "3",
         "565.0"
        ],
        [
         "2",
         "2020",
         "andaman-&-nicobar-islands",
         "north and middle andaman district",
         "1",
         "281.0"
        ],
        [
         "3",
         "2020",
         "andaman-&-nicobar-islands",
         "south andaman district",
         "35",
         "13651.0"
        ],
        [
         "4",
         "2020",
         "andaman-&-nicobar-islands",
         "nicobars district",
         "5",
         "1448.0"
        ],
        [
         "5",
         "2020",
         "andaman-&-nicobar-islands",
         "north and middle andaman district",
         "13",
         "17734.0"
        ],
        [
         "6",
         "2020",
         "andaman-&-nicobar-islands",
         "south andaman district",
         "109",
         "137494.0"
        ],
        [
         "7",
         "2020",
         "andaman-&-nicobar-islands",
         "nicobars district",
         "2",
         "2747.0"
        ],
        [
         "8",
         "2021",
         "andaman-&-nicobar-islands",
         "north and middle andaman district",
         "48",
         "63978.0"
        ],
        [
         "9",
         "2021",
         "andaman-&-nicobar-islands",
         "south andaman district",
         "164",
         "167044.0"
        ],
        [
         "10",
         "2021",
         "andaman-&-nicobar-islands",
         "nicobars district",
         "13",
         "13244.0"
        ],
        [
         "11",
         "2021",
         "andaman-&-nicobar-islands",
         "north and middle andaman district",
         "28",
         "45311.0"
        ],
        [
         "12",
         "2021",
         "andaman-&-nicobar-islands",
         "south andaman district",
         "105",
         "121104.0"
        ],
        [
         "13",
         "2021",
         "andaman-&-nicobar-islands",
         "nicobars district",
         "4",
         "15089.0"
        ],
        [
         "14",
         "2021",
         "andaman-&-nicobar-islands",
         "north and middle andaman district",
         "33",
         "50997.0"
        ],
        [
         "15",
         "2021",
         "andaman-&-nicobar-islands",
         "south andaman district",
         "182",
         "223699.0"
        ],
        [
         "16",
         "2021",
         "andaman-&-nicobar-islands",
         "nicobars district",
         "15",
         "30539.0"
        ],
        [
         "17",
         "2021",
         "andaman-&-nicobar-islands",
         "north and middle andaman district",
         "81",
         "182061.0"
        ],
        [
         "18",
         "2021",
         "andaman-&-nicobar-islands",
         "south andaman district",
         "632",
         "800758.0"
        ],
        [
         "19",
         "2021",
         "andaman-&-nicobar-islands",
         "nicobars district",
         "44",
         "73561.0"
        ],
        [
         "20",
         "2022",
         "andaman-&-nicobar-islands",
         "north and middle andaman district",
         "48",
         "85229.0"
        ],
        [
         "21",
         "2022",
         "andaman-&-nicobar-islands",
         "south andaman district",
         "692",
         "982206.0"
        ],
        [
         "22",
         "2022",
         "andaman-&-nicobar-islands",
         "nicobars district",
         "28",
         "63852.0"
        ],
        [
         "23",
         "2022",
         "andaman-&-nicobar-islands",
         "north and middle andaman district",
         "45",
         "90403.0"
        ],
        [
         "24",
         "2022",
         "andaman-&-nicobar-islands",
         "south andaman district",
         "430",
         "633029.0"
        ],
        [
         "25",
         "2022",
         "andaman-&-nicobar-islands",
         "nicobars district",
         "26",
         "56308.0"
        ],
        [
         "26",
         "2022",
         "andaman-&-nicobar-islands",
         "north and middle andaman district",
         "70",
         "129013.0"
        ],
        [
         "27",
         "2022",
         "andaman-&-nicobar-islands",
         "south andaman district",
         "535",
         "687813.0"
        ],
        [
         "28",
         "2022",
         "andaman-&-nicobar-islands",
         "nicobars district",
         "38",
         "85640.0"
        ],
        [
         "29",
         "2022",
         "andaman-&-nicobar-islands",
         "north and middle andaman district",
         "112",
         "224198.0"
        ],
        [
         "30",
         "2022",
         "andaman-&-nicobar-islands",
         "south andaman district",
         "750",
         "1114857.0"
        ],
        [
         "31",
         "2022",
         "andaman-&-nicobar-islands",
         "nicobars district",
         "39",
         "102155.0"
        ],
        [
         "32",
         "2023",
         "andaman-&-nicobar-islands",
         "north and middle andaman district",
         "85",
         "178969.0"
        ],
        [
         "33",
         "2023",
         "andaman-&-nicobar-islands",
         "south andaman district",
         "872",
         "1172083.0"
        ],
        [
         "34",
         "2023",
         "andaman-&-nicobar-islands",
         "nicobars district",
         "47",
         "88146.0"
        ],
        [
         "35",
         "2023",
         "andaman-&-nicobar-islands",
         "north and middle andaman district",
         "56",
         "109742.0"
        ],
        [
         "36",
         "2023",
         "andaman-&-nicobar-islands",
         "south andaman district",
         "670",
         "1060976.0"
        ],
        [
         "37",
         "2023",
         "andaman-&-nicobar-islands",
         "nicobars district",
         "42",
         "62677.0"
        ],
        [
         "38",
         "2023",
         "andaman-&-nicobar-islands",
         "north and middle andaman district",
         "77",
         "133536.0"
        ],
        [
         "39",
         "2023",
         "andaman-&-nicobar-islands",
         "south andaman district",
         "682",
         "1052324.0"
        ],
        [
         "40",
         "2023",
         "andaman-&-nicobar-islands",
         "nicobars district",
         "36",
         "65285.0"
        ],
        [
         "41",
         "2023",
         "andaman-&-nicobar-islands",
         "north and middle andaman district",
         "95",
         "156995.0"
        ],
        [
         "42",
         "2023",
         "andaman-&-nicobar-islands",
         "south andaman district",
         "1006",
         "1504528.0"
        ],
        [
         "43",
         "2023",
         "andaman-&-nicobar-islands",
         "nicobars district",
         "44",
         "96298.0"
        ],
        [
         "44",
         "2024",
         "andaman-&-nicobar-islands",
         "north and middle andaman district",
         "125",
         "229226.0"
        ],
        [
         "45",
         "2024",
         "andaman-&-nicobar-islands",
         "south andaman district",
         "1190",
         "1657627.0"
        ],
        [
         "46",
         "2024",
         "andaman-&-nicobar-islands",
         "nicobars district",
         "56",
         "77703.0"
        ],
        [
         "47",
         "2024",
         "andaman-&-nicobar-islands",
         "north and middle andaman district",
         "74",
         "164686.0"
        ],
        [
         "48",
         "2024",
         "andaman-&-nicobar-islands",
         "south andaman district",
         "974",
         "1513489.0"
        ],
        [
         "49",
         "2024",
         "andaman-&-nicobar-islands",
         "nicobars district",
         "49",
         "66519.0"
        ]
       ],
       "shape": {
        "columns": 5,
        "rows": 13876
       }
      },
      "text/html": [
       "<div>\n",
       "<style scoped>\n",
       "    .dataframe tbody tr th:only-of-type {\n",
       "        vertical-align: middle;\n",
       "    }\n",
       "\n",
       "    .dataframe tbody tr th {\n",
       "        vertical-align: top;\n",
       "    }\n",
       "\n",
       "    .dataframe thead th {\n",
       "        text-align: right;\n",
       "    }\n",
       "</style>\n",
       "<table border=\"1\" class=\"dataframe\">\n",
       "  <thead>\n",
       "    <tr style=\"text-align: right;\">\n",
       "      <th></th>\n",
       "      <th>year</th>\n",
       "      <th>state</th>\n",
       "      <th>district</th>\n",
       "      <th>count</th>\n",
       "      <th>amount</th>\n",
       "    </tr>\n",
       "  </thead>\n",
       "  <tbody>\n",
       "    <tr>\n",
       "      <th>0</th>\n",
       "      <td>2020</td>\n",
       "      <td>andaman-&amp;-nicobar-islands</td>\n",
       "      <td>south andaman district</td>\n",
       "      <td>3</td>\n",
       "      <td>795.0</td>\n",
       "    </tr>\n",
       "    <tr>\n",
       "      <th>1</th>\n",
       "      <td>2020</td>\n",
       "      <td>andaman-&amp;-nicobar-islands</td>\n",
       "      <td>nicobars district</td>\n",
       "      <td>3</td>\n",
       "      <td>565.0</td>\n",
       "    </tr>\n",
       "    <tr>\n",
       "      <th>2</th>\n",
       "      <td>2020</td>\n",
       "      <td>andaman-&amp;-nicobar-islands</td>\n",
       "      <td>north and middle andaman district</td>\n",
       "      <td>1</td>\n",
       "      <td>281.0</td>\n",
       "    </tr>\n",
       "    <tr>\n",
       "      <th>3</th>\n",
       "      <td>2020</td>\n",
       "      <td>andaman-&amp;-nicobar-islands</td>\n",
       "      <td>south andaman district</td>\n",
       "      <td>35</td>\n",
       "      <td>13651.0</td>\n",
       "    </tr>\n",
       "    <tr>\n",
       "      <th>4</th>\n",
       "      <td>2020</td>\n",
       "      <td>andaman-&amp;-nicobar-islands</td>\n",
       "      <td>nicobars district</td>\n",
       "      <td>5</td>\n",
       "      <td>1448.0</td>\n",
       "    </tr>\n",
       "    <tr>\n",
       "      <th>...</th>\n",
       "      <td>...</td>\n",
       "      <td>...</td>\n",
       "      <td>...</td>\n",
       "      <td>...</td>\n",
       "      <td>...</td>\n",
       "    </tr>\n",
       "    <tr>\n",
       "      <th>13871</th>\n",
       "      <td>2024</td>\n",
       "      <td>west-bengal</td>\n",
       "      <td>alipurduar district</td>\n",
       "      <td>1023</td>\n",
       "      <td>1613143.0</td>\n",
       "    </tr>\n",
       "    <tr>\n",
       "      <th>13872</th>\n",
       "      <td>2024</td>\n",
       "      <td>west-bengal</td>\n",
       "      <td>paschim bardhaman district</td>\n",
       "      <td>4945</td>\n",
       "      <td>7005851.0</td>\n",
       "    </tr>\n",
       "    <tr>\n",
       "      <th>13873</th>\n",
       "      <td>2024</td>\n",
       "      <td>west-bengal</td>\n",
       "      <td>nadia district</td>\n",
       "      <td>3807</td>\n",
       "      <td>5031294.0</td>\n",
       "    </tr>\n",
       "    <tr>\n",
       "      <th>13874</th>\n",
       "      <td>2024</td>\n",
       "      <td>west-bengal</td>\n",
       "      <td>birbhum district</td>\n",
       "      <td>1818</td>\n",
       "      <td>2423290.0</td>\n",
       "    </tr>\n",
       "    <tr>\n",
       "      <th>13875</th>\n",
       "      <td>2024</td>\n",
       "      <td>west-bengal</td>\n",
       "      <td>purba medinipur district</td>\n",
       "      <td>3559</td>\n",
       "      <td>4439061.0</td>\n",
       "    </tr>\n",
       "  </tbody>\n",
       "</table>\n",
       "<p>13876 rows × 5 columns</p>\n",
       "</div>"
      ],
      "text/plain": [
       "       year                      state                           district  \\\n",
       "0      2020  andaman-&-nicobar-islands             south andaman district   \n",
       "1      2020  andaman-&-nicobar-islands                  nicobars district   \n",
       "2      2020  andaman-&-nicobar-islands  north and middle andaman district   \n",
       "3      2020  andaman-&-nicobar-islands             south andaman district   \n",
       "4      2020  andaman-&-nicobar-islands                  nicobars district   \n",
       "...     ...                        ...                                ...   \n",
       "13871  2024                west-bengal                alipurduar district   \n",
       "13872  2024                west-bengal         paschim bardhaman district   \n",
       "13873  2024                west-bengal                     nadia district   \n",
       "13874  2024                west-bengal                   birbhum district   \n",
       "13875  2024                west-bengal           purba medinipur district   \n",
       "\n",
       "       count     amount  \n",
       "0          3      795.0  \n",
       "1          3      565.0  \n",
       "2          1      281.0  \n",
       "3         35    13651.0  \n",
       "4          5     1448.0  \n",
       "...      ...        ...  \n",
       "13871   1023  1613143.0  \n",
       "13872   4945  7005851.0  \n",
       "13873   3807  5031294.0  \n",
       "13874   1818  2423290.0  \n",
       "13875   3559  4439061.0  \n",
       "\n",
       "[13876 rows x 5 columns]"
      ]
     },
     "execution_count": 23,
     "metadata": {},
     "output_type": "execute_result"
    }
   ],
   "source": [
    "df4 = pd.read_csv(\"dataset/insurance/map_insurance_hover_state.csv\")\n",
    "df4"
   ]
  },
  {
   "cell_type": "markdown",
   "id": "69ef8657",
   "metadata": {},
   "source": [
    "### **Dataset Info**"
   ]
  },
  {
   "cell_type": "code",
   "execution_count": 24,
   "id": "aa136afd",
   "metadata": {},
   "outputs": [
    {
     "name": "stdout",
     "output_type": "stream",
     "text": [
      "<class 'pandas.core.frame.DataFrame'>\n",
      "RangeIndex: 13876 entries, 0 to 13875\n",
      "Data columns (total 5 columns):\n",
      " #   Column    Non-Null Count  Dtype  \n",
      "---  ------    --------------  -----  \n",
      " 0   year      13876 non-null  int64  \n",
      " 1   state     13876 non-null  object \n",
      " 2   district  13876 non-null  object \n",
      " 3   count     13876 non-null  int64  \n",
      " 4   amount    13876 non-null  float64\n",
      "dtypes: float64(1), int64(2), object(2)\n",
      "memory usage: 542.2+ KB\n"
     ]
    }
   ],
   "source": [
    "df4.info()"
   ]
  },
  {
   "cell_type": "markdown",
   "id": "693a3d91",
   "metadata": {},
   "source": [
    "### **Dataset Describe**"
   ]
  },
  {
   "cell_type": "code",
   "execution_count": 25,
   "id": "c037ba82",
   "metadata": {},
   "outputs": [
    {
     "data": {
      "application/vnd.microsoft.datawrangler.viewer.v0+json": {
       "columns": [
        {
         "name": "index",
         "rawType": "object",
         "type": "string"
        },
        {
         "name": "year",
         "rawType": "float64",
         "type": "float"
        },
        {
         "name": "count",
         "rawType": "float64",
         "type": "float"
        },
        {
         "name": "amount",
         "rawType": "float64",
         "type": "float"
        }
       ],
       "ref": "dd506472-2532-4303-b681-3973111f675e",
       "rows": [
        [
         "count",
         "13876.0",
         "13876.0",
         "13876.0"
        ],
        [
         "mean",
         "2022.1337561256846",
         "1046.1002450273854",
         "1442460.2467569904"
        ],
        [
         "std",
         "1.3755064228609921",
         "3131.6426231687915",
         "4503385.370997758"
        ],
        [
         "min",
         "2020.0",
         "1.0",
         "31.0"
        ],
        [
         "25%",
         "2021.0",
         "113.0",
         "105093.75"
        ],
        [
         "50%",
         "2022.0",
         "332.0",
         "441491.5"
        ],
        [
         "75%",
         "2023.0",
         "909.0",
         "1280078.25"
        ],
        [
         "max",
         "2024.0",
         "96935.0",
         "159224823.0"
        ]
       ],
       "shape": {
        "columns": 3,
        "rows": 8
       }
      },
      "text/html": [
       "<div>\n",
       "<style scoped>\n",
       "    .dataframe tbody tr th:only-of-type {\n",
       "        vertical-align: middle;\n",
       "    }\n",
       "\n",
       "    .dataframe tbody tr th {\n",
       "        vertical-align: top;\n",
       "    }\n",
       "\n",
       "    .dataframe thead th {\n",
       "        text-align: right;\n",
       "    }\n",
       "</style>\n",
       "<table border=\"1\" class=\"dataframe\">\n",
       "  <thead>\n",
       "    <tr style=\"text-align: right;\">\n",
       "      <th></th>\n",
       "      <th>year</th>\n",
       "      <th>count</th>\n",
       "      <th>amount</th>\n",
       "    </tr>\n",
       "  </thead>\n",
       "  <tbody>\n",
       "    <tr>\n",
       "      <th>count</th>\n",
       "      <td>13876.000000</td>\n",
       "      <td>13876.000000</td>\n",
       "      <td>1.387600e+04</td>\n",
       "    </tr>\n",
       "    <tr>\n",
       "      <th>mean</th>\n",
       "      <td>2022.133756</td>\n",
       "      <td>1046.100245</td>\n",
       "      <td>1.442460e+06</td>\n",
       "    </tr>\n",
       "    <tr>\n",
       "      <th>std</th>\n",
       "      <td>1.375506</td>\n",
       "      <td>3131.642623</td>\n",
       "      <td>4.503385e+06</td>\n",
       "    </tr>\n",
       "    <tr>\n",
       "      <th>min</th>\n",
       "      <td>2020.000000</td>\n",
       "      <td>1.000000</td>\n",
       "      <td>3.100000e+01</td>\n",
       "    </tr>\n",
       "    <tr>\n",
       "      <th>25%</th>\n",
       "      <td>2021.000000</td>\n",
       "      <td>113.000000</td>\n",
       "      <td>1.050938e+05</td>\n",
       "    </tr>\n",
       "    <tr>\n",
       "      <th>50%</th>\n",
       "      <td>2022.000000</td>\n",
       "      <td>332.000000</td>\n",
       "      <td>4.414915e+05</td>\n",
       "    </tr>\n",
       "    <tr>\n",
       "      <th>75%</th>\n",
       "      <td>2023.000000</td>\n",
       "      <td>909.000000</td>\n",
       "      <td>1.280078e+06</td>\n",
       "    </tr>\n",
       "    <tr>\n",
       "      <th>max</th>\n",
       "      <td>2024.000000</td>\n",
       "      <td>96935.000000</td>\n",
       "      <td>1.592248e+08</td>\n",
       "    </tr>\n",
       "  </tbody>\n",
       "</table>\n",
       "</div>"
      ],
      "text/plain": [
       "               year         count        amount\n",
       "count  13876.000000  13876.000000  1.387600e+04\n",
       "mean    2022.133756   1046.100245  1.442460e+06\n",
       "std        1.375506   3131.642623  4.503385e+06\n",
       "min     2020.000000      1.000000  3.100000e+01\n",
       "25%     2021.000000    113.000000  1.050938e+05\n",
       "50%     2022.000000    332.000000  4.414915e+05\n",
       "75%     2023.000000    909.000000  1.280078e+06\n",
       "max     2024.000000  96935.000000  1.592248e+08"
      ]
     },
     "execution_count": 25,
     "metadata": {},
     "output_type": "execute_result"
    }
   ],
   "source": [
    "df4.describe()"
   ]
  },
  {
   "cell_type": "markdown",
   "id": "bab83beb",
   "metadata": {},
   "source": [
    "### **Plots**"
   ]
  },
  {
   "cell_type": "code",
   "execution_count": 26,
   "id": "80f546c3",
   "metadata": {},
   "outputs": [
    {
     "data": {
      "application/vnd.microsoft.datawrangler.viewer.v0+json": {
       "columns": [
        {
         "name": "index",
         "rawType": "int64",
         "type": "integer"
        },
        {
         "name": "year",
         "rawType": "int64",
         "type": "integer"
        },
        {
         "name": "district",
         "rawType": "object",
         "type": "string"
        },
        {
         "name": "amount",
         "rawType": "float64",
         "type": "float"
        }
       ],
       "ref": "74334b24-dd4d-455e-a97b-57decbece0c0",
       "rows": [
        [
         "0",
         "2020",
         "bengaluru urban district",
         "26164917.0"
        ],
        [
         "1",
         "2021",
         "bengaluru urban district",
         "113484113.0"
        ],
        [
         "2",
         "2022",
         "bengaluru urban district",
         "322672886.0"
        ],
        [
         "3",
         "2023",
         "bengaluru urban district",
         "445559972.0"
        ],
        [
         "4",
         "2024",
         "bengaluru urban district",
         "584075839.0"
        ]
       ],
       "shape": {
        "columns": 3,
        "rows": 5
       }
      },
      "text/html": [
       "<div>\n",
       "<style scoped>\n",
       "    .dataframe tbody tr th:only-of-type {\n",
       "        vertical-align: middle;\n",
       "    }\n",
       "\n",
       "    .dataframe tbody tr th {\n",
       "        vertical-align: top;\n",
       "    }\n",
       "\n",
       "    .dataframe thead th {\n",
       "        text-align: right;\n",
       "    }\n",
       "</style>\n",
       "<table border=\"1\" class=\"dataframe\">\n",
       "  <thead>\n",
       "    <tr style=\"text-align: right;\">\n",
       "      <th></th>\n",
       "      <th>year</th>\n",
       "      <th>district</th>\n",
       "      <th>amount</th>\n",
       "    </tr>\n",
       "  </thead>\n",
       "  <tbody>\n",
       "    <tr>\n",
       "      <th>0</th>\n",
       "      <td>2020</td>\n",
       "      <td>bengaluru urban district</td>\n",
       "      <td>26164917.0</td>\n",
       "    </tr>\n",
       "    <tr>\n",
       "      <th>1</th>\n",
       "      <td>2021</td>\n",
       "      <td>bengaluru urban district</td>\n",
       "      <td>113484113.0</td>\n",
       "    </tr>\n",
       "    <tr>\n",
       "      <th>2</th>\n",
       "      <td>2022</td>\n",
       "      <td>bengaluru urban district</td>\n",
       "      <td>322672886.0</td>\n",
       "    </tr>\n",
       "    <tr>\n",
       "      <th>3</th>\n",
       "      <td>2023</td>\n",
       "      <td>bengaluru urban district</td>\n",
       "      <td>445559972.0</td>\n",
       "    </tr>\n",
       "    <tr>\n",
       "      <th>4</th>\n",
       "      <td>2024</td>\n",
       "      <td>bengaluru urban district</td>\n",
       "      <td>584075839.0</td>\n",
       "    </tr>\n",
       "  </tbody>\n",
       "</table>\n",
       "</div>"
      ],
      "text/plain": [
       "   year                  district       amount\n",
       "0  2020  bengaluru urban district   26164917.0\n",
       "1  2021  bengaluru urban district  113484113.0\n",
       "2  2022  bengaluru urban district  322672886.0\n",
       "3  2023  bengaluru urban district  445559972.0\n",
       "4  2024  bengaluru urban district  584075839.0"
      ]
     },
     "execution_count": 26,
     "metadata": {},
     "output_type": "execute_result"
    }
   ],
   "source": [
    "# Highest Amount District\n",
    "year_district_amount = df4.groupby(['year', 'district'])['amount'].sum().reset_index()\n",
    "\n",
    "idx = year_district_amount.groupby('year')['amount'].idxmax()\n",
    "top_districts = year_district_amount.loc[idx].reset_index(drop=True)\n",
    "\n",
    "top_districts"
   ]
  },
  {
   "cell_type": "code",
   "execution_count": 27,
   "id": "1c84d8d2",
   "metadata": {},
   "outputs": [
    {
     "data": {
      "image/png": "[encoded data removed]",
      "text/plain": [
       "<Figure size 1000x600 with 1 Axes>"
      ]
     },
     "metadata": {},
     "output_type": "display_data"
    }
   ],
   "source": [
    "plt.figure(figsize=(10,6))\n",
    "plt.bar(top_districts['year'].astype(str), top_districts['amount'], color='blue')\n",
    "\n",
    "for i, (district, amount) in enumerate(zip(top_districts['district'], top_districts['amount'])):\n",
    "    plt.text(i, amount, district, ha='center', va='bottom', fontsize=10)\n",
    "\n",
    "plt.title(\"District with Highest Insurance Amount by Year\")\n",
    "plt.xlabel(\"Year\")\n",
    "plt.ylabel(\"Total Insurance Amount (₹)\")\n",
    "plt.grid(axis='y')\n",
    "plt.show()"
   ]
  },
  {
   "cell_type": "markdown",
   "id": "bd0f41c1",
   "metadata": {},
   "source": [
    "* Bengaluru Urban district held the top spot for insurance amount in every year. \n",
    "* It’s consistently the highest-performing district in insurance."
   ]
  },
  {
   "cell_type": "code",
   "execution_count": 28,
   "id": "58defb0c",
   "metadata": {},
   "outputs": [
    {
     "data": {
      "application/vnd.microsoft.datawrangler.viewer.v0+json": {
       "columns": [
        {
         "name": "index",
         "rawType": "int64",
         "type": "integer"
        },
        {
         "name": "year",
         "rawType": "int64",
         "type": "integer"
        },
        {
         "name": "district",
         "rawType": "object",
         "type": "string"
        },
        {
         "name": "amount",
         "rawType": "float64",
         "type": "float"
        }
       ],
       "ref": "ac9dc865-bd9e-4445-9d0b-6ca26b8e0f09",
       "rows": [
        [
         "0",
         "2020",
         "pherzawl district",
         "32.0"
        ],
        [
         "1",
         "2021",
         "pherzawl district",
         "33.0"
        ],
        [
         "2",
         "2022",
         "shi yomi district",
         "2695.0"
        ],
        [
         "3",
         "2023",
         "kra daadi district",
         "92.0"
        ],
        [
         "4",
         "2024",
         "pherzawl district",
         "31.0"
        ]
       ],
       "shape": {
        "columns": 3,
        "rows": 5
       }
      },
      "text/html": [
       "<div>\n",
       "<style scoped>\n",
       "    .dataframe tbody tr th:only-of-type {\n",
       "        vertical-align: middle;\n",
       "    }\n",
       "\n",
       "    .dataframe tbody tr th {\n",
       "        vertical-align: top;\n",
       "    }\n",
       "\n",
       "    .dataframe thead th {\n",
       "        text-align: right;\n",
       "    }\n",
       "</style>\n",
       "<table border=\"1\" class=\"dataframe\">\n",
       "  <thead>\n",
       "    <tr style=\"text-align: right;\">\n",
       "      <th></th>\n",
       "      <th>year</th>\n",
       "      <th>district</th>\n",
       "      <th>amount</th>\n",
       "    </tr>\n",
       "  </thead>\n",
       "  <tbody>\n",
       "    <tr>\n",
       "      <th>0</th>\n",
       "      <td>2020</td>\n",
       "      <td>pherzawl district</td>\n",
       "      <td>32.0</td>\n",
       "    </tr>\n",
       "    <tr>\n",
       "      <th>1</th>\n",
       "      <td>2021</td>\n",
       "      <td>pherzawl district</td>\n",
       "      <td>33.0</td>\n",
       "    </tr>\n",
       "    <tr>\n",
       "      <th>2</th>\n",
       "      <td>2022</td>\n",
       "      <td>shi yomi district</td>\n",
       "      <td>2695.0</td>\n",
       "    </tr>\n",
       "    <tr>\n",
       "      <th>3</th>\n",
       "      <td>2023</td>\n",
       "      <td>kra daadi district</td>\n",
       "      <td>92.0</td>\n",
       "    </tr>\n",
       "    <tr>\n",
       "      <th>4</th>\n",
       "      <td>2024</td>\n",
       "      <td>pherzawl district</td>\n",
       "      <td>31.0</td>\n",
       "    </tr>\n",
       "  </tbody>\n",
       "</table>\n",
       "</div>"
      ],
      "text/plain": [
       "   year            district  amount\n",
       "0  2020   pherzawl district    32.0\n",
       "1  2021   pherzawl district    33.0\n",
       "2  2022   shi yomi district  2695.0\n",
       "3  2023  kra daadi district    92.0\n",
       "4  2024   pherzawl district    31.0"
      ]
     },
     "execution_count": 28,
     "metadata": {},
     "output_type": "execute_result"
    }
   ],
   "source": [
    "# Lowest Amount District\n",
    "year_district_amount = df4.groupby(['year', 'district'])['amount'].sum().reset_index()\n",
    "\n",
    "idx = year_district_amount.groupby('year')['amount'].idxmin()\n",
    "bottom_districts = year_district_amount.loc[idx].reset_index(drop=True)\n",
    "\n",
    "bottom_districts"
   ]
  },
  {
   "cell_type": "code",
   "execution_count": 29,
   "id": "2365f6ab",
   "metadata": {},
   "outputs": [
    {
     "data": {
      "image/png": "[encoded data removed]",
      "text/plain": [
       "<Figure size 1000x600 with 1 Axes>"
      ]
     },
     "metadata": {},
     "output_type": "display_data"
    }
   ],
   "source": [
    "plt.figure(figsize=(10,6))\n",
    "plt.bar(bottom_districts['year'].astype(str), bottom_districts['amount'], color='blue')\n",
    "\n",
    "for i, (district, amount) in enumerate(zip(bottom_districts['district'], bottom_districts['amount'])):\n",
    "    plt.text(i, amount, district, ha='center', va='bottom', fontsize=10)\n",
    "\n",
    "plt.title(\"District with Lowest Insurance Amount by Year\")\n",
    "plt.xlabel(\"Year\")\n",
    "plt.ylabel(\"Total Insurance Amount (₹)\")\n",
    "plt.grid(axis='y')\n",
    "plt.show()"
   ]
  },
  {
   "cell_type": "markdown",
   "id": "2d516894",
   "metadata": {},
   "source": [
    "* `Pherzawl district` is the most frequently occurring lowest amount district.\n",
    "* `Shi yomi district` had a peak among lowest in 2022\n",
    "* 2022 Seems to be the peak age of the lowest-amount states but not for the Highest"
   ]
  },
  {
   "cell_type": "markdown",
   "id": "f1b57d69",
   "metadata": {},
   "source": [
    "# **Top**"
   ]
  },
  {
   "cell_type": "markdown",
   "id": "fb84c524",
   "metadata": {},
   "source": [
    "## **Country**"
   ]
  },
  {
   "cell_type": "markdown",
   "id": "aa9ecaaa",
   "metadata": {},
   "source": [
    "### **Load CSV**"
   ]
  },
  {
   "cell_type": "code",
   "execution_count": 30,
   "id": "99111708",
   "metadata": {},
   "outputs": [
    {
     "data": {
      "application/vnd.microsoft.datawrangler.viewer.v0+json": {
       "columns": [
        {
         "name": "index",
         "rawType": "int64",
         "type": "integer"
        },
        {
         "name": "year",
         "rawType": "int64",
         "type": "integer"
        },
        {
         "name": "level",
         "rawType": "object",
         "type": "string"
        },
        {
         "name": "entity_name",
         "rawType": "object",
         "type": "string"
        },
        {
         "name": "count",
         "rawType": "int64",
         "type": "integer"
        },
        {
         "name": "amount",
         "rawType": "float64",
         "type": "float"
        }
       ],
       "ref": "d8091a54-8444-4a07-af37-bad579a471fe",
       "rows": [
        [
         "0",
         "2020",
         "state",
         "maharashtra",
         "39836",
         "6879717.0"
        ],
        [
         "1",
         "2020",
         "state",
         "karnataka",
         "27358",
         "4794150.0"
        ],
        [
         "2",
         "2020",
         "state",
         "andhra pradesh",
         "22104",
         "3982391.0"
        ],
        [
         "3",
         "2020",
         "state",
         "telangana",
         "19003",
         "3419453.0"
        ],
        [
         "4",
         "2020",
         "state",
         "delhi",
         "11716",
         "1897480.0"
        ],
        [
         "5",
         "2020",
         "state",
         "uttar pradesh",
         "9884",
         "1912266.0"
        ],
        [
         "6",
         "2020",
         "state",
         "gujarat",
         "7697",
         "1430591.0"
        ],
        [
         "7",
         "2020",
         "state",
         "west bengal",
         "7619",
         "1432764.0"
        ],
        [
         "8",
         "2020",
         "state",
         "haryana",
         "6321",
         "1179814.0"
        ],
        [
         "9",
         "2020",
         "state",
         "madhya pradesh",
         "6283",
         "1198701.0"
        ],
        [
         "10",
         "2020",
         "district",
         "bengaluru urban",
         "20040",
         "3301769.0"
        ],
        [
         "11",
         "2020",
         "district",
         "pune",
         "8699",
         "1482628.0"
        ],
        [
         "12",
         "2020",
         "district",
         "thane",
         "7559",
         "1221018.0"
        ],
        [
         "13",
         "2020",
         "district",
         "mumbai suburban",
         "5780",
         "884439.0"
        ],
        [
         "14",
         "2020",
         "district",
         "hyderabad",
         "4783",
         "805518.0"
        ],
        [
         "15",
         "2020",
         "district",
         "rangareddy",
         "4495",
         "778492.0"
        ],
        [
         "16",
         "2020",
         "district",
         "medchal malkajgiri",
         "4150",
         "711890.0"
        ],
        [
         "17",
         "2020",
         "district",
         "visakhapatnam",
         "3504",
         "614212.0"
        ],
        [
         "18",
         "2020",
         "district",
         "aurangabad",
         "2898",
         "509460.0"
        ],
        [
         "19",
         "2020",
         "district",
         "anantapur",
         "2739",
         "485777.0"
        ],
        [
         "20",
         "2020",
         "pincode",
         "560068",
         "1076",
         "168415.0"
        ],
        [
         "21",
         "2020",
         "pincode",
         "560037",
         "1034",
         "155914.0"
        ],
        [
         "22",
         "2020",
         "pincode",
         "110059",
         "895",
         "132104.0"
        ],
        [
         "23",
         "2020",
         "pincode",
         "560076",
         "802",
         "124790.0"
        ],
        [
         "24",
         "2020",
         "pincode",
         "500072",
         "760",
         "122394.0"
        ],
        [
         "25",
         "2020",
         "pincode",
         "560078",
         "742",
         "119673.0"
        ],
        [
         "26",
         "2020",
         "pincode",
         "421201",
         "668",
         "104388.0"
        ],
        [
         "27",
         "2020",
         "pincode",
         "560100",
         "651",
         "103528.0"
        ],
        [
         "28",
         "2020",
         "pincode",
         "431003",
         "651",
         "107122.0"
        ],
        [
         "29",
         "2020",
         "pincode",
         "110092",
         "638",
         "94570.0"
        ],
        [
         "30",
         "2020",
         "state",
         "maharashtra",
         "71662",
         "19230156.0"
        ],
        [
         "31",
         "2020",
         "state",
         "karnataka",
         "53701",
         "12407394.0"
        ],
        [
         "32",
         "2020",
         "state",
         "andhra pradesh",
         "49812",
         "12426481.0"
        ],
        [
         "33",
         "2020",
         "state",
         "telangana",
         "34395",
         "8406543.0"
        ],
        [
         "34",
         "2020",
         "state",
         "uttar pradesh",
         "18131",
         "4436969.0"
        ],
        [
         "35",
         "2020",
         "state",
         "rajasthan",
         "15235",
         "3758527.0"
        ],
        [
         "36",
         "2020",
         "state",
         "madhya pradesh",
         "14476",
         "3496126.0"
        ],
        [
         "37",
         "2020",
         "state",
         "west bengal",
         "12596",
         "2878482.0"
        ],
        [
         "38",
         "2020",
         "state",
         "gujarat",
         "12525",
         "3335812.0"
        ],
        [
         "39",
         "2020",
         "state",
         "odisha",
         "10955",
         "2640191.0"
        ],
        [
         "40",
         "2020",
         "district",
         "bengaluru urban",
         "32192",
         "6940765.0"
        ],
        [
         "41",
         "2020",
         "district",
         "pune",
         "18176",
         "4567561.0"
        ],
        [
         "42",
         "2020",
         "district",
         "visakhapatnam",
         "7906",
         "1892376.0"
        ],
        [
         "43",
         "2020",
         "district",
         "thane",
         "6951",
         "1718946.0"
        ],
        [
         "44",
         "2020",
         "district",
         "rangareddy",
         "6340",
         "1509162.0"
        ],
        [
         "45",
         "2020",
         "district",
         "hyderabad",
         "6331",
         "1397580.0"
        ],
        [
         "46",
         "2020",
         "district",
         "medchal malkajgiri",
         "5929",
         "1415970.0"
        ],
        [
         "47",
         "2020",
         "district",
         "nashik",
         "5564",
         "1418697.0"
        ],
        [
         "48",
         "2020",
         "district",
         "spsr nellore",
         "5509",
         "1259159.0"
        ],
        [
         "49",
         "2020",
         "district",
         "krishna",
         "4519",
         "1093882.0"
        ]
       ],
       "shape": {
        "columns": 5,
        "rows": 570
       }
      },
      "text/html": [
       "<div>\n",
       "<style scoped>\n",
       "    .dataframe tbody tr th:only-of-type {\n",
       "        vertical-align: middle;\n",
       "    }\n",
       "\n",
       "    .dataframe tbody tr th {\n",
       "        vertical-align: top;\n",
       "    }\n",
       "\n",
       "    .dataframe thead th {\n",
       "        text-align: right;\n",
       "    }\n",
       "</style>\n",
       "<table border=\"1\" class=\"dataframe\">\n",
       "  <thead>\n",
       "    <tr style=\"text-align: right;\">\n",
       "      <th></th>\n",
       "      <th>year</th>\n",
       "      <th>level</th>\n",
       "      <th>entity_name</th>\n",
       "      <th>count</th>\n",
       "      <th>amount</th>\n",
       "    </tr>\n",
       "  </thead>\n",
       "  <tbody>\n",
       "    <tr>\n",
       "      <th>0</th>\n",
       "      <td>2020</td>\n",
       "      <td>state</td>\n",
       "      <td>maharashtra</td>\n",
       "      <td>39836</td>\n",
       "      <td>6879717.0</td>\n",
       "    </tr>\n",
       "    <tr>\n",
       "      <th>1</th>\n",
       "      <td>2020</td>\n",
       "      <td>state</td>\n",
       "      <td>karnataka</td>\n",
       "      <td>27358</td>\n",
       "      <td>4794150.0</td>\n",
       "    </tr>\n",
       "    <tr>\n",
       "      <th>2</th>\n",
       "      <td>2020</td>\n",
       "      <td>state</td>\n",
       "      <td>andhra pradesh</td>\n",
       "      <td>22104</td>\n",
       "      <td>3982391.0</td>\n",
       "    </tr>\n",
       "    <tr>\n",
       "      <th>3</th>\n",
       "      <td>2020</td>\n",
       "      <td>state</td>\n",
       "      <td>telangana</td>\n",
       "      <td>19003</td>\n",
       "      <td>3419453.0</td>\n",
       "    </tr>\n",
       "    <tr>\n",
       "      <th>4</th>\n",
       "      <td>2020</td>\n",
       "      <td>state</td>\n",
       "      <td>delhi</td>\n",
       "      <td>11716</td>\n",
       "      <td>1897480.0</td>\n",
       "    </tr>\n",
       "    <tr>\n",
       "      <th>...</th>\n",
       "      <td>...</td>\n",
       "      <td>...</td>\n",
       "      <td>...</td>\n",
       "      <td>...</td>\n",
       "      <td>...</td>\n",
       "    </tr>\n",
       "    <tr>\n",
       "      <th>565</th>\n",
       "      <td>2024</td>\n",
       "      <td>pincode</td>\n",
       "      <td>500072</td>\n",
       "      <td>2743</td>\n",
       "      <td>4242713.0</td>\n",
       "    </tr>\n",
       "    <tr>\n",
       "      <th>566</th>\n",
       "      <td>2024</td>\n",
       "      <td>pincode</td>\n",
       "      <td>560037</td>\n",
       "      <td>2720</td>\n",
       "      <td>4500835.0</td>\n",
       "    </tr>\n",
       "    <tr>\n",
       "      <th>567</th>\n",
       "      <td>2024</td>\n",
       "      <td>pincode</td>\n",
       "      <td>122001</td>\n",
       "      <td>2604</td>\n",
       "      <td>3793725.0</td>\n",
       "    </tr>\n",
       "    <tr>\n",
       "      <th>568</th>\n",
       "      <td>2024</td>\n",
       "      <td>pincode</td>\n",
       "      <td>560066</td>\n",
       "      <td>2453</td>\n",
       "      <td>4252390.0</td>\n",
       "    </tr>\n",
       "    <tr>\n",
       "      <th>569</th>\n",
       "      <td>2024</td>\n",
       "      <td>pincode</td>\n",
       "      <td>500081</td>\n",
       "      <td>2391</td>\n",
       "      <td>3983642.0</td>\n",
       "    </tr>\n",
       "  </tbody>\n",
       "</table>\n",
       "<p>570 rows × 5 columns</p>\n",
       "</div>"
      ],
      "text/plain": [
       "     year    level     entity_name  count     amount\n",
       "0    2020    state     maharashtra  39836  6879717.0\n",
       "1    2020    state       karnataka  27358  4794150.0\n",
       "2    2020    state  andhra pradesh  22104  3982391.0\n",
       "3    2020    state       telangana  19003  3419453.0\n",
       "4    2020    state           delhi  11716  1897480.0\n",
       "..    ...      ...             ...    ...        ...\n",
       "565  2024  pincode          500072   2743  4242713.0\n",
       "566  2024  pincode          560037   2720  4500835.0\n",
       "567  2024  pincode          122001   2604  3793725.0\n",
       "568  2024  pincode          560066   2453  4252390.0\n",
       "569  2024  pincode          500081   2391  3983642.0\n",
       "\n",
       "[570 rows x 5 columns]"
      ]
     },
     "execution_count": 30,
     "metadata": {},
     "output_type": "execute_result"
    }
   ],
   "source": [
    "df5 = pd.read_csv(\"dataset/insurance/top_insurance_country.csv\")\n",
    "df5"
   ]
  },
  {
   "cell_type": "markdown",
   "id": "ef5e63dc",
   "metadata": {},
   "source": [
    "### **Dataset Info**"
   ]
  },
  {
   "cell_type": "code",
   "execution_count": 31,
   "id": "46b5ba51",
   "metadata": {},
   "outputs": [
    {
     "name": "stdout",
     "output_type": "stream",
     "text": [
      "<class 'pandas.core.frame.DataFrame'>\n",
      "RangeIndex: 570 entries, 0 to 569\n",
      "Data columns (total 5 columns):\n",
      " #   Column       Non-Null Count  Dtype  \n",
      "---  ------       --------------  -----  \n",
      " 0   year         570 non-null    int64  \n",
      " 1   level        570 non-null    object \n",
      " 2   entity_name  570 non-null    object \n",
      " 3   count        570 non-null    int64  \n",
      " 4   amount       570 non-null    float64\n",
      "dtypes: float64(1), int64(2), object(2)\n",
      "memory usage: 22.4+ KB\n"
     ]
    }
   ],
   "source": [
    "df5.info()"
   ]
  },
  {
   "cell_type": "markdown",
   "id": "c607d4d8",
   "metadata": {},
   "source": [
    "### **Dataset Describe**"
   ]
  },
  {
   "cell_type": "code",
   "execution_count": 32,
   "id": "1c644d28",
   "metadata": {},
   "outputs": [
    {
     "data": {
      "application/vnd.microsoft.datawrangler.viewer.v0+json": {
       "columns": [
        {
         "name": "index",
         "rawType": "object",
         "type": "string"
        },
        {
         "name": "year",
         "rawType": "float64",
         "type": "float"
        },
        {
         "name": "count",
         "rawType": "float64",
         "type": "float"
        },
        {
         "name": "amount",
         "rawType": "float64",
         "type": "float"
        }
       ],
       "ref": "9eab527f-f8bb-46c8-827c-9bcc2f06cc60",
       "rows": [
        [
         "count",
         "570.0",
         "570.0",
         "570.0"
        ],
        [
         "mean",
         "2022.1052631578948",
         "25089.05789473684",
         "33430405.089473683"
        ],
        [
         "std",
         "1.373669166166979",
         "33546.10476071743",
         "51354454.99936767"
        ],
        [
         "min",
         "2020.0",
         "465.0",
         "94570.0"
        ],
        [
         "25%",
         "2021.0",
         "2407.5",
         "2657362.75"
        ],
        [
         "50%",
         "2022.0",
         "11772.5",
         "9881336.5"
        ],
        [
         "75%",
         "2023.0",
         "34902.0",
         "40860231.75"
        ],
        [
         "max",
         "2024.0",
         "183532.0",
         "305861806.0"
        ]
       ],
       "shape": {
        "columns": 3,
        "rows": 8
       }
      },
      "text/html": [
       "<div>\n",
       "<style scoped>\n",
       "    .dataframe tbody tr th:only-of-type {\n",
       "        vertical-align: middle;\n",
       "    }\n",
       "\n",
       "    .dataframe tbody tr th {\n",
       "        vertical-align: top;\n",
       "    }\n",
       "\n",
       "    .dataframe thead th {\n",
       "        text-align: right;\n",
       "    }\n",
       "</style>\n",
       "<table border=\"1\" class=\"dataframe\">\n",
       "  <thead>\n",
       "    <tr style=\"text-align: right;\">\n",
       "      <th></th>\n",
       "      <th>year</th>\n",
       "      <th>count</th>\n",
       "      <th>amount</th>\n",
       "    </tr>\n",
       "  </thead>\n",
       "  <tbody>\n",
       "    <tr>\n",
       "      <th>count</th>\n",
       "      <td>570.000000</td>\n",
       "      <td>570.000000</td>\n",
       "      <td>5.700000e+02</td>\n",
       "    </tr>\n",
       "    <tr>\n",
       "      <th>mean</th>\n",
       "      <td>2022.105263</td>\n",
       "      <td>25089.057895</td>\n",
       "      <td>3.343041e+07</td>\n",
       "    </tr>\n",
       "    <tr>\n",
       "      <th>std</th>\n",
       "      <td>1.373669</td>\n",
       "      <td>33546.104761</td>\n",
       "      <td>5.135445e+07</td>\n",
       "    </tr>\n",
       "    <tr>\n",
       "      <th>min</th>\n",
       "      <td>2020.000000</td>\n",
       "      <td>465.000000</td>\n",
       "      <td>9.457000e+04</td>\n",
       "    </tr>\n",
       "    <tr>\n",
       "      <th>25%</th>\n",
       "      <td>2021.000000</td>\n",
       "      <td>2407.500000</td>\n",
       "      <td>2.657363e+06</td>\n",
       "    </tr>\n",
       "    <tr>\n",
       "      <th>50%</th>\n",
       "      <td>2022.000000</td>\n",
       "      <td>11772.500000</td>\n",
       "      <td>9.881336e+06</td>\n",
       "    </tr>\n",
       "    <tr>\n",
       "      <th>75%</th>\n",
       "      <td>2023.000000</td>\n",
       "      <td>34902.000000</td>\n",
       "      <td>4.086023e+07</td>\n",
       "    </tr>\n",
       "    <tr>\n",
       "      <th>max</th>\n",
       "      <td>2024.000000</td>\n",
       "      <td>183532.000000</td>\n",
       "      <td>3.058618e+08</td>\n",
       "    </tr>\n",
       "  </tbody>\n",
       "</table>\n",
       "</div>"
      ],
      "text/plain": [
       "              year          count        amount\n",
       "count   570.000000     570.000000  5.700000e+02\n",
       "mean   2022.105263   25089.057895  3.343041e+07\n",
       "std       1.373669   33546.104761  5.135445e+07\n",
       "min    2020.000000     465.000000  9.457000e+04\n",
       "25%    2021.000000    2407.500000  2.657363e+06\n",
       "50%    2022.000000   11772.500000  9.881336e+06\n",
       "75%    2023.000000   34902.000000  4.086023e+07\n",
       "max    2024.000000  183532.000000  3.058618e+08"
      ]
     },
     "execution_count": 32,
     "metadata": {},
     "output_type": "execute_result"
    }
   ],
   "source": [
    "df5.describe()"
   ]
  },
  {
   "cell_type": "code",
   "execution_count": 33,
   "id": "10c1921f",
   "metadata": {},
   "outputs": [
    {
     "data": {
      "application/vnd.microsoft.datawrangler.viewer.v0+json": {
       "columns": [
        {
         "name": "entity_name",
         "rawType": "object",
         "type": "string"
        },
        {
         "name": "count",
         "rawType": "int64",
         "type": "integer"
        }
       ],
       "ref": "57f77545-56d6-4b83-a259-aa64d89421dd",
       "rows": [
        [
         "maharashtra",
         "19"
        ],
        [
         "karnataka",
         "19"
        ],
        [
         "telangana",
         "19"
        ],
        [
         "uttar pradesh",
         "19"
        ],
        [
         "west bengal",
         "19"
        ],
        [
         "tamil nadu",
         "17"
        ],
        [
         "delhi",
         "16"
        ],
        [
         "andhra pradesh",
         "13"
        ],
        [
         "kerala",
         "12"
        ],
        [
         "rajasthan",
         "12"
        ],
        [
         "haryana",
         "8"
        ],
        [
         "gujarat",
         "6"
        ],
        [
         "madhya pradesh",
         "5"
        ],
        [
         "bihar",
         "5"
        ],
        [
         "odisha",
         "1"
        ]
       ],
       "shape": {
        "columns": 1,
        "rows": 15
       }
      },
      "text/plain": [
       "entity_name\n",
       "maharashtra       19\n",
       "karnataka         19\n",
       "telangana         19\n",
       "uttar pradesh     19\n",
       "west bengal       19\n",
       "tamil nadu        17\n",
       "delhi             16\n",
       "andhra pradesh    13\n",
       "kerala            12\n",
       "rajasthan         12\n",
       "haryana            8\n",
       "gujarat            6\n",
       "madhya pradesh     5\n",
       "bihar              5\n",
       "odisha             1\n",
       "Name: count, dtype: int64"
      ]
     },
     "execution_count": 33,
     "metadata": {},
     "output_type": "execute_result"
    }
   ],
   "source": [
    "df5[df5['level']=='state']['entity_name'].value_counts()"
   ]
  },
  {
   "cell_type": "code",
   "execution_count": 34,
   "id": "cf9fe99a",
   "metadata": {},
   "outputs": [
    {
     "data": {
      "application/vnd.microsoft.datawrangler.viewer.v0+json": {
       "columns": [
        {
         "name": "entity_name",
         "rawType": "object",
         "type": "string"
        },
        {
         "name": "count",
         "rawType": "int64",
         "type": "integer"
        }
       ],
       "ref": "389c96d1-d068-43d6-a3d8-f40d334295b3",
       "rows": [
        [
         "bengaluru urban",
         "19"
        ],
        [
         "pune",
         "19"
        ],
        [
         "thane",
         "19"
        ],
        [
         "rangareddy",
         "19"
        ],
        [
         "mumbai suburban",
         "17"
        ],
        [
         "medchal malkajgiri",
         "16"
        ],
        [
         "chennai",
         "14"
        ],
        [
         "gurugram",
         "11"
        ],
        [
         "hyderabad",
         "11"
        ],
        [
         "jaipur",
         "11"
        ],
        [
         "visakhapatnam",
         "5"
        ],
        [
         "north twenty four parganas",
         "5"
        ],
        [
         "thiruvallur",
         "5"
        ],
        [
         "nashik",
         "3"
        ],
        [
         "ernakulam",
         "3"
        ],
        [
         "kolkata",
         "3"
        ],
        [
         "ahmadabad",
         "2"
        ],
        [
         "aurangabad",
         "1"
        ],
        [
         "anantapur",
         "1"
        ],
        [
         "spsr nellore",
         "1"
        ],
        [
         "krishna",
         "1"
        ],
        [
         "prakasam",
         "1"
        ],
        [
         "coimbatore",
         "1"
        ],
        [
         "surat",
         "1"
        ],
        [
         "ahmedabad",
         "1"
        ]
       ],
       "shape": {
        "columns": 1,
        "rows": 25
       }
      },
      "text/plain": [
       "entity_name\n",
       "bengaluru urban               19\n",
       "pune                          19\n",
       "thane                         19\n",
       "rangareddy                    19\n",
       "mumbai suburban               17\n",
       "medchal malkajgiri            16\n",
       "chennai                       14\n",
       "gurugram                      11\n",
       "hyderabad                     11\n",
       "jaipur                        11\n",
       "visakhapatnam                  5\n",
       "north twenty four parganas     5\n",
       "thiruvallur                    5\n",
       "nashik                         3\n",
       "ernakulam                      3\n",
       "kolkata                        3\n",
       "ahmadabad                      2\n",
       "aurangabad                     1\n",
       "anantapur                      1\n",
       "spsr nellore                   1\n",
       "krishna                        1\n",
       "prakasam                       1\n",
       "coimbatore                     1\n",
       "surat                          1\n",
       "ahmedabad                      1\n",
       "Name: count, dtype: int64"
      ]
     },
     "execution_count": 34,
     "metadata": {},
     "output_type": "execute_result"
    }
   ],
   "source": [
    "df5[df5['level']=='district']['entity_name'].value_counts()"
   ]
  },
  {
   "cell_type": "code",
   "execution_count": 35,
   "id": "d4631090",
   "metadata": {},
   "outputs": [
    {
     "data": {
      "application/vnd.microsoft.datawrangler.viewer.v0+json": {
       "columns": [
        {
         "name": "entity_name",
         "rawType": "object",
         "type": "string"
        },
        {
         "name": "count",
         "rawType": "int64",
         "type": "integer"
        }
       ],
       "ref": "b28b0d3a-4945-4b74-84a1-933048bd8711",
       "rows": [
        [
         "560068",
         "19"
        ],
        [
         "500072",
         "17"
        ],
        [
         "560076",
         "16"
        ],
        [
         "560078",
         "15"
        ],
        [
         "560037",
         "14"
        ],
        [
         "201301",
         "14"
        ],
        [
         "560043",
         "14"
        ],
        [
         "122001",
         "11"
        ],
        [
         "560100",
         "8"
        ],
        [
         "411057",
         "7"
        ],
        [
         "421302",
         "7"
        ],
        [
         "110059",
         "6"
        ],
        [
         "560058",
         "6"
        ],
        [
         "560091",
         "6"
        ],
        [
         "560079",
         "3"
        ],
        [
         "410501",
         "3"
        ],
        [
         "712138",
         "2"
        ],
        [
         "421201",
         "2"
        ],
        [
         "431003",
         "2"
        ],
        [
         "560066",
         "2"
        ],
        [
         "421301",
         "2"
        ],
        [
         "535003",
         "1"
        ],
        [
         "110092",
         "1"
        ],
        [
         "700046",
         "1"
        ],
        [
         "345021",
         "1"
        ],
        [
         "411033",
         "1"
        ],
        [
         "110042",
         "1"
        ],
        [
         "412105",
         "1"
        ],
        [
         "523002",
         "1"
        ],
        [
         "122006",
         "1"
        ],
        [
         "110086",
         "1"
        ],
        [
         "203001",
         "1"
        ],
        [
         "560064",
         "1"
        ],
        [
         "560103",
         "1"
        ],
        [
         "500081",
         "1"
        ]
       ],
       "shape": {
        "columns": 1,
        "rows": 35
       }
      },
      "text/plain": [
       "entity_name\n",
       "560068    19\n",
       "500072    17\n",
       "560076    16\n",
       "560078    15\n",
       "560037    14\n",
       "201301    14\n",
       "560043    14\n",
       "122001    11\n",
       "560100     8\n",
       "411057     7\n",
       "421302     7\n",
       "110059     6\n",
       "560058     6\n",
       "560091     6\n",
       "560079     3\n",
       "410501     3\n",
       "712138     2\n",
       "421201     2\n",
       "431003     2\n",
       "560066     2\n",
       "421301     2\n",
       "535003     1\n",
       "110092     1\n",
       "700046     1\n",
       "345021     1\n",
       "411033     1\n",
       "110042     1\n",
       "412105     1\n",
       "523002     1\n",
       "122006     1\n",
       "110086     1\n",
       "203001     1\n",
       "560064     1\n",
       "560103     1\n",
       "500081     1\n",
       "Name: count, dtype: int64"
      ]
     },
     "execution_count": 35,
     "metadata": {},
     "output_type": "execute_result"
    }
   ],
   "source": [
    "df5[df5['level']=='pincode']['entity_name'].value_counts()"
   ]
  },
  {
   "cell_type": "markdown",
   "id": "a4f81814",
   "metadata": {},
   "source": [
    "### **Plots**"
   ]
  },
  {
   "cell_type": "code",
   "execution_count": 36,
   "id": "b712f07a",
   "metadata": {},
   "outputs": [
    {
     "data": {
      "image/png": "[encoded data removed]",
      "text/plain": [
       "<Figure size 1200x600 with 1 Axes>"
      ]
     },
     "metadata": {},
     "output_type": "display_data"
    }
   ],
   "source": [
    "# filter top states\n",
    "top_states = df5[df5['level'] == 'state']\n",
    "\n",
    "plt.figure(figsize=(12,6))\n",
    "plt.bar(top_states['entity_name'], top_states['amount'], color='green')\n",
    "plt.xticks(rotation=45)\n",
    "plt.title(\"Top States by Total Insurance Amount\")\n",
    "plt.xlabel(\"State\")\n",
    "plt.ylabel(\"Total Insurance Amount (₹)\")\n",
    "plt.grid(axis='y')\n",
    "plt.show()"
   ]
  },
  {
   "cell_type": "markdown",
   "id": "99191241",
   "metadata": {},
   "source": [
    "* Karnataka & Maharashtra are almost similar in state level.\n",
    "* UP & Tamil Nadu are average. \n",
    "* The rest are below averages. \n",
    "* Odisha & Madya Pradesh are very bottom."
   ]
  },
  {
   "cell_type": "code",
   "execution_count": 37,
   "id": "099a6043",
   "metadata": {},
   "outputs": [
    {
     "data": {
      "image/png": "[encoded data removed]",
      "text/plain": [
       "<Figure size 1200x600 with 1 Axes>"
      ]
     },
     "metadata": {},
     "output_type": "display_data"
    }
   ],
   "source": [
    "# filter top districts\n",
    "top_districts = df5[df5['level'] == 'district']\n",
    "\n",
    "plt.figure(figsize=(12,6))\n",
    "plt.bar(top_districts['entity_name'], top_districts['amount'], color='blue')\n",
    "plt.xticks(rotation=90)\n",
    "plt.title(\"Top Districts by Total Insurance Amount\")\n",
    "plt.xlabel(\"District\")\n",
    "plt.ylabel(\"Total Insurance Amount (₹)\")\n",
    "plt.grid(axis='y')\n",
    "plt.show()"
   ]
  },
  {
   "cell_type": "markdown",
   "id": "499c10e5",
   "metadata": {},
   "source": [
    "* Bengaluru urban district has a huge lead compared to others.\n",
    "* Statewise, most are similar.\n",
    "* Second best is Pune, which didn't even reach half of the Bengaluru urban district. "
   ]
  },
  {
   "cell_type": "code",
   "execution_count": 38,
   "id": "fb86aa1b",
   "metadata": {},
   "outputs": [
    {
     "data": {
      "image/png": "[encoded data removed]",
      "text/plain": [
       "<Figure size 1200x600 with 1 Axes>"
      ]
     },
     "metadata": {},
     "output_type": "display_data"
    }
   ],
   "source": [
    "# filter top pincodes\n",
    "top_pincodes = df5[df5['level'] == 'pincode']\n",
    "\n",
    "plt.figure(figsize=(12,6))\n",
    "plt.bar(top_pincodes['entity_name'], top_pincodes['amount'], color='orange')\n",
    "plt.xticks(rotation=45)\n",
    "plt.title(\"Top Pincodes by Total Insurance Amount\")\n",
    "plt.xlabel(\"Pincode\")\n",
    "plt.ylabel(\"Total Insurance Amount (₹)\")\n",
    "plt.grid(axis='y')\n",
    "plt.show()"
   ]
  },
  {
   "cell_type": "markdown",
   "id": "a6c30873",
   "metadata": {},
   "source": [
    "## **State**"
   ]
  },
  {
   "cell_type": "markdown",
   "id": "e721d961",
   "metadata": {},
   "source": [
    "### **Load CSV**"
   ]
  },
  {
   "cell_type": "code",
   "execution_count": 39,
   "id": "655bdd7d",
   "metadata": {},
   "outputs": [
    {
     "data": {
      "application/vnd.microsoft.datawrangler.viewer.v0+json": {
       "columns": [
        {
         "name": "index",
         "rawType": "int64",
         "type": "integer"
        },
        {
         "name": "year",
         "rawType": "int64",
         "type": "integer"
        },
        {
         "name": "state",
         "rawType": "object",
         "type": "string"
        },
        {
         "name": "level",
         "rawType": "object",
         "type": "string"
        },
        {
         "name": "entity_name",
         "rawType": "object",
         "type": "unknown"
        },
        {
         "name": "count",
         "rawType": "int64",
         "type": "integer"
        },
        {
         "name": "amount",
         "rawType": "float64",
         "type": "float"
        }
       ],
       "ref": "8ae4aa25-5ee3-436a-b213-b743129c93d4",
       "rows": [
        [
         "0",
         "2020",
         "andaman-&-nicobar-islands",
         "district",
         "nicobars",
         "3",
         "565.0"
        ],
        [
         "1",
         "2020",
         "andaman-&-nicobar-islands",
         "district",
         "south andaman",
         "3",
         "795.0"
        ],
        [
         "2",
         "2020",
         "andaman-&-nicobar-islands",
         "pincode",
         "744301",
         "3",
         "565.0"
        ],
        [
         "3",
         "2020",
         "andaman-&-nicobar-islands",
         "pincode",
         "744104",
         "2",
         "513.0"
        ],
        [
         "4",
         "2020",
         "andaman-&-nicobar-islands",
         "pincode",
         "744101",
         "1",
         "282.0"
        ],
        [
         "5",
         "2020",
         "andaman-&-nicobar-islands",
         "district",
         "south andaman",
         "35",
         "13651.0"
        ],
        [
         "6",
         "2020",
         "andaman-&-nicobar-islands",
         "district",
         "nicobars",
         "5",
         "1448.0"
        ],
        [
         "7",
         "2020",
         "andaman-&-nicobar-islands",
         "district",
         "north and middle andaman",
         "1",
         "281.0"
        ],
        [
         "8",
         "2020",
         "andaman-&-nicobar-islands",
         "pincode",
         "744112",
         "9",
         "3432.0"
        ],
        [
         "9",
         "2020",
         "andaman-&-nicobar-islands",
         "pincode",
         "744105",
         "7",
         "3948.0"
        ],
        [
         "10",
         "2020",
         "andaman-&-nicobar-islands",
         "pincode",
         "744101",
         "5",
         "2194.0"
        ],
        [
         "11",
         "2020",
         "andaman-&-nicobar-islands",
         "pincode",
         "744206",
         "4",
         "1620.0"
        ],
        [
         "12",
         "2020",
         "andaman-&-nicobar-islands",
         "pincode",
         "744107",
         "3",
         "1095.0"
        ],
        [
         "13",
         "2020",
         "andaman-&-nicobar-islands",
         "pincode",
         "744103",
         "3",
         "947.0"
        ],
        [
         "14",
         "2020",
         "andaman-&-nicobar-islands",
         "pincode",
         "744302",
         "3",
         "562.0"
        ],
        [
         "15",
         "2020",
         "andaman-&-nicobar-islands",
         "pincode",
         "744211",
         "2",
         "101.0"
        ],
        [
         "16",
         "2020",
         "andaman-&-nicobar-islands",
         "pincode",
         "744301",
         "2",
         "886.0"
        ],
        [
         "17",
         "2020",
         "andaman-&-nicobar-islands",
         "pincode",
         "744102",
         "2",
         "314.0"
        ],
        [
         "18",
         "2020",
         "andaman-&-nicobar-islands",
         "district",
         "south andaman",
         "109",
         "137494.0"
        ],
        [
         "19",
         "2020",
         "andaman-&-nicobar-islands",
         "district",
         "north and middle andaman",
         "13",
         "17734.0"
        ],
        [
         "20",
         "2020",
         "andaman-&-nicobar-islands",
         "district",
         "nicobars",
         "2",
         "2747.0"
        ],
        [
         "21",
         "2020",
         "andaman-&-nicobar-islands",
         "pincode",
         "744105",
         "25",
         "25659.0"
        ],
        [
         "22",
         "2020",
         "andaman-&-nicobar-islands",
         "pincode",
         "744101",
         "23",
         "29686.0"
        ],
        [
         "23",
         "2020",
         "andaman-&-nicobar-islands",
         "pincode",
         "744103",
         "18",
         "24904.0"
        ],
        [
         "24",
         "2020",
         "andaman-&-nicobar-islands",
         "pincode",
         "744102",
         "17",
         "25073.0"
        ],
        [
         "25",
         "2020",
         "andaman-&-nicobar-islands",
         "pincode",
         "744112",
         "8",
         "10459.0"
        ],
        [
         "26",
         "2020",
         "andaman-&-nicobar-islands",
         "pincode",
         "744106",
         "6",
         "4840.0"
        ],
        [
         "27",
         "2020",
         "andaman-&-nicobar-islands",
         "pincode",
         "744204",
         "6",
         "11659.0"
        ],
        [
         "28",
         "2020",
         "andaman-&-nicobar-islands",
         "pincode",
         "744104",
         "4",
         "10271.0"
        ],
        [
         "29",
         "2020",
         "andaman-&-nicobar-islands",
         "pincode",
         "744206",
         "3",
         "100.0"
        ],
        [
         "30",
         "2020",
         "andaman-&-nicobar-islands",
         "pincode",
         "744205",
         "3",
         "5235.0"
        ],
        [
         "31",
         "2021",
         "andaman-&-nicobar-islands",
         "district",
         "south andaman",
         "164",
         "167044.0"
        ],
        [
         "32",
         "2021",
         "andaman-&-nicobar-islands",
         "district",
         "north and middle andaman",
         "48",
         "63978.0"
        ],
        [
         "33",
         "2021",
         "andaman-&-nicobar-islands",
         "district",
         "nicobars",
         "13",
         "13244.0"
        ],
        [
         "34",
         "2021",
         "andaman-&-nicobar-islands",
         "pincode",
         "744105",
         "47",
         "53060.0"
        ],
        [
         "35",
         "2021",
         "andaman-&-nicobar-islands",
         "pincode",
         "744103",
         "35",
         "39985.0"
        ],
        [
         "36",
         "2021",
         "andaman-&-nicobar-islands",
         "pincode",
         "744101",
         "33",
         "24571.0"
        ],
        [
         "37",
         "2021",
         "andaman-&-nicobar-islands",
         "pincode",
         "744204",
         "25",
         "29635.0"
        ],
        [
         "38",
         "2021",
         "andaman-&-nicobar-islands",
         "pincode",
         "744202",
         "12",
         "17588.0"
        ],
        [
         "39",
         "2021",
         "andaman-&-nicobar-islands",
         "pincode",
         "744102",
         "12",
         "14085.0"
        ],
        [
         "40",
         "2021",
         "andaman-&-nicobar-islands",
         "pincode",
         "744104",
         "9",
         "7310.0"
        ],
        [
         "41",
         "2021",
         "andaman-&-nicobar-islands",
         "pincode",
         "744107",
         "8",
         "9253.0"
        ],
        [
         "42",
         "2021",
         "andaman-&-nicobar-islands",
         "pincode",
         "744205",
         "7",
         "11223.0"
        ],
        [
         "43",
         "2021",
         "andaman-&-nicobar-islands",
         "pincode",
         "744301",
         "7",
         "6612.0"
        ],
        [
         "44",
         "2021",
         "andaman-&-nicobar-islands",
         "district",
         "south andaman",
         "105",
         "121104.0"
        ],
        [
         "45",
         "2021",
         "andaman-&-nicobar-islands",
         "district",
         "north and middle andaman",
         "28",
         "45311.0"
        ],
        [
         "46",
         "2021",
         "andaman-&-nicobar-islands",
         "district",
         "nicobars",
         "4",
         "15089.0"
        ],
        [
         "47",
         "2021",
         "andaman-&-nicobar-islands",
         "pincode",
         "744103",
         "36",
         "33716.0"
        ],
        [
         "48",
         "2021",
         "andaman-&-nicobar-islands",
         "pincode",
         "744101",
         "17",
         "19787.0"
        ],
        [
         "49",
         "2021",
         "andaman-&-nicobar-islands",
         "pincode",
         "744105",
         "15",
         "17163.0"
        ]
       ],
       "shape": {
        "columns": 6,
        "rows": 12276
       }
      },
      "text/html": [
       "<div>\n",
       "<style scoped>\n",
       "    .dataframe tbody tr th:only-of-type {\n",
       "        vertical-align: middle;\n",
       "    }\n",
       "\n",
       "    .dataframe tbody tr th {\n",
       "        vertical-align: top;\n",
       "    }\n",
       "\n",
       "    .dataframe thead th {\n",
       "        text-align: right;\n",
       "    }\n",
       "</style>\n",
       "<table border=\"1\" class=\"dataframe\">\n",
       "  <thead>\n",
       "    <tr style=\"text-align: right;\">\n",
       "      <th></th>\n",
       "      <th>year</th>\n",
       "      <th>state</th>\n",
       "      <th>level</th>\n",
       "      <th>entity_name</th>\n",
       "      <th>count</th>\n",
       "      <th>amount</th>\n",
       "    </tr>\n",
       "  </thead>\n",
       "  <tbody>\n",
       "    <tr>\n",
       "      <th>0</th>\n",
       "      <td>2020</td>\n",
       "      <td>andaman-&amp;-nicobar-islands</td>\n",
       "      <td>district</td>\n",
       "      <td>nicobars</td>\n",
       "      <td>3</td>\n",
       "      <td>565.0</td>\n",
       "    </tr>\n",
       "    <tr>\n",
       "      <th>1</th>\n",
       "      <td>2020</td>\n",
       "      <td>andaman-&amp;-nicobar-islands</td>\n",
       "      <td>district</td>\n",
       "      <td>south andaman</td>\n",
       "      <td>3</td>\n",
       "      <td>795.0</td>\n",
       "    </tr>\n",
       "    <tr>\n",
       "      <th>2</th>\n",
       "      <td>2020</td>\n",
       "      <td>andaman-&amp;-nicobar-islands</td>\n",
       "      <td>pincode</td>\n",
       "      <td>744301</td>\n",
       "      <td>3</td>\n",
       "      <td>565.0</td>\n",
       "    </tr>\n",
       "    <tr>\n",
       "      <th>3</th>\n",
       "      <td>2020</td>\n",
       "      <td>andaman-&amp;-nicobar-islands</td>\n",
       "      <td>pincode</td>\n",
       "      <td>744104</td>\n",
       "      <td>2</td>\n",
       "      <td>513.0</td>\n",
       "    </tr>\n",
       "    <tr>\n",
       "      <th>4</th>\n",
       "      <td>2020</td>\n",
       "      <td>andaman-&amp;-nicobar-islands</td>\n",
       "      <td>pincode</td>\n",
       "      <td>744101</td>\n",
       "      <td>1</td>\n",
       "      <td>282.0</td>\n",
       "    </tr>\n",
       "    <tr>\n",
       "      <th>...</th>\n",
       "      <td>...</td>\n",
       "      <td>...</td>\n",
       "      <td>...</td>\n",
       "      <td>...</td>\n",
       "      <td>...</td>\n",
       "      <td>...</td>\n",
       "    </tr>\n",
       "    <tr>\n",
       "      <th>12271</th>\n",
       "      <td>2024</td>\n",
       "      <td>west-bengal</td>\n",
       "      <td>pincode</td>\n",
       "      <td>711101</td>\n",
       "      <td>713</td>\n",
       "      <td>750354.0</td>\n",
       "    </tr>\n",
       "    <tr>\n",
       "      <th>12272</th>\n",
       "      <td>2024</td>\n",
       "      <td>west-bengal</td>\n",
       "      <td>pincode</td>\n",
       "      <td>700091</td>\n",
       "      <td>642</td>\n",
       "      <td>969634.0</td>\n",
       "    </tr>\n",
       "    <tr>\n",
       "      <th>12273</th>\n",
       "      <td>2024</td>\n",
       "      <td>west-bengal</td>\n",
       "      <td>pincode</td>\n",
       "      <td>700150</td>\n",
       "      <td>627</td>\n",
       "      <td>761501.0</td>\n",
       "    </tr>\n",
       "    <tr>\n",
       "      <th>12274</th>\n",
       "      <td>2024</td>\n",
       "      <td>west-bengal</td>\n",
       "      <td>pincode</td>\n",
       "      <td>700039</td>\n",
       "      <td>619</td>\n",
       "      <td>787836.0</td>\n",
       "    </tr>\n",
       "    <tr>\n",
       "      <th>12275</th>\n",
       "      <td>2024</td>\n",
       "      <td>west-bengal</td>\n",
       "      <td>pincode</td>\n",
       "      <td>700156</td>\n",
       "      <td>574</td>\n",
       "      <td>888613.0</td>\n",
       "    </tr>\n",
       "  </tbody>\n",
       "</table>\n",
       "<p>12276 rows × 6 columns</p>\n",
       "</div>"
      ],
      "text/plain": [
       "       year                      state     level    entity_name  count  \\\n",
       "0      2020  andaman-&-nicobar-islands  district       nicobars      3   \n",
       "1      2020  andaman-&-nicobar-islands  district  south andaman      3   \n",
       "2      2020  andaman-&-nicobar-islands   pincode         744301      3   \n",
       "3      2020  andaman-&-nicobar-islands   pincode         744104      2   \n",
       "4      2020  andaman-&-nicobar-islands   pincode         744101      1   \n",
       "...     ...                        ...       ...            ...    ...   \n",
       "12271  2024                west-bengal   pincode         711101    713   \n",
       "12272  2024                west-bengal   pincode         700091    642   \n",
       "12273  2024                west-bengal   pincode         700150    627   \n",
       "12274  2024                west-bengal   pincode         700039    619   \n",
       "12275  2024                west-bengal   pincode         700156    574   \n",
       "\n",
       "         amount  \n",
       "0         565.0  \n",
       "1         795.0  \n",
       "2         565.0  \n",
       "3         513.0  \n",
       "4         282.0  \n",
       "...         ...  \n",
       "12271  750354.0  \n",
       "12272  969634.0  \n",
       "12273  761501.0  \n",
       "12274  787836.0  \n",
       "12275  888613.0  \n",
       "\n",
       "[12276 rows x 6 columns]"
      ]
     },
     "execution_count": 39,
     "metadata": {},
     "output_type": "execute_result"
    }
   ],
   "source": [
    "df6 = pd.read_csv(\"dataset/insurance/top_insurance_state.csv\")\n",
    "df6"
   ]
  },
  {
   "cell_type": "markdown",
   "id": "622fa6f3",
   "metadata": {},
   "source": [
    "### **Dataset Info**"
   ]
  },
  {
   "cell_type": "code",
   "execution_count": 40,
   "id": "255c15a3",
   "metadata": {},
   "outputs": [
    {
     "name": "stdout",
     "output_type": "stream",
     "text": [
      "<class 'pandas.core.frame.DataFrame'>\n",
      "RangeIndex: 12276 entries, 0 to 12275\n",
      "Data columns (total 6 columns):\n",
      " #   Column       Non-Null Count  Dtype  \n",
      "---  ------       --------------  -----  \n",
      " 0   year         12276 non-null  int64  \n",
      " 1   state        12276 non-null  object \n",
      " 2   level        12276 non-null  object \n",
      " 3   entity_name  12273 non-null  object \n",
      " 4   count        12276 non-null  int64  \n",
      " 5   amount       12276 non-null  float64\n",
      "dtypes: float64(1), int64(2), object(3)\n",
      "memory usage: 575.6+ KB\n"
     ]
    }
   ],
   "source": [
    "df6.info()"
   ]
  },
  {
   "cell_type": "markdown",
   "id": "67eb1aaa",
   "metadata": {},
   "source": [
    "### **Dataset Describe**"
   ]
  },
  {
   "cell_type": "code",
   "execution_count": 41,
   "id": "c28afd5b",
   "metadata": {},
   "outputs": [
    {
     "data": {
      "application/vnd.microsoft.datawrangler.viewer.v0+json": {
       "columns": [
        {
         "name": "index",
         "rawType": "object",
         "type": "string"
        },
        {
         "name": "year",
         "rawType": "float64",
         "type": "float"
        },
        {
         "name": "count",
         "rawType": "float64",
         "type": "float"
        },
        {
         "name": "amount",
         "rawType": "float64",
         "type": "float"
        }
       ],
       "ref": "f8c8f3d8-0420-4b83-a770-e5288a649a91",
       "rows": [
        [
         "count",
         "12276.0",
         "12276.0",
         "12276.0"
        ],
        [
         "mean",
         "2022.1175464320625",
         "1090.689964157706",
         "1457265.713831867"
        ],
        [
         "std",
         "1.3700128739649242",
         "3325.674105716629",
         "4781770.749503372"
        ],
        [
         "min",
         "2020.0",
         "1.0",
         "31.0"
        ],
        [
         "25%",
         "2021.0",
         "50.0",
         "55933.75"
        ],
        [
         "50%",
         "2022.0",
         "282.0",
         "302106.0"
        ],
        [
         "75%",
         "2023.0",
         "968.0",
         "1222879.75"
        ],
        [
         "max",
         "2024.0",
         "96935.0",
         "159224823.0"
        ]
       ],
       "shape": {
        "columns": 3,
        "rows": 8
       }
      },
      "text/html": [
       "<div>\n",
       "<style scoped>\n",
       "    .dataframe tbody tr th:only-of-type {\n",
       "        vertical-align: middle;\n",
       "    }\n",
       "\n",
       "    .dataframe tbody tr th {\n",
       "        vertical-align: top;\n",
       "    }\n",
       "\n",
       "    .dataframe thead th {\n",
       "        text-align: right;\n",
       "    }\n",
       "</style>\n",
       "<table border=\"1\" class=\"dataframe\">\n",
       "  <thead>\n",
       "    <tr style=\"text-align: right;\">\n",
       "      <th></th>\n",
       "      <th>year</th>\n",
       "      <th>count</th>\n",
       "      <th>amount</th>\n",
       "    </tr>\n",
       "  </thead>\n",
       "  <tbody>\n",
       "    <tr>\n",
       "      <th>count</th>\n",
       "      <td>12276.000000</td>\n",
       "      <td>12276.000000</td>\n",
       "      <td>1.227600e+04</td>\n",
       "    </tr>\n",
       "    <tr>\n",
       "      <th>mean</th>\n",
       "      <td>2022.117546</td>\n",
       "      <td>1090.689964</td>\n",
       "      <td>1.457266e+06</td>\n",
       "    </tr>\n",
       "    <tr>\n",
       "      <th>std</th>\n",
       "      <td>1.370013</td>\n",
       "      <td>3325.674106</td>\n",
       "      <td>4.781771e+06</td>\n",
       "    </tr>\n",
       "    <tr>\n",
       "      <th>min</th>\n",
       "      <td>2020.000000</td>\n",
       "      <td>1.000000</td>\n",
       "      <td>3.100000e+01</td>\n",
       "    </tr>\n",
       "    <tr>\n",
       "      <th>25%</th>\n",
       "      <td>2021.000000</td>\n",
       "      <td>50.000000</td>\n",
       "      <td>5.593375e+04</td>\n",
       "    </tr>\n",
       "    <tr>\n",
       "      <th>50%</th>\n",
       "      <td>2022.000000</td>\n",
       "      <td>282.000000</td>\n",
       "      <td>3.021060e+05</td>\n",
       "    </tr>\n",
       "    <tr>\n",
       "      <th>75%</th>\n",
       "      <td>2023.000000</td>\n",
       "      <td>968.000000</td>\n",
       "      <td>1.222880e+06</td>\n",
       "    </tr>\n",
       "    <tr>\n",
       "      <th>max</th>\n",
       "      <td>2024.000000</td>\n",
       "      <td>96935.000000</td>\n",
       "      <td>1.592248e+08</td>\n",
       "    </tr>\n",
       "  </tbody>\n",
       "</table>\n",
       "</div>"
      ],
      "text/plain": [
       "               year         count        amount\n",
       "count  12276.000000  12276.000000  1.227600e+04\n",
       "mean    2022.117546   1090.689964  1.457266e+06\n",
       "std        1.370013   3325.674106  4.781771e+06\n",
       "min     2020.000000      1.000000  3.100000e+01\n",
       "25%     2021.000000     50.000000  5.593375e+04\n",
       "50%     2022.000000    282.000000  3.021060e+05\n",
       "75%     2023.000000    968.000000  1.222880e+06\n",
       "max     2024.000000  96935.000000  1.592248e+08"
      ]
     },
     "execution_count": 41,
     "metadata": {},
     "output_type": "execute_result"
    }
   ],
   "source": [
    "df6.describe()"
   ]
  }
 ],
 "metadata": {
  "kernelspec": {
   "display_name": "Python 3",
   "language": "python",
   "name": "python3"
  },
  "language_info": {
   "codemirror_mode": {
    "name": "ipython",
    "version": 3
   },
   "file_extension": ".py",
   "mimetype": "text/x-python",
   "name": "python",
   "nbconvert_exporter": "python",
   "pygments_lexer": "ipython3",
   "version": "3.10.11"
  }
 },
 "nbformat": 4,
 "nbformat_minor": 5
}
