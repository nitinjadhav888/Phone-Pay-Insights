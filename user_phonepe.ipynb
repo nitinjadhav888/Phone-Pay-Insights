{
 "cells": [
  {
   "cell_type": "markdown",
   "id": "164d5f6b",
   "metadata": {},
   "source": [
    "# **User Data PhonePe**"
   ]
  },
  {
   "cell_type": "markdown",
   "id": "0eb5c22f",
   "metadata": {},
   "source": [
    "# **Libraries Used**"
   ]
  },
  {
   "cell_type": "code",
   "execution_count": 33,
   "id": "dafa74af",
   "metadata": {},
   "outputs": [],
   "source": [
    "import pandas as pd\n",
    "import matplotlib.pyplot as plt\n",
    "import seaborn as sns"
   ]
  },
  {
   "cell_type": "markdown",
   "id": "599fec0d",
   "metadata": {},
   "source": [
    "# **Aggregated**"
   ]
  },
  {
   "cell_type": "markdown",
   "id": "b122e318",
   "metadata": {},
   "source": [
    "## **Country**"
   ]
  },
  {
   "cell_type": "markdown",
   "id": "2cf758ee",
   "metadata": {},
   "source": [
    "### **Load CSV**"
   ]
  },
  {
   "cell_type": "code",
   "execution_count": 34,
   "id": "f3a3456d",
   "metadata": {},
   "outputs": [
    {
     "data": {
      "application/vnd.microsoft.datawrangler.viewer.v0+json": {
       "columns": [
        {
         "name": "index",
         "rawType": "int64",
         "type": "integer"
        },
        {
         "name": "year",
         "rawType": "int64",
         "type": "integer"
        },
        {
         "name": "brand",
         "rawType": "object",
         "type": "string"
        },
        {
         "name": "registered_users",
         "rawType": "int64",
         "type": "integer"
        },
        {
         "name": "app_opens",
         "rawType": "int64",
         "type": "integer"
        },
        {
         "name": "percentage",
         "rawType": "float64",
         "type": "float"
        }
       ],
       "ref": "d75aaac5-e153-434e-9412-8e18c01de272",
       "rows": [
        [
         "0",
         "2018",
         "all",
         "46877867",
         "0",
         "1.0"
        ],
        [
         "1",
         "2018",
         "Xiaomi",
         "11926334",
         "0",
         "0.2544128980953847"
        ],
        [
         "2",
         "2018",
         "Samsung",
         "9609401",
         "0",
         "0.204988017052909"
        ],
        [
         "3",
         "2018",
         "Vivo",
         "5894293",
         "0",
         "0.1257372269092363"
        ],
        [
         "4",
         "2018",
         "Oppo",
         "4479351",
         "0",
         "0.0955536436843425"
        ],
        [
         "5",
         "2018",
         "Realme",
         "2376866",
         "0",
         "0.0507033735131336"
        ],
        [
         "6",
         "2018",
         "Apple",
         "1825153",
         "0",
         "0.0389342160128574"
        ],
        [
         "7",
         "2018",
         "Motorola",
         "1593250",
         "0",
         "0.0339872545822104"
        ],
        [
         "8",
         "2018",
         "OnePlus",
         "1536418",
         "0",
         "0.0327749127322708"
        ],
        [
         "9",
         "2018",
         "Lenovo",
         "1246507",
         "0",
         "0.0265905229860394"
        ],
        [
         "10",
         "2018",
         "Huawei",
         "808774",
         "0",
         "0.0172527901066829"
        ],
        [
         "11",
         "2018",
         "Others",
         "5581520",
         "0",
         "0.1190651443249327"
        ],
        [
         "12",
         "2018",
         "all",
         "63648311",
         "0",
         "1.0"
        ],
        [
         "13",
         "2018",
         "Xiaomi",
         "16416511",
         "0",
         "0.2579253202806905"
        ],
        [
         "14",
         "2018",
         "Samsung",
         "12943051",
         "0",
         "0.2033526231355927"
        ],
        [
         "15",
         "2018",
         "Vivo",
         "8365074",
         "0",
         "0.1314264882849758"
        ],
        [
         "16",
         "2018",
         "Oppo",
         "6246581",
         "0",
         "0.09814213294678"
        ],
        [
         "17",
         "2018",
         "Realme",
         "3165738",
         "0",
         "0.049737973408281"
        ],
        [
         "18",
         "2018",
         "Apple",
         "2326897",
         "0",
         "0.0365586606060921"
        ],
        [
         "19",
         "2018",
         "Motorola",
         "2099718",
         "0",
         "0.0329893750047821"
        ],
        [
         "20",
         "2018",
         "OnePlus",
         "1890141",
         "0",
         "0.029696640339757"
        ],
        [
         "21",
         "2018",
         "Lenovo",
         "1627153",
         "0",
         "0.0255647475075968"
        ],
        [
         "22",
         "2018",
         "Huawei",
         "1104740",
         "0",
         "0.0173569413334471"
        ],
        [
         "23",
         "2018",
         "Others",
         "7462707",
         "0",
         "0.1172490971520045"
        ],
        [
         "24",
         "2018",
         "all",
         "80010952",
         "0",
         "1.0"
        ],
        [
         "25",
         "2018",
         "Xiaomi",
         "20859459",
         "0",
         "0.2607075466368654"
        ],
        [
         "26",
         "2018",
         "Samsung",
         "16228372",
         "0",
         "0.2028268829997173"
        ],
        [
         "27",
         "2018",
         "Vivo",
         "11118842",
         "0",
         "0.1389665004860834"
        ],
        [
         "28",
         "2018",
         "Oppo",
         "8103650",
         "0",
         "0.1012817595271207"
        ],
        [
         "29",
         "2018",
         "Realme",
         "3962596",
         "0",
         "0.0495256699357857"
        ],
        [
         "30",
         "2018",
         "Apple",
         "2774989",
         "0",
         "0.0346826144500817"
        ],
        [
         "31",
         "2018",
         "Motorola",
         "2529272",
         "0",
         "0.0316115723757417"
        ],
        [
         "32",
         "2018",
         "OnePlus",
         "2231557",
         "0",
         "0.0278906442707993"
        ],
        [
         "33",
         "2018",
         "Lenovo",
         "1857680",
         "0",
         "0.0232178214802393"
        ],
        [
         "34",
         "2018",
         "Huawei",
         "1444125",
         "0",
         "0.0180490915793627"
        ],
        [
         "35",
         "2018",
         "Others",
         "8900410",
         "0",
         "0.1112398962582022"
        ],
        [
         "36",
         "2018",
         "all",
         "102262055",
         "0",
         "1.0"
        ],
        [
         "37",
         "2018",
         "Xiaomi",
         "26709586",
         "0",
         "0.2611876516661043"
        ],
        [
         "38",
         "2018",
         "Samsung",
         "20740259",
         "0",
         "0.2028148075060686"
        ],
        [
         "39",
         "2018",
         "Vivo",
         "14966905",
         "0",
         "0.1463583437669035"
        ],
        [
         "40",
         "2018",
         "Oppo",
         "10754040",
         "0",
         "0.1051615870617894"
        ],
        [
         "41",
         "2018",
         "Realme",
         "4997725",
         "0",
         "0.0488717442652604"
        ],
        [
         "42",
         "2018",
         "Apple",
         "3435529",
         "0",
         "0.0335953448226715"
        ],
        [
         "43",
         "2018",
         "Motorola",
         "3089947",
         "0",
         "0.030215968180964"
        ],
        [
         "44",
         "2018",
         "OnePlus",
         "2668868",
         "0",
         "0.0260983216110804"
        ],
        [
         "45",
         "2018",
         "Lenovo",
         "2257295",
         "0",
         "0.0220736322969453"
        ],
        [
         "46",
         "2018",
         "Huawei",
         "1899667",
         "0",
         "0.0185764602520455"
        ],
        [
         "47",
         "2018",
         "Others",
         "10742234",
         "0",
         "0.1050461385701666"
        ],
        [
         "48",
         "2019",
         "all",
         "123432699",
         "0",
         "1.0"
        ],
        [
         "49",
         "2019",
         "Xiaomi",
         "32175910",
         "0",
         "0.2606757387683793"
        ]
       ],
       "shape": {
        "columns": 5,
        "rows": 215
       }
      },
      "text/html": [
       "<div>\n",
       "<style scoped>\n",
       "    .dataframe tbody tr th:only-of-type {\n",
       "        vertical-align: middle;\n",
       "    }\n",
       "\n",
       "    .dataframe tbody tr th {\n",
       "        vertical-align: top;\n",
       "    }\n",
       "\n",
       "    .dataframe thead th {\n",
       "        text-align: right;\n",
       "    }\n",
       "</style>\n",
       "<table border=\"1\" class=\"dataframe\">\n",
       "  <thead>\n",
       "    <tr style=\"text-align: right;\">\n",
       "      <th></th>\n",
       "      <th>year</th>\n",
       "      <th>brand</th>\n",
       "      <th>registered_users</th>\n",
       "      <th>app_opens</th>\n",
       "      <th>percentage</th>\n",
       "    </tr>\n",
       "  </thead>\n",
       "  <tbody>\n",
       "    <tr>\n",
       "      <th>0</th>\n",
       "      <td>2018</td>\n",
       "      <td>all</td>\n",
       "      <td>46877867</td>\n",
       "      <td>0</td>\n",
       "      <td>1.000000</td>\n",
       "    </tr>\n",
       "    <tr>\n",
       "      <th>1</th>\n",
       "      <td>2018</td>\n",
       "      <td>Xiaomi</td>\n",
       "      <td>11926334</td>\n",
       "      <td>0</td>\n",
       "      <td>0.254413</td>\n",
       "    </tr>\n",
       "    <tr>\n",
       "      <th>2</th>\n",
       "      <td>2018</td>\n",
       "      <td>Samsung</td>\n",
       "      <td>9609401</td>\n",
       "      <td>0</td>\n",
       "      <td>0.204988</td>\n",
       "    </tr>\n",
       "    <tr>\n",
       "      <th>3</th>\n",
       "      <td>2018</td>\n",
       "      <td>Vivo</td>\n",
       "      <td>5894293</td>\n",
       "      <td>0</td>\n",
       "      <td>0.125737</td>\n",
       "    </tr>\n",
       "    <tr>\n",
       "      <th>4</th>\n",
       "      <td>2018</td>\n",
       "      <td>Oppo</td>\n",
       "      <td>4479351</td>\n",
       "      <td>0</td>\n",
       "      <td>0.095554</td>\n",
       "    </tr>\n",
       "    <tr>\n",
       "      <th>...</th>\n",
       "      <td>...</td>\n",
       "      <td>...</td>\n",
       "      <td>...</td>\n",
       "      <td>...</td>\n",
       "      <td>...</td>\n",
       "    </tr>\n",
       "    <tr>\n",
       "      <th>210</th>\n",
       "      <td>2023</td>\n",
       "      <td>all</td>\n",
       "      <td>509358280</td>\n",
       "      <td>29936587770</td>\n",
       "      <td>1.000000</td>\n",
       "    </tr>\n",
       "    <tr>\n",
       "      <th>211</th>\n",
       "      <td>2024</td>\n",
       "      <td>all</td>\n",
       "      <td>530084540</td>\n",
       "      <td>32626239822</td>\n",
       "      <td>1.000000</td>\n",
       "    </tr>\n",
       "    <tr>\n",
       "      <th>212</th>\n",
       "      <td>2024</td>\n",
       "      <td>all</td>\n",
       "      <td>550287982</td>\n",
       "      <td>35407900260</td>\n",
       "      <td>1.000000</td>\n",
       "    </tr>\n",
       "    <tr>\n",
       "      <th>213</th>\n",
       "      <td>2024</td>\n",
       "      <td>all</td>\n",
       "      <td>568010051</td>\n",
       "      <td>38129751823</td>\n",
       "      <td>1.000000</td>\n",
       "    </tr>\n",
       "    <tr>\n",
       "      <th>214</th>\n",
       "      <td>2024</td>\n",
       "      <td>all</td>\n",
       "      <td>586756452</td>\n",
       "      <td>40416377679</td>\n",
       "      <td>1.000000</td>\n",
       "    </tr>\n",
       "  </tbody>\n",
       "</table>\n",
       "<p>215 rows × 5 columns</p>\n",
       "</div>"
      ],
      "text/plain": [
       "     year    brand  registered_users    app_opens  percentage\n",
       "0    2018      all          46877867            0    1.000000\n",
       "1    2018   Xiaomi          11926334            0    0.254413\n",
       "2    2018  Samsung           9609401            0    0.204988\n",
       "3    2018     Vivo           5894293            0    0.125737\n",
       "4    2018     Oppo           4479351            0    0.095554\n",
       "..    ...      ...               ...          ...         ...\n",
       "210  2023      all         509358280  29936587770    1.000000\n",
       "211  2024      all         530084540  32626239822    1.000000\n",
       "212  2024      all         550287982  35407900260    1.000000\n",
       "213  2024      all         568010051  38129751823    1.000000\n",
       "214  2024      all         586756452  40416377679    1.000000\n",
       "\n",
       "[215 rows x 5 columns]"
      ]
     },
     "execution_count": 34,
     "metadata": {},
     "output_type": "execute_result"
    }
   ],
   "source": [
    "df1 = pd.read_csv(\"dataset/user/aggregated_user_country.csv\")\n",
    "df1"
   ]
  },
  {
   "cell_type": "markdown",
   "id": "fc92a741",
   "metadata": {},
   "source": [
    "### **Dataset Info**"
   ]
  },
  {
   "cell_type": "code",
   "execution_count": 35,
   "id": "e506e6b1",
   "metadata": {},
   "outputs": [
    {
     "name": "stdout",
     "output_type": "stream",
     "text": [
      "<class 'pandas.core.frame.DataFrame'>\n",
      "RangeIndex: 215 entries, 0 to 214\n",
      "Data columns (total 5 columns):\n",
      " #   Column            Non-Null Count  Dtype  \n",
      "---  ------            --------------  -----  \n",
      " 0   year              215 non-null    int64  \n",
      " 1   brand             215 non-null    object \n",
      " 2   registered_users  215 non-null    int64  \n",
      " 3   app_opens         215 non-null    int64  \n",
      " 4   percentage        215 non-null    float64\n",
      "dtypes: float64(1), int64(3), object(1)\n",
      "memory usage: 8.5+ KB\n"
     ]
    }
   ],
   "source": [
    "df1.info()"
   ]
  },
  {
   "cell_type": "markdown",
   "id": "f2f06063",
   "metadata": {},
   "source": [
    "### **Dataset Describe**"
   ]
  },
  {
   "cell_type": "code",
   "execution_count": 36,
   "id": "ebc86c06",
   "metadata": {},
   "outputs": [
    {
     "data": {
      "application/vnd.microsoft.datawrangler.viewer.v0+json": {
       "columns": [
        {
         "name": "index",
         "rawType": "object",
         "type": "string"
        },
        {
         "name": "year",
         "rawType": "float64",
         "type": "float"
        },
        {
         "name": "registered_users",
         "rawType": "float64",
         "type": "float"
        },
        {
         "name": "app_opens",
         "rawType": "float64",
         "type": "float"
        },
        {
         "name": "percentage",
         "rawType": "float64",
         "type": "float"
        }
       ],
       "ref": "4196119c-da7d-436e-be0d-23f313a4b4e0",
       "rows": [
        [
         "count",
         "215.0",
         "215.0",
         "215.0",
         "215.0"
        ],
        [
         "mean",
         "2019.8232558139534",
         "57323533.76744186",
         "1871117051.8325582",
         "0.20930232558139528"
        ],
        [
         "std",
         "1.4359921525867771",
         "118545315.61196236",
         "6674002702.504919",
         "0.31568862677223863"
        ],
        [
         "min",
         "2018.0",
         "808774.0",
         "0.0",
         "0.0108196061813685"
        ],
        [
         "25%",
         "2019.0",
         "4502834.0",
         "0.0",
         "0.024927574177068798"
        ],
        [
         "50%",
         "2020.0",
         "12034857.0",
         "0.0",
         "0.0862875123487225"
        ],
        [
         "75%",
         "2021.0",
         "43445314.5",
         "0.0",
         "0.2020403789927958"
        ],
        [
         "max",
         "2024.0",
         "586756452.0",
         "40416377679.0",
         "1.0"
        ]
       ],
       "shape": {
        "columns": 4,
        "rows": 8
       }
      },
      "text/html": [
       "<div>\n",
       "<style scoped>\n",
       "    .dataframe tbody tr th:only-of-type {\n",
       "        vertical-align: middle;\n",
       "    }\n",
       "\n",
       "    .dataframe tbody tr th {\n",
       "        vertical-align: top;\n",
       "    }\n",
       "\n",
       "    .dataframe thead th {\n",
       "        text-align: right;\n",
       "    }\n",
       "</style>\n",
       "<table border=\"1\" class=\"dataframe\">\n",
       "  <thead>\n",
       "    <tr style=\"text-align: right;\">\n",
       "      <th></th>\n",
       "      <th>year</th>\n",
       "      <th>registered_users</th>\n",
       "      <th>app_opens</th>\n",
       "      <th>percentage</th>\n",
       "    </tr>\n",
       "  </thead>\n",
       "  <tbody>\n",
       "    <tr>\n",
       "      <th>count</th>\n",
       "      <td>215.000000</td>\n",
       "      <td>2.150000e+02</td>\n",
       "      <td>2.150000e+02</td>\n",
       "      <td>215.000000</td>\n",
       "    </tr>\n",
       "    <tr>\n",
       "      <th>mean</th>\n",
       "      <td>2019.823256</td>\n",
       "      <td>5.732353e+07</td>\n",
       "      <td>1.871117e+09</td>\n",
       "      <td>0.209302</td>\n",
       "    </tr>\n",
       "    <tr>\n",
       "      <th>std</th>\n",
       "      <td>1.435992</td>\n",
       "      <td>1.185453e+08</td>\n",
       "      <td>6.674003e+09</td>\n",
       "      <td>0.315689</td>\n",
       "    </tr>\n",
       "    <tr>\n",
       "      <th>min</th>\n",
       "      <td>2018.000000</td>\n",
       "      <td>8.087740e+05</td>\n",
       "      <td>0.000000e+00</td>\n",
       "      <td>0.010820</td>\n",
       "    </tr>\n",
       "    <tr>\n",
       "      <th>25%</th>\n",
       "      <td>2019.000000</td>\n",
       "      <td>4.502834e+06</td>\n",
       "      <td>0.000000e+00</td>\n",
       "      <td>0.024928</td>\n",
       "    </tr>\n",
       "    <tr>\n",
       "      <th>50%</th>\n",
       "      <td>2020.000000</td>\n",
       "      <td>1.203486e+07</td>\n",
       "      <td>0.000000e+00</td>\n",
       "      <td>0.086288</td>\n",
       "    </tr>\n",
       "    <tr>\n",
       "      <th>75%</th>\n",
       "      <td>2021.000000</td>\n",
       "      <td>4.344531e+07</td>\n",
       "      <td>0.000000e+00</td>\n",
       "      <td>0.202040</td>\n",
       "    </tr>\n",
       "    <tr>\n",
       "      <th>max</th>\n",
       "      <td>2024.000000</td>\n",
       "      <td>5.867565e+08</td>\n",
       "      <td>4.041638e+10</td>\n",
       "      <td>1.000000</td>\n",
       "    </tr>\n",
       "  </tbody>\n",
       "</table>\n",
       "</div>"
      ],
      "text/plain": [
       "              year  registered_users     app_opens  percentage\n",
       "count   215.000000      2.150000e+02  2.150000e+02  215.000000\n",
       "mean   2019.823256      5.732353e+07  1.871117e+09    0.209302\n",
       "std       1.435992      1.185453e+08  6.674003e+09    0.315689\n",
       "min    2018.000000      8.087740e+05  0.000000e+00    0.010820\n",
       "25%    2019.000000      4.502834e+06  0.000000e+00    0.024928\n",
       "50%    2020.000000      1.203486e+07  0.000000e+00    0.086288\n",
       "75%    2021.000000      4.344531e+07  0.000000e+00    0.202040\n",
       "max    2024.000000      5.867565e+08  4.041638e+10    1.000000"
      ]
     },
     "execution_count": 36,
     "metadata": {},
     "output_type": "execute_result"
    }
   ],
   "source": [
    "df1.describe()"
   ]
  },
  {
   "cell_type": "code",
   "execution_count": 37,
   "id": "1a915a77",
   "metadata": {},
   "outputs": [
    {
     "data": {
      "application/vnd.microsoft.datawrangler.viewer.v0+json": {
       "columns": [
        {
         "name": "brand",
         "rawType": "object",
         "type": "string"
        },
        {
         "name": "count",
         "rawType": "int64",
         "type": "integer"
        }
       ],
       "ref": "7674edf6-cf6a-4ef0-8e05-d271a09d9653",
       "rows": [
        [
         "all",
         "28"
        ],
        [
         "Xiaomi",
         "17"
        ],
        [
         "Samsung",
         "17"
        ],
        [
         "Vivo",
         "17"
        ],
        [
         "Oppo",
         "17"
        ],
        [
         "Realme",
         "17"
        ],
        [
         "Apple",
         "17"
        ],
        [
         "Motorola",
         "17"
        ],
        [
         "OnePlus",
         "17"
        ],
        [
         "Huawei",
         "17"
        ],
        [
         "Others",
         "17"
        ],
        [
         "Lenovo",
         "15"
        ],
        [
         "Tecno",
         "2"
        ]
       ],
       "shape": {
        "columns": 1,
        "rows": 13
       }
      },
      "text/plain": [
       "brand\n",
       "all         28\n",
       "Xiaomi      17\n",
       "Samsung     17\n",
       "Vivo        17\n",
       "Oppo        17\n",
       "Realme      17\n",
       "Apple       17\n",
       "Motorola    17\n",
       "OnePlus     17\n",
       "Huawei      17\n",
       "Others      17\n",
       "Lenovo      15\n",
       "Tecno        2\n",
       "Name: count, dtype: int64"
      ]
     },
     "execution_count": 37,
     "metadata": {},
     "output_type": "execute_result"
    }
   ],
   "source": [
    "df1['brand'].value_counts()"
   ]
  },
  {
   "cell_type": "markdown",
   "id": "fe962f57",
   "metadata": {},
   "source": [
    "### **Plots**"
   ]
  },
  {
   "cell_type": "code",
   "execution_count": 38,
   "id": "7a56ed9c",
   "metadata": {},
   "outputs": [
    {
     "data": {
      "application/vnd.microsoft.datawrangler.viewer.v0+json": {
       "columns": [
        {
         "name": "index",
         "rawType": "int64",
         "type": "integer"
        },
        {
         "name": "year",
         "rawType": "int64",
         "type": "integer"
        },
        {
         "name": "registered_users",
         "rawType": "int64",
         "type": "integer"
        }
       ],
       "ref": "52fe6182-5b93-49b1-ae65-2b9112ea24a1",
       "rows": [
        [
         "0",
         "2018",
         "292799185"
        ],
        [
         "1",
         "2019",
         "602813944"
        ],
        [
         "2",
         "2020",
         "922012466"
        ],
        [
         "3",
         "2021",
         "1269759834"
        ],
        [
         "4",
         "2022",
         "1614649295"
        ],
        [
         "5",
         "2023",
         "1927048751"
        ],
        [
         "6",
         "2024",
         "2235139025"
        ]
       ],
       "shape": {
        "columns": 2,
        "rows": 7
       }
      },
      "text/html": [
       "<div>\n",
       "<style scoped>\n",
       "    .dataframe tbody tr th:only-of-type {\n",
       "        vertical-align: middle;\n",
       "    }\n",
       "\n",
       "    .dataframe tbody tr th {\n",
       "        vertical-align: top;\n",
       "    }\n",
       "\n",
       "    .dataframe thead th {\n",
       "        text-align: right;\n",
       "    }\n",
       "</style>\n",
       "<table border=\"1\" class=\"dataframe\">\n",
       "  <thead>\n",
       "    <tr style=\"text-align: right;\">\n",
       "      <th></th>\n",
       "      <th>year</th>\n",
       "      <th>registered_users</th>\n",
       "    </tr>\n",
       "  </thead>\n",
       "  <tbody>\n",
       "    <tr>\n",
       "      <th>0</th>\n",
       "      <td>2018</td>\n",
       "      <td>292799185</td>\n",
       "    </tr>\n",
       "    <tr>\n",
       "      <th>1</th>\n",
       "      <td>2019</td>\n",
       "      <td>602813944</td>\n",
       "    </tr>\n",
       "    <tr>\n",
       "      <th>2</th>\n",
       "      <td>2020</td>\n",
       "      <td>922012466</td>\n",
       "    </tr>\n",
       "    <tr>\n",
       "      <th>3</th>\n",
       "      <td>2021</td>\n",
       "      <td>1269759834</td>\n",
       "    </tr>\n",
       "    <tr>\n",
       "      <th>4</th>\n",
       "      <td>2022</td>\n",
       "      <td>1614649295</td>\n",
       "    </tr>\n",
       "    <tr>\n",
       "      <th>5</th>\n",
       "      <td>2023</td>\n",
       "      <td>1927048751</td>\n",
       "    </tr>\n",
       "    <tr>\n",
       "      <th>6</th>\n",
       "      <td>2024</td>\n",
       "      <td>2235139025</td>\n",
       "    </tr>\n",
       "  </tbody>\n",
       "</table>\n",
       "</div>"
      ],
      "text/plain": [
       "   year  registered_users\n",
       "0  2018         292799185\n",
       "1  2019         602813944\n",
       "2  2020         922012466\n",
       "3  2021        1269759834\n",
       "4  2022        1614649295\n",
       "5  2023        1927048751\n",
       "6  2024        2235139025"
      ]
     },
     "execution_count": 38,
     "metadata": {},
     "output_type": "execute_result"
    }
   ],
   "source": [
    "# Highest User Registrations per Year\n",
    "yearly_registers = df1[df1['brand'] == 'all'].groupby('year')['registered_users'].sum().reset_index()\n",
    "yearly_registers"
   ]
  },
  {
   "cell_type": "code",
   "execution_count": 39,
   "id": "f17526fb",
   "metadata": {},
   "outputs": [
    {
     "data": {
      "image/png": "[encoded data removed]",
      "text/plain": [
       "<Figure size 1000x600 with 1 Axes>"
      ]
     },
     "metadata": {},
     "output_type": "display_data"
    }
   ],
   "source": [
    "plt.figure(figsize=(10,6))\n",
    "plt.bar(yearly_registers['year'].astype(str), yearly_registers['registered_users'], color='green')\n",
    "plt.title(\"Total Registered Users by Year\")\n",
    "plt.xlabel(\"Year\")\n",
    "plt.ylabel(\"Total Registered Users\")\n",
    "plt.grid(axis='y')\n",
    "plt.show()"
   ]
  },
  {
   "cell_type": "markdown",
   "id": "9390b4c4",
   "metadata": {},
   "source": [
    "* The registered users are increasing steadily from 2018 to 2024. \n",
    "* It grew from `8,08,774` to `5,86,756,452`"
   ]
  },
  {
   "cell_type": "code",
   "execution_count": 40,
   "id": "a0fabafc",
   "metadata": {},
   "outputs": [
    {
     "data": {
      "application/vnd.microsoft.datawrangler.viewer.v0+json": {
       "columns": [
        {
         "name": "index",
         "rawType": "int64",
         "type": "integer"
        },
        {
         "name": "year",
         "rawType": "int64",
         "type": "integer"
        },
        {
         "name": "brand",
         "rawType": "object",
         "type": "string"
        },
        {
         "name": "registered_users",
         "rawType": "int64",
         "type": "integer"
        },
        {
         "name": "app_opens",
         "rawType": "int64",
         "type": "integer"
        },
        {
         "name": "percentage",
         "rawType": "float64",
         "type": "float"
        }
       ],
       "ref": "49c64659-89f0-44d3-8c6b-9235909696e9",
       "rows": [
        [
         "37",
         "2018",
         "Xiaomi",
         "26709586",
         "0",
         "0.2611876516661043"
        ],
        [
         "85",
         "2019",
         "Xiaomi",
         "46286972",
         "0",
         "0.2596320931308347"
        ],
        [
         "133",
         "2020",
         "Xiaomi",
         "66711711",
         "0",
         "0.2524364649776773"
        ],
        [
         "181",
         "2021",
         "Xiaomi",
         "84820436",
         "0",
         "0.2415425989522567"
        ],
        [
         "193",
         "2022",
         "Xiaomi",
         "88426997",
         "0",
         "0.2371003160459078"
        ]
       ],
       "shape": {
        "columns": 5,
        "rows": 5
       }
      },
      "text/html": [
       "<div>\n",
       "<style scoped>\n",
       "    .dataframe tbody tr th:only-of-type {\n",
       "        vertical-align: middle;\n",
       "    }\n",
       "\n",
       "    .dataframe tbody tr th {\n",
       "        vertical-align: top;\n",
       "    }\n",
       "\n",
       "    .dataframe thead th {\n",
       "        text-align: right;\n",
       "    }\n",
       "</style>\n",
       "<table border=\"1\" class=\"dataframe\">\n",
       "  <thead>\n",
       "    <tr style=\"text-align: right;\">\n",
       "      <th></th>\n",
       "      <th>year</th>\n",
       "      <th>brand</th>\n",
       "      <th>registered_users</th>\n",
       "      <th>app_opens</th>\n",
       "      <th>percentage</th>\n",
       "    </tr>\n",
       "  </thead>\n",
       "  <tbody>\n",
       "    <tr>\n",
       "      <th>37</th>\n",
       "      <td>2018</td>\n",
       "      <td>Xiaomi</td>\n",
       "      <td>26709586</td>\n",
       "      <td>0</td>\n",
       "      <td>0.261188</td>\n",
       "    </tr>\n",
       "    <tr>\n",
       "      <th>85</th>\n",
       "      <td>2019</td>\n",
       "      <td>Xiaomi</td>\n",
       "      <td>46286972</td>\n",
       "      <td>0</td>\n",
       "      <td>0.259632</td>\n",
       "    </tr>\n",
       "    <tr>\n",
       "      <th>133</th>\n",
       "      <td>2020</td>\n",
       "      <td>Xiaomi</td>\n",
       "      <td>66711711</td>\n",
       "      <td>0</td>\n",
       "      <td>0.252436</td>\n",
       "    </tr>\n",
       "    <tr>\n",
       "      <th>181</th>\n",
       "      <td>2021</td>\n",
       "      <td>Xiaomi</td>\n",
       "      <td>84820436</td>\n",
       "      <td>0</td>\n",
       "      <td>0.241543</td>\n",
       "    </tr>\n",
       "    <tr>\n",
       "      <th>193</th>\n",
       "      <td>2022</td>\n",
       "      <td>Xiaomi</td>\n",
       "      <td>88426997</td>\n",
       "      <td>0</td>\n",
       "      <td>0.237100</td>\n",
       "    </tr>\n",
       "  </tbody>\n",
       "</table>\n",
       "</div>"
      ],
      "text/plain": [
       "     year   brand  registered_users  app_opens  percentage\n",
       "37   2018  Xiaomi          26709586          0    0.261188\n",
       "85   2019  Xiaomi          46286972          0    0.259632\n",
       "133  2020  Xiaomi          66711711          0    0.252436\n",
       "181  2021  Xiaomi          84820436          0    0.241543\n",
       "193  2022  Xiaomi          88426997          0    0.237100"
      ]
     },
     "execution_count": 40,
     "metadata": {},
     "output_type": "execute_result"
    }
   ],
   "source": [
    "# Highest User Registration per Brands\n",
    "brands_only = df1[df1['brand'] != 'all']\n",
    "idx = brands_only.groupby('year')['registered_users'].idxmax()\n",
    "top_brands = brands_only.loc[idx]\n",
    "top_brands"
   ]
  },
  {
   "cell_type": "code",
   "execution_count": 41,
   "id": "a2ae3964",
   "metadata": {},
   "outputs": [
    {
     "data": {
      "image/png": "[encoded data removed]",
      "text/plain": [
       "<Figure size 1000x600 with 1 Axes>"
      ]
     },
     "metadata": {},
     "output_type": "display_data"
    }
   ],
   "source": [
    "plt.figure(figsize=(10,6))\n",
    "plt.bar(top_brands['year'].astype(str), top_brands['registered_users'], color='teal')\n",
    "\n",
    "# add brand names on top of each bar\n",
    "for i, (brand, users) in enumerate(zip(top_brands['brand'], top_brands['registered_users'])):\n",
    "    plt.text(i, users, brand, ha='center', va='bottom', fontsize=12)\n",
    "\n",
    "plt.title(\"Brand with Highest Registered Users per Year\")\n",
    "plt.xlabel(\"Year\")\n",
    "plt.ylabel(\"Registered Users\")\n",
    "plt.grid(axis='y')\n",
    "plt.show()"
   ]
  },
  {
   "cell_type": "markdown",
   "id": "18743400",
   "metadata": {},
   "source": [
    "* The brand with the highest number of registered users every year is `xiaomi`.\n",
    "* No other brands have been on the list at the country level till 2022.\n",
    "* The Brand Specifications are only given till 2022"
   ]
  },
  {
   "cell_type": "markdown",
   "id": "8b253e2e",
   "metadata": {},
   "source": [
    "## **State**"
   ]
  },
  {
   "cell_type": "markdown",
   "id": "7e54f1ce",
   "metadata": {},
   "source": [
    "### **Load CSV**"
   ]
  },
  {
   "cell_type": "code",
   "execution_count": 42,
   "id": "b7dcf1a4",
   "metadata": {},
   "outputs": [
    {
     "data": {
      "application/vnd.microsoft.datawrangler.viewer.v0+json": {
       "columns": [
        {
         "name": "index",
         "rawType": "int64",
         "type": "integer"
        },
        {
         "name": "year",
         "rawType": "int64",
         "type": "integer"
        },
        {
         "name": "state",
         "rawType": "object",
         "type": "string"
        },
        {
         "name": "brand",
         "rawType": "object",
         "type": "string"
        },
        {
         "name": "registered_users",
         "rawType": "int64",
         "type": "integer"
        },
        {
         "name": "app_opens",
         "rawType": "int64",
         "type": "integer"
        },
        {
         "name": "percentage",
         "rawType": "float64",
         "type": "float"
        }
       ],
       "ref": "2a7903c0-ab6f-4c37-99d9-91818e9a2d3d",
       "rows": [
        [
         "0",
         "2018",
         "andaman-&-nicobar-islands",
         "all",
         "6740",
         "0",
         "1.0"
        ],
        [
         "1",
         "2018",
         "andaman-&-nicobar-islands",
         "Xiaomi",
         "1665",
         "0",
         "0.2470326409495549"
        ],
        [
         "2",
         "2018",
         "andaman-&-nicobar-islands",
         "Samsung",
         "1445",
         "0",
         "0.2143916913946587"
        ],
        [
         "3",
         "2018",
         "andaman-&-nicobar-islands",
         "Vivo",
         "982",
         "0",
         "0.1456973293768546"
        ],
        [
         "4",
         "2018",
         "andaman-&-nicobar-islands",
         "Oppo",
         "501",
         "0",
         "0.0743323442136498"
        ],
        [
         "5",
         "2018",
         "andaman-&-nicobar-islands",
         "OnePlus",
         "332",
         "0",
         "0.0492581602373887"
        ],
        [
         "6",
         "2018",
         "andaman-&-nicobar-islands",
         "Realme",
         "316",
         "0",
         "0.0468842729970326"
        ],
        [
         "7",
         "2018",
         "andaman-&-nicobar-islands",
         "Apple",
         "229",
         "0",
         "0.0339762611275964"
        ],
        [
         "8",
         "2018",
         "andaman-&-nicobar-islands",
         "Motorola",
         "226",
         "0",
         "0.0335311572700296"
        ],
        [
         "9",
         "2018",
         "andaman-&-nicobar-islands",
         "Lenovo",
         "202",
         "0",
         "0.0299703264094955"
        ],
        [
         "10",
         "2018",
         "andaman-&-nicobar-islands",
         "Huawei",
         "158",
         "0",
         "0.0234421364985163"
        ],
        [
         "11",
         "2018",
         "andaman-&-nicobar-islands",
         "Others",
         "684",
         "0",
         "0.1014836795252225"
        ],
        [
         "12",
         "2018",
         "andaman-&-nicobar-islands",
         "all",
         "9405",
         "0",
         "1.0"
        ],
        [
         "13",
         "2018",
         "andaman-&-nicobar-islands",
         "Xiaomi",
         "2303",
         "0",
         "0.244869750132908"
        ],
        [
         "14",
         "2018",
         "andaman-&-nicobar-islands",
         "Samsung",
         "1923",
         "0",
         "0.2044657097288676"
        ],
        [
         "15",
         "2018",
         "andaman-&-nicobar-islands",
         "Vivo",
         "1523",
         "0",
         "0.1619351408825093"
        ],
        [
         "16",
         "2018",
         "andaman-&-nicobar-islands",
         "Oppo",
         "708",
         "0",
         "0.0752791068580542"
        ],
        [
         "17",
         "2018",
         "andaman-&-nicobar-islands",
         "OnePlus",
         "466",
         "0",
         "0.0495481127060074"
        ],
        [
         "18",
         "2018",
         "andaman-&-nicobar-islands",
         "Realme",
         "465",
         "0",
         "0.0494417862838915"
        ],
        [
         "19",
         "2018",
         "andaman-&-nicobar-islands",
         "Motorola",
         "319",
         "0",
         "0.0339181286549707"
        ],
        [
         "20",
         "2018",
         "andaman-&-nicobar-islands",
         "Apple",
         "308",
         "0",
         "0.0327485380116959"
        ],
        [
         "21",
         "2018",
         "andaman-&-nicobar-islands",
         "Lenovo",
         "244",
         "0",
         "0.0259436469962785"
        ],
        [
         "22",
         "2018",
         "andaman-&-nicobar-islands",
         "Huawei",
         "230",
         "0",
         "0.024455077086656"
        ],
        [
         "23",
         "2018",
         "andaman-&-nicobar-islands",
         "Others",
         "916",
         "0",
         "0.0973950026581605"
        ],
        [
         "24",
         "2018",
         "andaman-&-nicobar-islands",
         "all",
         "12149",
         "0",
         "1.0"
        ],
        [
         "25",
         "2018",
         "andaman-&-nicobar-islands",
         "Xiaomi",
         "2950",
         "0",
         "0.2428183389579389"
        ],
        [
         "26",
         "2018",
         "andaman-&-nicobar-islands",
         "Samsung",
         "2409",
         "0",
         "0.1982879249320931"
        ],
        [
         "27",
         "2018",
         "andaman-&-nicobar-islands",
         "Vivo",
         "2063",
         "0",
         "0.1698082146678739"
        ],
        [
         "28",
         "2018",
         "andaman-&-nicobar-islands",
         "Oppo",
         "988",
         "0",
         "0.0813235657255741"
        ],
        [
         "29",
         "2018",
         "andaman-&-nicobar-islands",
         "OnePlus",
         "617",
         "0",
         "0.0507860729278129"
        ],
        [
         "30",
         "2018",
         "andaman-&-nicobar-islands",
         "Realme",
         "603",
         "0",
         "0.0496337147090295"
        ],
        [
         "31",
         "2018",
         "andaman-&-nicobar-islands",
         "Motorola",
         "390",
         "0",
         "0.0321014075232529"
        ],
        [
         "32",
         "2018",
         "andaman-&-nicobar-islands",
         "Apple",
         "371",
         "0",
         "0.0305374927977611"
        ],
        [
         "33",
         "2018",
         "andaman-&-nicobar-islands",
         "Huawei",
         "314",
         "0",
         "0.0258457486212857"
        ],
        [
         "34",
         "2018",
         "andaman-&-nicobar-islands",
         "Lenovo",
         "299",
         "0",
         "0.0246110791011605"
        ],
        [
         "35",
         "2018",
         "andaman-&-nicobar-islands",
         "Others",
         "1145",
         "0",
         "0.0942464400362169"
        ],
        [
         "36",
         "2018",
         "andaman-&-nicobar-islands",
         "all",
         "15222",
         "0",
         "1.0"
        ],
        [
         "37",
         "2018",
         "andaman-&-nicobar-islands",
         "Xiaomi",
         "3719",
         "0",
         "0.2443174352910261"
        ],
        [
         "38",
         "2018",
         "andaman-&-nicobar-islands",
         "Samsung",
         "2936",
         "0",
         "0.1928787281566154"
        ],
        [
         "39",
         "2018",
         "andaman-&-nicobar-islands",
         "Vivo",
         "2742",
         "0",
         "0.1801340165549862"
        ],
        [
         "40",
         "2018",
         "andaman-&-nicobar-islands",
         "Oppo",
         "1268",
         "0",
         "0.0833004861384837"
        ],
        [
         "41",
         "2018",
         "andaman-&-nicobar-islands",
         "Realme",
         "760",
         "0",
         "0.0499277361713309"
        ],
        [
         "42",
         "2018",
         "andaman-&-nicobar-islands",
         "OnePlus",
         "721",
         "0",
         "0.0473656549730653"
        ],
        [
         "43",
         "2018",
         "andaman-&-nicobar-islands",
         "Motorola",
         "474",
         "0",
         "0.0311391407173827"
        ],
        [
         "44",
         "2018",
         "andaman-&-nicobar-islands",
         "Apple",
         "455",
         "0",
         "0.0298909473130994"
        ],
        [
         "45",
         "2018",
         "andaman-&-nicobar-islands",
         "Huawei",
         "398",
         "0",
         "0.0261463671002496"
        ],
        [
         "46",
         "2018",
         "andaman-&-nicobar-islands",
         "Lenovo",
         "377",
         "0",
         "0.0247667849165681"
        ],
        [
         "47",
         "2018",
         "andaman-&-nicobar-islands",
         "Others",
         "1372",
         "0",
         "0.0901327026671922"
        ],
        [
         "48",
         "2019",
         "andaman-&-nicobar-islands",
         "all",
         "18596",
         "0",
         "1.0"
        ],
        [
         "49",
         "2019",
         "andaman-&-nicobar-islands",
         "Xiaomi",
         "4576",
         "0",
         "0.2460744246074424"
        ]
       ],
       "shape": {
        "columns": 6,
        "rows": 7740
       }
      },
      "text/html": [
       "<div>\n",
       "<style scoped>\n",
       "    .dataframe tbody tr th:only-of-type {\n",
       "        vertical-align: middle;\n",
       "    }\n",
       "\n",
       "    .dataframe tbody tr th {\n",
       "        vertical-align: top;\n",
       "    }\n",
       "\n",
       "    .dataframe thead th {\n",
       "        text-align: right;\n",
       "    }\n",
       "</style>\n",
       "<table border=\"1\" class=\"dataframe\">\n",
       "  <thead>\n",
       "    <tr style=\"text-align: right;\">\n",
       "      <th></th>\n",
       "      <th>year</th>\n",
       "      <th>state</th>\n",
       "      <th>brand</th>\n",
       "      <th>registered_users</th>\n",
       "      <th>app_opens</th>\n",
       "      <th>percentage</th>\n",
       "    </tr>\n",
       "  </thead>\n",
       "  <tbody>\n",
       "    <tr>\n",
       "      <th>0</th>\n",
       "      <td>2018</td>\n",
       "      <td>andaman-&amp;-nicobar-islands</td>\n",
       "      <td>all</td>\n",
       "      <td>6740</td>\n",
       "      <td>0</td>\n",
       "      <td>1.000000</td>\n",
       "    </tr>\n",
       "    <tr>\n",
       "      <th>1</th>\n",
       "      <td>2018</td>\n",
       "      <td>andaman-&amp;-nicobar-islands</td>\n",
       "      <td>Xiaomi</td>\n",
       "      <td>1665</td>\n",
       "      <td>0</td>\n",
       "      <td>0.247033</td>\n",
       "    </tr>\n",
       "    <tr>\n",
       "      <th>2</th>\n",
       "      <td>2018</td>\n",
       "      <td>andaman-&amp;-nicobar-islands</td>\n",
       "      <td>Samsung</td>\n",
       "      <td>1445</td>\n",
       "      <td>0</td>\n",
       "      <td>0.214392</td>\n",
       "    </tr>\n",
       "    <tr>\n",
       "      <th>3</th>\n",
       "      <td>2018</td>\n",
       "      <td>andaman-&amp;-nicobar-islands</td>\n",
       "      <td>Vivo</td>\n",
       "      <td>982</td>\n",
       "      <td>0</td>\n",
       "      <td>0.145697</td>\n",
       "    </tr>\n",
       "    <tr>\n",
       "      <th>4</th>\n",
       "      <td>2018</td>\n",
       "      <td>andaman-&amp;-nicobar-islands</td>\n",
       "      <td>Oppo</td>\n",
       "      <td>501</td>\n",
       "      <td>0</td>\n",
       "      <td>0.074332</td>\n",
       "    </tr>\n",
       "    <tr>\n",
       "      <th>...</th>\n",
       "      <td>...</td>\n",
       "      <td>...</td>\n",
       "      <td>...</td>\n",
       "      <td>...</td>\n",
       "      <td>...</td>\n",
       "      <td>...</td>\n",
       "    </tr>\n",
       "    <tr>\n",
       "      <th>7735</th>\n",
       "      <td>2023</td>\n",
       "      <td>west-bengal</td>\n",
       "      <td>all</td>\n",
       "      <td>30064546</td>\n",
       "      <td>1467442959</td>\n",
       "      <td>1.000000</td>\n",
       "    </tr>\n",
       "    <tr>\n",
       "      <th>7736</th>\n",
       "      <td>2024</td>\n",
       "      <td>west-bengal</td>\n",
       "      <td>all</td>\n",
       "      <td>31306843</td>\n",
       "      <td>633526507</td>\n",
       "      <td>1.000000</td>\n",
       "    </tr>\n",
       "    <tr>\n",
       "      <th>7737</th>\n",
       "      <td>2024</td>\n",
       "      <td>west-bengal</td>\n",
       "      <td>all</td>\n",
       "      <td>32540397</td>\n",
       "      <td>704276274</td>\n",
       "      <td>1.000000</td>\n",
       "    </tr>\n",
       "    <tr>\n",
       "      <th>7738</th>\n",
       "      <td>2024</td>\n",
       "      <td>west-bengal</td>\n",
       "      <td>all</td>\n",
       "      <td>33612828</td>\n",
       "      <td>709864323</td>\n",
       "      <td>1.000000</td>\n",
       "    </tr>\n",
       "    <tr>\n",
       "      <th>7739</th>\n",
       "      <td>2024</td>\n",
       "      <td>west-bengal</td>\n",
       "      <td>all</td>\n",
       "      <td>34750181</td>\n",
       "      <td>1994940763</td>\n",
       "      <td>1.000000</td>\n",
       "    </tr>\n",
       "  </tbody>\n",
       "</table>\n",
       "<p>7740 rows × 6 columns</p>\n",
       "</div>"
      ],
      "text/plain": [
       "      year                      state    brand  registered_users   app_opens  \\\n",
       "0     2018  andaman-&-nicobar-islands      all              6740           0   \n",
       "1     2018  andaman-&-nicobar-islands   Xiaomi              1665           0   \n",
       "2     2018  andaman-&-nicobar-islands  Samsung              1445           0   \n",
       "3     2018  andaman-&-nicobar-islands     Vivo               982           0   \n",
       "4     2018  andaman-&-nicobar-islands     Oppo               501           0   \n",
       "...    ...                        ...      ...               ...         ...   \n",
       "7735  2023                west-bengal      all          30064546  1467442959   \n",
       "7736  2024                west-bengal      all          31306843   633526507   \n",
       "7737  2024                west-bengal      all          32540397   704276274   \n",
       "7738  2024                west-bengal      all          33612828   709864323   \n",
       "7739  2024                west-bengal      all          34750181  1994940763   \n",
       "\n",
       "      percentage  \n",
       "0       1.000000  \n",
       "1       0.247033  \n",
       "2       0.214392  \n",
       "3       0.145697  \n",
       "4       0.074332  \n",
       "...          ...  \n",
       "7735    1.000000  \n",
       "7736    1.000000  \n",
       "7737    1.000000  \n",
       "7738    1.000000  \n",
       "7739    1.000000  \n",
       "\n",
       "[7740 rows x 6 columns]"
      ]
     },
     "execution_count": 42,
     "metadata": {},
     "output_type": "execute_result"
    }
   ],
   "source": [
    "df2 = pd.read_csv(\"dataset/user/aggregated_user_state.csv\")\n",
    "df2"
   ]
  },
  {
   "cell_type": "markdown",
   "id": "b5e8db8f",
   "metadata": {},
   "source": [
    "### **Dataset Info**"
   ]
  },
  {
   "cell_type": "code",
   "execution_count": 43,
   "id": "add63855",
   "metadata": {},
   "outputs": [
    {
     "name": "stdout",
     "output_type": "stream",
     "text": [
      "<class 'pandas.core.frame.DataFrame'>\n",
      "RangeIndex: 7740 entries, 0 to 7739\n",
      "Data columns (total 6 columns):\n",
      " #   Column            Non-Null Count  Dtype  \n",
      "---  ------            --------------  -----  \n",
      " 0   year              7740 non-null   int64  \n",
      " 1   state             7740 non-null   object \n",
      " 2   brand             7740 non-null   object \n",
      " 3   registered_users  7740 non-null   int64  \n",
      " 4   app_opens         7740 non-null   int64  \n",
      " 5   percentage        7740 non-null   float64\n",
      "dtypes: float64(1), int64(3), object(2)\n",
      "memory usage: 362.9+ KB\n"
     ]
    }
   ],
   "source": [
    "df2.info()"
   ]
  },
  {
   "cell_type": "markdown",
   "id": "e179d668",
   "metadata": {},
   "source": [
    "* Type Conversion needed for from_date & to_date"
   ]
  },
  {
   "cell_type": "markdown",
   "id": "d3dded24",
   "metadata": {},
   "source": [
    "### **Dataset Describe**"
   ]
  },
  {
   "cell_type": "code",
   "execution_count": 44,
   "id": "68602666",
   "metadata": {},
   "outputs": [
    {
     "data": {
      "application/vnd.microsoft.datawrangler.viewer.v0+json": {
       "columns": [
        {
         "name": "index",
         "rawType": "object",
         "type": "string"
        },
        {
         "name": "year",
         "rawType": "float64",
         "type": "float"
        },
        {
         "name": "registered_users",
         "rawType": "float64",
         "type": "float"
        },
        {
         "name": "app_opens",
         "rawType": "float64",
         "type": "float"
        },
        {
         "name": "percentage",
         "rawType": "float64",
         "type": "float"
        }
       ],
       "ref": "3dafedc3-813b-406f-b857-f33071395170",
       "rows": [
        [
         "count",
         "7740.0",
         "7740.0",
         "7740.0",
         "7740.0"
        ],
        [
         "mean",
         "2019.8232558139534",
         "1592315.5103359174",
         "51975213.80206718",
         "0.20930232558139528"
        ],
        [
         "std",
         "1.4327413010743275",
         "5415110.368100834",
         "319163571.16381794",
         "0.3157136210795054"
        ],
        [
         "min",
         "2018.0",
         "10.0",
         "0.0",
         "0.0051575404619961"
        ],
        [
         "25%",
         "2019.0",
         "12968.25",
         "0.0",
         "0.022939063930474027"
        ],
        [
         "50%",
         "2020.0",
         "131466.5",
         "0.0",
         "0.08304053320549926"
        ],
        [
         "75%",
         "2021.0",
         "676848.75",
         "0.0",
         "0.2017285415583076"
        ],
        [
         "max",
         "2024.0",
         "71807805.0",
         "5335171033.0",
         "1.0"
        ]
       ],
       "shape": {
        "columns": 4,
        "rows": 8
       }
      },
      "text/html": [
       "<div>\n",
       "<style scoped>\n",
       "    .dataframe tbody tr th:only-of-type {\n",
       "        vertical-align: middle;\n",
       "    }\n",
       "\n",
       "    .dataframe tbody tr th {\n",
       "        vertical-align: top;\n",
       "    }\n",
       "\n",
       "    .dataframe thead th {\n",
       "        text-align: right;\n",
       "    }\n",
       "</style>\n",
       "<table border=\"1\" class=\"dataframe\">\n",
       "  <thead>\n",
       "    <tr style=\"text-align: right;\">\n",
       "      <th></th>\n",
       "      <th>year</th>\n",
       "      <th>registered_users</th>\n",
       "      <th>app_opens</th>\n",
       "      <th>percentage</th>\n",
       "    </tr>\n",
       "  </thead>\n",
       "  <tbody>\n",
       "    <tr>\n",
       "      <th>count</th>\n",
       "      <td>7740.000000</td>\n",
       "      <td>7.740000e+03</td>\n",
       "      <td>7.740000e+03</td>\n",
       "      <td>7740.000000</td>\n",
       "    </tr>\n",
       "    <tr>\n",
       "      <th>mean</th>\n",
       "      <td>2019.823256</td>\n",
       "      <td>1.592316e+06</td>\n",
       "      <td>5.197521e+07</td>\n",
       "      <td>0.209302</td>\n",
       "    </tr>\n",
       "    <tr>\n",
       "      <th>std</th>\n",
       "      <td>1.432741</td>\n",
       "      <td>5.415110e+06</td>\n",
       "      <td>3.191636e+08</td>\n",
       "      <td>0.315714</td>\n",
       "    </tr>\n",
       "    <tr>\n",
       "      <th>min</th>\n",
       "      <td>2018.000000</td>\n",
       "      <td>1.000000e+01</td>\n",
       "      <td>0.000000e+00</td>\n",
       "      <td>0.005158</td>\n",
       "    </tr>\n",
       "    <tr>\n",
       "      <th>25%</th>\n",
       "      <td>2019.000000</td>\n",
       "      <td>1.296825e+04</td>\n",
       "      <td>0.000000e+00</td>\n",
       "      <td>0.022939</td>\n",
       "    </tr>\n",
       "    <tr>\n",
       "      <th>50%</th>\n",
       "      <td>2020.000000</td>\n",
       "      <td>1.314665e+05</td>\n",
       "      <td>0.000000e+00</td>\n",
       "      <td>0.083041</td>\n",
       "    </tr>\n",
       "    <tr>\n",
       "      <th>75%</th>\n",
       "      <td>2021.000000</td>\n",
       "      <td>6.768488e+05</td>\n",
       "      <td>0.000000e+00</td>\n",
       "      <td>0.201729</td>\n",
       "    </tr>\n",
       "    <tr>\n",
       "      <th>max</th>\n",
       "      <td>2024.000000</td>\n",
       "      <td>7.180780e+07</td>\n",
       "      <td>5.335171e+09</td>\n",
       "      <td>1.000000</td>\n",
       "    </tr>\n",
       "  </tbody>\n",
       "</table>\n",
       "</div>"
      ],
      "text/plain": [
       "              year  registered_users     app_opens   percentage\n",
       "count  7740.000000      7.740000e+03  7.740000e+03  7740.000000\n",
       "mean   2019.823256      1.592316e+06  5.197521e+07     0.209302\n",
       "std       1.432741      5.415110e+06  3.191636e+08     0.315714\n",
       "min    2018.000000      1.000000e+01  0.000000e+00     0.005158\n",
       "25%    2019.000000      1.296825e+04  0.000000e+00     0.022939\n",
       "50%    2020.000000      1.314665e+05  0.000000e+00     0.083041\n",
       "75%    2021.000000      6.768488e+05  0.000000e+00     0.201729\n",
       "max    2024.000000      7.180780e+07  5.335171e+09     1.000000"
      ]
     },
     "execution_count": 44,
     "metadata": {},
     "output_type": "execute_result"
    }
   ],
   "source": [
    "df2.describe()"
   ]
  },
  {
   "cell_type": "markdown",
   "id": "6b0e38b8",
   "metadata": {},
   "source": [
    "### **Plots**"
   ]
  },
  {
   "cell_type": "code",
   "execution_count": 45,
   "id": "3ef0db7c",
   "metadata": {},
   "outputs": [
    {
     "data": {
      "application/vnd.microsoft.datawrangler.viewer.v0+json": {
       "columns": [
        {
         "name": "index",
         "rawType": "int64",
         "type": "integer"
        },
        {
         "name": "state",
         "rawType": "object",
         "type": "string"
        },
        {
         "name": "brand",
         "rawType": "object",
         "type": "string"
        },
        {
         "name": "registered_users",
         "rawType": "int64",
         "type": "integer"
        }
       ],
       "ref": "6c8bcdc5-4a17-4f18-9a61-a1539bb442da",
       "rows": [
        [
         "11",
         "andaman-&-nicobar-islands",
         "Xiaomi",
         "148752"
        ],
        [
         "22",
         "andhra-pradesh",
         "Xiaomi",
         "56579876"
        ],
        [
         "35",
         "arunachal-pradesh",
         "Xiaomi",
         "652564"
        ],
        [
         "50",
         "assam",
         "Xiaomi",
         "10092046"
        ],
        [
         "64",
         "bihar",
         "Xiaomi",
         "47850275"
        ],
        [
         "77",
         "chandigarh",
         "Xiaomi",
         "1235478"
        ],
        [
         "91",
         "chhattisgarh",
         "Xiaomi",
         "12483445"
        ],
        [
         "104",
         "dadra-&-nagar-haveli-&-daman-&-diu",
         "Vivo",
         "919286"
        ],
        [
         "117",
         "delhi",
         "Xiaomi",
         "33195661"
        ],
        [
         "129",
         "goa",
         "Xiaomi",
         "1725922"
        ],
        [
         "140",
         "gujarat",
         "Vivo",
         "41169122"
        ],
        [
         "153",
         "haryana",
         "Xiaomi",
         "29321118"
        ],
        [
         "168",
         "himachal-pradesh",
         "Xiaomi",
         "5727927"
        ],
        [
         "181",
         "jammu-&-kashmir",
         "Xiaomi",
         "4995412"
        ],
        [
         "197",
         "jharkhand",
         "Xiaomi",
         "18186547"
        ],
        [
         "208",
         "karnataka",
         "Xiaomi",
         "74495837"
        ],
        [
         "219",
         "kerala",
         "Xiaomi",
         "18218969"
        ],
        [
         "231",
         "ladakh",
         "Xiaomi",
         "237323"
        ],
        [
         "243",
         "lakshadweep",
         "Vivo",
         "10976"
        ],
        [
         "257",
         "madhya-pradesh",
         "Xiaomi",
         "46258633"
        ],
        [
         "269",
         "maharashtra",
         "Xiaomi",
         "112867939"
        ],
        [
         "284",
         "manipur",
         "Xiaomi",
         "1627250"
        ],
        [
         "299",
         "meghalaya",
         "Xiaomi",
         "518515"
        ],
        [
         "312",
         "mizoram",
         "Xiaomi",
         "293707"
        ],
        [
         "326",
         "nagaland",
         "Xiaomi",
         "684427"
        ],
        [
         "338",
         "odisha",
         "Xiaomi",
         "32237574"
        ],
        [
         "349",
         "puducherry",
         "Xiaomi",
         "922133"
        ],
        [
         "363",
         "punjab",
         "Xiaomi",
         "15701657"
        ],
        [
         "375",
         "rajasthan",
         "Vivo",
         "49461060"
        ],
        [
         "388",
         "sikkim",
         "Samsung",
         "585908"
        ],
        [
         "402",
         "tamil-nadu",
         "Xiaomi",
         "45699777"
        ],
        [
         "413",
         "telangana",
         "Xiaomi",
         "54790200"
        ],
        [
         "428",
         "tripura",
         "Xiaomi",
         "1318428"
        ],
        [
         "443",
         "uttar-pradesh",
         "Xiaomi",
         "91026031"
        ],
        [
         "458",
         "uttarakhand",
         "Xiaomi",
         "7828518"
        ],
        [
         "472",
         "west-bengal",
         "Xiaomi",
         "54165446"
        ]
       ],
       "shape": {
        "columns": 3,
        "rows": 36
       }
      },
      "text/html": [
       "<div>\n",
       "<style scoped>\n",
       "    .dataframe tbody tr th:only-of-type {\n",
       "        vertical-align: middle;\n",
       "    }\n",
       "\n",
       "    .dataframe tbody tr th {\n",
       "        vertical-align: top;\n",
       "    }\n",
       "\n",
       "    .dataframe thead th {\n",
       "        text-align: right;\n",
       "    }\n",
       "</style>\n",
       "<table border=\"1\" class=\"dataframe\">\n",
       "  <thead>\n",
       "    <tr style=\"text-align: right;\">\n",
       "      <th></th>\n",
       "      <th>state</th>\n",
       "      <th>brand</th>\n",
       "      <th>registered_users</th>\n",
       "    </tr>\n",
       "  </thead>\n",
       "  <tbody>\n",
       "    <tr>\n",
       "      <th>11</th>\n",
       "      <td>andaman-&amp;-nicobar-islands</td>\n",
       "      <td>Xiaomi</td>\n",
       "      <td>148752</td>\n",
       "    </tr>\n",
       "    <tr>\n",
       "      <th>22</th>\n",
       "      <td>andhra-pradesh</td>\n",
       "      <td>Xiaomi</td>\n",
       "      <td>56579876</td>\n",
       "    </tr>\n",
       "    <tr>\n",
       "      <th>35</th>\n",
       "      <td>arunachal-pradesh</td>\n",
       "      <td>Xiaomi</td>\n",
       "      <td>652564</td>\n",
       "    </tr>\n",
       "    <tr>\n",
       "      <th>50</th>\n",
       "      <td>assam</td>\n",
       "      <td>Xiaomi</td>\n",
       "      <td>10092046</td>\n",
       "    </tr>\n",
       "    <tr>\n",
       "      <th>64</th>\n",
       "      <td>bihar</td>\n",
       "      <td>Xiaomi</td>\n",
       "      <td>47850275</td>\n",
       "    </tr>\n",
       "    <tr>\n",
       "      <th>77</th>\n",
       "      <td>chandigarh</td>\n",
       "      <td>Xiaomi</td>\n",
       "      <td>1235478</td>\n",
       "    </tr>\n",
       "    <tr>\n",
       "      <th>91</th>\n",
       "      <td>chhattisgarh</td>\n",
       "      <td>Xiaomi</td>\n",
       "      <td>12483445</td>\n",
       "    </tr>\n",
       "    <tr>\n",
       "      <th>104</th>\n",
       "      <td>dadra-&amp;-nagar-haveli-&amp;-daman-&amp;-diu</td>\n",
       "      <td>Vivo</td>\n",
       "      <td>919286</td>\n",
       "    </tr>\n",
       "    <tr>\n",
       "      <th>117</th>\n",
       "      <td>delhi</td>\n",
       "      <td>Xiaomi</td>\n",
       "      <td>33195661</td>\n",
       "    </tr>\n",
       "    <tr>\n",
       "      <th>129</th>\n",
       "      <td>goa</td>\n",
       "      <td>Xiaomi</td>\n",
       "      <td>1725922</td>\n",
       "    </tr>\n",
       "    <tr>\n",
       "      <th>140</th>\n",
       "      <td>gujarat</td>\n",
       "      <td>Vivo</td>\n",
       "      <td>41169122</td>\n",
       "    </tr>\n",
       "    <tr>\n",
       "      <th>153</th>\n",
       "      <td>haryana</td>\n",
       "      <td>Xiaomi</td>\n",
       "      <td>29321118</td>\n",
       "    </tr>\n",
       "    <tr>\n",
       "      <th>168</th>\n",
       "      <td>himachal-pradesh</td>\n",
       "      <td>Xiaomi</td>\n",
       "      <td>5727927</td>\n",
       "    </tr>\n",
       "    <tr>\n",
       "      <th>181</th>\n",
       "      <td>jammu-&amp;-kashmir</td>\n",
       "      <td>Xiaomi</td>\n",
       "      <td>4995412</td>\n",
       "    </tr>\n",
       "    <tr>\n",
       "      <th>197</th>\n",
       "      <td>jharkhand</td>\n",
       "      <td>Xiaomi</td>\n",
       "      <td>18186547</td>\n",
       "    </tr>\n",
       "    <tr>\n",
       "      <th>208</th>\n",
       "      <td>karnataka</td>\n",
       "      <td>Xiaomi</td>\n",
       "      <td>74495837</td>\n",
       "    </tr>\n",
       "    <tr>\n",
       "      <th>219</th>\n",
       "      <td>kerala</td>\n",
       "      <td>Xiaomi</td>\n",
       "      <td>18218969</td>\n",
       "    </tr>\n",
       "    <tr>\n",
       "      <th>231</th>\n",
       "      <td>ladakh</td>\n",
       "      <td>Xiaomi</td>\n",
       "      <td>237323</td>\n",
       "    </tr>\n",
       "    <tr>\n",
       "      <th>243</th>\n",
       "      <td>lakshadweep</td>\n",
       "      <td>Vivo</td>\n",
       "      <td>10976</td>\n",
       "    </tr>\n",
       "    <tr>\n",
       "      <th>257</th>\n",
       "      <td>madhya-pradesh</td>\n",
       "      <td>Xiaomi</td>\n",
       "      <td>46258633</td>\n",
       "    </tr>\n",
       "    <tr>\n",
       "      <th>269</th>\n",
       "      <td>maharashtra</td>\n",
       "      <td>Xiaomi</td>\n",
       "      <td>112867939</td>\n",
       "    </tr>\n",
       "    <tr>\n",
       "      <th>284</th>\n",
       "      <td>manipur</td>\n",
       "      <td>Xiaomi</td>\n",
       "      <td>1627250</td>\n",
       "    </tr>\n",
       "    <tr>\n",
       "      <th>299</th>\n",
       "      <td>meghalaya</td>\n",
       "      <td>Xiaomi</td>\n",
       "      <td>518515</td>\n",
       "    </tr>\n",
       "    <tr>\n",
       "      <th>312</th>\n",
       "      <td>mizoram</td>\n",
       "      <td>Xiaomi</td>\n",
       "      <td>293707</td>\n",
       "    </tr>\n",
       "    <tr>\n",
       "      <th>326</th>\n",
       "      <td>nagaland</td>\n",
       "      <td>Xiaomi</td>\n",
       "      <td>684427</td>\n",
       "    </tr>\n",
       "    <tr>\n",
       "      <th>338</th>\n",
       "      <td>odisha</td>\n",
       "      <td>Xiaomi</td>\n",
       "      <td>32237574</td>\n",
       "    </tr>\n",
       "    <tr>\n",
       "      <th>349</th>\n",
       "      <td>puducherry</td>\n",
       "      <td>Xiaomi</td>\n",
       "      <td>922133</td>\n",
       "    </tr>\n",
       "    <tr>\n",
       "      <th>363</th>\n",
       "      <td>punjab</td>\n",
       "      <td>Xiaomi</td>\n",
       "      <td>15701657</td>\n",
       "    </tr>\n",
       "    <tr>\n",
       "      <th>375</th>\n",
       "      <td>rajasthan</td>\n",
       "      <td>Vivo</td>\n",
       "      <td>49461060</td>\n",
       "    </tr>\n",
       "    <tr>\n",
       "      <th>388</th>\n",
       "      <td>sikkim</td>\n",
       "      <td>Samsung</td>\n",
       "      <td>585908</td>\n",
       "    </tr>\n",
       "    <tr>\n",
       "      <th>402</th>\n",
       "      <td>tamil-nadu</td>\n",
       "      <td>Xiaomi</td>\n",
       "      <td>45699777</td>\n",
       "    </tr>\n",
       "    <tr>\n",
       "      <th>413</th>\n",
       "      <td>telangana</td>\n",
       "      <td>Xiaomi</td>\n",
       "      <td>54790200</td>\n",
       "    </tr>\n",
       "    <tr>\n",
       "      <th>428</th>\n",
       "      <td>tripura</td>\n",
       "      <td>Xiaomi</td>\n",
       "      <td>1318428</td>\n",
       "    </tr>\n",
       "    <tr>\n",
       "      <th>443</th>\n",
       "      <td>uttar-pradesh</td>\n",
       "      <td>Xiaomi</td>\n",
       "      <td>91026031</td>\n",
       "    </tr>\n",
       "    <tr>\n",
       "      <th>458</th>\n",
       "      <td>uttarakhand</td>\n",
       "      <td>Xiaomi</td>\n",
       "      <td>7828518</td>\n",
       "    </tr>\n",
       "    <tr>\n",
       "      <th>472</th>\n",
       "      <td>west-bengal</td>\n",
       "      <td>Xiaomi</td>\n",
       "      <td>54165446</td>\n",
       "    </tr>\n",
       "  </tbody>\n",
       "</table>\n",
       "</div>"
      ],
      "text/plain": [
       "                                  state    brand  registered_users\n",
       "11            andaman-&-nicobar-islands   Xiaomi            148752\n",
       "22                       andhra-pradesh   Xiaomi          56579876\n",
       "35                    arunachal-pradesh   Xiaomi            652564\n",
       "50                                assam   Xiaomi          10092046\n",
       "64                                bihar   Xiaomi          47850275\n",
       "77                           chandigarh   Xiaomi           1235478\n",
       "91                         chhattisgarh   Xiaomi          12483445\n",
       "104  dadra-&-nagar-haveli-&-daman-&-diu     Vivo            919286\n",
       "117                               delhi   Xiaomi          33195661\n",
       "129                                 goa   Xiaomi           1725922\n",
       "140                             gujarat     Vivo          41169122\n",
       "153                             haryana   Xiaomi          29321118\n",
       "168                    himachal-pradesh   Xiaomi           5727927\n",
       "181                     jammu-&-kashmir   Xiaomi           4995412\n",
       "197                           jharkhand   Xiaomi          18186547\n",
       "208                           karnataka   Xiaomi          74495837\n",
       "219                              kerala   Xiaomi          18218969\n",
       "231                              ladakh   Xiaomi            237323\n",
       "243                         lakshadweep     Vivo             10976\n",
       "257                      madhya-pradesh   Xiaomi          46258633\n",
       "269                         maharashtra   Xiaomi         112867939\n",
       "284                             manipur   Xiaomi           1627250\n",
       "299                           meghalaya   Xiaomi            518515\n",
       "312                             mizoram   Xiaomi            293707\n",
       "326                            nagaland   Xiaomi            684427\n",
       "338                              odisha   Xiaomi          32237574\n",
       "349                          puducherry   Xiaomi            922133\n",
       "363                              punjab   Xiaomi          15701657\n",
       "375                           rajasthan     Vivo          49461060\n",
       "388                              sikkim  Samsung            585908\n",
       "402                          tamil-nadu   Xiaomi          45699777\n",
       "413                           telangana   Xiaomi          54790200\n",
       "428                             tripura   Xiaomi           1318428\n",
       "443                       uttar-pradesh   Xiaomi          91026031\n",
       "458                         uttarakhand   Xiaomi           7828518\n",
       "472                         west-bengal   Xiaomi          54165446"
      ]
     },
     "execution_count": 45,
     "metadata": {},
     "output_type": "execute_result"
    }
   ],
   "source": [
    "# Brands with Highest Registrations on Each State\n",
    "brands_only = df2[df2['brand'] != 'all']\n",
    "state_brand_totals = brands_only.groupby(['state', 'brand'])['registered_users'].sum().reset_index()\n",
    "idx = state_brand_totals.groupby('state')['registered_users'].idxmax()\n",
    "top_brands = state_brand_totals.loc[idx]\n",
    "top_brands"
   ]
  },
  {
   "cell_type": "code",
   "execution_count": 46,
   "id": "87b083c9",
   "metadata": {},
   "outputs": [
    {
     "data": {
      "image/png": "[encoded data removed]",
      "text/plain": [
       "<Figure size 1200x600 with 1 Axes>"
      ]
     },
     "metadata": {},
     "output_type": "display_data"
    }
   ],
   "source": [
    "plt.figure(figsize=(12,6))\n",
    "plt.bar(top_brands['state'], top_brands['registered_users'], color='orange')\n",
    "\n",
    "for i, (brand, users) in enumerate(zip(top_brands['brand'], top_brands['registered_users'])):\n",
    "    plt.text(i, users, brand, ha='center', va='bottom', fontsize=8, rotation=90)\n",
    "\n",
    "plt.title(\"Brand with Highest Total Registered Users per State\")\n",
    "plt.xlabel(\"State\")\n",
    "plt.ylabel(\"Total Registered Users\")\n",
    "plt.xticks(rotation=90)\n",
    "plt.grid(axis='y')\n",
    "plt.tight_layout()\n",
    "plt.show()"
   ]
  },
  {
   "cell_type": "markdown",
   "id": "15ab2222",
   "metadata": {},
   "source": [
    "From above two graph we can see:\n",
    "* `Xiaomi` is the biggest brand in user registrations in India.\n",
    "* Then there is `Vivo` with only 4 and least occurrence.\n",
    "* Then `Samsung` with only 1 and the lowest occurrence in Sikkim."
   ]
  },
  {
   "cell_type": "markdown",
   "id": "4e820dbc",
   "metadata": {},
   "source": [
    "# **Map**"
   ]
  },
  {
   "cell_type": "markdown",
   "id": "44d9d671",
   "metadata": {},
   "source": [
    "## **Country**"
   ]
  },
  {
   "cell_type": "markdown",
   "id": "30b4c775",
   "metadata": {},
   "source": [
    "### **Load CSV**"
   ]
  },
  {
   "cell_type": "code",
   "execution_count": 47,
   "id": "2674bbdd",
   "metadata": {},
   "outputs": [
    {
     "data": {
      "application/vnd.microsoft.datawrangler.viewer.v0+json": {
       "columns": [
        {
         "name": "index",
         "rawType": "int64",
         "type": "integer"
        },
        {
         "name": "year",
         "rawType": "int64",
         "type": "integer"
        },
        {
         "name": "state",
         "rawType": "object",
         "type": "string"
        },
        {
         "name": "registered_users",
         "rawType": "int64",
         "type": "integer"
        },
        {
         "name": "app_opens",
         "rawType": "int64",
         "type": "integer"
        }
       ],
       "ref": "323b68d5-b21a-42c1-bbe3-4f76cdab5576",
       "rows": [
        [
         "0",
         "2018",
         "puducherry",
         "49318",
         "0"
        ],
        [
         "1",
         "2018",
         "tamil nadu",
         "2104754",
         "0"
        ],
        [
         "2",
         "2018",
         "uttar pradesh",
         "4694250",
         "0"
        ],
        [
         "3",
         "2018",
         "madhya pradesh",
         "2553603",
         "0"
        ],
        [
         "4",
         "2018",
         "andhra pradesh",
         "3336450",
         "0"
        ],
        [
         "5",
         "2018",
         "tripura",
         "55157",
         "0"
        ],
        [
         "6",
         "2018",
         "lakshadweep",
         "501",
         "0"
        ],
        [
         "7",
         "2018",
         "manipur",
         "29925",
         "0"
        ],
        [
         "8",
         "2018",
         "maharashtra",
         "6106994",
         "0"
        ],
        [
         "9",
         "2018",
         "dadra & nagar haveli & daman & diu",
         "53258",
         "0"
        ],
        [
         "10",
         "2018",
         "meghalaya",
         "18513",
         "0"
        ],
        [
         "11",
         "2018",
         "andaman & nicobar islands",
         "6740",
         "0"
        ],
        [
         "12",
         "2018",
         "haryana",
         "1847357",
         "0"
        ],
        [
         "13",
         "2018",
         "rajasthan",
         "3158202",
         "0"
        ],
        [
         "14",
         "2018",
         "ladakh",
         "8784",
         "0"
        ],
        [
         "15",
         "2018",
         "punjab",
         "847142",
         "0"
        ],
        [
         "16",
         "2018",
         "assam",
         "385237",
         "0"
        ],
        [
         "17",
         "2018",
         "jharkhand",
         "885762",
         "0"
        ],
        [
         "18",
         "2018",
         "odisha",
         "1594015",
         "0"
        ],
        [
         "19",
         "2018",
         "bihar",
         "2133804",
         "0"
        ],
        [
         "20",
         "2018",
         "kerala",
         "784184",
         "0"
        ],
        [
         "21",
         "2018",
         "karnataka",
         "3717763",
         "0"
        ],
        [
         "22",
         "2018",
         "chandigarh",
         "86268",
         "0"
        ],
        [
         "23",
         "2018",
         "telangana",
         "3315560",
         "0"
        ],
        [
         "24",
         "2018",
         "himachal pradesh",
         "227373",
         "0"
        ],
        [
         "25",
         "2018",
         "west bengal",
         "2604789",
         "0"
        ],
        [
         "26",
         "2018",
         "gujarat",
         "2690048",
         "0"
        ],
        [
         "27",
         "2018",
         "sikkim",
         "20051",
         "0"
        ],
        [
         "28",
         "2018",
         "nagaland",
         "15074",
         "0"
        ],
        [
         "29",
         "2018",
         "mizoram",
         "7593",
         "0"
        ],
        [
         "30",
         "2018",
         "chhattisgarh",
         "679263",
         "0"
        ],
        [
         "31",
         "2018",
         "jammu & kashmir",
         "176425",
         "0"
        ],
        [
         "32",
         "2018",
         "goa",
         "91936",
         "0"
        ],
        [
         "33",
         "2018",
         "arunachal pradesh",
         "21495",
         "0"
        ],
        [
         "34",
         "2018",
         "delhi",
         "2087022",
         "0"
        ],
        [
         "35",
         "2018",
         "uttarakhand",
         "483043",
         "0"
        ],
        [
         "36",
         "2018",
         "puducherry",
         "65580",
         "0"
        ],
        [
         "37",
         "2018",
         "tamil nadu",
         "2996036",
         "0"
        ],
        [
         "38",
         "2018",
         "uttar pradesh",
         "6442554",
         "0"
        ],
        [
         "39",
         "2018",
         "madhya pradesh",
         "3441662",
         "0"
        ],
        [
         "40",
         "2018",
         "andhra pradesh",
         "4402540",
         "0"
        ],
        [
         "41",
         "2018",
         "tripura",
         "83369",
         "0"
        ],
        [
         "42",
         "2018",
         "lakshadweep",
         "686",
         "0"
        ],
        [
         "43",
         "2018",
         "manipur",
         "46055",
         "0"
        ],
        [
         "44",
         "2018",
         "maharashtra",
         "8222371",
         "0"
        ],
        [
         "45",
         "2018",
         "dadra & nagar haveli & daman & diu",
         "71458",
         "0"
        ],
        [
         "46",
         "2018",
         "meghalaya",
         "26618",
         "0"
        ],
        [
         "47",
         "2018",
         "andaman & nicobar islands",
         "9405",
         "0"
        ],
        [
         "48",
         "2018",
         "haryana",
         "2447221",
         "0"
        ],
        [
         "49",
         "2018",
         "rajasthan",
         "4212964",
         "0"
        ]
       ],
       "shape": {
        "columns": 4,
        "rows": 1008
       }
      },
      "text/html": [
       "<div>\n",
       "<style scoped>\n",
       "    .dataframe tbody tr th:only-of-type {\n",
       "        vertical-align: middle;\n",
       "    }\n",
       "\n",
       "    .dataframe tbody tr th {\n",
       "        vertical-align: top;\n",
       "    }\n",
       "\n",
       "    .dataframe thead th {\n",
       "        text-align: right;\n",
       "    }\n",
       "</style>\n",
       "<table border=\"1\" class=\"dataframe\">\n",
       "  <thead>\n",
       "    <tr style=\"text-align: right;\">\n",
       "      <th></th>\n",
       "      <th>year</th>\n",
       "      <th>state</th>\n",
       "      <th>registered_users</th>\n",
       "      <th>app_opens</th>\n",
       "    </tr>\n",
       "  </thead>\n",
       "  <tbody>\n",
       "    <tr>\n",
       "      <th>0</th>\n",
       "      <td>2018</td>\n",
       "      <td>puducherry</td>\n",
       "      <td>49318</td>\n",
       "      <td>0</td>\n",
       "    </tr>\n",
       "    <tr>\n",
       "      <th>1</th>\n",
       "      <td>2018</td>\n",
       "      <td>tamil nadu</td>\n",
       "      <td>2104754</td>\n",
       "      <td>0</td>\n",
       "    </tr>\n",
       "    <tr>\n",
       "      <th>2</th>\n",
       "      <td>2018</td>\n",
       "      <td>uttar pradesh</td>\n",
       "      <td>4694250</td>\n",
       "      <td>0</td>\n",
       "    </tr>\n",
       "    <tr>\n",
       "      <th>3</th>\n",
       "      <td>2018</td>\n",
       "      <td>madhya pradesh</td>\n",
       "      <td>2553603</td>\n",
       "      <td>0</td>\n",
       "    </tr>\n",
       "    <tr>\n",
       "      <th>4</th>\n",
       "      <td>2018</td>\n",
       "      <td>andhra pradesh</td>\n",
       "      <td>3336450</td>\n",
       "      <td>0</td>\n",
       "    </tr>\n",
       "    <tr>\n",
       "      <th>...</th>\n",
       "      <td>...</td>\n",
       "      <td>...</td>\n",
       "      <td>...</td>\n",
       "      <td>...</td>\n",
       "    </tr>\n",
       "    <tr>\n",
       "      <th>1003</th>\n",
       "      <td>2024</td>\n",
       "      <td>jammu &amp; kashmir</td>\n",
       "      <td>4288583</td>\n",
       "      <td>246569412</td>\n",
       "    </tr>\n",
       "    <tr>\n",
       "      <th>1004</th>\n",
       "      <td>2024</td>\n",
       "      <td>goa</td>\n",
       "      <td>1143332</td>\n",
       "      <td>78430745</td>\n",
       "    </tr>\n",
       "    <tr>\n",
       "      <th>1005</th>\n",
       "      <td>2024</td>\n",
       "      <td>arunachal pradesh</td>\n",
       "      <td>710879</td>\n",
       "      <td>46627582</td>\n",
       "    </tr>\n",
       "    <tr>\n",
       "      <th>1006</th>\n",
       "      <td>2024</td>\n",
       "      <td>delhi</td>\n",
       "      <td>18900488</td>\n",
       "      <td>952556492</td>\n",
       "    </tr>\n",
       "    <tr>\n",
       "      <th>1007</th>\n",
       "      <td>2024</td>\n",
       "      <td>uttarakhand</td>\n",
       "      <td>5575922</td>\n",
       "      <td>354208067</td>\n",
       "    </tr>\n",
       "  </tbody>\n",
       "</table>\n",
       "<p>1008 rows × 4 columns</p>\n",
       "</div>"
      ],
      "text/plain": [
       "      year              state  registered_users  app_opens\n",
       "0     2018         puducherry             49318          0\n",
       "1     2018         tamil nadu           2104754          0\n",
       "2     2018      uttar pradesh           4694250          0\n",
       "3     2018     madhya pradesh           2553603          0\n",
       "4     2018     andhra pradesh           3336450          0\n",
       "...    ...                ...               ...        ...\n",
       "1003  2024    jammu & kashmir           4288583  246569412\n",
       "1004  2024                goa           1143332   78430745\n",
       "1005  2024  arunachal pradesh            710879   46627582\n",
       "1006  2024              delhi          18900488  952556492\n",
       "1007  2024        uttarakhand           5575922  354208067\n",
       "\n",
       "[1008 rows x 4 columns]"
      ]
     },
     "execution_count": 47,
     "metadata": {},
     "output_type": "execute_result"
    }
   ],
   "source": [
    "df3 = pd.read_csv(\"dataset/user/map_user_country.csv\")\n",
    "df3"
   ]
  },
  {
   "cell_type": "markdown",
   "id": "46a58c66",
   "metadata": {},
   "source": [
    "### **Dataset Info**"
   ]
  },
  {
   "cell_type": "code",
   "execution_count": 48,
   "id": "79117da5",
   "metadata": {},
   "outputs": [
    {
     "name": "stdout",
     "output_type": "stream",
     "text": [
      "<class 'pandas.core.frame.DataFrame'>\n",
      "RangeIndex: 1008 entries, 0 to 1007\n",
      "Data columns (total 4 columns):\n",
      " #   Column            Non-Null Count  Dtype \n",
      "---  ------            --------------  ----- \n",
      " 0   year              1008 non-null   int64 \n",
      " 1   state             1008 non-null   object\n",
      " 2   registered_users  1008 non-null   int64 \n",
      " 3   app_opens         1008 non-null   int64 \n",
      "dtypes: int64(3), object(1)\n",
      "memory usage: 31.6+ KB\n"
     ]
    }
   ],
   "source": [
    "df3.info()"
   ]
  },
  {
   "cell_type": "markdown",
   "id": "3c3b9524",
   "metadata": {},
   "source": [
    "### **Dataset Describe**"
   ]
  },
  {
   "cell_type": "code",
   "execution_count": 49,
   "id": "4804f584",
   "metadata": {},
   "outputs": [
    {
     "data": {
      "application/vnd.microsoft.datawrangler.viewer.v0+json": {
       "columns": [
        {
         "name": "index",
         "rawType": "object",
         "type": "string"
        },
        {
         "name": "year",
         "rawType": "float64",
         "type": "float"
        },
        {
         "name": "registered_users",
         "rawType": "float64",
         "type": "float"
        },
        {
         "name": "app_opens",
         "rawType": "float64",
         "type": "float"
        }
       ],
       "ref": "6acdcebc-a6bc-400a-a755-a90610837993",
       "rows": [
        [
         "count",
         "1008.0",
         "1008.0",
         "1008.0"
        ],
        [
         "mean",
         "2021.0",
         "8793846.089285715",
         "399095391.6944444"
        ],
        [
         "std",
         "2.00099280224531",
         "12563745.0375818",
         "802611106.175276"
        ],
        [
         "min",
         "2018.0",
         "501.0",
         "0.0"
        ],
        [
         "25%",
         "2019.0",
         "306702.0",
         "1965471.5"
        ],
        [
         "50%",
         "2021.0",
         "2920231.5",
         "41911496.0"
        ],
        [
         "75%",
         "2023.0",
         "12872699.25",
         "368482035.5"
        ],
        [
         "max",
         "2024.0",
         "71807805.0",
         "5335171033.0"
        ]
       ],
       "shape": {
        "columns": 3,
        "rows": 8
       }
      },
      "text/html": [
       "<div>\n",
       "<style scoped>\n",
       "    .dataframe tbody tr th:only-of-type {\n",
       "        vertical-align: middle;\n",
       "    }\n",
       "\n",
       "    .dataframe tbody tr th {\n",
       "        vertical-align: top;\n",
       "    }\n",
       "\n",
       "    .dataframe thead th {\n",
       "        text-align: right;\n",
       "    }\n",
       "</style>\n",
       "<table border=\"1\" class=\"dataframe\">\n",
       "  <thead>\n",
       "    <tr style=\"text-align: right;\">\n",
       "      <th></th>\n",
       "      <th>year</th>\n",
       "      <th>registered_users</th>\n",
       "      <th>app_opens</th>\n",
       "    </tr>\n",
       "  </thead>\n",
       "  <tbody>\n",
       "    <tr>\n",
       "      <th>count</th>\n",
       "      <td>1008.000000</td>\n",
       "      <td>1.008000e+03</td>\n",
       "      <td>1.008000e+03</td>\n",
       "    </tr>\n",
       "    <tr>\n",
       "      <th>mean</th>\n",
       "      <td>2021.000000</td>\n",
       "      <td>8.793846e+06</td>\n",
       "      <td>3.990954e+08</td>\n",
       "    </tr>\n",
       "    <tr>\n",
       "      <th>std</th>\n",
       "      <td>2.000993</td>\n",
       "      <td>1.256375e+07</td>\n",
       "      <td>8.026111e+08</td>\n",
       "    </tr>\n",
       "    <tr>\n",
       "      <th>min</th>\n",
       "      <td>2018.000000</td>\n",
       "      <td>5.010000e+02</td>\n",
       "      <td>0.000000e+00</td>\n",
       "    </tr>\n",
       "    <tr>\n",
       "      <th>25%</th>\n",
       "      <td>2019.000000</td>\n",
       "      <td>3.067020e+05</td>\n",
       "      <td>1.965472e+06</td>\n",
       "    </tr>\n",
       "    <tr>\n",
       "      <th>50%</th>\n",
       "      <td>2021.000000</td>\n",
       "      <td>2.920232e+06</td>\n",
       "      <td>4.191150e+07</td>\n",
       "    </tr>\n",
       "    <tr>\n",
       "      <th>75%</th>\n",
       "      <td>2023.000000</td>\n",
       "      <td>1.287270e+07</td>\n",
       "      <td>3.684820e+08</td>\n",
       "    </tr>\n",
       "    <tr>\n",
       "      <th>max</th>\n",
       "      <td>2024.000000</td>\n",
       "      <td>7.180780e+07</td>\n",
       "      <td>5.335171e+09</td>\n",
       "    </tr>\n",
       "  </tbody>\n",
       "</table>\n",
       "</div>"
      ],
      "text/plain": [
       "              year  registered_users     app_opens\n",
       "count  1008.000000      1.008000e+03  1.008000e+03\n",
       "mean   2021.000000      8.793846e+06  3.990954e+08\n",
       "std       2.000993      1.256375e+07  8.026111e+08\n",
       "min    2018.000000      5.010000e+02  0.000000e+00\n",
       "25%    2019.000000      3.067020e+05  1.965472e+06\n",
       "50%    2021.000000      2.920232e+06  4.191150e+07\n",
       "75%    2023.000000      1.287270e+07  3.684820e+08\n",
       "max    2024.000000      7.180780e+07  5.335171e+09"
      ]
     },
     "execution_count": 49,
     "metadata": {},
     "output_type": "execute_result"
    }
   ],
   "source": [
    "df3.describe()"
   ]
  },
  {
   "cell_type": "markdown",
   "id": "21a6c75d",
   "metadata": {},
   "source": [
    "### **Plots**"
   ]
  },
  {
   "cell_type": "code",
   "execution_count": 50,
   "id": "e28bf8df",
   "metadata": {},
   "outputs": [
    {
     "data": {
      "application/vnd.microsoft.datawrangler.viewer.v0+json": {
       "columns": [
        {
         "name": "index",
         "rawType": "int64",
         "type": "integer"
        },
        {
         "name": "year",
         "rawType": "int64",
         "type": "integer"
        },
        {
         "name": "state",
         "rawType": "object",
         "type": "string"
        },
        {
         "name": "registered_users",
         "rawType": "int64",
         "type": "integer"
        },
        {
         "name": "app_opens",
         "rawType": "int64",
         "type": "integer"
        }
       ],
       "ref": "48b26c87-b98b-4f3e-8b99-beca4a72f624",
       "rows": [
        [
         "116",
         "2018",
         "maharashtra",
         "13381602",
         "0"
        ],
        [
         "260",
         "2019",
         "maharashtra",
         "23745297",
         "543654112"
        ],
        [
         "404",
         "2020",
         "maharashtra",
         "34432631",
         "952006770"
        ],
        [
         "548",
         "2021",
         "maharashtra",
         "45482506",
         "2031739248"
        ],
        [
         "692",
         "2022",
         "maharashtra",
         "55954028",
         "2982202696"
        ],
        [
         "836",
         "2023",
         "maharashtra",
         "65422120",
         "3694003155"
        ],
        [
         "980",
         "2024",
         "maharashtra",
         "71807805",
         "5042420660"
        ]
       ],
       "shape": {
        "columns": 4,
        "rows": 7
       }
      },
      "text/html": [
       "<div>\n",
       "<style scoped>\n",
       "    .dataframe tbody tr th:only-of-type {\n",
       "        vertical-align: middle;\n",
       "    }\n",
       "\n",
       "    .dataframe tbody tr th {\n",
       "        vertical-align: top;\n",
       "    }\n",
       "\n",
       "    .dataframe thead th {\n",
       "        text-align: right;\n",
       "    }\n",
       "</style>\n",
       "<table border=\"1\" class=\"dataframe\">\n",
       "  <thead>\n",
       "    <tr style=\"text-align: right;\">\n",
       "      <th></th>\n",
       "      <th>year</th>\n",
       "      <th>state</th>\n",
       "      <th>registered_users</th>\n",
       "      <th>app_opens</th>\n",
       "    </tr>\n",
       "  </thead>\n",
       "  <tbody>\n",
       "    <tr>\n",
       "      <th>116</th>\n",
       "      <td>2018</td>\n",
       "      <td>maharashtra</td>\n",
       "      <td>13381602</td>\n",
       "      <td>0</td>\n",
       "    </tr>\n",
       "    <tr>\n",
       "      <th>260</th>\n",
       "      <td>2019</td>\n",
       "      <td>maharashtra</td>\n",
       "      <td>23745297</td>\n",
       "      <td>543654112</td>\n",
       "    </tr>\n",
       "    <tr>\n",
       "      <th>404</th>\n",
       "      <td>2020</td>\n",
       "      <td>maharashtra</td>\n",
       "      <td>34432631</td>\n",
       "      <td>952006770</td>\n",
       "    </tr>\n",
       "    <tr>\n",
       "      <th>548</th>\n",
       "      <td>2021</td>\n",
       "      <td>maharashtra</td>\n",
       "      <td>45482506</td>\n",
       "      <td>2031739248</td>\n",
       "    </tr>\n",
       "    <tr>\n",
       "      <th>692</th>\n",
       "      <td>2022</td>\n",
       "      <td>maharashtra</td>\n",
       "      <td>55954028</td>\n",
       "      <td>2982202696</td>\n",
       "    </tr>\n",
       "    <tr>\n",
       "      <th>836</th>\n",
       "      <td>2023</td>\n",
       "      <td>maharashtra</td>\n",
       "      <td>65422120</td>\n",
       "      <td>3694003155</td>\n",
       "    </tr>\n",
       "    <tr>\n",
       "      <th>980</th>\n",
       "      <td>2024</td>\n",
       "      <td>maharashtra</td>\n",
       "      <td>71807805</td>\n",
       "      <td>5042420660</td>\n",
       "    </tr>\n",
       "  </tbody>\n",
       "</table>\n",
       "</div>"
      ],
      "text/plain": [
       "     year        state  registered_users   app_opens\n",
       "116  2018  maharashtra          13381602           0\n",
       "260  2019  maharashtra          23745297   543654112\n",
       "404  2020  maharashtra          34432631   952006770\n",
       "548  2021  maharashtra          45482506  2031739248\n",
       "692  2022  maharashtra          55954028  2982202696\n",
       "836  2023  maharashtra          65422120  3694003155\n",
       "980  2024  maharashtra          71807805  5042420660"
      ]
     },
     "execution_count": 50,
     "metadata": {},
     "output_type": "execute_result"
    }
   ],
   "source": [
    "# Highest Register of Each Year\n",
    "idx = df3.groupby('year')['registered_users'].idxmax()\n",
    "top_states = df3.loc[idx]\n",
    "top_states"
   ]
  },
  {
   "cell_type": "code",
   "execution_count": 51,
   "id": "5baf44f8",
   "metadata": {},
   "outputs": [
    {
     "data": {
      "image/png": "[encoded data removed]",
      "text/plain": [
       "<Figure size 1000x600 with 1 Axes>"
      ]
     },
     "metadata": {},
     "output_type": "display_data"
    }
   ],
   "source": [
    "plt.figure(figsize=(10,6))\n",
    "plt.bar(top_states['year'].astype(str), top_states['registered_users'], color='green')\n",
    "\n",
    "for i, (state, users) in enumerate(zip(top_states['state'], top_states['registered_users'])):\n",
    "    plt.text(i, users, state, ha='center', va='bottom', fontsize=12)\n",
    "\n",
    "plt.title(\"State with Highest Registered Users per Year\")\n",
    "plt.xlabel(\"Year\")\n",
    "plt.ylabel(\"Registered Users\")\n",
    "plt.grid(axis='y')\n",
    "plt.show()"
   ]
  },
  {
   "cell_type": "markdown",
   "id": "db539799",
   "metadata": {},
   "source": [
    "* `Maharashtra` is the state with the highest registration every year.\n",
    "* Other big states haven't occurred once."
   ]
  },
  {
   "cell_type": "code",
   "execution_count": 52,
   "id": "d6d442b5",
   "metadata": {},
   "outputs": [
    {
     "data": {
      "application/vnd.microsoft.datawrangler.viewer.v0+json": {
       "columns": [
        {
         "name": "index",
         "rawType": "int64",
         "type": "integer"
        },
        {
         "name": "year",
         "rawType": "int64",
         "type": "integer"
        },
        {
         "name": "state",
         "rawType": "object",
         "type": "string"
        },
        {
         "name": "registered_users",
         "rawType": "int64",
         "type": "integer"
        },
        {
         "name": "app_opens",
         "rawType": "int64",
         "type": "integer"
        }
       ],
       "ref": "5d9b771c-c0b4-41b6-8da7-d0120b7d9d00",
       "rows": [
        [
         "6",
         "2018",
         "lakshadweep",
         "501",
         "0"
        ],
        [
         "150",
         "2019",
         "lakshadweep",
         "1416",
         "0"
        ],
        [
         "294",
         "2020",
         "lakshadweep",
         "2772",
         "21982"
        ],
        [
         "438",
         "2021",
         "lakshadweep",
         "4577",
         "47283"
        ],
        [
         "582",
         "2022",
         "lakshadweep",
         "5990",
         "45410"
        ],
        [
         "726",
         "2023",
         "lakshadweep",
         "7267",
         "43821"
        ],
        [
         "870",
         "2024",
         "lakshadweep",
         "8578",
         "645375"
        ]
       ],
       "shape": {
        "columns": 4,
        "rows": 7
       }
      },
      "text/html": [
       "<div>\n",
       "<style scoped>\n",
       "    .dataframe tbody tr th:only-of-type {\n",
       "        vertical-align: middle;\n",
       "    }\n",
       "\n",
       "    .dataframe tbody tr th {\n",
       "        vertical-align: top;\n",
       "    }\n",
       "\n",
       "    .dataframe thead th {\n",
       "        text-align: right;\n",
       "    }\n",
       "</style>\n",
       "<table border=\"1\" class=\"dataframe\">\n",
       "  <thead>\n",
       "    <tr style=\"text-align: right;\">\n",
       "      <th></th>\n",
       "      <th>year</th>\n",
       "      <th>state</th>\n",
       "      <th>registered_users</th>\n",
       "      <th>app_opens</th>\n",
       "    </tr>\n",
       "  </thead>\n",
       "  <tbody>\n",
       "    <tr>\n",
       "      <th>6</th>\n",
       "      <td>2018</td>\n",
       "      <td>lakshadweep</td>\n",
       "      <td>501</td>\n",
       "      <td>0</td>\n",
       "    </tr>\n",
       "    <tr>\n",
       "      <th>150</th>\n",
       "      <td>2019</td>\n",
       "      <td>lakshadweep</td>\n",
       "      <td>1416</td>\n",
       "      <td>0</td>\n",
       "    </tr>\n",
       "    <tr>\n",
       "      <th>294</th>\n",
       "      <td>2020</td>\n",
       "      <td>lakshadweep</td>\n",
       "      <td>2772</td>\n",
       "      <td>21982</td>\n",
       "    </tr>\n",
       "    <tr>\n",
       "      <th>438</th>\n",
       "      <td>2021</td>\n",
       "      <td>lakshadweep</td>\n",
       "      <td>4577</td>\n",
       "      <td>47283</td>\n",
       "    </tr>\n",
       "    <tr>\n",
       "      <th>582</th>\n",
       "      <td>2022</td>\n",
       "      <td>lakshadweep</td>\n",
       "      <td>5990</td>\n",
       "      <td>45410</td>\n",
       "    </tr>\n",
       "    <tr>\n",
       "      <th>726</th>\n",
       "      <td>2023</td>\n",
       "      <td>lakshadweep</td>\n",
       "      <td>7267</td>\n",
       "      <td>43821</td>\n",
       "    </tr>\n",
       "    <tr>\n",
       "      <th>870</th>\n",
       "      <td>2024</td>\n",
       "      <td>lakshadweep</td>\n",
       "      <td>8578</td>\n",
       "      <td>645375</td>\n",
       "    </tr>\n",
       "  </tbody>\n",
       "</table>\n",
       "</div>"
      ],
      "text/plain": [
       "     year        state  registered_users  app_opens\n",
       "6    2018  lakshadweep               501          0\n",
       "150  2019  lakshadweep              1416          0\n",
       "294  2020  lakshadweep              2772      21982\n",
       "438  2021  lakshadweep              4577      47283\n",
       "582  2022  lakshadweep              5990      45410\n",
       "726  2023  lakshadweep              7267      43821\n",
       "870  2024  lakshadweep              8578     645375"
      ]
     },
     "execution_count": 52,
     "metadata": {},
     "output_type": "execute_result"
    }
   ],
   "source": [
    "# Lowest Register of Each Year\n",
    "idx = df3.groupby('year')['registered_users'].idxmin()\n",
    "bottom_states = df3.loc[idx]\n",
    "bottom_states"
   ]
  },
  {
   "cell_type": "code",
   "execution_count": 53,
   "id": "a696ac3c",
   "metadata": {},
   "outputs": [
    {
     "data": {
      "image/png": "[encoded data removed]",
      "text/plain": [
       "<Figure size 1000x600 with 1 Axes>"
      ]
     },
     "metadata": {},
     "output_type": "display_data"
    }
   ],
   "source": [
    "plt.figure(figsize=(10,6))\n",
    "plt.bar(bottom_states['year'].astype(str), bottom_states['registered_users'], color='green')\n",
    "\n",
    "for i, (state, users) in enumerate(zip(bottom_states['state'], bottom_states['registered_users'])):\n",
    "    plt.text(i, users, state, ha='center', va='bottom', fontsize=12)\n",
    "\n",
    "plt.title(\"State with Lowest Registered Users per Year\")\n",
    "plt.xlabel(\"Year\")\n",
    "plt.ylabel(\"Registered Users\")\n",
    "plt.grid(axis='y')\n",
    "plt.show()"
   ]
  },
  {
   "cell_type": "markdown",
   "id": "117854eb",
   "metadata": {},
   "source": [
    "* `Lakshadweep` is the state with the lowest registration every year.\n",
    "* No other states have occurred in this list."
   ]
  },
  {
   "cell_type": "markdown",
   "id": "9fe4f1dc",
   "metadata": {},
   "source": [
    "## **State**"
   ]
  },
  {
   "cell_type": "markdown",
   "id": "23530163",
   "metadata": {},
   "source": [
    "### **Load CSV**"
   ]
  },
  {
   "cell_type": "code",
   "execution_count": 54,
   "id": "37703a2d",
   "metadata": {},
   "outputs": [
    {
     "data": {
      "application/vnd.microsoft.datawrangler.viewer.v0+json": {
       "columns": [
        {
         "name": "index",
         "rawType": "int64",
         "type": "integer"
        },
        {
         "name": "year",
         "rawType": "int64",
         "type": "integer"
        },
        {
         "name": "state",
         "rawType": "object",
         "type": "string"
        },
        {
         "name": "district",
         "rawType": "object",
         "type": "string"
        },
        {
         "name": "registered_users",
         "rawType": "int64",
         "type": "integer"
        },
        {
         "name": "app_opens",
         "rawType": "int64",
         "type": "integer"
        }
       ],
       "ref": "e217bca0-e3f1-4278-b575-4f1c7a54af9b",
       "rows": [
        [
         "0",
         "2018",
         "andaman-&-nicobar-islands",
         "north and middle andaman district",
         "632",
         "0"
        ],
        [
         "1",
         "2018",
         "andaman-&-nicobar-islands",
         "south andaman district",
         "5846",
         "0"
        ],
        [
         "2",
         "2018",
         "andaman-&-nicobar-islands",
         "nicobars district",
         "262",
         "0"
        ],
        [
         "3",
         "2018",
         "andaman-&-nicobar-islands",
         "north and middle andaman district",
         "911",
         "0"
        ],
        [
         "4",
         "2018",
         "andaman-&-nicobar-islands",
         "south andaman district",
         "8143",
         "0"
        ],
        [
         "5",
         "2018",
         "andaman-&-nicobar-islands",
         "nicobars district",
         "351",
         "0"
        ],
        [
         "6",
         "2018",
         "andaman-&-nicobar-islands",
         "north and middle andaman district",
         "1208",
         "0"
        ],
        [
         "7",
         "2018",
         "andaman-&-nicobar-islands",
         "south andaman district",
         "10474",
         "0"
        ],
        [
         "8",
         "2018",
         "andaman-&-nicobar-islands",
         "nicobars district",
         "467",
         "0"
        ],
        [
         "9",
         "2018",
         "andaman-&-nicobar-islands",
         "north and middle andaman district",
         "1553",
         "0"
        ],
        [
         "10",
         "2018",
         "andaman-&-nicobar-islands",
         "south andaman district",
         "13133",
         "0"
        ],
        [
         "11",
         "2018",
         "andaman-&-nicobar-islands",
         "nicobars district",
         "536",
         "0"
        ],
        [
         "12",
         "2019",
         "andaman-&-nicobar-islands",
         "north and middle andaman district",
         "2013",
         "0"
        ],
        [
         "13",
         "2019",
         "andaman-&-nicobar-islands",
         "south andaman district",
         "15961",
         "0"
        ],
        [
         "14",
         "2019",
         "andaman-&-nicobar-islands",
         "nicobars district",
         "622",
         "0"
        ],
        [
         "15",
         "2019",
         "andaman-&-nicobar-islands",
         "north and middle andaman district",
         "2417",
         "6118"
        ],
        [
         "16",
         "2019",
         "andaman-&-nicobar-islands",
         "south andaman district",
         "18621",
         "43569"
        ],
        [
         "17",
         "2019",
         "andaman-&-nicobar-islands",
         "nicobars district",
         "693",
         "2953"
        ],
        [
         "18",
         "2019",
         "andaman-&-nicobar-islands",
         "north and middle andaman district",
         "2662",
         "22064"
        ],
        [
         "19",
         "2019",
         "andaman-&-nicobar-islands",
         "south andaman district",
         "20518",
         "138190"
        ],
        [
         "20",
         "2019",
         "andaman-&-nicobar-islands",
         "nicobars district",
         "751",
         "10853"
        ],
        [
         "21",
         "2019",
         "andaman-&-nicobar-islands",
         "north and middle andaman district",
         "2955",
         "26253"
        ],
        [
         "22",
         "2019",
         "andaman-&-nicobar-islands",
         "south andaman district",
         "22202",
         "139646"
        ],
        [
         "23",
         "2019",
         "andaman-&-nicobar-islands",
         "nicobars district",
         "803",
         "11113"
        ],
        [
         "24",
         "2020",
         "andaman-&-nicobar-islands",
         "north and middle andaman district",
         "3315",
         "30444"
        ],
        [
         "25",
         "2020",
         "andaman-&-nicobar-islands",
         "south andaman district",
         "24174",
         "151529"
        ],
        [
         "26",
         "2020",
         "andaman-&-nicobar-islands",
         "nicobars district",
         "879",
         "11613"
        ],
        [
         "27",
         "2020",
         "andaman-&-nicobar-islands",
         "north and middle andaman district",
         "4100",
         "56992"
        ],
        [
         "28",
         "2020",
         "andaman-&-nicobar-islands",
         "south andaman district",
         "27626",
         "231071"
        ],
        [
         "29",
         "2020",
         "andaman-&-nicobar-islands",
         "nicobars district",
         "984",
         "17009"
        ],
        [
         "30",
         "2020",
         "andaman-&-nicobar-islands",
         "north and middle andaman district",
         "5355",
         "76553"
        ],
        [
         "31",
         "2020",
         "andaman-&-nicobar-islands",
         "south andaman district",
         "34833",
         "417785"
        ],
        [
         "32",
         "2020",
         "andaman-&-nicobar-islands",
         "nicobars district",
         "1147",
         "21227"
        ],
        [
         "33",
         "2020",
         "andaman-&-nicobar-islands",
         "north and middle andaman district",
         "7076",
         "125915"
        ],
        [
         "34",
         "2020",
         "andaman-&-nicobar-islands",
         "south andaman district",
         "43908",
         "725321"
        ],
        [
         "35",
         "2020",
         "andaman-&-nicobar-islands",
         "nicobars district",
         "1412",
         "35972"
        ],
        [
         "36",
         "2021",
         "andaman-&-nicobar-islands",
         "north and middle andaman district",
         "7833",
         "121680"
        ],
        [
         "37",
         "2021",
         "andaman-&-nicobar-islands",
         "south andaman district",
         "48352",
         "837589"
        ],
        [
         "38",
         "2021",
         "andaman-&-nicobar-islands",
         "nicobars district",
         "1573",
         "45067"
        ],
        [
         "39",
         "2021",
         "andaman-&-nicobar-islands",
         "north and middle andaman district",
         "8493",
         "596182"
        ],
        [
         "40",
         "2021",
         "andaman-&-nicobar-islands",
         "south andaman district",
         "51903",
         "1270226"
        ],
        [
         "41",
         "2021",
         "andaman-&-nicobar-islands",
         "nicobars district",
         "1699",
         "381815"
        ],
        [
         "42",
         "2021",
         "andaman-&-nicobar-islands",
         "north and middle andaman district",
         "9263",
         "759314"
        ],
        [
         "43",
         "2021",
         "andaman-&-nicobar-islands",
         "south andaman district",
         "55873",
         "1771107"
        ],
        [
         "44",
         "2021",
         "andaman-&-nicobar-islands",
         "nicobars district",
         "1846",
         "591204"
        ],
        [
         "45",
         "2021",
         "andaman-&-nicobar-islands",
         "north and middle andaman district",
         "10002",
         "171921"
        ],
        [
         "46",
         "2021",
         "andaman-&-nicobar-islands",
         "south andaman district",
         "59807",
         "1863037"
        ],
        [
         "47",
         "2021",
         "andaman-&-nicobar-islands",
         "nicobars district",
         "1971",
         "77952"
        ],
        [
         "48",
         "2022",
         "andaman-&-nicobar-islands",
         "north and middle andaman district",
         "10720",
         "904869"
        ],
        [
         "49",
         "2022",
         "andaman-&-nicobar-islands",
         "south andaman district",
         "63487",
         "2368756"
        ]
       ],
       "shape": {
        "columns": 5,
        "rows": 20608
       }
      },
      "text/html": [
       "<div>\n",
       "<style scoped>\n",
       "    .dataframe tbody tr th:only-of-type {\n",
       "        vertical-align: middle;\n",
       "    }\n",
       "\n",
       "    .dataframe tbody tr th {\n",
       "        vertical-align: top;\n",
       "    }\n",
       "\n",
       "    .dataframe thead th {\n",
       "        text-align: right;\n",
       "    }\n",
       "</style>\n",
       "<table border=\"1\" class=\"dataframe\">\n",
       "  <thead>\n",
       "    <tr style=\"text-align: right;\">\n",
       "      <th></th>\n",
       "      <th>year</th>\n",
       "      <th>state</th>\n",
       "      <th>district</th>\n",
       "      <th>registered_users</th>\n",
       "      <th>app_opens</th>\n",
       "    </tr>\n",
       "  </thead>\n",
       "  <tbody>\n",
       "    <tr>\n",
       "      <th>0</th>\n",
       "      <td>2018</td>\n",
       "      <td>andaman-&amp;-nicobar-islands</td>\n",
       "      <td>north and middle andaman district</td>\n",
       "      <td>632</td>\n",
       "      <td>0</td>\n",
       "    </tr>\n",
       "    <tr>\n",
       "      <th>1</th>\n",
       "      <td>2018</td>\n",
       "      <td>andaman-&amp;-nicobar-islands</td>\n",
       "      <td>south andaman district</td>\n",
       "      <td>5846</td>\n",
       "      <td>0</td>\n",
       "    </tr>\n",
       "    <tr>\n",
       "      <th>2</th>\n",
       "      <td>2018</td>\n",
       "      <td>andaman-&amp;-nicobar-islands</td>\n",
       "      <td>nicobars district</td>\n",
       "      <td>262</td>\n",
       "      <td>0</td>\n",
       "    </tr>\n",
       "    <tr>\n",
       "      <th>3</th>\n",
       "      <td>2018</td>\n",
       "      <td>andaman-&amp;-nicobar-islands</td>\n",
       "      <td>north and middle andaman district</td>\n",
       "      <td>911</td>\n",
       "      <td>0</td>\n",
       "    </tr>\n",
       "    <tr>\n",
       "      <th>4</th>\n",
       "      <td>2018</td>\n",
       "      <td>andaman-&amp;-nicobar-islands</td>\n",
       "      <td>south andaman district</td>\n",
       "      <td>8143</td>\n",
       "      <td>0</td>\n",
       "    </tr>\n",
       "    <tr>\n",
       "      <th>...</th>\n",
       "      <td>...</td>\n",
       "      <td>...</td>\n",
       "      <td>...</td>\n",
       "      <td>...</td>\n",
       "      <td>...</td>\n",
       "    </tr>\n",
       "    <tr>\n",
       "      <th>20603</th>\n",
       "      <td>2024</td>\n",
       "      <td>west-bengal</td>\n",
       "      <td>alipurduar district</td>\n",
       "      <td>475688</td>\n",
       "      <td>31842355</td>\n",
       "    </tr>\n",
       "    <tr>\n",
       "      <th>20604</th>\n",
       "      <td>2024</td>\n",
       "      <td>west-bengal</td>\n",
       "      <td>paschim bardhaman district</td>\n",
       "      <td>1468252</td>\n",
       "      <td>80543469</td>\n",
       "    </tr>\n",
       "    <tr>\n",
       "      <th>20605</th>\n",
       "      <td>2024</td>\n",
       "      <td>west-bengal</td>\n",
       "      <td>nadia district</td>\n",
       "      <td>1861738</td>\n",
       "      <td>98740305</td>\n",
       "    </tr>\n",
       "    <tr>\n",
       "      <th>20606</th>\n",
       "      <td>2024</td>\n",
       "      <td>west-bengal</td>\n",
       "      <td>birbhum district</td>\n",
       "      <td>1114220</td>\n",
       "      <td>73465525</td>\n",
       "    </tr>\n",
       "    <tr>\n",
       "      <th>20607</th>\n",
       "      <td>2024</td>\n",
       "      <td>west-bengal</td>\n",
       "      <td>purba medinipur district</td>\n",
       "      <td>1717074</td>\n",
       "      <td>108350777</td>\n",
       "    </tr>\n",
       "  </tbody>\n",
       "</table>\n",
       "<p>20608 rows × 5 columns</p>\n",
       "</div>"
      ],
      "text/plain": [
       "       year                      state                           district  \\\n",
       "0      2018  andaman-&-nicobar-islands  north and middle andaman district   \n",
       "1      2018  andaman-&-nicobar-islands             south andaman district   \n",
       "2      2018  andaman-&-nicobar-islands                  nicobars district   \n",
       "3      2018  andaman-&-nicobar-islands  north and middle andaman district   \n",
       "4      2018  andaman-&-nicobar-islands             south andaman district   \n",
       "...     ...                        ...                                ...   \n",
       "20603  2024                west-bengal                alipurduar district   \n",
       "20604  2024                west-bengal         paschim bardhaman district   \n",
       "20605  2024                west-bengal                     nadia district   \n",
       "20606  2024                west-bengal                   birbhum district   \n",
       "20607  2024                west-bengal           purba medinipur district   \n",
       "\n",
       "       registered_users  app_opens  \n",
       "0                   632          0  \n",
       "1                  5846          0  \n",
       "2                   262          0  \n",
       "3                   911          0  \n",
       "4                  8143          0  \n",
       "...                 ...        ...  \n",
       "20603            475688   31842355  \n",
       "20604           1468252   80543469  \n",
       "20605           1861738   98740305  \n",
       "20606           1114220   73465525  \n",
       "20607           1717074  108350777  \n",
       "\n",
       "[20608 rows x 5 columns]"
      ]
     },
     "execution_count": 54,
     "metadata": {},
     "output_type": "execute_result"
    }
   ],
   "source": [
    "df4 = pd.read_csv(\"dataset/user/map_user_state.csv\")\n",
    "df4"
   ]
  },
  {
   "cell_type": "markdown",
   "id": "69ef8657",
   "metadata": {},
   "source": [
    "### **Dataset Info**"
   ]
  },
  {
   "cell_type": "code",
   "execution_count": 55,
   "id": "aa136afd",
   "metadata": {},
   "outputs": [
    {
     "name": "stdout",
     "output_type": "stream",
     "text": [
      "<class 'pandas.core.frame.DataFrame'>\n",
      "RangeIndex: 20608 entries, 0 to 20607\n",
      "Data columns (total 5 columns):\n",
      " #   Column            Non-Null Count  Dtype \n",
      "---  ------            --------------  ----- \n",
      " 0   year              20608 non-null  int64 \n",
      " 1   state             20608 non-null  object\n",
      " 2   district          20608 non-null  object\n",
      " 3   registered_users  20608 non-null  int64 \n",
      " 4   app_opens         20608 non-null  int64 \n",
      "dtypes: int64(3), object(2)\n",
      "memory usage: 805.1+ KB\n"
     ]
    }
   ],
   "source": [
    "df4.info()"
   ]
  },
  {
   "cell_type": "markdown",
   "id": "693a3d91",
   "metadata": {},
   "source": [
    "### **Dataset Describe**"
   ]
  },
  {
   "cell_type": "code",
   "execution_count": 56,
   "id": "c037ba82",
   "metadata": {},
   "outputs": [
    {
     "data": {
      "application/vnd.microsoft.datawrangler.viewer.v0+json": {
       "columns": [
        {
         "name": "index",
         "rawType": "object",
         "type": "string"
        },
        {
         "name": "year",
         "rawType": "float64",
         "type": "float"
        },
        {
         "name": "registered_users",
         "rawType": "float64",
         "type": "float"
        },
        {
         "name": "app_opens",
         "rawType": "float64",
         "type": "float"
        }
       ],
       "ref": "be183a0d-3ce1-40a4-b657-5c025953b0d3",
       "rows": [
        [
         "count",
         "20608.0",
         "20608.0",
         "20608.0"
        ],
        [
         "mean",
         "2021.016304347826",
         "430133.7761063665",
         "19520970.245923914"
        ],
        [
         "std",
         "2.0067644345705484",
         "814849.2376095102",
         "40040473.90859103"
        ],
        [
         "min",
         "2018.0",
         "22.0",
         "0.0"
        ],
        [
         "25%",
         "2019.0",
         "62085.25",
         "483938.5"
        ],
        [
         "50%",
         "2021.0",
         "199532.0",
         "5946804.0"
        ],
        [
         "75%",
         "2023.0",
         "489604.75",
         "21915294.5"
        ],
        [
         "max",
         "2024.0",
         "18127475.0",
         "1137875291.0"
        ]
       ],
       "shape": {
        "columns": 3,
        "rows": 8
       }
      },
      "text/html": [
       "<div>\n",
       "<style scoped>\n",
       "    .dataframe tbody tr th:only-of-type {\n",
       "        vertical-align: middle;\n",
       "    }\n",
       "\n",
       "    .dataframe tbody tr th {\n",
       "        vertical-align: top;\n",
       "    }\n",
       "\n",
       "    .dataframe thead th {\n",
       "        text-align: right;\n",
       "    }\n",
       "</style>\n",
       "<table border=\"1\" class=\"dataframe\">\n",
       "  <thead>\n",
       "    <tr style=\"text-align: right;\">\n",
       "      <th></th>\n",
       "      <th>year</th>\n",
       "      <th>registered_users</th>\n",
       "      <th>app_opens</th>\n",
       "    </tr>\n",
       "  </thead>\n",
       "  <tbody>\n",
       "    <tr>\n",
       "      <th>count</th>\n",
       "      <td>20608.000000</td>\n",
       "      <td>2.060800e+04</td>\n",
       "      <td>2.060800e+04</td>\n",
       "    </tr>\n",
       "    <tr>\n",
       "      <th>mean</th>\n",
       "      <td>2021.016304</td>\n",
       "      <td>4.301338e+05</td>\n",
       "      <td>1.952097e+07</td>\n",
       "    </tr>\n",
       "    <tr>\n",
       "      <th>std</th>\n",
       "      <td>2.006764</td>\n",
       "      <td>8.148492e+05</td>\n",
       "      <td>4.004047e+07</td>\n",
       "    </tr>\n",
       "    <tr>\n",
       "      <th>min</th>\n",
       "      <td>2018.000000</td>\n",
       "      <td>2.200000e+01</td>\n",
       "      <td>0.000000e+00</td>\n",
       "    </tr>\n",
       "    <tr>\n",
       "      <th>25%</th>\n",
       "      <td>2019.000000</td>\n",
       "      <td>6.208525e+04</td>\n",
       "      <td>4.839385e+05</td>\n",
       "    </tr>\n",
       "    <tr>\n",
       "      <th>50%</th>\n",
       "      <td>2021.000000</td>\n",
       "      <td>1.995320e+05</td>\n",
       "      <td>5.946804e+06</td>\n",
       "    </tr>\n",
       "    <tr>\n",
       "      <th>75%</th>\n",
       "      <td>2023.000000</td>\n",
       "      <td>4.896048e+05</td>\n",
       "      <td>2.191529e+07</td>\n",
       "    </tr>\n",
       "    <tr>\n",
       "      <th>max</th>\n",
       "      <td>2024.000000</td>\n",
       "      <td>1.812748e+07</td>\n",
       "      <td>1.137875e+09</td>\n",
       "    </tr>\n",
       "  </tbody>\n",
       "</table>\n",
       "</div>"
      ],
      "text/plain": [
       "               year  registered_users     app_opens\n",
       "count  20608.000000      2.060800e+04  2.060800e+04\n",
       "mean    2021.016304      4.301338e+05  1.952097e+07\n",
       "std        2.006764      8.148492e+05  4.004047e+07\n",
       "min     2018.000000      2.200000e+01  0.000000e+00\n",
       "25%     2019.000000      6.208525e+04  4.839385e+05\n",
       "50%     2021.000000      1.995320e+05  5.946804e+06\n",
       "75%     2023.000000      4.896048e+05  2.191529e+07\n",
       "max     2024.000000      1.812748e+07  1.137875e+09"
      ]
     },
     "execution_count": 56,
     "metadata": {},
     "output_type": "execute_result"
    }
   ],
   "source": [
    "df4.describe()"
   ]
  },
  {
   "cell_type": "markdown",
   "id": "bab83beb",
   "metadata": {},
   "source": [
    "### **Plots**"
   ]
  },
  {
   "cell_type": "code",
   "execution_count": 57,
   "id": "dc730d89",
   "metadata": {},
   "outputs": [
    {
     "data": {
      "application/vnd.microsoft.datawrangler.viewer.v0+json": {
       "columns": [
        {
         "name": "index",
         "rawType": "int64",
         "type": "integer"
        },
        {
         "name": "year",
         "rawType": "int64",
         "type": "integer"
        },
        {
         "name": "state",
         "rawType": "object",
         "type": "string"
        },
        {
         "name": "district",
         "rawType": "object",
         "type": "string"
        },
        {
         "name": "registered_users",
         "rawType": "int64",
         "type": "integer"
        },
        {
         "name": "app_opens",
         "rawType": "int64",
         "type": "integer"
        }
       ],
       "ref": "c60b202d-3ed7-40dd-a3c6-24e591495363",
       "rows": [
        [
         "7680",
         "2018",
         "karnataka",
         "bengaluru urban district",
         "4126734",
         "0"
        ],
        [
         "7800",
         "2019",
         "karnataka",
         "bengaluru urban district",
         "7016836",
         "353757216"
        ],
        [
         "7920",
         "2020",
         "karnataka",
         "bengaluru urban district",
         "9286243",
         "456667561"
        ],
        [
         "8040",
         "2021",
         "karnataka",
         "bengaluru urban district",
         "12038775",
         "818047839"
        ],
        [
         "8160",
         "2022",
         "karnataka",
         "bengaluru urban district",
         "14654455",
         "1137875291"
        ],
        [
         "8280",
         "2023",
         "karnataka",
         "bengaluru urban district",
         "16895567",
         "906189487"
        ],
        [
         "8340",
         "2024",
         "karnataka",
         "bengaluru urban district",
         "18127475",
         "187497389"
        ]
       ],
       "shape": {
        "columns": 5,
        "rows": 7
       }
      },
      "text/html": [
       "<div>\n",
       "<style scoped>\n",
       "    .dataframe tbody tr th:only-of-type {\n",
       "        vertical-align: middle;\n",
       "    }\n",
       "\n",
       "    .dataframe tbody tr th {\n",
       "        vertical-align: top;\n",
       "    }\n",
       "\n",
       "    .dataframe thead th {\n",
       "        text-align: right;\n",
       "    }\n",
       "</style>\n",
       "<table border=\"1\" class=\"dataframe\">\n",
       "  <thead>\n",
       "    <tr style=\"text-align: right;\">\n",
       "      <th></th>\n",
       "      <th>year</th>\n",
       "      <th>state</th>\n",
       "      <th>district</th>\n",
       "      <th>registered_users</th>\n",
       "      <th>app_opens</th>\n",
       "    </tr>\n",
       "  </thead>\n",
       "  <tbody>\n",
       "    <tr>\n",
       "      <th>7680</th>\n",
       "      <td>2018</td>\n",
       "      <td>karnataka</td>\n",
       "      <td>bengaluru urban district</td>\n",
       "      <td>4126734</td>\n",
       "      <td>0</td>\n",
       "    </tr>\n",
       "    <tr>\n",
       "      <th>7800</th>\n",
       "      <td>2019</td>\n",
       "      <td>karnataka</td>\n",
       "      <td>bengaluru urban district</td>\n",
       "      <td>7016836</td>\n",
       "      <td>353757216</td>\n",
       "    </tr>\n",
       "    <tr>\n",
       "      <th>7920</th>\n",
       "      <td>2020</td>\n",
       "      <td>karnataka</td>\n",
       "      <td>bengaluru urban district</td>\n",
       "      <td>9286243</td>\n",
       "      <td>456667561</td>\n",
       "    </tr>\n",
       "    <tr>\n",
       "      <th>8040</th>\n",
       "      <td>2021</td>\n",
       "      <td>karnataka</td>\n",
       "      <td>bengaluru urban district</td>\n",
       "      <td>12038775</td>\n",
       "      <td>818047839</td>\n",
       "    </tr>\n",
       "    <tr>\n",
       "      <th>8160</th>\n",
       "      <td>2022</td>\n",
       "      <td>karnataka</td>\n",
       "      <td>bengaluru urban district</td>\n",
       "      <td>14654455</td>\n",
       "      <td>1137875291</td>\n",
       "    </tr>\n",
       "    <tr>\n",
       "      <th>8280</th>\n",
       "      <td>2023</td>\n",
       "      <td>karnataka</td>\n",
       "      <td>bengaluru urban district</td>\n",
       "      <td>16895567</td>\n",
       "      <td>906189487</td>\n",
       "    </tr>\n",
       "    <tr>\n",
       "      <th>8340</th>\n",
       "      <td>2024</td>\n",
       "      <td>karnataka</td>\n",
       "      <td>bengaluru urban district</td>\n",
       "      <td>18127475</td>\n",
       "      <td>187497389</td>\n",
       "    </tr>\n",
       "  </tbody>\n",
       "</table>\n",
       "</div>"
      ],
      "text/plain": [
       "      year      state                  district  registered_users   app_opens\n",
       "7680  2018  karnataka  bengaluru urban district           4126734           0\n",
       "7800  2019  karnataka  bengaluru urban district           7016836   353757216\n",
       "7920  2020  karnataka  bengaluru urban district           9286243   456667561\n",
       "8040  2021  karnataka  bengaluru urban district          12038775   818047839\n",
       "8160  2022  karnataka  bengaluru urban district          14654455  1137875291\n",
       "8280  2023  karnataka  bengaluru urban district          16895567   906189487\n",
       "8340  2024  karnataka  bengaluru urban district          18127475   187497389"
      ]
     },
     "execution_count": 57,
     "metadata": {},
     "output_type": "execute_result"
    }
   ],
   "source": [
    "# District with Most Registers \n",
    "idx = df4.groupby('year')['registered_users'].idxmax()\n",
    "top_districts = df4.loc[idx]\n",
    "top_districts"
   ]
  },
  {
   "cell_type": "code",
   "execution_count": 58,
   "id": "61542ff0",
   "metadata": {},
   "outputs": [
    {
     "data": {
      "image/png": "[encoded data removed]",
      "text/plain": [
       "<Figure size 1000x600 with 1 Axes>"
      ]
     },
     "metadata": {},
     "output_type": "display_data"
    }
   ],
   "source": [
    "plt.figure(figsize=(10,6))\n",
    "plt.bar(top_districts['year'].astype(str), top_districts['registered_users'], color='green')\n",
    "\n",
    "for i, (district, users) in enumerate(zip(top_districts['district'], top_districts['registered_users'])):\n",
    "    plt.text(i, users, district, ha='center', va='bottom', fontsize=9)\n",
    "\n",
    "plt.title(\"District with Highest Registered Users per Year\")\n",
    "plt.xlabel(\"Year\")\n",
    "plt.ylabel(\"Registered Users\")\n",
    "plt.grid(axis='y')\n",
    "plt.show()"
   ]
  },
  {
   "cell_type": "markdown",
   "id": "c74eca56",
   "metadata": {},
   "source": [
    "* `Bengaluru urban district` Held the Largest in Registration since 2018.\n",
    "* No other districts have occurred in this list."
   ]
  },
  {
   "cell_type": "code",
   "execution_count": 59,
   "id": "b1d84ca0",
   "metadata": {},
   "outputs": [
    {
     "data": {
      "application/vnd.microsoft.datawrangler.viewer.v0+json": {
       "columns": [
        {
         "name": "index",
         "rawType": "int64",
         "type": "integer"
        },
        {
         "name": "year",
         "rawType": "int64",
         "type": "integer"
        },
        {
         "name": "state",
         "rawType": "object",
         "type": "string"
        },
        {
         "name": "district",
         "rawType": "object",
         "type": "string"
        },
        {
         "name": "registered_users",
         "rawType": "int64",
         "type": "integer"
        },
        {
         "name": "app_opens",
         "rawType": "int64",
         "type": "integer"
        }
       ],
       "ref": "0bc076a4-92b7-4025-acba-9dc20074e4b5",
       "rows": [
        [
         "488",
         "2018",
         "arunachal-pradesh",
         "kamle district",
         "22",
         "0"
        ],
        [
         "11440",
         "2019",
         "manipur",
         "pherzawl district",
         "98",
         "0"
        ],
        [
         "6464",
         "2020",
         "jammu-&-kashmir",
         "muzaffarabad district",
         "240",
         "1138"
        ],
        [
         "6552",
         "2021",
         "jammu-&-kashmir",
         "muzaffarabad district",
         "377",
         "9533"
        ],
        [
         "881",
         "2022",
         "arunachal-pradesh",
         "shi yomi district",
         "540",
         "230973"
        ],
        [
         "6728",
         "2023",
         "jammu-&-kashmir",
         "muzaffarabad district",
         "622",
         "1000008"
        ],
        [
         "12665",
         "2024",
         "nagaland",
         "niuland district",
         "42",
         "110"
        ]
       ],
       "shape": {
        "columns": 5,
        "rows": 7
       }
      },
      "text/html": [
       "<div>\n",
       "<style scoped>\n",
       "    .dataframe tbody tr th:only-of-type {\n",
       "        vertical-align: middle;\n",
       "    }\n",
       "\n",
       "    .dataframe tbody tr th {\n",
       "        vertical-align: top;\n",
       "    }\n",
       "\n",
       "    .dataframe thead th {\n",
       "        text-align: right;\n",
       "    }\n",
       "</style>\n",
       "<table border=\"1\" class=\"dataframe\">\n",
       "  <thead>\n",
       "    <tr style=\"text-align: right;\">\n",
       "      <th></th>\n",
       "      <th>year</th>\n",
       "      <th>state</th>\n",
       "      <th>district</th>\n",
       "      <th>registered_users</th>\n",
       "      <th>app_opens</th>\n",
       "    </tr>\n",
       "  </thead>\n",
       "  <tbody>\n",
       "    <tr>\n",
       "      <th>488</th>\n",
       "      <td>2018</td>\n",
       "      <td>arunachal-pradesh</td>\n",
       "      <td>kamle district</td>\n",
       "      <td>22</td>\n",
       "      <td>0</td>\n",
       "    </tr>\n",
       "    <tr>\n",
       "      <th>11440</th>\n",
       "      <td>2019</td>\n",
       "      <td>manipur</td>\n",
       "      <td>pherzawl district</td>\n",
       "      <td>98</td>\n",
       "      <td>0</td>\n",
       "    </tr>\n",
       "    <tr>\n",
       "      <th>6464</th>\n",
       "      <td>2020</td>\n",
       "      <td>jammu-&amp;-kashmir</td>\n",
       "      <td>muzaffarabad district</td>\n",
       "      <td>240</td>\n",
       "      <td>1138</td>\n",
       "    </tr>\n",
       "    <tr>\n",
       "      <th>6552</th>\n",
       "      <td>2021</td>\n",
       "      <td>jammu-&amp;-kashmir</td>\n",
       "      <td>muzaffarabad district</td>\n",
       "      <td>377</td>\n",
       "      <td>9533</td>\n",
       "    </tr>\n",
       "    <tr>\n",
       "      <th>881</th>\n",
       "      <td>2022</td>\n",
       "      <td>arunachal-pradesh</td>\n",
       "      <td>shi yomi district</td>\n",
       "      <td>540</td>\n",
       "      <td>230973</td>\n",
       "    </tr>\n",
       "    <tr>\n",
       "      <th>6728</th>\n",
       "      <td>2023</td>\n",
       "      <td>jammu-&amp;-kashmir</td>\n",
       "      <td>muzaffarabad district</td>\n",
       "      <td>622</td>\n",
       "      <td>1000008</td>\n",
       "    </tr>\n",
       "    <tr>\n",
       "      <th>12665</th>\n",
       "      <td>2024</td>\n",
       "      <td>nagaland</td>\n",
       "      <td>niuland district</td>\n",
       "      <td>42</td>\n",
       "      <td>110</td>\n",
       "    </tr>\n",
       "  </tbody>\n",
       "</table>\n",
       "</div>"
      ],
      "text/plain": [
       "       year              state               district  registered_users  \\\n",
       "488    2018  arunachal-pradesh         kamle district                22   \n",
       "11440  2019            manipur      pherzawl district                98   \n",
       "6464   2020    jammu-&-kashmir  muzaffarabad district               240   \n",
       "6552   2021    jammu-&-kashmir  muzaffarabad district               377   \n",
       "881    2022  arunachal-pradesh      shi yomi district               540   \n",
       "6728   2023    jammu-&-kashmir  muzaffarabad district               622   \n",
       "12665  2024           nagaland       niuland district                42   \n",
       "\n",
       "       app_opens  \n",
       "488            0  \n",
       "11440          0  \n",
       "6464        1138  \n",
       "6552        9533  \n",
       "881       230973  \n",
       "6728     1000008  \n",
       "12665        110  "
      ]
     },
     "execution_count": 59,
     "metadata": {},
     "output_type": "execute_result"
    }
   ],
   "source": [
    "# District with Lowest Registers \n",
    "idx = df4.groupby('year')['registered_users'].idxmin()\n",
    "bottom_districts = df4.loc[idx]\n",
    "bottom_districts"
   ]
  },
  {
   "cell_type": "code",
   "execution_count": 60,
   "id": "4fa5e587",
   "metadata": {},
   "outputs": [
    {
     "data": {
      "image/png": "[encoded data removed]",
      "text/plain": [
       "<Figure size 1000x600 with 1 Axes>"
      ]
     },
     "metadata": {},
     "output_type": "display_data"
    }
   ],
   "source": [
    "plt.figure(figsize=(10,6))\n",
    "plt.bar(bottom_districts['year'].astype(str), bottom_districts['registered_users'], color='green')\n",
    "\n",
    "# Add district labels\n",
    "for i, (district, users) in enumerate(zip(bottom_districts['district'], bottom_districts['registered_users'])):\n",
    "    plt.text(i, users, district, ha='center', va='bottom', fontsize=9)\n",
    "\n",
    "plt.title(\"District with Highest Registered Users per Year\")\n",
    "plt.xlabel(\"Year\")\n",
    "plt.ylabel(\"Registered Users\")\n",
    "plt.grid(axis='y')\n",
    "plt.show()"
   ]
  },
  {
   "cell_type": "markdown",
   "id": "2d516894",
   "metadata": {},
   "source": [
    "* `Muzaffarabad district` occurred more in the Lowest Registration list. \n",
    "* `Kamle district` was the lowest in 2018.\n",
    "* `niuland district` was the lowest in 2024.\n",
    "* The shocking fact is that both are almost similar in registrations despite the year gap."
   ]
  },
  {
   "cell_type": "markdown",
   "id": "f1b57d69",
   "metadata": {},
   "source": [
    "# **Top**"
   ]
  },
  {
   "cell_type": "markdown",
   "id": "fb84c524",
   "metadata": {},
   "source": [
    "## **Country**"
   ]
  },
  {
   "cell_type": "markdown",
   "id": "aa9ecaaa",
   "metadata": {},
   "source": [
    "### **Load CSV**"
   ]
  },
  {
   "cell_type": "code",
   "execution_count": 61,
   "id": "99111708",
   "metadata": {},
   "outputs": [
    {
     "data": {
      "application/vnd.microsoft.datawrangler.viewer.v0+json": {
       "columns": [
        {
         "name": "index",
         "rawType": "int64",
         "type": "integer"
        },
        {
         "name": "year",
         "rawType": "int64",
         "type": "integer"
        },
        {
         "name": "level",
         "rawType": "object",
         "type": "string"
        },
        {
         "name": "name",
         "rawType": "object",
         "type": "string"
        },
        {
         "name": "registered_users",
         "rawType": "int64",
         "type": "integer"
        }
       ],
       "ref": "8cb8ec80-c96f-49ce-9b68-51048b180eaf",
       "rows": [
        [
         "0",
         "2018",
         "state",
         "maharashtra",
         "6106994"
        ],
        [
         "1",
         "2018",
         "state",
         "uttar pradesh",
         "4694250"
        ],
        [
         "2",
         "2018",
         "state",
         "karnataka",
         "3717763"
        ],
        [
         "3",
         "2018",
         "state",
         "andhra pradesh",
         "3336450"
        ],
        [
         "4",
         "2018",
         "state",
         "telangana",
         "3315560"
        ],
        [
         "5",
         "2018",
         "state",
         "rajasthan",
         "3158202"
        ],
        [
         "6",
         "2018",
         "state",
         "gujarat",
         "2690048"
        ],
        [
         "7",
         "2018",
         "state",
         "west bengal",
         "2604789"
        ],
        [
         "8",
         "2018",
         "state",
         "madhya pradesh",
         "2553603"
        ],
        [
         "9",
         "2018",
         "state",
         "bihar",
         "2133804"
        ],
        [
         "10",
         "2018",
         "district",
         "bengaluru urban",
         "1922368"
        ],
        [
         "11",
         "2018",
         "district",
         "pune",
         "1211643"
        ],
        [
         "12",
         "2018",
         "district",
         "jaipur",
         "900773"
        ],
        [
         "13",
         "2018",
         "district",
         "mumbai suburban",
         "719300"
        ],
        [
         "14",
         "2018",
         "district",
         "hyderabad",
         "655175"
        ],
        [
         "15",
         "2018",
         "district",
         "rangareddy",
         "635175"
        ],
        [
         "16",
         "2018",
         "district",
         "thane",
         "631864"
        ],
        [
         "17",
         "2018",
         "district",
         "ahmadabad",
         "572811"
        ],
        [
         "18",
         "2018",
         "district",
         "medchal malkajgiri",
         "549429"
        ],
        [
         "19",
         "2018",
         "district",
         "visakhapatnam",
         "497187"
        ],
        [
         "20",
         "2018",
         "pincode",
         "201301",
         "114625"
        ],
        [
         "21",
         "2018",
         "pincode",
         "500072",
         "105012"
        ],
        [
         "22",
         "2018",
         "pincode",
         "560068",
         "98487"
        ],
        [
         "23",
         "2018",
         "pincode",
         "110059",
         "95496"
        ],
        [
         "24",
         "2018",
         "pincode",
         "110092",
         "83600"
        ],
        [
         "25",
         "2018",
         "pincode",
         "122001",
         "82656"
        ],
        [
         "26",
         "2018",
         "pincode",
         "560037",
         "75304"
        ],
        [
         "27",
         "2018",
         "pincode",
         "395006",
         "72275"
        ],
        [
         "28",
         "2018",
         "pincode",
         "800001",
         "71092"
        ],
        [
         "29",
         "2018",
         "pincode",
         "302012",
         "68098"
        ],
        [
         "30",
         "2018",
         "state",
         "maharashtra",
         "8222371"
        ],
        [
         "31",
         "2018",
         "state",
         "uttar pradesh",
         "6442554"
        ],
        [
         "32",
         "2018",
         "state",
         "karnataka",
         "5030665"
        ],
        [
         "33",
         "2018",
         "state",
         "andhra pradesh",
         "4402540"
        ],
        [
         "34",
         "2018",
         "state",
         "telangana",
         "4260115"
        ],
        [
         "35",
         "2018",
         "state",
         "rajasthan",
         "4212964"
        ],
        [
         "36",
         "2018",
         "state",
         "west bengal",
         "3833795"
        ],
        [
         "37",
         "2018",
         "state",
         "gujarat",
         "3565825"
        ],
        [
         "38",
         "2018",
         "state",
         "madhya pradesh",
         "3441662"
        ],
        [
         "39",
         "2018",
         "state",
         "bihar",
         "3005872"
        ],
        [
         "40",
         "2018",
         "district",
         "bengaluru urban",
         "2553312"
        ],
        [
         "41",
         "2018",
         "district",
         "pune",
         "1592293"
        ],
        [
         "42",
         "2018",
         "district",
         "jaipur",
         "1182983"
        ],
        [
         "43",
         "2018",
         "district",
         "mumbai suburban",
         "957633"
        ],
        [
         "44",
         "2018",
         "district",
         "thane",
         "861292"
        ],
        [
         "45",
         "2018",
         "district",
         "hyderabad",
         "842483"
        ],
        [
         "46",
         "2018",
         "district",
         "rangareddy",
         "804959"
        ],
        [
         "47",
         "2018",
         "district",
         "ahmadabad",
         "751746"
        ],
        [
         "48",
         "2018",
         "district",
         "medchal malkajgiri",
         "696211"
        ],
        [
         "49",
         "2018",
         "district",
         "surat",
         "652372"
        ]
       ],
       "shape": {
        "columns": 4,
        "rows": 840
       }
      },
      "text/html": [
       "<div>\n",
       "<style scoped>\n",
       "    .dataframe tbody tr th:only-of-type {\n",
       "        vertical-align: middle;\n",
       "    }\n",
       "\n",
       "    .dataframe tbody tr th {\n",
       "        vertical-align: top;\n",
       "    }\n",
       "\n",
       "    .dataframe thead th {\n",
       "        text-align: right;\n",
       "    }\n",
       "</style>\n",
       "<table border=\"1\" class=\"dataframe\">\n",
       "  <thead>\n",
       "    <tr style=\"text-align: right;\">\n",
       "      <th></th>\n",
       "      <th>year</th>\n",
       "      <th>level</th>\n",
       "      <th>name</th>\n",
       "      <th>registered_users</th>\n",
       "    </tr>\n",
       "  </thead>\n",
       "  <tbody>\n",
       "    <tr>\n",
       "      <th>0</th>\n",
       "      <td>2018</td>\n",
       "      <td>state</td>\n",
       "      <td>maharashtra</td>\n",
       "      <td>6106994</td>\n",
       "    </tr>\n",
       "    <tr>\n",
       "      <th>1</th>\n",
       "      <td>2018</td>\n",
       "      <td>state</td>\n",
       "      <td>uttar pradesh</td>\n",
       "      <td>4694250</td>\n",
       "    </tr>\n",
       "    <tr>\n",
       "      <th>2</th>\n",
       "      <td>2018</td>\n",
       "      <td>state</td>\n",
       "      <td>karnataka</td>\n",
       "      <td>3717763</td>\n",
       "    </tr>\n",
       "    <tr>\n",
       "      <th>3</th>\n",
       "      <td>2018</td>\n",
       "      <td>state</td>\n",
       "      <td>andhra pradesh</td>\n",
       "      <td>3336450</td>\n",
       "    </tr>\n",
       "    <tr>\n",
       "      <th>4</th>\n",
       "      <td>2018</td>\n",
       "      <td>state</td>\n",
       "      <td>telangana</td>\n",
       "      <td>3315560</td>\n",
       "    </tr>\n",
       "    <tr>\n",
       "      <th>...</th>\n",
       "      <td>...</td>\n",
       "      <td>...</td>\n",
       "      <td>...</td>\n",
       "      <td>...</td>\n",
       "    </tr>\n",
       "    <tr>\n",
       "      <th>835</th>\n",
       "      <td>2024</td>\n",
       "      <td>pincode</td>\n",
       "      <td>410501</td>\n",
       "      <td>683435</td>\n",
       "    </tr>\n",
       "    <tr>\n",
       "      <th>836</th>\n",
       "      <td>2024</td>\n",
       "      <td>pincode</td>\n",
       "      <td>560068</td>\n",
       "      <td>663903</td>\n",
       "    </tr>\n",
       "    <tr>\n",
       "      <th>837</th>\n",
       "      <td>2024</td>\n",
       "      <td>pincode</td>\n",
       "      <td>121004</td>\n",
       "      <td>661818</td>\n",
       "    </tr>\n",
       "    <tr>\n",
       "      <th>838</th>\n",
       "      <td>2024</td>\n",
       "      <td>pincode</td>\n",
       "      <td>201009</td>\n",
       "      <td>660474</td>\n",
       "    </tr>\n",
       "    <tr>\n",
       "      <th>839</th>\n",
       "      <td>2024</td>\n",
       "      <td>pincode</td>\n",
       "      <td>110092</td>\n",
       "      <td>654020</td>\n",
       "    </tr>\n",
       "  </tbody>\n",
       "</table>\n",
       "<p>840 rows × 4 columns</p>\n",
       "</div>"
      ],
      "text/plain": [
       "     year    level            name  registered_users\n",
       "0    2018    state     maharashtra           6106994\n",
       "1    2018    state   uttar pradesh           4694250\n",
       "2    2018    state       karnataka           3717763\n",
       "3    2018    state  andhra pradesh           3336450\n",
       "4    2018    state       telangana           3315560\n",
       "..    ...      ...             ...               ...\n",
       "835  2024  pincode          410501            683435\n",
       "836  2024  pincode          560068            663903\n",
       "837  2024  pincode          121004            661818\n",
       "838  2024  pincode          201009            660474\n",
       "839  2024  pincode          110092            654020\n",
       "\n",
       "[840 rows x 4 columns]"
      ]
     },
     "execution_count": 61,
     "metadata": {},
     "output_type": "execute_result"
    }
   ],
   "source": [
    "df5 = pd.read_csv(\"dataset/user/top_user_country.csv\")\n",
    "df5"
   ]
  },
  {
   "cell_type": "markdown",
   "id": "ef5e63dc",
   "metadata": {},
   "source": [
    "### **Dataset Info**"
   ]
  },
  {
   "cell_type": "code",
   "execution_count": 62,
   "id": "46b5ba51",
   "metadata": {},
   "outputs": [
    {
     "name": "stdout",
     "output_type": "stream",
     "text": [
      "<class 'pandas.core.frame.DataFrame'>\n",
      "RangeIndex: 840 entries, 0 to 839\n",
      "Data columns (total 4 columns):\n",
      " #   Column            Non-Null Count  Dtype \n",
      "---  ------            --------------  ----- \n",
      " 0   year              840 non-null    int64 \n",
      " 1   level             840 non-null    object\n",
      " 2   name              840 non-null    object\n",
      " 3   registered_users  840 non-null    int64 \n",
      "dtypes: int64(2), object(2)\n",
      "memory usage: 26.4+ KB\n"
     ]
    }
   ],
   "source": [
    "df5.info()"
   ]
  },
  {
   "cell_type": "markdown",
   "id": "c607d4d8",
   "metadata": {},
   "source": [
    "### **Dataset Describe**"
   ]
  },
  {
   "cell_type": "code",
   "execution_count": 63,
   "id": "1c644d28",
   "metadata": {},
   "outputs": [
    {
     "data": {
      "application/vnd.microsoft.datawrangler.viewer.v0+json": {
       "columns": [
        {
         "name": "index",
         "rawType": "object",
         "type": "string"
        },
        {
         "name": "year",
         "rawType": "float64",
         "type": "float"
        },
        {
         "name": "registered_users",
         "rawType": "float64",
         "type": "float"
        }
       ],
       "ref": "3b992abd-ebbe-4699-b1ee-412bbc619576",
       "rows": [
        [
         "count",
         "840.0",
         "840.0"
        ],
        [
         "mean",
         "2021.0",
         "9342127.825"
        ],
        [
         "std",
         "2.0011915401712352",
         "13135148.824072735"
        ],
        [
         "min",
         "2018.0",
         "68098.0"
        ],
        [
         "25%",
         "2019.0",
         "586900.75"
        ],
        [
         "50%",
         "2021.0",
         "3725017.0"
        ],
        [
         "75%",
         "2023.0",
         "12806250.5"
        ],
        [
         "max",
         "2024.0",
         "71807805.0"
        ]
       ],
       "shape": {
        "columns": 2,
        "rows": 8
       }
      },
      "text/html": [
       "<div>\n",
       "<style scoped>\n",
       "    .dataframe tbody tr th:only-of-type {\n",
       "        vertical-align: middle;\n",
       "    }\n",
       "\n",
       "    .dataframe tbody tr th {\n",
       "        vertical-align: top;\n",
       "    }\n",
       "\n",
       "    .dataframe thead th {\n",
       "        text-align: right;\n",
       "    }\n",
       "</style>\n",
       "<table border=\"1\" class=\"dataframe\">\n",
       "  <thead>\n",
       "    <tr style=\"text-align: right;\">\n",
       "      <th></th>\n",
       "      <th>year</th>\n",
       "      <th>registered_users</th>\n",
       "    </tr>\n",
       "  </thead>\n",
       "  <tbody>\n",
       "    <tr>\n",
       "      <th>count</th>\n",
       "      <td>840.000000</td>\n",
       "      <td>8.400000e+02</td>\n",
       "    </tr>\n",
       "    <tr>\n",
       "      <th>mean</th>\n",
       "      <td>2021.000000</td>\n",
       "      <td>9.342128e+06</td>\n",
       "    </tr>\n",
       "    <tr>\n",
       "      <th>std</th>\n",
       "      <td>2.001192</td>\n",
       "      <td>1.313515e+07</td>\n",
       "    </tr>\n",
       "    <tr>\n",
       "      <th>min</th>\n",
       "      <td>2018.000000</td>\n",
       "      <td>6.809800e+04</td>\n",
       "    </tr>\n",
       "    <tr>\n",
       "      <th>25%</th>\n",
       "      <td>2019.000000</td>\n",
       "      <td>5.869008e+05</td>\n",
       "    </tr>\n",
       "    <tr>\n",
       "      <th>50%</th>\n",
       "      <td>2021.000000</td>\n",
       "      <td>3.725017e+06</td>\n",
       "    </tr>\n",
       "    <tr>\n",
       "      <th>75%</th>\n",
       "      <td>2023.000000</td>\n",
       "      <td>1.280625e+07</td>\n",
       "    </tr>\n",
       "    <tr>\n",
       "      <th>max</th>\n",
       "      <td>2024.000000</td>\n",
       "      <td>7.180780e+07</td>\n",
       "    </tr>\n",
       "  </tbody>\n",
       "</table>\n",
       "</div>"
      ],
      "text/plain": [
       "              year  registered_users\n",
       "count   840.000000      8.400000e+02\n",
       "mean   2021.000000      9.342128e+06\n",
       "std       2.001192      1.313515e+07\n",
       "min    2018.000000      6.809800e+04\n",
       "25%    2019.000000      5.869008e+05\n",
       "50%    2021.000000      3.725017e+06\n",
       "75%    2023.000000      1.280625e+07\n",
       "max    2024.000000      7.180780e+07"
      ]
     },
     "execution_count": 63,
     "metadata": {},
     "output_type": "execute_result"
    }
   ],
   "source": [
    "df5.describe()"
   ]
  },
  {
   "cell_type": "code",
   "execution_count": 64,
   "id": "66174ec3",
   "metadata": {},
   "outputs": [
    {
     "data": {
      "application/vnd.microsoft.datawrangler.viewer.v0+json": {
       "columns": [
        {
         "name": "name",
         "rawType": "object",
         "type": "string"
        },
        {
         "name": "count",
         "rawType": "int64",
         "type": "integer"
        }
       ],
       "ref": "28ba7db6-4046-4409-b880-0755a82e0175",
       "rows": [
        [
         "maharashtra",
         "28"
        ],
        [
         "uttar pradesh",
         "28"
        ],
        [
         "karnataka",
         "28"
        ],
        [
         "andhra pradesh",
         "28"
        ],
        [
         "telangana",
         "28"
        ],
        [
         "rajasthan",
         "28"
        ],
        [
         "west bengal",
         "28"
        ],
        [
         "madhya pradesh",
         "28"
        ],
        [
         "gujarat",
         "26"
        ],
        [
         "tamil nadu",
         "26"
        ],
        [
         "bihar",
         "4"
        ]
       ],
       "shape": {
        "columns": 1,
        "rows": 11
       }
      },
      "text/plain": [
       "name\n",
       "maharashtra       28\n",
       "uttar pradesh     28\n",
       "karnataka         28\n",
       "andhra pradesh    28\n",
       "telangana         28\n",
       "rajasthan         28\n",
       "west bengal       28\n",
       "madhya pradesh    28\n",
       "gujarat           26\n",
       "tamil nadu        26\n",
       "bihar              4\n",
       "Name: count, dtype: int64"
      ]
     },
     "execution_count": 64,
     "metadata": {},
     "output_type": "execute_result"
    }
   ],
   "source": [
    "df5[df5['level']=='state']['name'].value_counts()"
   ]
  },
  {
   "cell_type": "code",
   "execution_count": 65,
   "id": "85a0dd44",
   "metadata": {},
   "outputs": [
    {
     "data": {
      "application/vnd.microsoft.datawrangler.viewer.v0+json": {
       "columns": [
        {
         "name": "name",
         "rawType": "object",
         "type": "string"
        },
        {
         "name": "count",
         "rawType": "int64",
         "type": "integer"
        }
       ],
       "ref": "748992ee-8b64-4378-b2fb-bd9dcc4bbd82",
       "rows": [
        [
         "bengaluru urban",
         "28"
        ],
        [
         "pune",
         "28"
        ],
        [
         "jaipur",
         "28"
        ],
        [
         "mumbai suburban",
         "28"
        ],
        [
         "hyderabad",
         "28"
        ],
        [
         "rangareddy",
         "28"
        ],
        [
         "thane",
         "28"
        ],
        [
         "ahmadabad",
         "26"
        ],
        [
         "surat",
         "21"
        ],
        [
         "north twenty four parganas",
         "20"
        ],
        [
         "medchal malkajgiri",
         "12"
        ],
        [
         "ahmedabad",
         "2"
        ],
        [
         "chennai",
         "2"
        ],
        [
         "visakhapatnam",
         "1"
        ]
       ],
       "shape": {
        "columns": 1,
        "rows": 14
       }
      },
      "text/plain": [
       "name\n",
       "bengaluru urban               28\n",
       "pune                          28\n",
       "jaipur                        28\n",
       "mumbai suburban               28\n",
       "hyderabad                     28\n",
       "rangareddy                    28\n",
       "thane                         28\n",
       "ahmadabad                     26\n",
       "surat                         21\n",
       "north twenty four parganas    20\n",
       "medchal malkajgiri            12\n",
       "ahmedabad                      2\n",
       "chennai                        2\n",
       "visakhapatnam                  1\n",
       "Name: count, dtype: int64"
      ]
     },
     "execution_count": 65,
     "metadata": {},
     "output_type": "execute_result"
    }
   ],
   "source": [
    "df5[df5['level']=='district']['name'].value_counts()"
   ]
  },
  {
   "cell_type": "code",
   "execution_count": 66,
   "id": "a244852d",
   "metadata": {},
   "outputs": [
    {
     "data": {
      "application/vnd.microsoft.datawrangler.viewer.v0+json": {
       "columns": [
        {
         "name": "name",
         "rawType": "object",
         "type": "string"
        },
        {
         "name": "count",
         "rawType": "int64",
         "type": "integer"
        }
       ],
       "ref": "19698242-7d77-480b-93b0-1bf3f003d4e5",
       "rows": [
        [
         "201301",
         "28"
        ],
        [
         "500072",
         "28"
        ],
        [
         "560068",
         "28"
        ],
        [
         "110059",
         "28"
        ],
        [
         "110092",
         "28"
        ],
        [
         "122001",
         "26"
        ],
        [
         "421302",
         "23"
        ],
        [
         "110086",
         "22"
        ],
        [
         "121004",
         "18"
        ],
        [
         "560078",
         "13"
        ],
        [
         "201009",
         "10"
        ],
        [
         "395006",
         "9"
        ],
        [
         "800001",
         "5"
        ],
        [
         "560037",
         "4"
        ],
        [
         "302012",
         "3"
        ],
        [
         "452001",
         "2"
        ],
        [
         "560076",
         "2"
        ],
        [
         "410501",
         "2"
        ],
        [
         "110085",
         "1"
        ]
       ],
       "shape": {
        "columns": 1,
        "rows": 19
       }
      },
      "text/plain": [
       "name\n",
       "201301    28\n",
       "500072    28\n",
       "560068    28\n",
       "110059    28\n",
       "110092    28\n",
       "122001    26\n",
       "421302    23\n",
       "110086    22\n",
       "121004    18\n",
       "560078    13\n",
       "201009    10\n",
       "395006     9\n",
       "800001     5\n",
       "560037     4\n",
       "302012     3\n",
       "452001     2\n",
       "560076     2\n",
       "410501     2\n",
       "110085     1\n",
       "Name: count, dtype: int64"
      ]
     },
     "execution_count": 66,
     "metadata": {},
     "output_type": "execute_result"
    }
   ],
   "source": [
    "df5[df5['level']=='pincode']['name'].value_counts()"
   ]
  },
  {
   "cell_type": "markdown",
   "id": "a4f81814",
   "metadata": {},
   "source": [
    "### **Plots**"
   ]
  },
  {
   "cell_type": "code",
   "execution_count": 67,
   "id": "8951b6b8",
   "metadata": {},
   "outputs": [
    {
     "data": {
      "image/png": "[encoded data removed]",
      "text/plain": [
       "<Figure size 1000x600 with 1 Axes>"
      ]
     },
     "metadata": {},
     "output_type": "display_data"
    }
   ],
   "source": [
    "# Top States\n",
    "states = df5[df5['level'] == 'state']\n",
    "\n",
    "plt.figure(figsize=(10,6))\n",
    "plt.bar(states['name'], states['registered_users'], color='teal')\n",
    "plt.title(\"Top States by Registered Users\")\n",
    "plt.xlabel(\"State\")\n",
    "plt.ylabel(\"Registered Users\")\n",
    "plt.xticks(rotation=45)\n",
    "plt.grid(axis='y')\n",
    "plt.tight_layout()\n",
    "plt.show()"
   ]
  },
  {
   "cell_type": "markdown",
   "id": "bf6be664",
   "metadata": {},
   "source": [
    "* `Maharashtra` & `UP` are shown as the top states in registration.\n",
    "* Karnataka isn't on top this time.\n",
    "* Most other states are the same on average level. "
   ]
  },
  {
   "cell_type": "code",
   "execution_count": 68,
   "id": "26083c7b",
   "metadata": {},
   "outputs": [
    {
     "data": {
      "image/png": "[encoded data removed]",
      "text/plain": [
       "<Figure size 800x500 with 1 Axes>"
      ]
     },
     "metadata": {},
     "output_type": "display_data"
    }
   ],
   "source": [
    "# Top Districts\n",
    "districts = df5[df5['level'] == 'district']\n",
    "\n",
    "plt.figure(figsize=(8,5))\n",
    "plt.bar(districts['name'], districts['registered_users'], color='orange')\n",
    "plt.title(\"Top Districts by Registered Users\")\n",
    "plt.xlabel(\"District\")\n",
    "plt.ylabel(\"Registered Users\")\n",
    "plt.xticks(rotation=90)\n",
    "plt.grid(axis='y')\n",
    "plt.tight_layout()\n",
    "plt.show()"
   ]
  },
  {
   "cell_type": "markdown",
   "id": "7a08373a",
   "metadata": {},
   "source": [
    "* `Bengaluru Urban` is the top district in registration.\n",
    "* `Pune` is on the second.\n",
    "* `Visakhapatnam` is at the bottom level. \n",
    "* Rest are all the same in the average level."
   ]
  },
  {
   "cell_type": "code",
   "execution_count": 69,
   "id": "3cff31d0",
   "metadata": {},
   "outputs": [
    {
     "data": {
      "image/png": "[encoded data removed]",
      "text/plain": [
       "<Figure size 800x500 with 1 Axes>"
      ]
     },
     "metadata": {},
     "output_type": "display_data"
    }
   ],
   "source": [
    "# Top Pincodes\n",
    "districts = df5[df5['level'] == 'pincode']\n",
    "\n",
    "plt.figure(figsize=(8,5))\n",
    "plt.bar(districts['name'], districts['registered_users'], color='purple')\n",
    "plt.title(\"Top Pincodes by Registered Users\")\n",
    "plt.xlabel(\"District\")\n",
    "plt.ylabel(\"Registered Users\")\n",
    "plt.xticks(rotation=90)\n",
    "plt.grid(axis='y')\n",
    "plt.tight_layout()\n",
    "plt.show()"
   ]
  },
  {
   "cell_type": "markdown",
   "id": "d6e5aba8",
   "metadata": {},
   "source": [
    "* `201301` is the most registered user pincode. \n",
    "* `560037`, `302012` & `11085` are on the bottom,\n",
    "* `11086` seems to be above average when `11086` is at the bottom"
   ]
  },
  {
   "cell_type": "markdown",
   "id": "a6c30873",
   "metadata": {},
   "source": [
    "## **State**"
   ]
  },
  {
   "cell_type": "markdown",
   "id": "e721d961",
   "metadata": {},
   "source": [
    "### **Load CSV**"
   ]
  },
  {
   "cell_type": "code",
   "execution_count": 70,
   "id": "655bdd7d",
   "metadata": {},
   "outputs": [
    {
     "data": {
      "application/vnd.microsoft.datawrangler.viewer.v0+json": {
       "columns": [
        {
         "name": "index",
         "rawType": "int64",
         "type": "integer"
        },
        {
         "name": "year",
         "rawType": "int64",
         "type": "integer"
        },
        {
         "name": "state",
         "rawType": "object",
         "type": "string"
        },
        {
         "name": "level",
         "rawType": "object",
         "type": "string"
        },
        {
         "name": "name",
         "rawType": "object",
         "type": "string"
        },
        {
         "name": "registered_users",
         "rawType": "int64",
         "type": "integer"
        }
       ],
       "ref": "e84582a6-0174-45fd-a7a1-c554b7b4559b",
       "rows": [
        [
         "0",
         "2018",
         "andaman-&-nicobar-islands",
         "district",
         "south andaman",
         "5846"
        ],
        [
         "1",
         "2018",
         "andaman-&-nicobar-islands",
         "district",
         "north and middle andaman",
         "632"
        ],
        [
         "2",
         "2018",
         "andaman-&-nicobar-islands",
         "district",
         "nicobars",
         "262"
        ],
        [
         "3",
         "2018",
         "andaman-&-nicobar-islands",
         "pincode",
         "744103",
         "1608"
        ],
        [
         "4",
         "2018",
         "andaman-&-nicobar-islands",
         "pincode",
         "744101",
         "1108"
        ],
        [
         "5",
         "2018",
         "andaman-&-nicobar-islands",
         "pincode",
         "744105",
         "1075"
        ],
        [
         "6",
         "2018",
         "andaman-&-nicobar-islands",
         "pincode",
         "744102",
         "1006"
        ],
        [
         "7",
         "2018",
         "andaman-&-nicobar-islands",
         "pincode",
         "744104",
         "272"
        ],
        [
         "8",
         "2018",
         "andaman-&-nicobar-islands",
         "pincode",
         "744202",
         "237"
        ],
        [
         "9",
         "2018",
         "andaman-&-nicobar-islands",
         "pincode",
         "744112",
         "215"
        ],
        [
         "10",
         "2018",
         "andaman-&-nicobar-islands",
         "pincode",
         "744301",
         "207"
        ],
        [
         "11",
         "2018",
         "andaman-&-nicobar-islands",
         "pincode",
         "744107",
         "196"
        ],
        [
         "12",
         "2018",
         "andaman-&-nicobar-islands",
         "pincode",
         "744211",
         "156"
        ],
        [
         "13",
         "2018",
         "andaman-&-nicobar-islands",
         "district",
         "south andaman",
         "8143"
        ],
        [
         "14",
         "2018",
         "andaman-&-nicobar-islands",
         "district",
         "north and middle andaman",
         "911"
        ],
        [
         "15",
         "2018",
         "andaman-&-nicobar-islands",
         "district",
         "nicobars",
         "351"
        ],
        [
         "16",
         "2018",
         "andaman-&-nicobar-islands",
         "pincode",
         "744103",
         "2188"
        ],
        [
         "17",
         "2018",
         "andaman-&-nicobar-islands",
         "pincode",
         "744101",
         "1521"
        ],
        [
         "18",
         "2018",
         "andaman-&-nicobar-islands",
         "pincode",
         "744105",
         "1492"
        ],
        [
         "19",
         "2018",
         "andaman-&-nicobar-islands",
         "pincode",
         "744102",
         "1419"
        ],
        [
         "20",
         "2018",
         "andaman-&-nicobar-islands",
         "pincode",
         "744104",
         "396"
        ],
        [
         "21",
         "2018",
         "andaman-&-nicobar-islands",
         "pincode",
         "744202",
         "343"
        ],
        [
         "22",
         "2018",
         "andaman-&-nicobar-islands",
         "pincode",
         "744112",
         "299"
        ],
        [
         "23",
         "2018",
         "andaman-&-nicobar-islands",
         "pincode",
         "744107",
         "293"
        ],
        [
         "24",
         "2018",
         "andaman-&-nicobar-islands",
         "pincode",
         "744301",
         "273"
        ],
        [
         "25",
         "2018",
         "andaman-&-nicobar-islands",
         "pincode",
         "744211",
         "240"
        ],
        [
         "26",
         "2018",
         "andaman-&-nicobar-islands",
         "district",
         "south andaman",
         "10474"
        ],
        [
         "27",
         "2018",
         "andaman-&-nicobar-islands",
         "district",
         "north and middle andaman",
         "1208"
        ],
        [
         "28",
         "2018",
         "andaman-&-nicobar-islands",
         "district",
         "nicobars",
         "467"
        ],
        [
         "29",
         "2018",
         "andaman-&-nicobar-islands",
         "pincode",
         "744103",
         "2741"
        ],
        [
         "30",
         "2018",
         "andaman-&-nicobar-islands",
         "pincode",
         "744101",
         "1978"
        ],
        [
         "31",
         "2018",
         "andaman-&-nicobar-islands",
         "pincode",
         "744105",
         "1935"
        ],
        [
         "32",
         "2018",
         "andaman-&-nicobar-islands",
         "pincode",
         "744102",
         "1803"
        ],
        [
         "33",
         "2018",
         "andaman-&-nicobar-islands",
         "pincode",
         "744104",
         "507"
        ],
        [
         "34",
         "2018",
         "andaman-&-nicobar-islands",
         "pincode",
         "744202",
         "446"
        ],
        [
         "35",
         "2018",
         "andaman-&-nicobar-islands",
         "pincode",
         "744112",
         "388"
        ],
        [
         "36",
         "2018",
         "andaman-&-nicobar-islands",
         "pincode",
         "744107",
         "384"
        ],
        [
         "37",
         "2018",
         "andaman-&-nicobar-islands",
         "pincode",
         "744301",
         "372"
        ],
        [
         "38",
         "2018",
         "andaman-&-nicobar-islands",
         "pincode",
         "744211",
         "327"
        ],
        [
         "39",
         "2018",
         "andaman-&-nicobar-islands",
         "district",
         "south andaman",
         "13133"
        ],
        [
         "40",
         "2018",
         "andaman-&-nicobar-islands",
         "district",
         "north and middle andaman",
         "1553"
        ],
        [
         "41",
         "2018",
         "andaman-&-nicobar-islands",
         "district",
         "nicobars",
         "536"
        ],
        [
         "42",
         "2018",
         "andaman-&-nicobar-islands",
         "pincode",
         "744103",
         "3373"
        ],
        [
         "43",
         "2018",
         "andaman-&-nicobar-islands",
         "pincode",
         "744101",
         "2498"
        ],
        [
         "44",
         "2018",
         "andaman-&-nicobar-islands",
         "pincode",
         "744105",
         "2416"
        ],
        [
         "45",
         "2018",
         "andaman-&-nicobar-islands",
         "pincode",
         "744102",
         "2231"
        ],
        [
         "46",
         "2018",
         "andaman-&-nicobar-islands",
         "pincode",
         "744104",
         "634"
        ],
        [
         "47",
         "2018",
         "andaman-&-nicobar-islands",
         "pincode",
         "744202",
         "554"
        ],
        [
         "48",
         "2018",
         "andaman-&-nicobar-islands",
         "pincode",
         "744107",
         "548"
        ],
        [
         "49",
         "2018",
         "andaman-&-nicobar-islands",
         "pincode",
         "744112",
         "496"
        ]
       ],
       "shape": {
        "columns": 5,
        "rows": 18296
       }
      },
      "text/html": [
       "<div>\n",
       "<style scoped>\n",
       "    .dataframe tbody tr th:only-of-type {\n",
       "        vertical-align: middle;\n",
       "    }\n",
       "\n",
       "    .dataframe tbody tr th {\n",
       "        vertical-align: top;\n",
       "    }\n",
       "\n",
       "    .dataframe thead th {\n",
       "        text-align: right;\n",
       "    }\n",
       "</style>\n",
       "<table border=\"1\" class=\"dataframe\">\n",
       "  <thead>\n",
       "    <tr style=\"text-align: right;\">\n",
       "      <th></th>\n",
       "      <th>year</th>\n",
       "      <th>state</th>\n",
       "      <th>level</th>\n",
       "      <th>name</th>\n",
       "      <th>registered_users</th>\n",
       "    </tr>\n",
       "  </thead>\n",
       "  <tbody>\n",
       "    <tr>\n",
       "      <th>0</th>\n",
       "      <td>2018</td>\n",
       "      <td>andaman-&amp;-nicobar-islands</td>\n",
       "      <td>district</td>\n",
       "      <td>south andaman</td>\n",
       "      <td>5846</td>\n",
       "    </tr>\n",
       "    <tr>\n",
       "      <th>1</th>\n",
       "      <td>2018</td>\n",
       "      <td>andaman-&amp;-nicobar-islands</td>\n",
       "      <td>district</td>\n",
       "      <td>north and middle andaman</td>\n",
       "      <td>632</td>\n",
       "    </tr>\n",
       "    <tr>\n",
       "      <th>2</th>\n",
       "      <td>2018</td>\n",
       "      <td>andaman-&amp;-nicobar-islands</td>\n",
       "      <td>district</td>\n",
       "      <td>nicobars</td>\n",
       "      <td>262</td>\n",
       "    </tr>\n",
       "    <tr>\n",
       "      <th>3</th>\n",
       "      <td>2018</td>\n",
       "      <td>andaman-&amp;-nicobar-islands</td>\n",
       "      <td>pincode</td>\n",
       "      <td>744103</td>\n",
       "      <td>1608</td>\n",
       "    </tr>\n",
       "    <tr>\n",
       "      <th>4</th>\n",
       "      <td>2018</td>\n",
       "      <td>andaman-&amp;-nicobar-islands</td>\n",
       "      <td>pincode</td>\n",
       "      <td>744101</td>\n",
       "      <td>1108</td>\n",
       "    </tr>\n",
       "    <tr>\n",
       "      <th>...</th>\n",
       "      <td>...</td>\n",
       "      <td>...</td>\n",
       "      <td>...</td>\n",
       "      <td>...</td>\n",
       "      <td>...</td>\n",
       "    </tr>\n",
       "    <tr>\n",
       "      <th>18291</th>\n",
       "      <td>2024</td>\n",
       "      <td>west-bengal</td>\n",
       "      <td>pincode</td>\n",
       "      <td>733134</td>\n",
       "      <td>169596</td>\n",
       "    </tr>\n",
       "    <tr>\n",
       "      <th>18292</th>\n",
       "      <td>2024</td>\n",
       "      <td>west-bengal</td>\n",
       "      <td>pincode</td>\n",
       "      <td>700059</td>\n",
       "      <td>169448</td>\n",
       "    </tr>\n",
       "    <tr>\n",
       "      <th>18293</th>\n",
       "      <td>2024</td>\n",
       "      <td>west-bengal</td>\n",
       "      <td>pincode</td>\n",
       "      <td>711302</td>\n",
       "      <td>146034</td>\n",
       "    </tr>\n",
       "    <tr>\n",
       "      <th>18294</th>\n",
       "      <td>2024</td>\n",
       "      <td>west-bengal</td>\n",
       "      <td>pincode</td>\n",
       "      <td>700150</td>\n",
       "      <td>142151</td>\n",
       "    </tr>\n",
       "    <tr>\n",
       "      <th>18295</th>\n",
       "      <td>2024</td>\n",
       "      <td>west-bengal</td>\n",
       "      <td>pincode</td>\n",
       "      <td>711106</td>\n",
       "      <td>142077</td>\n",
       "    </tr>\n",
       "  </tbody>\n",
       "</table>\n",
       "<p>18296 rows × 5 columns</p>\n",
       "</div>"
      ],
      "text/plain": [
       "       year                      state     level                      name  \\\n",
       "0      2018  andaman-&-nicobar-islands  district             south andaman   \n",
       "1      2018  andaman-&-nicobar-islands  district  north and middle andaman   \n",
       "2      2018  andaman-&-nicobar-islands  district                  nicobars   \n",
       "3      2018  andaman-&-nicobar-islands   pincode                    744103   \n",
       "4      2018  andaman-&-nicobar-islands   pincode                    744101   \n",
       "...     ...                        ...       ...                       ...   \n",
       "18291  2024                west-bengal   pincode                    733134   \n",
       "18292  2024                west-bengal   pincode                    700059   \n",
       "18293  2024                west-bengal   pincode                    711302   \n",
       "18294  2024                west-bengal   pincode                    700150   \n",
       "18295  2024                west-bengal   pincode                    711106   \n",
       "\n",
       "       registered_users  \n",
       "0                  5846  \n",
       "1                   632  \n",
       "2                   262  \n",
       "3                  1608  \n",
       "4                  1108  \n",
       "...                 ...  \n",
       "18291            169596  \n",
       "18292            169448  \n",
       "18293            146034  \n",
       "18294            142151  \n",
       "18295            142077  \n",
       "\n",
       "[18296 rows x 5 columns]"
      ]
     },
     "execution_count": 70,
     "metadata": {},
     "output_type": "execute_result"
    }
   ],
   "source": [
    "df6 = pd.read_csv(\"dataset/user/top_user_state.csv\")\n",
    "df6"
   ]
  },
  {
   "cell_type": "markdown",
   "id": "622fa6f3",
   "metadata": {},
   "source": [
    "### **Dataset Info**"
   ]
  },
  {
   "cell_type": "code",
   "execution_count": 71,
   "id": "255c15a3",
   "metadata": {},
   "outputs": [
    {
     "name": "stdout",
     "output_type": "stream",
     "text": [
      "<class 'pandas.core.frame.DataFrame'>\n",
      "RangeIndex: 18296 entries, 0 to 18295\n",
      "Data columns (total 5 columns):\n",
      " #   Column            Non-Null Count  Dtype \n",
      "---  ------            --------------  ----- \n",
      " 0   year              18296 non-null  int64 \n",
      " 1   state             18296 non-null  object\n",
      " 2   level             18296 non-null  object\n",
      " 3   name              18296 non-null  object\n",
      " 4   registered_users  18296 non-null  int64 \n",
      "dtypes: int64(2), object(3)\n",
      "memory usage: 714.8+ KB\n"
     ]
    }
   ],
   "source": [
    "df6.info()"
   ]
  },
  {
   "cell_type": "markdown",
   "id": "67eb1aaa",
   "metadata": {},
   "source": [
    "### **Dataset Describe**"
   ]
  },
  {
   "cell_type": "code",
   "execution_count": 72,
   "id": "c28afd5b",
   "metadata": {},
   "outputs": [
    {
     "data": {
      "application/vnd.microsoft.datawrangler.viewer.v0+json": {
       "columns": [
        {
         "name": "index",
         "rawType": "object",
         "type": "string"
        },
        {
         "name": "year",
         "rawType": "float64",
         "type": "float"
        },
        {
         "name": "registered_users",
         "rawType": "float64",
         "type": "float"
        }
       ],
       "ref": "0574a873-183a-4bde-8ffc-bdc9d3a5e54a",
       "rows": [
        [
         "count",
         "18296.0",
         "18296.0"
        ],
        [
         "mean",
         "2021.0019676432007",
         "376142.48332968954"
        ],
        [
         "std",
         "2.000873397226062",
         "863867.6557414164"
        ],
        [
         "min",
         "2018.0",
         "1.0"
        ],
        [
         "25%",
         "2019.0",
         "20251.25"
        ],
        [
         "50%",
         "2021.0",
         "101578.0"
        ],
        [
         "75%",
         "2023.0",
         "359598.0"
        ],
        [
         "max",
         "2024.0",
         "18127475.0"
        ]
       ],
       "shape": {
        "columns": 2,
        "rows": 8
       }
      },
      "text/html": [
       "<div>\n",
       "<style scoped>\n",
       "    .dataframe tbody tr th:only-of-type {\n",
       "        vertical-align: middle;\n",
       "    }\n",
       "\n",
       "    .dataframe tbody tr th {\n",
       "        vertical-align: top;\n",
       "    }\n",
       "\n",
       "    .dataframe thead th {\n",
       "        text-align: right;\n",
       "    }\n",
       "</style>\n",
       "<table border=\"1\" class=\"dataframe\">\n",
       "  <thead>\n",
       "    <tr style=\"text-align: right;\">\n",
       "      <th></th>\n",
       "      <th>year</th>\n",
       "      <th>registered_users</th>\n",
       "    </tr>\n",
       "  </thead>\n",
       "  <tbody>\n",
       "    <tr>\n",
       "      <th>count</th>\n",
       "      <td>18296.000000</td>\n",
       "      <td>1.829600e+04</td>\n",
       "    </tr>\n",
       "    <tr>\n",
       "      <th>mean</th>\n",
       "      <td>2021.001968</td>\n",
       "      <td>3.761425e+05</td>\n",
       "    </tr>\n",
       "    <tr>\n",
       "      <th>std</th>\n",
       "      <td>2.000873</td>\n",
       "      <td>8.638677e+05</td>\n",
       "    </tr>\n",
       "    <tr>\n",
       "      <th>min</th>\n",
       "      <td>2018.000000</td>\n",
       "      <td>1.000000e+00</td>\n",
       "    </tr>\n",
       "    <tr>\n",
       "      <th>25%</th>\n",
       "      <td>2019.000000</td>\n",
       "      <td>2.025125e+04</td>\n",
       "    </tr>\n",
       "    <tr>\n",
       "      <th>50%</th>\n",
       "      <td>2021.000000</td>\n",
       "      <td>1.015780e+05</td>\n",
       "    </tr>\n",
       "    <tr>\n",
       "      <th>75%</th>\n",
       "      <td>2023.000000</td>\n",
       "      <td>3.595980e+05</td>\n",
       "    </tr>\n",
       "    <tr>\n",
       "      <th>max</th>\n",
       "      <td>2024.000000</td>\n",
       "      <td>1.812748e+07</td>\n",
       "    </tr>\n",
       "  </tbody>\n",
       "</table>\n",
       "</div>"
      ],
      "text/plain": [
       "               year  registered_users\n",
       "count  18296.000000      1.829600e+04\n",
       "mean    2021.001968      3.761425e+05\n",
       "std        2.000873      8.638677e+05\n",
       "min     2018.000000      1.000000e+00\n",
       "25%     2019.000000      2.025125e+04\n",
       "50%     2021.000000      1.015780e+05\n",
       "75%     2023.000000      3.595980e+05\n",
       "max     2024.000000      1.812748e+07"
      ]
     },
     "execution_count": 72,
     "metadata": {},
     "output_type": "execute_result"
    }
   ],
   "source": [
    "df6.describe()"
   ]
  }
 ],
 "metadata": {
  "kernelspec": {
   "display_name": "Python 3",
   "language": "python",
   "name": "python3"
  },
  "language_info": {
   "codemirror_mode": {
    "name": "ipython",
    "version": 3
   },
   "file_extension": ".py",
   "mimetype": "text/x-python",
   "name": "python",
   "nbconvert_exporter": "python",
   "pygments_lexer": "ipython3",
   "version": "3.10.11"
  }
 },
 "nbformat": 4,
 "nbformat_minor": 5
}
